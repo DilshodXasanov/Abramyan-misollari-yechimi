{
 "cells": [
  {
   "cell_type": "markdown",
   "id": "e30c3018",
   "metadata": {},
   "source": [
    "# 11/02/2022\n",
    "\n",
    "# Python asoslari\n",
    "\n",
    "# 4-dars: Shart operatori\n",
    "\n",
    "# Muallif: Farrux Sotivoldiyev"
   ]
  },
  {
   "cell_type": "code",
   "execution_count": 2,
   "id": "ff536598",
   "metadata": {},
   "outputs": [
    {
     "name": "stdout",
     "output_type": "stream",
     "text": [
      "-3\n"
     ]
    }
   ],
   "source": [
    "#1\n",
    "a = -3\n",
    "if a>0:\n",
    "    a += 1\n",
    "print(a)"
   ]
  },
  {
   "cell_type": "code",
   "execution_count": 3,
   "id": "7a9e0d1d",
   "metadata": {},
   "outputs": [
    {
     "name": "stdout",
     "output_type": "stream",
     "text": [
      "3\n"
     ]
    }
   ],
   "source": [
    "#2\n",
    "a = 2\n",
    "if a>0:\n",
    "    a += 1\n",
    "else:\n",
    "    a -=2\n",
    "print(a)\n"
   ]
  },
  {
   "cell_type": "code",
   "execution_count": 12,
   "id": "5d6e2b2a",
   "metadata": {},
   "outputs": [
    {
     "name": "stdout",
     "output_type": "stream",
     "text": [
      "-5\n"
     ]
    }
   ],
   "source": [
    "#3\n",
    "a = -3\n",
    "if a>0:\n",
    "    a += 1\n",
    "elif a<0:\n",
    "    a -= 2\n",
    "else:\n",
    "    a = 10\n",
    "print(a)\n"
   ]
  },
  {
   "cell_type": "code",
   "execution_count": 18,
   "id": "69e9f52f",
   "metadata": {},
   "outputs": [
    {
     "name": "stdout",
     "output_type": "stream",
     "text": [
      "2 ta musbat son bor\n"
     ]
    }
   ],
   "source": [
    "#4\n",
    "a,b,c = 5,3,-5\n",
    "s = 0\n",
    "if a>0:\n",
    "    k1 += 1\n",
    "if b>0:\n",
    "    k2 += 1\n",
    "if c>0:\n",
    "    k3 += 1\n",
    "print(f\"{k1+k2+k3} ta musbat son bor\")\n"
   ]
  },
  {
   "cell_type": "code",
   "execution_count": 2,
   "id": "2de516eb",
   "metadata": {},
   "outputs": [
    {
     "name": "stdout",
     "output_type": "stream",
     "text": [
      "2 ta musbat va 1 ta  manfiy son bor\n"
     ]
    }
   ],
   "source": [
    "#5\n",
    "a,b,c = 5,3,-5\n",
    "s1 = 0\n",
    "if a>0:\n",
    "   s1+=1\n",
    "if b>0:\n",
    "   s1+=1\n",
    "if c>0:\n",
    "   s1+=1\n",
    "print(f\"{s1} ta musbat va {3-s1} ta  manfiy son bor\")\n",
    "\n"
   ]
  },
  {
   "cell_type": "code",
   "execution_count": 22,
   "id": "fcd888a5",
   "metadata": {},
   "outputs": [
    {
     "name": "stdout",
     "output_type": "stream",
     "text": [
      "5\n"
     ]
    }
   ],
   "source": [
    "#6\n",
    "a,b = 5,3\n",
    "if a > b:\n",
    "    print(a)\n",
    "else:\n",
    "    print(b)\n"
   ]
  },
  {
   "cell_type": "code",
   "execution_count": 23,
   "id": "117a7823",
   "metadata": {},
   "outputs": [
    {
     "name": "stdout",
     "output_type": "stream",
     "text": [
      "3\n"
     ]
    }
   ],
   "source": [
    "#7\n",
    "a,b = 3,8\n",
    "if a<b:\n",
    "    print(a)\n",
    "else:\n",
    "    print(b)"
   ]
  },
  {
   "cell_type": "code",
   "execution_count": 24,
   "id": "57529866",
   "metadata": {},
   "outputs": [
    {
     "name": "stdout",
     "output_type": "stream",
     "text": [
      "7 4\n"
     ]
    }
   ],
   "source": [
    "#8\n",
    "a = 4\n",
    "b = 7\n",
    "if a<b:\n",
    "    print(b,a)\n",
    "else:\n",
    "    print(a,b)\n"
   ]
  },
  {
   "cell_type": "code",
   "execution_count": 25,
   "id": "f0ef93b0",
   "metadata": {},
   "outputs": [
    {
     "name": "stdout",
     "output_type": "stream",
     "text": [
      "9.0 6.0\n"
     ]
    }
   ],
   "source": [
    "#9\n",
    "a = 9 \n",
    "b = 6\n",
    "if a<b:\n",
    "    print(b,a)\n",
    "else:\n",
    "    a = a*b\n",
    "    b = a/b\n",
    "    a = a/b\n",
    "    print(b,a)\n",
    "\n"
   ]
  },
  {
   "cell_type": "code",
   "execution_count": 29,
   "id": "cb1965e9",
   "metadata": {},
   "outputs": [
    {
     "name": "stdout",
     "output_type": "stream",
     "text": [
      "5 5\n"
     ]
    }
   ],
   "source": [
    "#10\n",
    "a,b = 4,1\n",
    "c = a+b\n",
    "if a != b:\n",
    "    a = c \n",
    "    b = c\n",
    "else:\n",
    "    a,b = 0,0\n",
    "print(a,b)\n",
    "    "
   ]
  },
  {
   "cell_type": "code",
   "execution_count": 31,
   "id": "d424b566",
   "metadata": {},
   "outputs": [
    {
     "name": "stdout",
     "output_type": "stream",
     "text": [
      "0 0\n"
     ]
    }
   ],
   "source": [
    "#11\n",
    "a,b = 9,9\n",
    "if a != b:\n",
    "    if a<b:\n",
    "        a = b\n",
    "        b = b\n",
    "    else:\n",
    "        a = a\n",
    "        b = a\n",
    "elif a==b:\n",
    "    a = 0\n",
    "    b = 0\n",
    "print(a,b)"
   ]
  },
  {
   "cell_type": "code",
   "execution_count": 33,
   "id": "d67b716f",
   "metadata": {},
   "outputs": [
    {
     "name": "stdout",
     "output_type": "stream",
     "text": [
      "-2\n"
     ]
    }
   ],
   "source": [
    "#12\n",
    "a,b,c = 2,9,-2\n",
    "if (a<b) and (a<c):\n",
    "    print(a)\n",
    "elif (b<a) and (b<c):\n",
    "    print(b)\n",
    "else:\n",
    "    print(c)\n",
    "    \n"
   ]
  },
  {
   "cell_type": "code",
   "execution_count": 36,
   "id": "89f57677",
   "metadata": {},
   "outputs": [
    {
     "name": "stdout",
     "output_type": "stream",
     "text": [
      "1\n"
     ]
    }
   ],
   "source": [
    "#13\n",
    "a,b,c = 3,-2,1\n",
    "if (a<b and a>c) or (a>b and a<c):\n",
    "    print(a)\n",
    "elif (b<a and b>c) or (b>a and b<c):\n",
    "    print(b)\n",
    "else:\n",
    "    print(c)\n",
    "\n"
   ]
  },
  {
   "cell_type": "code",
   "execution_count": 38,
   "id": "bd74d5d1",
   "metadata": {},
   "outputs": [
    {
     "name": "stdout",
     "output_type": "stream",
     "text": [
      "3 67\n"
     ]
    }
   ],
   "source": [
    "#14\n",
    "a,b,c = 3,8,67\n",
    "if a<b<c:\n",
    "    print(a,c)\n",
    "elif a<c<b:\n",
    "    print(a,b)\n",
    "elif b<a<c:\n",
    "    print(b,c)\n",
    "elif b<c<a:\n",
    "    print(b,a)\n",
    "elif c<b<a:\n",
    "    print(c,a)\n",
    "elif c<a<b:\n",
    "    print(c,b)\n"
   ]
  },
  {
   "cell_type": "code",
   "execution_count": 2,
   "id": "f7733316",
   "metadata": {},
   "outputs": [
    {
     "name": "stdout",
     "output_type": "stream",
     "text": [
      "90 67 yegindi: 157\n"
     ]
    }
   ],
   "source": [
    "#15\n",
    "a,b,c = 3,90,67\n",
    "if a<b and a<c:\n",
    "    print(b,c,\"yegindi:\",c+b)\n",
    "elif b<c and b<a:\n",
    "    print(a,c,\"yegindi:\",c+a)\n",
    "elif c<a and c<b:\n",
    "    print(a,b,\"yegindi:\",b+a)"
   ]
  },
  {
   "cell_type": "code",
   "execution_count": 40,
   "id": "b002772a",
   "metadata": {},
   "outputs": [
    {
     "name": "stdout",
     "output_type": "stream",
     "text": [
      "6 16 134\n"
     ]
    }
   ],
   "source": [
    "#16\n",
    "a,b,c = 3,8,67\n",
    "if a<b<c:\n",
    "    a *= 2\n",
    "    b *= 2    \n",
    "    c *= 2\n",
    "else:\n",
    "    a *= -1\n",
    "    b *= -1   \n",
    "    c *= -1\n",
    "print(a,b,c)\n",
    "    "
   ]
  },
  {
   "cell_type": "code",
   "execution_count": 46,
   "id": "c341073d",
   "metadata": {},
   "outputs": [
    {
     "name": "stdout",
     "output_type": "stream",
     "text": [
      "24 16 12\n"
     ]
    }
   ],
   "source": [
    "#17\n",
    "a,b,c = 12,8,6\n",
    "if a<b<c or c<b<a :\n",
    "    a *= 2\n",
    "    b *= 2    \n",
    "    c *= 2\n",
    "\n",
    "else:\n",
    "    a *= -1\n",
    "    b *= -1   \n",
    "    c *= -1\n",
    "print(a,b,c)\n"
   ]
  },
  {
   "cell_type": "code",
   "execution_count": 57,
   "id": "23e03b2f",
   "metadata": {},
   "outputs": [
    {
     "name": "stdout",
     "output_type": "stream",
     "text": [
      "ikkitasi teng qolganini tartib raqami: 3\n"
     ]
    }
   ],
   "source": [
    "#18\n",
    "a,b,c = 8,8,7\n",
    "if a==b:\n",
    "    print(\"ikkitasi teng qolganini tartib raqami:\",3)\n",
    "elif a==c:\n",
    "    print(\"ikkitasi teng qolganini tartib raqami:\",2)\n",
    "elif b==c:\n",
    "    print(\"ikkitasi teng qolganini tartib raqami:\",1)\n",
    "else:\n",
    "    print(\"hamma raqam har hil\")\n",
    "    \n",
    "    "
   ]
  },
  {
   "cell_type": "code",
   "execution_count": 59,
   "id": "4fad475a",
   "metadata": {},
   "outputs": [
    {
     "name": "stdout",
     "output_type": "stream",
     "text": [
      "uchtasi o'zaro teng,qolganini tartib raqami:4\n"
     ]
    }
   ],
   "source": [
    "#19\n",
    "a,b,c,d = 8,8,8,3\n",
    "if a==b==c:\n",
    "    print(f\"uchtasi o'zaro teng,qolganini tartib raqami:{4}\")\n",
    "elif a==b==d:\n",
    "    print(f\"uchtasi o'zaro teng,qolganini tartib raqami:{3}\")\n",
    "elif a==d==c:\n",
    "    print(f\"uchtasi o'zaro teng,qolganini tartib raqami:{2}\")\n",
    "else:\n",
    "    print(f\"uchtasi o'zaro teng,qolganini tartib raqami:{1}\")"
   ]
  },
  {
   "cell_type": "code",
   "execution_count": 3,
   "id": "968e962e",
   "metadata": {},
   "outputs": [
    {
     "name": "stdout",
     "output_type": "stream",
     "text": [
      "eng yaqin nuqta:-6 va ular orasidagi masofa: -8\n"
     ]
    }
   ],
   "source": [
    "#20\n",
    "a,b,c = 2,-6,9\n",
    "if abs(b)-a < abs(c)-a:\n",
    "    print(f\"eng yaqin nuqta:{b} va ular orasidagi masofa: {b-a}\")\n",
    "elif b-a > c-a:\n",
    "    print(f\"eng yaqin nuqta:{c} va ular orasidagi masofa: {c-a}\")"
   ]
  },
  {
   "cell_type": "code",
   "execution_count": 7,
   "id": "4edf6971",
   "metadata": {},
   "outputs": [
    {
     "name": "stdout",
     "output_type": "stream",
     "text": [
      "x = 2\n",
      "y = 0\n",
      "1\n"
     ]
    }
   ],
   "source": [
    "#21\n",
    "x = int(input(\"x = \"))\n",
    "y = int(input(\"y = \"))\n",
    "if x==0 and y==0:\n",
    "    print(0)\n",
    "elif y==0:\n",
    "    print(1)\n",
    "elif x==0:\n",
    "    print(2)\n",
    "else:\n",
    "    print(3)"
   ]
  },
  {
   "cell_type": "code",
   "execution_count": 5,
   "id": "63ba0d63",
   "metadata": {},
   "outputs": [
    {
     "name": "stdout",
     "output_type": "stream",
     "text": [
      "2 0 nuqta OX o'qida joylashgan\n"
     ]
    }
   ],
   "source": [
    "#22\n",
    "x,y =  2,0\n",
    "if x<0 and y>0:\n",
    "    print(x,y,\"nuqta 1-chorakda joylashgan\")\n",
    "elif x>0 and y>0:\n",
    "    print(x,y,\"nuqta 2-chorakda joylashgan\")\n",
    "elif x<0 and y<0:\n",
    "    print(x,y,\"nuqta 3-chorakda joylashgan\")\n",
    "elif x>0 and y<0:\n",
    "    print(x,y,\"nuqta 4-chorakda joylashgan\")\n",
    "elif x==0:\n",
    "     print(x,y,\"nuqta OY o'qida joylashgan\")\n",
    "else:\n",
    "     print(x,y,\"nuqta OX o'qida joylashgan\")"
   ]
  },
  {
   "cell_type": "code",
   "execution_count": 4,
   "id": "276d1829",
   "metadata": {},
   "outputs": [
    {
     "name": "stdout",
     "output_type": "stream",
     "text": [
      "2 5\n"
     ]
    }
   ],
   "source": [
    "#23   \n",
    "x1,y1 = 2,0\n",
    "x2,y2 = 9,0\n",
    "x3,y3 = 9,5\n",
    "\n",
    "if x1==x2:\n",
    "    x4 = x3\n",
    "else:\n",
    "    x4 = x1\n",
    "    \n",
    "if y1 == y2:\n",
    "    y4 = y3\n",
    "else:\n",
    "    y4 = y1\n",
    "print(x4,y4)"
   ]
  },
  {
   "cell_type": "code",
   "execution_count": 63,
   "id": "bea972f4",
   "metadata": {},
   "outputs": [
    {
     "name": "stdout",
     "output_type": "stream",
     "text": [
      "fx = 1.8185948536513634\n"
     ]
    }
   ],
   "source": [
    "#24\n",
    "from math import sin\n",
    "x = int(float(input(\"x = \")))\n",
    "if x > 0:\n",
    "    fx = 2* sin(x)\n",
    "elif x <= 0:\n",
    "    fx = x-6\n",
    "print(f\"fx = {fx}\")"
   ]
  },
  {
   "cell_type": "code",
   "execution_count": 4,
   "id": "f1be5feb",
   "metadata": {},
   "outputs": [
    {
     "name": "stdout",
     "output_type": "stream",
     "text": [
      "x = 3\n",
      "Fx = 6\n"
     ]
    }
   ],
   "source": [
    "#25\n",
    "x = int(float(input(\"x = \")))\n",
    "if x<-2 or x>2:\n",
    "    print(\"Fx =\",x*2)\n",
    "else:\n",
    "    print(\"Fx =\",x*-3)"
   ]
  },
  {
   "cell_type": "code",
   "execution_count": 5,
   "id": "072aba2a",
   "metadata": {},
   "outputs": [
    {
     "name": "stdout",
     "output_type": "stream",
     "text": [
      "x = 5\n",
      "Fx = 4\n"
     ]
    }
   ],
   "source": [
    "#26\n",
    "x = int(float(input(\"x = \")))\n",
    "if x<=0:\n",
    "    print(\"Fx =\",-x)\n",
    "elif 0<x<2:\n",
    "    print(\"Fx =\",x**2)\n",
    "elif x>=2:\n",
    "    print(\"Fx =\",4)\n",
    "    \n"
   ]
  },
  {
   "cell_type": "code",
   "execution_count": 10,
   "id": "9738025d",
   "metadata": {},
   "outputs": [
    {
     "name": "stdout",
     "output_type": "stream",
     "text": [
      "x=1\n",
      "Fx = -1\n"
     ]
    }
   ],
   "source": [
    "#27\n",
    "x = int(float(input(\"x=\")))\n",
    "if x<0:\n",
    "    print(\"Fx =\",0)\n",
    "elif x%2==0:\n",
    "    print(\"Fx =\",1)\n",
    "elif x%2==1:\n",
    "    print(\"Fx =\",-1)"
   ]
  },
  {
   "cell_type": "code",
   "execution_count": 24,
   "id": "403059a5",
   "metadata": {},
   "outputs": [
    {
     "name": "stdout",
     "output_type": "stream",
     "text": [
      "Yil = 2000\n",
      "Kabisa\n"
     ]
    }
   ],
   "source": [
    "#28\n",
    "x = int(input(\"Yil = \"))\n",
    "if x%100 == 0:\n",
    "    if x%400 == 0:\n",
    "        print(\"Kabisa\")\n",
    "    else:\n",
    "        print(\"Kabisa emas\")\n",
    "elif x%4 == 0:\n",
    "    print(\"Kabisa\")\n",
    "\n",
    "else:\n",
    "    print(\"Kabisa emas\")"
   ]
  },
  {
   "cell_type": "code",
   "execution_count": 26,
   "id": "7f2f5789",
   "metadata": {},
   "outputs": [
    {
     "name": "stdout",
     "output_type": "stream",
     "text": [
      "-26 manfiy juft son\n"
     ]
    }
   ],
   "source": [
    "#29\n",
    "x = -26\n",
    "if x>0:\n",
    "    if x%2 ==0:\n",
    "        print(f\"{x} musbat juft son\")\n",
    "    else:\n",
    "        print(f\"{x} musbat toq son\")\n",
    "elif x<0:\n",
    "    if x%2 ==0:\n",
    "        print(f\"{x} manfiy juft son\")\n",
    "    else:\n",
    "        print(f\"{x} manfiy toq son\")\n",
    "else:\n",
    "    print(f\"son 0 ga teng\")\n",
    "    \n",
    "        "
   ]
  },
  {
   "cell_type": "code",
   "execution_count": 29,
   "id": "fabcb5af",
   "metadata": {},
   "outputs": [
    {
     "name": "stdout",
     "output_type": "stream",
     "text": [
      "x = 456\n",
      "Uch xonali juft son\n"
     ]
    }
   ],
   "source": [
    "#30\n",
    "x =int(input(\"x = \"))\n",
    "if x<10:\n",
    "    if x%2 ==0:\n",
    "        print(\"Bir xonali juft son\")\n",
    "    else:\n",
    "        print(\"Bir xonali toq son\")\n",
    "elif x>9 and x<100 :\n",
    "    if x%2 ==0:\n",
    "        print(\"Ikki xonali juft son\")\n",
    "    else:\n",
    "        print(\"Ikki xonali toq son\")\n",
    "elif x>99 and x<1000:\n",
    "    if x%2 ==0:\n",
    "        print(\"Uch xonali juft son\")\n",
    "    else:\n",
    "        print(\"Uch xonali toq son\")\n",
    "else:\n",
    "    print(\"Kiritgan soningiz 3 xonalidan kichik bolishi kerak\")\n"
   ]
  },
  {
   "attachments": {
    "image.png": {
     "image/png": "[encoded data removed]"
    }
   },
   "cell_type": "markdown",
   "id": "05d36707",
   "metadata": {},
   "source": [
    "![image.png](attachment:image.png)"
   ]
  },
  {
   "cell_type": "code",
   "execution_count": null,
   "id": "50f83ce6",
   "metadata": {},
   "outputs": [],
   "source": [
    "# if junior\n",
    "n = int(input(\"<<< 1 <= N <= 99 >>> son kiriting: \"))\n",
    "on = n//10\n",
    "bir = n%10\n",
    "if n<=99:\n",
    "    if bir==1:\n",
    "        bir = \"bir\"\n",
    "    elif bir==2:\n",
    "        bir = \"ikki\"\n",
    "    elif bir==3:\n",
    "        bir = \"uch\"\n",
    "    elif bir==4:\n",
    "        bir = \"to'rt\"\n",
    "    elif bir==5:\n",
    "        bir = \"besh\"\n",
    "    elif bir==6:\n",
    "        bir = \"olti\"\n",
    "    elif bir==7:\n",
    "        bir = \"yetti\"\n",
    "    elif bir==8:\n",
    "        bir = \"sakkiz\"\n",
    "    elif bir==9:\n",
    "        bir = \"to'qqiz\"\n",
    "    elif bir==10:\n",
    "        bir = \"o'n\"\n",
    "    \n",
    "    if on==1:\n",
    "        on = \"o'n\"\n",
    "    elif on==2:\n",
    "        on = \"yigirma\"\n",
    "    elif on==3:\n",
    "        on = \"o'ttiz\"\n",
    "    elif on==4:\n",
    "        on = \"qirq\"\n",
    "    elif on==5:\n",
    "        on = \"ellik\"\n",
    "    elif on==6:\n",
    "        on = \"oltmish\"\n",
    "    elif on==7:\n",
    "         on = \"yetmish\"\n",
    "    elif on==8:\n",
    "        on = \"sakson\"\n",
    "    elif on==9 :\n",
    "        on = \"to'qson\"\n",
    "\n",
    "if on==0:\n",
    "    print(bir)\n",
    "else:\n",
    "    print(f\"{on} {bir}\")\n",
    "\n",
    "   "
   ]
  }
 ],
 "metadata": {
  "kernelspec": {
   "display_name": "Python 3 (ipykernel)",
   "language": "python",
   "name": "python3"
  },
  "language_info": {
   "codemirror_mode": {
    "name": "ipython",
    "version": 3
   },
   "file_extension": ".py",
   "mimetype": "text/x-python",
   "name": "python",
   "nbconvert_exporter": "python",
   "pygments_lexer": "ipython3",
   "version": "3.10.3"
  }
 },
 "nbformat": 4,
 "nbformat_minor": 5
}
