{
 "cells": [
  {
   "cell_type": "markdown",
   "id": "b7f43c45",
   "metadata": {},
   "source": [
    "# 11/02/2022\n",
    "\n",
    "# Python asoslari\n",
    "\n",
    "# 1-dars: Kiritish va chiqarish\n",
    "\n",
    "# Muallif: Farrux Sotivoldiyev\n"
   ]
  },
  {
   "cell_type": "code",
   "execution_count": 1,
   "id": "685cb129",
   "metadata": {},
   "outputs": [
    {
     "name": "stdout",
     "output_type": "stream",
     "text": [
      "a = 5\n",
      "Perimetr: 20\n"
     ]
    }
   ],
   "source": [
    "#begin1\n",
    "a = int(input(\"a = \"))\n",
    "\n",
    "p = 4 * a\n",
    "\n",
    "print(\"Perimetr:\",p)"
   ]
  },
  {
   "cell_type": "code",
   "execution_count": 2,
   "id": "af74cefd",
   "metadata": {},
   "outputs": [
    {
     "name": "stdout",
     "output_type": "stream",
     "text": [
      "a = 5\n",
      "Yuzi: 25\n"
     ]
    }
   ],
   "source": [
    "#begin2\n",
    "a = int(input(\"a = \"))\n",
    "\n",
    "s = a**2\n",
    "\n",
    "print(\"Yuzi:\",s)"
   ]
  },
  {
   "cell_type": "code",
   "execution_count": 4,
   "id": "fb5f735a",
   "metadata": {},
   "outputs": [
    {
     "name": "stdout",
     "output_type": "stream",
     "text": [
      "a = 4\n",
      "b = 5\n",
      "Yuzi: 20 \n",
      "Perimetr: 18\n"
     ]
    }
   ],
   "source": [
    "#begin3\n",
    "a = int(input(\"a = \"))\n",
    "b = int(input(\"b = \"))\n",
    "\n",
    "s = a * b\n",
    "p = 2 * (a + b)\n",
    "\n",
    "print(\"Yuzi:\",s,\"\\nPerimetr:\",p)"
   ]
  },
  {
   "cell_type": "code",
   "execution_count": 5,
   "id": "0722b5cd",
   "metadata": {},
   "outputs": [
    {
     "name": "stdout",
     "output_type": "stream",
     "text": [
      "d = 2\n",
      "Uzunligi: 6.28\n"
     ]
    }
   ],
   "source": [
    "#begin4\n",
    "d = int(input(\"d = \"))\n",
    "\n",
    "pi = 3.14\n",
    "l = pi * d\n",
    "\n",
    "print(\"Uzunligi:\",l)"
   ]
  },
  {
   "cell_type": "code",
   "execution_count": 6,
   "id": "2cfbd893",
   "metadata": {},
   "outputs": [
    {
     "name": "stdout",
     "output_type": "stream",
     "text": [
      "a = 3\n",
      "Yuzi: 54 \n",
      "Hajmi: 27\n"
     ]
    }
   ],
   "source": [
    "#begin5\n",
    "a = int(input(\"a = \"))\n",
    "\n",
    "v = a**3\n",
    "s = 6 * a**2\n",
    "\n",
    "print(\"Yuzi:\",s,\"\\nHajmi:\",v)"
   ]
  },
  {
   "cell_type": "code",
   "execution_count": 7,
   "id": "ae1ed3a6",
   "metadata": {},
   "outputs": [
    {
     "name": "stdout",
     "output_type": "stream",
     "text": [
      "a = 1\n",
      "b = 2\n",
      "c = 3\n",
      "Hajmi: 6 \n",
      "To'la sirti: 22\n"
     ]
    }
   ],
   "source": [
    "#begin6\n",
    "a = int(input(\"a = \"))\n",
    "b = int(input(\"b = \"))\n",
    "c = int(input(\"c = \"))\n",
    "\n",
    "v = a * b * c\n",
    "s = 2 * (a*b + b*c + a*c)\n",
    "\n",
    "print(\"Hajmi:\",v,\"\\nTo'la sirti:\",s)"
   ]
  },
  {
   "cell_type": "code",
   "execution_count": 8,
   "id": "fa0bbc14",
   "metadata": {},
   "outputs": [
    {
     "name": "stdout",
     "output_type": "stream",
     "text": [
      "R = 5\n",
      "Uzunligi: 31.400000000000002 \n",
      "Yuzasi: 78.5\n"
     ]
    }
   ],
   "source": [
    "#begin7\n",
    "r = int(input(\"R = \"))\n",
    "\n",
    "pi = 3.14\n",
    "l = 2 * pi * r\n",
    "s = pi * r**2\n",
    "\n",
    "print(\"Uzunligi:\",l,\"\\nYuzasi:\",s)"
   ]
  },
  {
   "cell_type": "code",
   "execution_count": 9,
   "id": "b473fd18",
   "metadata": {},
   "outputs": [
    {
     "name": "stdout",
     "output_type": "stream",
     "text": [
      "a = 4\n",
      "b = 5\n",
      "orta_arif: 4.5\n"
     ]
    }
   ],
   "source": [
    "#begin8\n",
    "a = int(input(\"a = \"))\n",
    "b = int(input(\"b = \"))\n",
    "\n",
    "orta_arif = (a+b)/2\n",
    "\n",
    "print(\"orta_arif:\",orta_arif)"
   ]
  },
  {
   "cell_type": "code",
   "execution_count": 10,
   "id": "00d91a6f",
   "metadata": {},
   "outputs": [
    {
     "name": "stdout",
     "output_type": "stream",
     "text": [
      "a = 3\n",
      "b = 5\n",
      "orta_geo: 3.872983346207417\n"
     ]
    }
   ],
   "source": [
    "#begin9\n",
    "a = int(input(\"a = \"))\n",
    "b = int(input(\"b = \"))\n",
    "\n",
    "orta_geo = (a*b)**(1/2)\n",
    "\n",
    "print(\"orta_geo:\",orta_geo)"
   ]
  },
  {
   "cell_type": "code",
   "execution_count": 11,
   "id": "e3574d15",
   "metadata": {},
   "outputs": [
    {
     "name": "stdout",
     "output_type": "stream",
     "text": [
      "a = 2\n",
      "b = 3\n",
      "Yeg'indi: 5 \n",
      "Ko'paytmaL: 6 \n",
      "a^2 = 4 \n",
      "b^2 = 9\n"
     ]
    }
   ],
   "source": [
    "#begin10\n",
    "a = int(input(\"a = \"))\n",
    "b = int(input(\"b = \"))\n",
    "\n",
    "print(\"Yeg'indi:\",a+b,\"\\nKo'paytmaL:\",a*b,\"\\na^2 =\",a**2,\"\\nb^2 =\",b**2)"
   ]
  },
  {
   "cell_type": "code",
   "execution_count": 12,
   "id": "debd1e8a",
   "metadata": {},
   "outputs": [
    {
     "name": "stdout",
     "output_type": "stream",
     "text": [
      "a = -2\n",
      "b = 3\n",
      "Yeg'indi: 1 \n",
      "Ko'paytmaL: -6 \n",
      "|a| = 2 \n",
      "|b| = 3\n"
     ]
    }
   ],
   "source": [
    "#begin11\n",
    "a = int(input(\"a = \"))\n",
    "b = int(input(\"b = \"))\n",
    "\n",
    "print(\"Yeg'indi:\",a+b,\"\\nKo'paytmaL:\",a*b,\"\\n|a| =\",abs(a),\"\\n|b| =\",abs(b))"
   ]
  },
  {
   "cell_type": "code",
   "execution_count": 13,
   "id": "916e4132",
   "metadata": {},
   "outputs": [
    {
     "name": "stdout",
     "output_type": "stream",
     "text": [
      "a = 3\n",
      "b = 4\n",
      "gipotenuzasi: 5.0 \n",
      "Perimetri: 12.0\n"
     ]
    }
   ],
   "source": [
    "#begin12\n",
    "a = int(input(\"a = \"))\n",
    "b = int(input(\"b = \"))\n",
    "\n",
    "c = (a**2 + b**2)**(1/2)\n",
    "p = a + b + c\n",
    "\n",
    "print(\"gipotenuzasi:\",c,\"\\nPerimetri:\",p)"
   ]
  },
  {
   "cell_type": "code",
   "execution_count": 16,
   "id": "a54bf7ab",
   "metadata": {},
   "outputs": [
    {
     "name": "stdout",
     "output_type": "stream",
     "text": [
      "R1 = 3\n",
      "R2 = 2\n",
      "S1 = 9.42 \n",
      "S2 = 6.28 \n",
      "S3 = 3.14\n"
     ]
    }
   ],
   "source": [
    "#begin13\n",
    "r1 = int(input(\"R1 = \"))\n",
    "r2 = int(input(\"R2 = \"))\n",
    "\n",
    "pi = 3.14\n",
    "s1 = pi * r1\n",
    "s2 = pi * r2\n",
    "s3 = pi * (r1 - r2)\n",
    "\n",
    "print(\"S1 =\",s1,\"\\nS2 =\",s2,\"\\nS3 =\",s3)"
   ]
  },
  {
   "cell_type": "code",
   "execution_count": 19,
   "id": "2a3c300b",
   "metadata": {},
   "outputs": [
    {
     "name": "stdout",
     "output_type": "stream",
     "text": [
      "L = 7\n",
      "Radiusi: 1.1146496815286624 \n",
      "Yuzasi: 3.901273885350318\n"
     ]
    }
   ],
   "source": [
    "#begin14\n",
    "l = int(input(\"L = \"))\n",
    "\n",
    "pi = 3.14\n",
    "r = l / (2 * pi)\n",
    "s = pi * r**2\n",
    "\n",
    "print(\"Radiusi:\",r,\"\\nYuzasi:\",s)"
   ]
  },
  {
   "cell_type": "code",
   "execution_count": 22,
   "id": "471560f8",
   "metadata": {},
   "outputs": [
    {
     "name": "stdout",
     "output_type": "stream",
     "text": [
      "S = 5\n",
      "Diametri: 2.5237723256253437 \n",
      "Radiusi: 1.2618861628126719\n"
     ]
    }
   ],
   "source": [
    "#begin15\n",
    "s = int(input(\"S = \"))\n",
    "\n",
    "pi = 3.14\n",
    "r = (s / pi)**(1/2)\n",
    "d = 2 * r\n",
    "\n",
    "print(\"Diametri:\",d,\"\\nRadiusi:\",r)"
   ]
  },
  {
   "cell_type": "code",
   "execution_count": 24,
   "id": "0a37b7c1",
   "metadata": {},
   "outputs": [
    {
     "name": "stdout",
     "output_type": "stream",
     "text": [
      "x1 = 2\n",
      "x2 = -5\n",
      "masofa: 7\n"
     ]
    }
   ],
   "source": [
    "#begin16\n",
    "x1 = int(input(\"x1 = \"))\n",
    "x2 = int(input(\"x2 = \"))\n",
    "\n",
    "print(\"masofa:\",abs(x2-x1))"
   ]
  },
  {
   "cell_type": "code",
   "execution_count": 26,
   "id": "4805845f",
   "metadata": {},
   "outputs": [
    {
     "name": "stdout",
     "output_type": "stream",
     "text": [
      "a = -2\n",
      "b = 3\n",
      "c = 6\n",
      "AC = 8 \n",
      "BC = 3 \n",
      "yeg'indisi: 11\n"
     ]
    }
   ],
   "source": [
    "#begin17\n",
    "a = int(input(\"a = \"))\n",
    "b = int(input(\"b = \"))\n",
    "c = int(input(\"c = \"))\n",
    "\n",
    "ac = abs(c - a)\n",
    "bc = abs(c - b)\n",
    "\n",
    "print(\"AC =\",ac,\"\\nBC =\",bc,\"\\nyeg'indisi:\",ac+bc)"
   ]
  },
  {
   "cell_type": "code",
   "execution_count": 29,
   "id": "e8e4316e",
   "metadata": {},
   "outputs": [
    {
     "name": "stdout",
     "output_type": "stream",
     "text": [
      "a = -3\n",
      "b = 6\n",
      "c = 2\n",
      "AC * BC = 20\n"
     ]
    }
   ],
   "source": [
    "#begin18\n",
    "a = int(input(\"a = \"))\n",
    "b = int(input(\"b = \"))\n",
    "c = int(input(\"c = \"))\n",
    "\n",
    "ac = abs(c - a)\n",
    "bc = abs(c - b)\n",
    "\n",
    "print(\"AC * BC =\",abs(c-a) * abs(b-c))"
   ]
  },
  {
   "cell_type": "code",
   "execution_count": 26,
   "id": "e6e428f8",
   "metadata": {},
   "outputs": [
    {
     "name": "stdout",
     "output_type": "stream",
     "text": [
      "x1 = 8\n",
      "y1 = 4\n",
      "x3 = 2\n",
      "y3 = 1\n",
      "S = 18.0 \n",
      "P = 18.0\n"
     ]
    }
   ],
   "source": [
    "#begin19 \n",
    "x1 = int(input(\"x1 = \"))\n",
    "y1 = int(input(\"y1 = \"))\n",
    "x3 = int(input(\"x3 = \"))\n",
    "y3 = int(input(\"y3 = \"))\n",
    "x2 = x1\n",
    "y2 = y3\n",
    "x4 = x3\n",
    "y4 = y1\n",
    "\n",
    "a = ((x2-x1)**2 + (y2-y1)**2)**(1/2)\n",
    "b = ((x3-x2)**2 + (y3-y2)**2)**(1/2)\n",
    "s = a * b\n",
    "p = 2 * (a + b)\n",
    "\n",
    "print(\"S =\",s,\"\\nP =\",p)"
   ]
  },
  {
   "cell_type": "code",
   "execution_count": 30,
   "id": "5686f9cb",
   "metadata": {},
   "outputs": [
    {
     "name": "stdout",
     "output_type": "stream",
     "text": [
      "x1 = 1\n",
      "y1 = 2\n",
      "x2 = 3\n",
      "y2 = 0\n",
      "Masofa: 2.8284271247461903\n"
     ]
    }
   ],
   "source": [
    "#begin20\n",
    "x1 = int(input(\"x1 = \"))\n",
    "y1 = int(input(\"y1 = \"))\n",
    "x2 = int(input(\"x2 = \"))\n",
    "y2 = int(input(\"y2 = \"))\n",
    "\n",
    "print(\"Masofa:\",((x2-x1)**2 + (y2-y1)**2)**(1/2))"
   ]
  },
  {
   "cell_type": "code",
   "execution_count": 2,
   "id": "b6cb72c9",
   "metadata": {},
   "outputs": [
    {
     "name": "stdout",
     "output_type": "stream",
     "text": [
      "x1 = 2\n",
      "y1 = 1\n",
      "x2 = 3\n",
      "y2 = 1\n",
      "x3 = 2\n",
      "y3 = 4\n",
      "Yuzasi: 1.5000000000000007 \n",
      "Perimetri: 7.16227766016838\n"
     ]
    }
   ],
   "source": [
    "#begin21\n",
    "x1 = int(input(\"x1 = \"))\n",
    "y1 = int(input(\"y1 = \"))\n",
    "x2 = int(input(\"x2 = \"))\n",
    "y2 = int(input(\"y2 = \"))\n",
    "x3 = int(input(\"x3 = \"))\n",
    "y3 = int(input(\"y3 = \"))\n",
    "\n",
    "a = ((x2-x1)**2 + (y2-y1)**2)**(1/2)\n",
    "b = ((x3-x2)**2 + (y3-y2)**2)**(1/2)\n",
    "c = ((x3-x1)**2 + (y3-y1)**2)**(1/2)\n",
    "\n",
    "p = (a+b+c)/2\n",
    "s = (p*(p-a)*(p-b)*(p-c))**(1/2)\n",
    "\n",
    "print(\"Yuzasi:\",s,\"\\nPerimetri:\",p*2)"
   ]
  },
  {
   "cell_type": "code",
   "execution_count": 7,
   "id": "f80baa60",
   "metadata": {},
   "outputs": [
    {
     "name": "stdout",
     "output_type": "stream",
     "text": [
      "a = 5\n",
      "b = 3\n",
      "a = 3 b = 5\n"
     ]
    }
   ],
   "source": [
    "#begin22\n",
    "a = int(input(\"a = \"))\n",
    "b = int(input(\"b = \"))\n",
    "\n",
    "a = a + b\n",
    "b = a - b\n",
    "a = a - b\n",
    "\n",
    "print(\"a =\",a,\"b =\",b)"
   ]
  },
  {
   "cell_type": "code",
   "execution_count": 14,
   "id": "faed2313",
   "metadata": {},
   "outputs": [
    {
     "name": "stdout",
     "output_type": "stream",
     "text": [
      "a = 1\n",
      "b = 2\n",
      "c = 3\n",
      "a = 3 b = 1 c = 2\n"
     ]
    }
   ],
   "source": [
    "#begin23\n",
    "a = int(input(\"a = \"))\n",
    "b = int(input(\"b = \"))\n",
    "c = int(input(\"c = \"))\n",
    "\n",
    "c = a + b + c\n",
    "a = c - b - a\n",
    "b = c - b - a\n",
    "c = c - b - a\n",
    "\n",
    "\n",
    "print(\"a =\",a,\"b =\",b,\"c =\",c)"
   ]
  },
  {
   "cell_type": "code",
   "execution_count": 12,
   "id": "a89b535f",
   "metadata": {},
   "outputs": [
    {
     "name": "stdout",
     "output_type": "stream",
     "text": [
      "a = 1\n",
      "b = 2\n",
      "c = 3\n",
      "a = 2 b = 3 c = 1\n"
     ]
    }
   ],
   "source": [
    "#begin24\n",
    "a = int(input(\"a = \"))\n",
    "b = int(input(\"b = \"))\n",
    "c = int(input(\"c = \"))\n",
    "\n",
    "a = a + b + c\n",
    "\n",
    "c = a - b - c\n",
    "b = a - b - c\n",
    "a = a - b - c\n",
    "\n",
    "\n",
    "print(\"a =\",a,\"b =\",b,\"c =\",c)"
   ]
  },
  {
   "cell_type": "code",
   "execution_count": 15,
   "id": "8fa38b04",
   "metadata": {},
   "outputs": [
    {
     "name": "stdout",
     "output_type": "stream",
     "text": [
      "x = 2\n",
      "y = 161\n"
     ]
    }
   ],
   "source": [
    "#begin25\n",
    "x = int(input(\"x = \"))\n",
    "\n",
    "y = 3 * x**6 - 6 * x**2 - 7\n",
    "\n",
    "print(\"y =\",y)"
   ]
  },
  {
   "cell_type": "code",
   "execution_count": 16,
   "id": "da1f6912",
   "metadata": {},
   "outputs": [
    {
     "name": "stdout",
     "output_type": "stream",
     "text": [
      "x = 2\n",
      "y = 13\n"
     ]
    }
   ],
   "source": [
    "#begin26\n",
    "x = int(input(\"x = \"))\n",
    "\n",
    "y = 4 * (x-3)**6 - 7 * (x-3)**3 + 2\n",
    "\n",
    "print(\"y =\",y)"
   ]
  },
  {
   "cell_type": "code",
   "execution_count": 17,
   "id": "33d7eff2",
   "metadata": {},
   "outputs": [
    {
     "name": "stdout",
     "output_type": "stream",
     "text": [
      "A = 2\n",
      "a^2 = 4 \n",
      "a^4 16 \n",
      "a^8 = 256\n"
     ]
    }
   ],
   "source": [
    "#begin27\n",
    "a = int(input(\"A = \"))\n",
    "\n",
    "print(\"a^2 =\",a**2,\"\\na^4\",a**4,\"\\na^8 =\",a**8)"
   ]
  },
  {
   "cell_type": "code",
   "execution_count": 18,
   "id": "794f0366",
   "metadata": {},
   "outputs": [
    {
     "name": "stdout",
     "output_type": "stream",
     "text": [
      "A = 2\n",
      "a^2 = 4 \n",
      "a^3 8 \n",
      "a^5 = 32 \n",
      "a^10 1024 \n",
      "a^15 = 32768\n"
     ]
    }
   ],
   "source": [
    "#begin28\n",
    "a = int(input(\"A = \"))\n",
    "\n",
    "print(\"a^2 =\",a**2,\"\\na^3\",a**3,\"\\na^5 =\",a**5,\"\\na^10\",a**10,\"\\na^15 =\",a**15)"
   ]
  },
  {
   "cell_type": "code",
   "execution_count": 21,
   "id": "4186a194",
   "metadata": {},
   "outputs": [
    {
     "name": "stdout",
     "output_type": "stream",
     "text": [
      "a = 90\n",
      "radian = 1.5700000000000003\n"
     ]
    }
   ],
   "source": [
    "#begin29\n",
    "a = int(input(\"a = \"))\n",
    "\n",
    "pi = 3.14\n",
    "radian = a * (pi/180)\n",
    "\n",
    "print(\"radian =\",radian)"
   ]
  },
  {
   "cell_type": "code",
   "execution_count": 23,
   "id": "c4a62949",
   "metadata": {},
   "outputs": [
    {
     "name": "stdout",
     "output_type": "stream",
     "text": [
      "a = 6\n",
      "gradus = 343.9490445859872\n"
     ]
    }
   ],
   "source": [
    "#begin30\n",
    "a = int(input(\"a = \"))\n",
    "\n",
    "pi = 3.14\n",
    "gradus = a * (180/pi)\n",
    "\n",
    "print(\"gradus =\",gradus)"
   ]
  },
  {
   "cell_type": "code",
   "execution_count": 28,
   "id": "dea161ca",
   "metadata": {},
   "outputs": [
    {
     "name": "stdout",
     "output_type": "stream",
     "text": [
      "Kelvinda kiriting: 163\n",
      "gradus = 72.77777777777777\n"
     ]
    }
   ],
   "source": [
    "#begin31\n",
    "Tf = int(input(\"Kelvinda kiriting: \"))\n",
    "\n",
    "Tc = (Tf - 32) * 5/9\n",
    "\n",
    "print(\"gradus =\",Tc)"
   ]
  },
  {
   "cell_type": "code",
   "execution_count": 30,
   "id": "b61b8414",
   "metadata": {},
   "outputs": [
    {
     "name": "stdout",
     "output_type": "stream",
     "text": [
      "gradusda kiriting: 60\n",
      "Kelvinda = 15.555555555555555\n"
     ]
    }
   ],
   "source": [
    "#begin32\n",
    "Tc = int(input(\"gradusda kiriting: \"))\n",
    "\n",
    "Tf = (Tc - 32) * 5/9\n",
    "\n",
    "print(\"Kelvinda =\",Tf)"
   ]
  },
  {
   "cell_type": "code",
   "execution_count": 31,
   "id": "8351403e",
   "metadata": {},
   "outputs": [
    {
     "name": "stdout",
     "output_type": "stream",
     "text": [
      "kg = 5\n",
      "so'm = 5000\n",
      "kg = 3\n",
      "1 kg = 1000.0 \n",
      "y kg = 3000.0\n"
     ]
    }
   ],
   "source": [
    "#begin33\n",
    "x = int(input(\"kg = \"))\n",
    "a = int(input(\"so'm = \"))\n",
    "y = int(input(\"kg = \"))\n",
    "\n",
    "kg_1 = a / x\n",
    "y_kg = y * kg_1\n",
    "\n",
    "print(\"1 kg =\",kg_1,\"\\ny kg =\",y_kg)"
   ]
  },
  {
   "cell_type": "code",
   "execution_count": 32,
   "id": "6f40d49b",
   "metadata": {},
   "outputs": [
    {
     "name": "stdout",
     "output_type": "stream",
     "text": [
      "kg = 5\n",
      "so'm = 5000\n",
      "kg = 3\n",
      "so'm = 2000\n",
      "1.0 katta\n"
     ]
    }
   ],
   "source": [
    "#begin34\n",
    "x = int(input(\"kg = \"))\n",
    "a = int(input(\"so'm = \"))\n",
    "y = int(input(\"kg = \"))\n",
    "b = int(input(\"so'm = \"))\n",
    "\n",
    "kg_1_shokolad = a / x\n",
    "kg_1_konfet = b / y\n",
    "martta = kg_1_shokolad // kg_1_konfet\n",
    "\n",
    "print(martta,\"katta\")"
   ]
  },
  {
   "cell_type": "code",
   "execution_count": 36,
   "id": "ca351c45",
   "metadata": {},
   "outputs": [
    {
     "name": "stdout",
     "output_type": "stream",
     "text": [
      "v_qayiq = 9\n",
      "v_oqim = 5\n",
      "T1_oqim_bo'ylab = 3\n",
      "T2_oqimga_qarshi = 6\n",
      "Yurgan yo'li: 66\n"
     ]
    }
   ],
   "source": [
    "#begin35\n",
    "vq = int(input(\"v_qayiq = \"))\n",
    "vs = int(input(\"v_oqim = \"))\n",
    "t1 = int(input(\"T1_oqim_bo'ylab = \"))\n",
    "t2 = int(input(\"T2_oqimga_qarshi = \"))\n",
    "\n",
    "S_oqim_boylab = (vq + vs) * t1\n",
    "S_oqimga_qarshi = (vq - vs) * t2\n",
    "S = S_oqim_boylab + S_oqimga_qarshi\n",
    "\n",
    "print(\"Yurgan yo'li:\",S)"
   ]
  },
  {
   "cell_type": "code",
   "execution_count": 1,
   "id": "c2f2b396",
   "metadata": {},
   "outputs": [
    {
     "name": "stdout",
     "output_type": "stream",
     "text": [
      "v1 = 5\n",
      "v2 = 4\n",
      "s = 100\n",
      "t = 4\n",
      "Ular orasidagi masofa: 136\n"
     ]
    }
   ],
   "source": [
    "#begin36\n",
    "v1 = int(input(\"v1 = \"))\n",
    "v2 = int(input(\"v2 = \"))\n",
    "s = int(input(\"s = \"))\n",
    "t = int(input(\"t = \"))\n",
    "\n",
    "S = t * (v1 + v2) + s\n",
    "\n",
    "print(\"Ular orasidagi masofa:\",S)"
   ]
  },
  {
   "cell_type": "code",
   "execution_count": 2,
   "id": "b759d3fe",
   "metadata": {},
   "outputs": [
    {
     "name": "stdout",
     "output_type": "stream",
     "text": [
      "v1 = 4\n",
      "v2 = 5\n",
      "s = 100\n",
      "t = 4\n",
      "Ular orasidagi masofa: 64\n"
     ]
    }
   ],
   "source": [
    "#begin37\n",
    "v1 = int(input(\"v1 = \"))\n",
    "v2 = int(input(\"v2 = \"))\n",
    "s = int(input(\"s = \"))\n",
    "t = int(input(\"t = \"))\n",
    "\n",
    "S = s - t * (v1 + v2)\n",
    "\n",
    "print(\"Ular orasidagi masofa:\",S)"
   ]
  },
  {
   "cell_type": "code",
   "execution_count": 3,
   "id": "016b166e",
   "metadata": {},
   "outputs": [
    {
     "name": "stdout",
     "output_type": "stream",
     "text": [
      "A = 5\n",
      "B = 4\n",
      "x = -0.8\n"
     ]
    }
   ],
   "source": [
    "#begin38\n",
    "A = int(input(\"A = \"))\n",
    "B = int(input(\"B = \"))\n",
    "\n",
    "x = -B/A\n",
    "\n",
    "print(\"x =\",x)"
   ]
  },
  {
   "cell_type": "code",
   "execution_count": 11,
   "id": "01717c6f",
   "metadata": {},
   "outputs": [
    {
     "name": "stdout",
     "output_type": "stream",
     "text": [
      "a = 1\n",
      "b = 3\n",
      "c = 2\n",
      "x1 = -1.0\n",
      "x2 = -2.0\n"
     ]
    }
   ],
   "source": [
    "#39\n",
    "a = int(input(\"a = \"))\n",
    "b = int(input(\"b = \"))\n",
    "c = int(input(\"c = \"))\n",
    "\n",
    "D = (b**2 - 4*a*c)**(0.5)\n",
    "x1 = (-b + D) / (2*a)\n",
    "x2 = (-b - D) / (2*a)\n",
    "\n",
    "print(f\"x1 = {x1}\\nx2 = {x2}\")"
   ]
  },
  {
   "cell_type": "code",
   "execution_count": 22,
   "id": "5090d9ae",
   "metadata": {},
   "outputs": [
    {
     "name": "stdout",
     "output_type": "stream",
     "text": [
      "a1 = 4\n",
      "b1 = 2\n",
      "c1 = 3\n",
      "a2 = 5\n",
      "b2 = 1\n",
      "c2 = 3\n",
      "x = 0.5\n",
      "y = 0.5\n"
     ]
    }
   ],
   "source": [
    "# 40\n",
    "a1 = int(input(\"a1 = \"))\n",
    "b1 = int(input(\"b1 = \"))\n",
    "c1 = int(input(\"c1 = \"))\n",
    "a2 = int(input(\"a2 = \"))\n",
    "b2 = int(input(\"b2 = \"))\n",
    "c2 = int(input(\"c2 = \"))\n",
    "\n",
    "D = (a1*b2 - a2*b1)\n",
    "x = (c1*b2 - c2*b1)/D\n",
    "y = (a1*c2 - a2*c1)/D\n",
    "\n",
    "print(f\"x = {x}\\ny = {y}\")"
   ]
  },
  {
   "cell_type": "markdown",
   "id": "01264b02",
   "metadata": {},
   "source": [
    "# Qo'shimcha misollar."
   ]
  },
  {
   "cell_type": "code",
   "execution_count": 15,
   "id": "10b32a0d",
   "metadata": {},
   "outputs": [
    {
     "name": "stdout",
     "output_type": "stream",
     "text": [
      "a = 4.456\n",
      "4\n"
     ]
    }
   ],
   "source": [
    "#float sonni int ga o'tkazish\n",
    "\n",
    "a = int(float(input(\"a = \")))\n",
    "\n",
    "print(a)"
   ]
  },
  {
   "cell_type": "code",
   "execution_count": 16,
   "id": "d7f2416e",
   "metadata": {},
   "outputs": [
    {
     "name": "stdout",
     "output_type": "stream",
     "text": [
      "a = 2\n",
      "b = 3\n",
      "c = 4 \n",
      "d = 1\n"
     ]
    }
   ],
   "source": [
    "# darsdagi savol: a,b,c,d sonlarni bir biriga almshtirish\n",
    "\n",
    "a,b,c,d = 1,2,3,4\n",
    "\n",
    "a = a+b+c+d\n",
    "d = a-(b+c+d)\n",
    "c = a-(b+c+d)\n",
    "b = a-(b+c+d)\n",
    "a = a-(b+c+d)\n",
    "\n",
    "print(f\"a = {a}\\nb = {b}\\nc = {c} \\nd = {d}\")"
   ]
  },
  {
   "cell_type": "code",
   "execution_count": 17,
   "id": "9d5e8ce3",
   "metadata": {},
   "outputs": [
    {
     "name": "stdout",
     "output_type": "stream",
     "text": [
      "kunni kiriting: 44\n",
      "6 haftayu 2 kun\n"
     ]
    }
   ],
   "source": [
    "#Kun kiritilsa uni hafta va kunga ajratish\n",
    "\n",
    "a = int(input(\"kunni kiriting: \"))\n",
    "\n",
    "print(f\"{a // 7} haftayu {a % 7} kun\")"
   ]
  },
  {
   "cell_type": "code",
   "execution_count": 18,
   "id": "729816fa",
   "metadata": {},
   "outputs": [
    {
     "name": "stdout",
     "output_type": "stream",
     "text": [
      "kb = 1289\n",
      "mb = 1\n",
      "kb = 265\n"
     ]
    }
   ],
   "source": [
    "#Kb kiritilsa Mb va Kb ga ajratish\n",
    "\n",
    "kb = int(input(\"kb = \"))\n",
    "\n",
    "mb = kb//1024\n",
    "k = kb-1024\n",
    "\n",
    "print(f\"mb = {mb}\\nkb = {k}\")"
   ]
  },
  {
   "cell_type": "code",
   "execution_count": 19,
   "id": "2fd0fdb7",
   "metadata": {},
   "outputs": [
    {
     "name": "stdout",
     "output_type": "stream",
     "text": [
      "a = 456\n",
      "654\n"
     ]
    }
   ],
   "source": [
    "# uch xonali sonni teskari tartibda chiqarish\n",
    "\n",
    "a = int(input(\"a = \"))\n",
    "\n",
    "yuz = a // 100\n",
    "on = a%100//10\n",
    "bir = a % 10\n",
    "\n",
    "print(bir*100+on*10+yuz*1)"
   ]
  },
  {
   "cell_type": "code",
   "execution_count": 21,
   "id": "d8d9423f",
   "metadata": {},
   "outputs": [
    {
     "name": "stdout",
     "output_type": "stream",
     "text": [
      "2 soat 1 minut 35 sek\n"
     ]
    }
   ],
   "source": [
    "#sekund kiritilsa soat,minut,sekundlarga bolish\n",
    "\n",
    "a = 7295\n",
    "\n",
    "soat = a //3600\n",
    "minut = a%3600//60 \n",
    "sek = a %60\n",
    "\n",
    "print(soat,\"soat\",minut,\"minut\",sek,\"sek\")"
   ]
  }
 ],
 "metadata": {
  "kernelspec": {
   "display_name": "Python 3 (ipykernel)",
   "language": "python",
   "name": "python3"
  },
  "language_info": {
   "codemirror_mode": {
    "name": "ipython",
    "version": 3
   },
   "file_extension": ".py",
   "mimetype": "text/x-python",
   "name": "python",
   "nbconvert_exporter": "python",
   "pygments_lexer": "ipython3",
   "version": "3.9.8"
  }
 },
 "nbformat": 4,
 "nbformat_minor": 5
}
