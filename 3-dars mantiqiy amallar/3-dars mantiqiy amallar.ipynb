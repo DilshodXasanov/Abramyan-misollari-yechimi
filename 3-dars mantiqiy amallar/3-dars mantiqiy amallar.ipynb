{
 "cells": [
  {
   "cell_type": "markdown",
   "id": "770698f2",
   "metadata": {},
   "source": [
    "# 11/02/2022\n",
    "\n",
    "# Python asoslari\n",
    "\n",
    "# 3-dars: Mantiqiy amallar\n",
    "\n",
    "# Muallif: Farrux Sotivoldiyev\n"
   ]
  },
  {
   "cell_type": "code",
   "execution_count": 1,
   "id": "6eaafe01",
   "metadata": {},
   "outputs": [
    {
     "name": "stdout",
     "output_type": "stream",
     "text": [
      "True\n"
     ]
    }
   ],
   "source": [
    "#1\n",
    "a = 9\n",
    "print(f\"{a > 0}\")"
   ]
  },
  {
   "cell_type": "code",
   "execution_count": 2,
   "id": "15319ee0",
   "metadata": {},
   "outputs": [
    {
     "name": "stdout",
     "output_type": "stream",
     "text": [
      "True\n"
     ]
    }
   ],
   "source": [
    "#2\n",
    "a = 5 \n",
    "print(a%2 != 0)"
   ]
  },
  {
   "cell_type": "code",
   "execution_count": 3,
   "id": "85cce744",
   "metadata": {},
   "outputs": [
    {
     "name": "stdout",
     "output_type": "stream",
     "text": [
      "False\n"
     ]
    }
   ],
   "source": [
    "#3\n",
    "a = 5\n",
    "print(a%2==0)"
   ]
  },
  {
   "cell_type": "code",
   "execution_count": 4,
   "id": "b41a2628",
   "metadata": {},
   "outputs": [
    {
     "name": "stdout",
     "output_type": "stream",
     "text": [
      "False\n"
     ]
    }
   ],
   "source": [
    "#4\n",
    "a = 5\n",
    "b = 4\n",
    "print(a>2 and b<=3)"
   ]
  },
  {
   "cell_type": "code",
   "execution_count": 5,
   "id": "b73bfbc9",
   "metadata": {},
   "outputs": [
    {
     "name": "stdout",
     "output_type": "stream",
     "text": [
      "True\n"
     ]
    }
   ],
   "source": [
    "#5\n",
    "a = 8\n",
    "b = 3\n",
    "print(a>=0 or b <= -2)"
   ]
  },
  {
   "cell_type": "code",
   "execution_count": 6,
   "id": "14c58396",
   "metadata": {},
   "outputs": [
    {
     "name": "stdout",
     "output_type": "stream",
     "text": [
      "True\n"
     ]
    }
   ],
   "source": [
    "#6\n",
    "a,b,c = 2,4,8\n",
    "print(a<=b<=c)"
   ]
  },
  {
   "cell_type": "code",
   "execution_count": 7,
   "id": "75e0cd3c",
   "metadata": {},
   "outputs": [
    {
     "name": "stdout",
     "output_type": "stream",
     "text": [
      "True\n"
     ]
    }
   ],
   "source": [
    "#7\n",
    "a,b,c = 3,6,9\n",
    "print(a<b<c)"
   ]
  },
  {
   "cell_type": "code",
   "execution_count": 8,
   "id": "501e3df7",
   "metadata": {},
   "outputs": [
    {
     "name": "stdout",
     "output_type": "stream",
     "text": [
      "False\n"
     ]
    }
   ],
   "source": [
    "#8\n",
    "a = 5\n",
    "b = 8 \n",
    "print(a%2!=0 and b%2!=0)"
   ]
  },
  {
   "cell_type": "code",
   "execution_count": 10,
   "id": "deb86126",
   "metadata": {},
   "outputs": [
    {
     "name": "stdout",
     "output_type": "stream",
     "text": [
      "True\n"
     ]
    }
   ],
   "source": [
    "#9\n",
    "a,b = 3,9\n",
    "print(a%2!=0 or b%2!=0 )"
   ]
  },
  {
   "cell_type": "code",
   "execution_count": 17,
   "id": "7f305d38",
   "metadata": {},
   "outputs": [
    {
     "name": "stdout",
     "output_type": "stream",
     "text": [
      "True\n"
     ]
    }
   ],
   "source": [
    "#10\n",
    "a,b = 9,8\n",
    "print((a%2!=0 and b%2==0) or (a%2==0 and b%2!=0))"
   ]
  },
  {
   "cell_type": "code",
   "execution_count": 18,
   "id": "157869fc",
   "metadata": {},
   "outputs": [
    {
     "name": "stdout",
     "output_type": "stream",
     "text": [
      "True\n"
     ]
    }
   ],
   "source": [
    "#11\n",
    "a = 8\n",
    "b = 4\n",
    "print((a%2==0 and b%2==0) or (a%2!=0 and b%2!=0))\n"
   ]
  },
  {
   "cell_type": "code",
   "execution_count": 19,
   "id": "66778891",
   "metadata": {},
   "outputs": [
    {
     "name": "stdout",
     "output_type": "stream",
     "text": [
      "True\n"
     ]
    }
   ],
   "source": [
    "#12\n",
    "a,b,c = 2,5,8\n",
    "print(a>0 and b>0 and c>0)"
   ]
  },
  {
   "cell_type": "code",
   "execution_count": 43,
   "id": "d392df6b",
   "metadata": {},
   "outputs": [
    {
     "name": "stdout",
     "output_type": "stream",
     "text": [
      "True\n"
     ]
    }
   ],
   "source": [
    "#13\n",
    "a,b,c = 5,2,-9\n",
    "print(a>0 or b>o or c>0)\n"
   ]
  },
  {
   "cell_type": "code",
   "execution_count": 42,
   "id": "9859bbc4",
   "metadata": {},
   "outputs": [
    {
     "name": "stdout",
     "output_type": "stream",
     "text": [
      "True\n"
     ]
    },
    {
     "data": {
      "text/plain": [
       "False"
      ]
     },
     "execution_count": 42,
     "metadata": {},
     "output_type": "execute_result"
    }
   ],
   "source": [
    "#14\n",
    "a,b,c = 2,-7,-1\n",
    "print(a>0 and b<0 and c<0) or (a<0 and b>0 and c<0) or (a<0 and b<0 and c>0)"
   ]
  },
  {
   "cell_type": "code",
   "execution_count": 4,
   "id": "188fa007",
   "metadata": {},
   "outputs": [
    {
     "name": "stdout",
     "output_type": "stream",
     "text": [
      "True\n"
     ]
    }
   ],
   "source": [
    "#15\n",
    "a,b,c = 2,-5,8\n",
    "print((a<0 and b>0 and c>0) or (a>0 and b<0 and c>0) or (a<0 and b>0 and c<0))"
   ]
  },
  {
   "cell_type": "code",
   "execution_count": 5,
   "id": "b1e51508",
   "metadata": {},
   "outputs": [
    {
     "name": "stdout",
     "output_type": "stream",
     "text": [
      "True\n"
     ]
    }
   ],
   "source": [
    "#16\n",
    "a = 46\n",
    "print(9<a<100 and a%2==0)\n"
   ]
  },
  {
   "cell_type": "code",
   "execution_count": 23,
   "id": "398de673",
   "metadata": {},
   "outputs": [
    {
     "name": "stdout",
     "output_type": "stream",
     "text": [
      "True\n"
     ]
    }
   ],
   "source": [
    "#17\n",
    "a = 345\n",
    "print(99<a<1000 and a%2!=0)\n"
   ]
  },
  {
   "cell_type": "code",
   "execution_count": 24,
   "id": "cbde5e26",
   "metadata": {},
   "outputs": [
    {
     "name": "stdout",
     "output_type": "stream",
     "text": [
      "True\n"
     ]
    }
   ],
   "source": [
    "#18\n",
    "a = 3\n",
    "b = 9\n",
    "c = 3\n",
    "print(a==b or a==c or b==c)\n"
   ]
  },
  {
   "cell_type": "code",
   "execution_count": 26,
   "id": "d7de0cea",
   "metadata": {},
   "outputs": [
    {
     "name": "stdout",
     "output_type": "stream",
     "text": [
      "True\n"
     ]
    }
   ],
   "source": [
    "#19\n",
    "a,b,c = 3,6,-3\n",
    "print(a==-b or a==-c or b==-c)\n"
   ]
  },
  {
   "cell_type": "code",
   "execution_count": 27,
   "id": "73b1f519",
   "metadata": {},
   "outputs": [
    {
     "name": "stdout",
     "output_type": "stream",
     "text": [
      "True\n"
     ]
    }
   ],
   "source": [
    "#20\n",
    "a = 457\n",
    "yuz = a//100\n",
    "on =  a%100//10\n",
    "bir = a%10\n",
    "print(yuz!=on and yuz!=bir and on!=bir)"
   ]
  },
  {
   "cell_type": "code",
   "execution_count": 7,
   "id": "e4c3a228",
   "metadata": {},
   "outputs": [
    {
     "name": "stdout",
     "output_type": "stream",
     "text": [
      "True\n"
     ]
    }
   ],
   "source": [
    "#21\n",
    "a = 367\n",
    "yuz = a//100\n",
    "on =  a%100//10\n",
    "bir = a%10\n",
    "print(yuz<on<bir)"
   ]
  },
  {
   "cell_type": "code",
   "execution_count": 8,
   "id": "da4a2012",
   "metadata": {},
   "outputs": [
    {
     "name": "stdout",
     "output_type": "stream",
     "text": [
      "True\n"
     ]
    }
   ],
   "source": [
    "#22\n",
    "a = 321\n",
    "yuz = a//100\n",
    "on =  a%100//10\n",
    "bir = a%10\n",
    "print(yuz<on<bir or bir<on<yuz)\n"
   ]
  },
  {
   "cell_type": "code",
   "execution_count": 30,
   "id": "63ad7e1e",
   "metadata": {},
   "outputs": [
    {
     "name": "stdout",
     "output_type": "stream",
     "text": [
      "True\n"
     ]
    }
   ],
   "source": [
    "#23\n",
    "a = 525\n",
    "yuz = a//100\n",
    "on =  a%100//10\n",
    "bir = a%10\n",
    "print(yuz==bir)"
   ]
  },
  {
   "cell_type": "code",
   "execution_count": 34,
   "id": "88a475fa",
   "metadata": {},
   "outputs": [
    {
     "name": "stdout",
     "output_type": "stream",
     "text": [
      "True\n"
     ]
    }
   ],
   "source": [
    "#24\n",
    "from math import sqrt\n",
    "a = 1\n",
    "b = 5\n",
    "c = 2\n",
    "d = b**2 - 4*a*c\n",
    "x1 = (-b + sqrt(d))/2*a\n",
    "x2 = (-b - sqrt(d))/2*a\n",
    "print((a*(x1**2) + b*x1 + c == 0) or (a*(x2**2) + b*x2 + c == 0))"
   ]
  },
  {
   "cell_type": "code",
   "execution_count": 9,
   "id": "cef46b67",
   "metadata": {},
   "outputs": [
    {
     "name": "stdout",
     "output_type": "stream",
     "text": [
      "True\n"
     ]
    }
   ],
   "source": [
    "#25\n",
    "x,y = -4,7\n",
    "print(x<0 and y>0)\n"
   ]
  },
  {
   "cell_type": "code",
   "execution_count": 10,
   "id": "03232d5e",
   "metadata": {},
   "outputs": [
    {
     "name": "stdout",
     "output_type": "stream",
     "text": [
      "True\n"
     ]
    }
   ],
   "source": [
    "#26\n",
    "x,y = 4,-7\n",
    "print(x>0 and y<0)\n"
   ]
  },
  {
   "cell_type": "code",
   "execution_count": 11,
   "id": "bdf5c2eb",
   "metadata": {},
   "outputs": [
    {
     "name": "stdout",
     "output_type": "stream",
     "text": [
      "True\n"
     ]
    }
   ],
   "source": [
    "#27\n",
    "x,y = -4,7\n",
    "print((x<0 and y>0) or (x<0 and y<0))\n"
   ]
  },
  {
   "cell_type": "code",
   "execution_count": 12,
   "id": "4c96d5fc",
   "metadata": {},
   "outputs": [
    {
     "name": "stdout",
     "output_type": "stream",
     "text": [
      "True\n"
     ]
    }
   ],
   "source": [
    "#28\n",
    "x,y = 4,7\n",
    "print((x>0 and y>0) or (x<0 and y<0))\n"
   ]
  },
  {
   "cell_type": "code",
   "execution_count": 14,
   "id": "1d6cedc5",
   "metadata": {},
   "outputs": [
    {
     "name": "stdout",
     "output_type": "stream",
     "text": [
      "True\n"
     ]
    }
   ],
   "source": [
    "#29\n",
    "x,y = 5,4\n",
    "x1,y1 = 1,5\n",
    "x2,y2 = 7,2\n",
    "\n",
    "print(y<=y1 and x<=x2)\n"
   ]
  },
  {
   "cell_type": "code",
   "execution_count": 43,
   "id": "7f03192b",
   "metadata": {},
   "outputs": [
    {
     "name": "stdout",
     "output_type": "stream",
     "text": [
      "True\n"
     ]
    }
   ],
   "source": [
    "#30\n",
    "a,b,c = 2,2,2\n",
    "print(a==b==c)"
   ]
  },
  {
   "cell_type": "code",
   "execution_count": 46,
   "id": "b947bd5e",
   "metadata": {},
   "outputs": [
    {
     "name": "stdout",
     "output_type": "stream",
     "text": [
      "True\n"
     ]
    }
   ],
   "source": [
    "#31\n",
    "a,b,c = 3,5,3\n",
    "print(a==b or a==c or b==c)"
   ]
  },
  {
   "cell_type": "code",
   "execution_count": 48,
   "id": "a37d8bd8",
   "metadata": {},
   "outputs": [
    {
     "name": "stdout",
     "output_type": "stream",
     "text": [
      "True\n"
     ]
    }
   ],
   "source": [
    "#32\n",
    "a,b,c = 3,5,4\n",
    "print(c == sqrt(a**2 + b**2) or a == sqrt(b**2 + c**2) or b == sqrt(a**2 + c**2))"
   ]
  },
  {
   "cell_type": "code",
   "execution_count": 49,
   "id": "e1691fca",
   "metadata": {},
   "outputs": [
    {
     "name": "stdout",
     "output_type": "stream",
     "text": [
      "True\n"
     ]
    }
   ],
   "source": [
    "#33\n",
    "a,b,c = 3,5,4\n",
    "print(a+b>c or c+b>a or a+c>b)\n"
   ]
  },
  {
   "cell_type": "code",
   "execution_count": 50,
   "id": "78352ae9",
   "metadata": {},
   "outputs": [
    {
     "name": "stdout",
     "output_type": "stream",
     "text": [
      "True\n"
     ]
    }
   ],
   "source": [
    "#34\n",
    "a,b = 3,4\n",
    "print((a+b)%2!=0)\n"
   ]
  },
  {
   "cell_type": "code",
   "execution_count": 53,
   "id": "e20e0ea9",
   "metadata": {},
   "outputs": [
    {
     "name": "stdout",
     "output_type": "stream",
     "text": [
      "True\n"
     ]
    }
   ],
   "source": [
    "#35\n",
    "a,b = 1,5\n",
    "c,d = 2,8\n",
    "print(((a+b)%2==0 and (c+d)%2==0) or ((a+b)%2!=0 and (c+d)%2!=0))"
   ]
  },
  {
   "cell_type": "code",
   "execution_count": 15,
   "id": "60e71fa7",
   "metadata": {},
   "outputs": [
    {
     "name": "stdout",
     "output_type": "stream",
     "text": [
      "True\n"
     ]
    }
   ],
   "source": [
    "#36\n",
    "x1,y1 = 6,2\n",
    "x2,y2 = 6,8\n",
    "print(x1==x2 or y1==y2)"
   ]
  },
  {
   "cell_type": "code",
   "execution_count": 40,
   "id": "54331822",
   "metadata": {},
   "outputs": [
    {
     "name": "stdout",
     "output_type": "stream",
     "text": [
      "True\n"
     ]
    }
   ],
   "source": [
    "#37\n",
    "x1,y1 = 4,4\n",
    "x2,y2 = 5,3\n",
    "\n",
    "print(x2-1<=x1<=x2+1 and y2-1<=y1<=y2+1)"
   ]
  },
  {
   "cell_type": "code",
   "execution_count": 34,
   "id": "020cdc89",
   "metadata": {},
   "outputs": [
    {
     "name": "stdout",
     "output_type": "stream",
     "text": [
      "True\n"
     ]
    }
   ],
   "source": [
    "#38\n",
    "x1,y1 = 6,4\n",
    "x2,y2 = 7,5\n",
    "print(abs(x1-x2)==abs(y1-y2))\n"
   ]
  },
  {
   "cell_type": "code",
   "execution_count": 41,
   "id": "b7dbfa88",
   "metadata": {},
   "outputs": [
    {
     "name": "stdout",
     "output_type": "stream",
     "text": [
      "True\n"
     ]
    }
   ],
   "source": [
    "#39\n",
    "x1,y1 = 6,2\n",
    "x2,y2 =1,7\n",
    "\n",
    "print(x1==x2 or y1==y2 or (abs(x1-x2)==abs(y1-y2)))\n",
    "    "
   ]
  },
  {
   "cell_type": "code",
   "execution_count": 28,
   "id": "6d3631ae",
   "metadata": {},
   "outputs": [
    {
     "name": "stdout",
     "output_type": "stream",
     "text": [
      "True\n"
     ]
    }
   ],
   "source": [
    "#40\n",
    "x1,y1 = 5,4\n",
    "x2,y2 = 7,3\n",
    "print((x1-x2)**2 + (y1-y2)**2 == 5)\n",
    "\n",
    "    "
   ]
  }
 ],
 "metadata": {
  "kernelspec": {
   "display_name": "Python 3 (ipykernel)",
   "language": "python",
   "name": "python3"
  },
  "language_info": {
   "codemirror_mode": {
    "name": "ipython",
    "version": 3
   },
   "file_extension": ".py",
   "mimetype": "text/x-python",
   "name": "python",
   "nbconvert_exporter": "python",
   "pygments_lexer": "ipython3",
   "version": "3.9.8"
  }
 },
 "nbformat": 4,
 "nbformat_minor": 5
}
