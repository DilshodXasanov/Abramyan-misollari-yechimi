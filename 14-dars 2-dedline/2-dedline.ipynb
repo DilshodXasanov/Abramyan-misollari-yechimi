{
 "cells": [
  {
   "cell_type": "markdown",
   "id": "1e0ac03f",
   "metadata": {},
   "source": [
    "# 30/03/2022\n",
    "# Sotivoldiyev Farruxbek\n",
    "\n",
    "# 2 - nazorat ishi"
   ]
  },
  {
   "cell_type": "markdown",
   "id": "d4d79aa4",
   "metadata": {},
   "source": [
    "# Imtihon 2 soat davom etadi:\n",
    "20:30-22:30\n",
    "\n",
    "Kodlar adminga shu vaqt oralig'ida jo'natiladi. Natijalarni Payshanba kuni e'lon qilamiz!\n",
    "\n",
    "1. S = 1/-n + 1/-(n-1) + 1/-(n-2) +...+ 1/(n-2) + 1/(n-1) + 1/n n kiritilgan tepadagi ketma-ketlikni hisoblovchi dastur tuzing.\n",
    "\n",
    "2. /,% va // amallarisiz a ni b ga bo'lgandagi butun qismi va qoldiq qismini topuvchi dastur tuzing.\n",
    "\n",
    "3. N berilgan , Nta sonning EKUK ini topuvchi dastur tuzing.Funksiya bilan ishlanishi kerak. \n",
    "\n",
    "4. Nta son berilgan,Nta son ichidan 1-uchragan va oxirigi uchragan maximum elementlarning indexini toping,agar maximum element faqat bitta bo'lsa shu bitta elementning indeksi chiqishi kerak. \n",
    "\n",
    "5. Nta son berilgan shu Nta sonning eng katta 3 tasini topuvchi dastur tuzing.\n"
   ]
  },
  {
   "cell_type": "code",
   "execution_count": 8,
   "id": "7083af88",
   "metadata": {},
   "outputs": [
    {
     "name": "stdout",
     "output_type": "stream",
     "text": [
      "n = 3\n",
      "5.551115123125783e-17\n"
     ]
    }
   ],
   "source": [
    "# 1-savol\n",
    "n = int(input(\"n = \"))\n",
    "s = 0\n",
    "for i in range(-n,n+1):\n",
    "    if i == 0:\n",
    "        continue\n",
    "    s += 1 / i\n",
    "print(s)"
   ]
  },
  {
   "cell_type": "code",
   "execution_count": 17,
   "id": "6698444a",
   "metadata": {},
   "outputs": [
    {
     "name": "stdout",
     "output_type": "stream",
     "text": [
      "a = 6\n",
      "b = 4\n",
      "Butun: 1 \n",
      "Qoldiq: 2\n"
     ]
    }
   ],
   "source": [
    "# 2-savol\n",
    "a = int(input(\"a = \"))\n",
    "b = int(input(\"b = \"))\n",
    "k = 0\n",
    "while b <= a:\n",
    "    a -= b\n",
    "    k += 1\n",
    "print(\"Butun:\",k,\"\\nQoldiq:\",a)"
   ]
  },
  {
   "cell_type": "code",
   "execution_count": 35,
   "id": "d20aed5a",
   "metadata": {},
   "outputs": [
    {
     "name": "stdout",
     "output_type": "stream",
     "text": [
      "N = 3\n",
      "k1 = 45\n",
      "k2 = 30\n",
      "k3 = 60\n",
      "180\n"
     ]
    }
   ],
   "source": [
    "# 3-savol\n",
    "def Ekuk(a,b):\n",
    "    p = a * b\n",
    "    while a!=b:\n",
    "        if a > b:\n",
    "            a %= b\n",
    "        else:\n",
    "            b %= a\n",
    "            \n",
    "        if a==0:\n",
    "            a = b\n",
    "        if b==0:\n",
    "            b = a\n",
    "    return p // a\n",
    "\n",
    "def NEkuk(n):\n",
    "    for i in range(1,n+1):\n",
    "        k = int(input(f\"k{i} = \"))\n",
    "        if i==1:\n",
    "            ekuk = k\n",
    "        else:\n",
    "            ekuk = Ekuk(ekuk,k)\n",
    "    return ekuk\n",
    "\n",
    "n = int(input(\"N = \"))\n",
    "print(NEkuk(n))"
   ]
  },
  {
   "cell_type": "code",
   "execution_count": 43,
   "id": "6cbb3346",
   "metadata": {},
   "outputs": [
    {
     "name": "stdout",
     "output_type": "stream",
     "text": [
      "n = 5\n",
      "k1 = 2\n",
      "k2 = 8\n",
      "k3 = 9\n",
      "k4 = 9\n",
      "k5 = 6\n",
      "3 4\n"
     ]
    }
   ],
   "source": [
    "# 4-savol\n",
    "n = int(input(\"n = \"))\n",
    "for i in range(1,n+1):\n",
    "    k = int(input(f\"k{i} = \"))\n",
    "    if i == 1:\n",
    "        maxi = k\n",
    "        index = 1\n",
    "        continue\n",
    "    if maxi < k:\n",
    "        maxi = k\n",
    "        index1 = i\n",
    "    if maxi <= k:\n",
    "        maxi = k\n",
    "        index2 = i\n",
    "        \n",
    "if index1 == index2:\n",
    "    print(index1)\n",
    "else:\n",
    "    print(index1,index2)"
   ]
  },
  {
   "cell_type": "code",
   "execution_count": 47,
   "id": "4afa3d8d",
   "metadata": {},
   "outputs": [
    {
     "name": "stdout",
     "output_type": "stream",
     "text": [
      "n = 6\n",
      "a1 = 5\n",
      "a2 = 9\n",
      "a3 = 7\n",
      "a4 = 20\n",
      "a5 = 6\n",
      "a6 = 5\n",
      "7 9 20\n"
     ]
    }
   ],
   "source": [
    "# 5-savol\n",
    "n = int(input(\"n = \"))\n",
    "\n",
    "max1 = int(input(\"a1 = \"))\n",
    "max2 = int(input(\"a2 = \"))\n",
    "max3 = int(input(\"a3 = \"))\n",
    "\n",
    "if max1 <= max2:\n",
    "    max1,max2 = max2,max1\n",
    "if max1 <= max3:\n",
    "    max1,max3 = max3,max1\n",
    "if max2 <= max3:\n",
    "    max2,max3 = max3,max2\n",
    "    \n",
    "for i in range(4,n+1):\n",
    "    a = int(input(f\"a{i} = \"))\n",
    "    if a > max1:\n",
    "        max3 = max2\n",
    "        max2 = max1\n",
    "        max1 = a\n",
    "    elif max1 >= a and a>max2:\n",
    "        max3 = max2\n",
    "        max2 = a\n",
    "    elif a <= max2 and a > max3:\n",
    "        max3 = a\n",
    "print(max3,max2,max1)"
   ]
  }
 ],
 "metadata": {
  "kernelspec": {
   "display_name": "Python 3 (ipykernel)",
   "language": "python",
   "name": "python3"
  },
  "language_info": {
   "codemirror_mode": {
    "name": "ipython",
    "version": 3
   },
   "file_extension": ".py",
   "mimetype": "text/x-python",
   "name": "python",
   "nbconvert_exporter": "python",
   "pygments_lexer": "ipython3",
   "version": "3.10.3"
  }
 },
 "nbformat": 4,
 "nbformat_minor": 5
}
