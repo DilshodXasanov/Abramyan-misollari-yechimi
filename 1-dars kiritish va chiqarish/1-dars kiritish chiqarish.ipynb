{
 "cells": [
  {
   "cell_type": "markdown",
   "id": "e720cf19",
   "metadata": {},
   "source": [
    "# 11/02/2022\n",
    "\n",
    "# Python asoslari\n",
    "\n",
    "# 1-dars: Kiritish va chiqarish\n",
    "\n",
    "# Muallif: Farrux Sotivoldiyev\n"
   ]
  },
  {
   "cell_type": "code",
   "execution_count": 1,
   "id": "42d7f493",
   "metadata": {},
   "outputs": [
    {
     "name": "stdout",
     "output_type": "stream",
     "text": [
      "36\n"
     ]
    }
   ],
   "source": [
    "#1\n",
    "a = 9\n",
    "p = 4 * a\n",
    "print(p)"
   ]
  },
  {
   "cell_type": "code",
   "execution_count": 2,
   "id": "c432220b",
   "metadata": {},
   "outputs": [
    {
     "name": "stdout",
     "output_type": "stream",
     "text": [
      "49\n"
     ]
    }
   ],
   "source": [
    "#2\n",
    "a = 7\n",
    "s = a ** 2\n",
    "print(s)"
   ]
  },
  {
   "cell_type": "code",
   "execution_count": 5,
   "id": "1d9a6a27",
   "metadata": {},
   "outputs": [
    {
     "name": "stdout",
     "output_type": "stream",
     "text": [
      "yuzi = 30 perimetri = 22\n"
     ]
    }
   ],
   "source": [
    "#3\n",
    "a = 5\n",
    "b = 6\n",
    "s =  a * b\n",
    "p = 2 *(a+b)\n",
    "print(f\"yuzi = {s} perimetri = {p}\")"
   ]
  },
  {
   "cell_type": "code",
   "execution_count": 6,
   "id": "210e6ec9",
   "metadata": {},
   "outputs": [
    {
     "name": "stdout",
     "output_type": "stream",
     "text": [
      "21.991148575128552\n"
     ]
    }
   ],
   "source": [
    "#4\n",
    "from math import pi\n",
    "d = 7\n",
    "l = pi * d\n",
    "print(l)"
   ]
  },
  {
   "cell_type": "code",
   "execution_count": 1,
   "id": "85acdbce",
   "metadata": {},
   "outputs": [
    {
     "name": "stdout",
     "output_type": "stream",
     "text": [
      "Hajmi: 512 Tola sirti: 384\n"
     ]
    }
   ],
   "source": [
    "#5\n",
    "a = 8\n",
    "v = a**3\n",
    "s = 6 * a**2\n",
    "print(f\"Hajmi: {v} Tola sirti: {s}\")\n"
   ]
  },
  {
   "cell_type": "code",
   "execution_count": 2,
   "id": "e6621f12",
   "metadata": {},
   "outputs": [
    {
     "name": "stdout",
     "output_type": "stream",
     "text": [
      "Hajmi: 135 Tola sirti: 174\n"
     ]
    }
   ],
   "source": [
    "#6\n",
    "a,b,c = 3,5,9\n",
    "v = a * b * c\n",
    "s = 2 * (a*b + b*c + a*c)\n",
    "print(f\"Hajmi: {v} Tola sirti: {s}\")"
   ]
  },
  {
   "cell_type": "code",
   "execution_count": 3,
   "id": "cb32bcd3",
   "metadata": {},
   "outputs": [
    {
     "name": "stdout",
     "output_type": "stream",
     "text": [
      "uzunligi: 37.69911184307752 yuzi: 113.09733552923255\n"
     ]
    }
   ],
   "source": [
    "#7\n",
    "from math import pi\n",
    "r = 6\n",
    "l = 2 * pi * r\n",
    "s = pi * r**2\n",
    "print(f\"uzunligi: {l} yuzi: {s}\")"
   ]
  },
  {
   "cell_type": "code",
   "execution_count": 4,
   "id": "bb6089c5",
   "metadata": {},
   "outputs": [
    {
     "name": "stdout",
     "output_type": "stream",
     "text": [
      "A =  6.0\n"
     ]
    }
   ],
   "source": [
    "#8\n",
    "a = 4\n",
    "b = 8\n",
    "A = (a + b)/2\n",
    "print(\"A = \",A)"
   ]
  },
  {
   "cell_type": "code",
   "execution_count": 6,
   "id": "3b5a70ab",
   "metadata": {},
   "outputs": [
    {
     "name": "stdout",
     "output_type": "stream",
     "text": [
      "G =  3.4641016151377544\n"
     ]
    }
   ],
   "source": [
    "#9\n",
    "from math import sqrt\n",
    "a = 2\n",
    "b = 6\n",
    "G = sqrt(a * b)\n",
    "print(\"G = \",G)"
   ]
  },
  {
   "cell_type": "code",
   "execution_count": 9,
   "id": "ebd69b11",
   "metadata": {},
   "outputs": [
    {
     "name": "stdout",
     "output_type": "stream",
     "text": [
      "yegindi: 11 \n",
      "kopaytma: 18 \n",
      "a^2 = 4 \n",
      "b^2 = 81\n"
     ]
    }
   ],
   "source": [
    "#10\n",
    "a = 2\n",
    "b = 9\n",
    "Y = a + b\n",
    "K = a * b\n",
    "a = a**2\n",
    "b = b**2\n",
    "print(f\"yegindi: {Y} \\nkopaytma: {K} \\na^2 = {a} \\nb^2 = {b}\")\n",
    "\n"
   ]
  },
  {
   "cell_type": "code",
   "execution_count": 4,
   "id": "f8b0584a",
   "metadata": {},
   "outputs": [
    {
     "name": "stdout",
     "output_type": "stream",
     "text": [
      "gipotenuza: 5.0 \n",
      "perimetr: 12.0\n"
     ]
    }
   ],
   "source": [
    "#12\n",
    "from math import sqrt\n",
    "a = 3\n",
    "b = 4\n",
    "c = sqrt(a**2 + b**2)\n",
    "p = a + b +c\n",
    "print(f\"gipotenuza: {c} \\nperimetr: {p}\")\n"
   ]
  },
  {
   "cell_type": "code",
   "execution_count": 5,
   "id": "e1b3bfc6",
   "metadata": {},
   "outputs": [
    {
     "name": "stdout",
     "output_type": "stream",
     "text": [
      "s1= 28.274333882308138 s2= 15.707963267948966 s3= 12.566370614359172\n"
     ]
    }
   ],
   "source": [
    "#13\n",
    "from math import pi\n",
    "R1 = 9\n",
    "R2 = 5\n",
    "s1 = pi * R1\n",
    "s2 = pi * R2\n",
    "s3 = pi * (R1 - R2)\n",
    "print(f\"s1= {s1} s2= {s2} s3= {s3}\")"
   ]
  },
  {
   "cell_type": "code",
   "execution_count": 7,
   "id": "421f6851",
   "metadata": {},
   "outputs": [
    {
     "name": "stdout",
     "output_type": "stream",
     "text": [
      "AC = 4.47 \n",
      "BC = 1.41 \n",
      "kesmalar uzunligi: 5.89\n"
     ]
    }
   ],
   "source": [
    "#17\n",
    "ax , ay = 5 , 3\n",
    "bx , by = 2 , 4\n",
    "cx , cy = 1 , 5\n",
    "ac = sqrt((cx-ax)**2 + (cy-ay)**2)\n",
    "bc = sqrt((cx-bx)**2 + (cy-by)**2)\n",
    "uzunlik = ac + bc\n",
    "print(f\"AC = {ac:.2f} \\nBC = {bc:.2f} \\nkesmalar uzunligi: {uzunlik:.2f}\")\n",
    "\n"
   ]
  },
  {
   "cell_type": "code",
   "execution_count": 3,
   "id": "098c6d41",
   "metadata": {},
   "outputs": [
    {
     "name": "stdout",
     "output_type": "stream",
     "text": [
      "yuzasi: 2.999999999999998 \n",
      " perimetri: 5.492684515482729\n"
     ]
    }
   ],
   "source": [
    "#21\n",
    "from math import sqrt\n",
    "x1,y1 = 2,3\n",
    "x2,y2 = 1,4 \n",
    "x3,y3 = 6,5\n",
    "a = sqrt((x2-x1)**2 + (y2-y1)**2)\n",
    "b = sqrt((x3-x2)**2 + (y3-y2)**2)\n",
    "c = sqrt((x1-x3)**2 + (y1-y3)**2)\n",
    "p = (a+b+c)/2\n",
    "s = sqrt(p*(p-a)*(p-b)*(p-c))\n",
    "print(f\"yuzasi: {s} \\n perimetri: {p}\")\n",
    "\n",
    "\n"
   ]
  },
  {
   "cell_type": "code",
   "execution_count": 13,
   "id": "aa5cf0ed",
   "metadata": {},
   "outputs": [
    {
     "name": "stdout",
     "output_type": "stream",
     "text": [
      "a = 5 b = 2\n",
      "a = 5 b = 2\n"
     ]
    }
   ],
   "source": [
    "#22\n",
    "#1-usul\n",
    "a = 2\n",
    "b = 5\n",
    "a = int(a*b)\n",
    "b = int(a/b)\n",
    "a = int(a/b)\n",
    "print(f\"a = {a} b = {b}\")\n",
    "#2-usul\n",
    "a = 2\n",
    "b = 5\n",
    "a = a+b\n",
    "b = a-b\n",
    "a = a-b\n",
    "print(f\"a = {a} b = {b}\")"
   ]
  },
  {
   "cell_type": "code",
   "execution_count": 8,
   "id": "ceb51bd3",
   "metadata": {},
   "outputs": [
    {
     "name": "stdout",
     "output_type": "stream",
     "text": [
      "7 2 3\n"
     ]
    }
   ],
   "source": [
    "#23\n",
    "a = 7\n",
    "b = 3\n",
    "c = 2\n",
    "a = a+b+c\n",
    "c = a-(b+c)\n",
    "b = a-(b+c)\n",
    "a = a-(b+c)\n",
    "\n",
    "print(c,b,a)"
   ]
  },
  {
   "cell_type": "code",
   "execution_count": 10,
   "id": "29c4508d",
   "metadata": {},
   "outputs": [
    {
     "name": "stdout",
     "output_type": "stream",
     "text": [
      "7 3 2\n"
     ]
    }
   ],
   "source": [
    "#24\n",
    "a = 7\n",
    "b = 2\n",
    "c = 3\n",
    "a = a+b+c\n",
    "c = a-(b+c)\n",
    "b = a-(b+c)\n",
    "a = a-(b+c)\n",
    "print(c,b,a)"
   ]
  },
  {
   "cell_type": "code",
   "execution_count": 1,
   "id": "88a5b2d6",
   "metadata": {},
   "outputs": [
    {
     "name": "stdout",
     "output_type": "stream",
     "text": [
      "y = 202\n"
     ]
    }
   ],
   "source": [
    "#25\n",
    "x = 5\n",
    "y = 4*((x-3)**6) - 7*((x-3)**3) + 2\n",
    "print(f\"y = {y}\")\n"
   ]
  },
  {
   "cell_type": "code",
   "execution_count": 4,
   "id": "3ef58744",
   "metadata": {},
   "outputs": [
    {
     "name": "stdout",
     "output_type": "stream",
     "text": [
      "a^2=9\n",
      "a^3=81\n",
      "a^8=6561\n"
     ]
    }
   ],
   "source": [
    "#27\n",
    "a = 3\n",
    "print(f\"a^2={a**2}\\na^3={a**4}\\na^8={a**8}\")"
   ]
  },
  {
   "cell_type": "code",
   "execution_count": 6,
   "id": "d7353c77",
   "metadata": {},
   "outputs": [
    {
     "name": "stdout",
     "output_type": "stream",
     "text": [
      "4.71238898038469 -> 270.0 gradusga teng\n"
     ]
    }
   ],
   "source": [
    "#30\n",
    "from math import pi\n",
    "radian = (3*pi)/2\n",
    "gradus = radian * (180/pi)\n",
    "print(f\"{radian} -> {gradus} gradusga teng\")"
   ]
  },
  {
   "cell_type": "code",
   "execution_count": 9,
   "id": "d2443ac8",
   "metadata": {},
   "outputs": [
    {
     "name": "stdout",
     "output_type": "stream",
     "text": [
      "Teperaturani gradus selsiyda kiriting: 360\n",
      "K = 182.22222222222223\n"
     ]
    }
   ],
   "source": [
    "#32\n",
    "T = int(input(\"Teperaturani gradus selsiyda kiriting: \"))\n",
    "K = (T-32)*5/9\n",
    "print(\"K =\",K)"
   ]
  },
  {
   "cell_type": "code",
   "execution_count": 12,
   "id": "2cc6acfb",
   "metadata": {},
   "outputs": [
    {
     "name": "stdout",
     "output_type": "stream",
     "text": [
      "1 kg shokolad 1 kg konfetdan 300 so'm qimmat\n"
     ]
    }
   ],
   "source": [
    "#34\n",
    "x = 4  \n",
    "xnarx = 6000\n",
    "xbir = xnarx/x\n",
    "y = 3\n",
    "ynarx = 3600 \n",
    "ybir = ynarx/y\n",
    "print(f\"1 kg shokolad 1 kg konfetdan {int(xbir-ybir)} so'm qimmat\")\n"
   ]
  },
  {
   "cell_type": "code",
   "execution_count": 30,
   "id": "3775f3b1",
   "metadata": {},
   "outputs": [
    {
     "name": "stdout",
     "output_type": "stream",
     "text": [
      "Qayiqni yurgan yollari:\n",
      "oqim boylab: 90.0\n",
      "oqimga qarshi: 10.0\n"
     ]
    }
   ],
   "source": [
    "#35\n",
    "vq = 100 #km/soat\n",
    "vo = 80 #km/soat\n",
    "t = 2 #soat\n",
    "toq = 4 #soat\n",
    "sob = (vq + vo)/t\n",
    "soq = (vq - vo)/t\n",
    "print(f\"Qayiqni yurgan yollari:\\noqim boylab: {sob}\\noqimga qarshi: {soq}\")"
   ]
  },
  {
   "cell_type": "code",
   "execution_count": 27,
   "id": "a6a78844",
   "metadata": {},
   "outputs": [
    {
     "name": "stdout",
     "output_type": "stream",
     "text": [
      "Ular orasidagi masofa: 200km\n"
     ]
    }
   ],
   "source": [
    "#36\n",
    "v1 = 120 #km/soat\n",
    "v2 = 180 #km/soat\n",
    "t = 2 #soat\n",
    "s = 800 #km\n",
    "S = s - (v1*t + v2*t)\n",
    "print(f\"Ular orasidagi masofa: {S}km\")\n"
   ]
  },
  {
   "cell_type": "code",
   "execution_count": 31,
   "id": "5c2ce51c",
   "metadata": {},
   "outputs": [
    {
     "name": "stdout",
     "output_type": "stream",
     "text": [
      "x = -1.6\n"
     ]
    }
   ],
   "source": [
    "#38\n",
    "a = 5\n",
    "b = 8\n",
    "# AX + B = 0\n",
    "print(\"x =\",(-b/a))"
   ]
  },
  {
   "cell_type": "code",
   "execution_count": 32,
   "id": "f4121d6a",
   "metadata": {},
   "outputs": [
    {
     "name": "stdout",
     "output_type": "stream",
     "text": [
      "x1 = -64.0\n",
      "x2 = 52.0\n"
     ]
    }
   ],
   "source": [
    "#39\n",
    "from math import sqrt\n",
    "a  = 4\n",
    "b = 3\n",
    "c = 2\n",
    "D = sqrt(b**2)-(4*a*c)\n",
    "x1 = (-b + D)/2*a\n",
    "x2 = (-b - D)/2*a\n",
    "print(f\"x1 = {x1}\\nx2 = {x2}\")"
   ]
  },
  {
   "cell_type": "code",
   "execution_count": 33,
   "id": "34873797",
   "metadata": {},
   "outputs": [
    {
     "name": "stdout",
     "output_type": "stream",
     "text": [
      "x = -4.666666666666667\n",
      "y = 1.6666666666666667\n"
     ]
    }
   ],
   "source": [
    "#40\n",
    "a1,b1,c1 = 2,8,4\n",
    "a2,b2,c2 = 3,9,1\n",
    "# A1*x + B1*y = C1\n",
    "# A2*x + B2*y = C2\n",
    "D = (a1*b2 - a2*b1)\n",
    "x = (c1*b2 - c2*b1)/D\n",
    "y = (a1*c2 - a2*c1)/D\n",
    "print(f\"x = {x}\\ny = {y}\")\n"
   ]
  },
  {
   "cell_type": "markdown",
   "id": "a2ea560d",
   "metadata": {},
   "source": [
    "# Qo'shimcha misollar"
   ]
  },
  {
   "cell_type": "code",
   "execution_count": 22,
   "id": "318b095d",
   "metadata": {},
   "outputs": [
    {
     "name": "stdout",
     "output_type": "stream",
     "text": [
      "a = 45.2\n",
      "45\n"
     ]
    }
   ],
   "source": [
    "#float sonni int ga o'tkazish\n",
    "a = int(float(input(\"a = \")))\n",
    "print(a)"
   ]
  },
  {
   "cell_type": "code",
   "execution_count": 5,
   "id": "b403d94a",
   "metadata": {},
   "outputs": [
    {
     "name": "stdout",
     "output_type": "stream",
     "text": [
      "a = 2\n",
      "b = 3\n",
      "c = 4 \n",
      "d = 1\n"
     ]
    }
   ],
   "source": [
    "# darsdagi savol: a,b,c,d sonlarni bir biriga almshtirish\n",
    "a,b,c,d = 1,2,3,4\n",
    "a = a+b+c+d\n",
    "d = a-(b+c+d)\n",
    "c = a-(b+c+d)\n",
    "b = a-(b+c+d)\n",
    "a = a-(b+c+d)\n",
    "print(f\"a = {a}\\nb = {b}\\nc = {c} \\nd = {d}\")"
   ]
  },
  {
   "cell_type": "code",
   "execution_count": 7,
   "id": "37173513",
   "metadata": {},
   "outputs": [
    {
     "name": "stdout",
     "output_type": "stream",
     "text": [
      "kunni kiriting: 10\n",
      "1 haftayu 3 kun\n"
     ]
    }
   ],
   "source": [
    "#Kun kiritilsa uni hafta va kunga ajratish\n",
    "a = int(input(\"kunni kiriting: \"))\n",
    "print(f\"{a // 7} haftayu {a % 7} kun\")"
   ]
  },
  {
   "cell_type": "code",
   "execution_count": 12,
   "id": "9aed922e",
   "metadata": {},
   "outputs": [
    {
     "name": "stdout",
     "output_type": "stream",
     "text": [
      "kb = 1056\n",
      "mb = 1\n",
      "kb = 32\n"
     ]
    }
   ],
   "source": [
    "#Kb kiritilsa Mb va Kb ga bolish\n",
    "kb = int(input(\"kb = \"))\n",
    "mb = kb//1024\n",
    "k = kb-1024\n",
    "print(f\"mb = {mb}\\nkb = {k}\")"
   ]
  },
  {
   "cell_type": "code",
   "execution_count": 2,
   "id": "97aed0a7",
   "metadata": {},
   "outputs": [
    {
     "name": "stdout",
     "output_type": "stream",
     "text": [
      "a = 456\n",
      "654\n"
     ]
    }
   ],
   "source": [
    "# uch xonali sonni teskari tartibda chiqarish\n",
    "a = int(input(\"a = \"))\n",
    "yuz = a // 100\n",
    "on = a%100//10\n",
    "bir = a % 10\n",
    "print(bir*100+on*10+yuz*1)"
   ]
  },
  {
   "cell_type": "code",
   "execution_count": 19,
   "id": "4a262704",
   "metadata": {},
   "outputs": [
    {
     "name": "stdout",
     "output_type": "stream",
     "text": [
      "2 soat 0 minut 5 sek\n"
     ]
    }
   ],
   "source": [
    "#sekund kiritilsa soat,minut,sekundlarga bolish\n",
    "a = 7205\n",
    "soat = a //3600\n",
    "minut = a%3600//60 \n",
    "sek = a %60\n",
    "print(soat,\"soat\",minut,\"minut\",sek,\"sek\")"
   ]
  },
  {
   "cell_type": "code",
   "execution_count": null,
   "id": "bf2bf6a8",
   "metadata": {},
   "outputs": [],
   "source": []
  }
 ],
 "metadata": {
  "kernelspec": {
   "display_name": "Python 3 (ipykernel)",
   "language": "python",
   "name": "python3"
  },
  "language_info": {
   "codemirror_mode": {
    "name": "ipython",
    "version": 3
   },
   "file_extension": ".py",
   "mimetype": "text/x-python",
   "name": "python",
   "nbconvert_exporter": "python",
   "pygments_lexer": "ipython3",
   "version": "3.9.8"
  }
 },
 "nbformat": 4,
 "nbformat_minor": 5
}
