{
 "cells": [
  {
   "cell_type": "markdown",
   "id": "79f651c3",
   "metadata": {},
   "source": [
    "# 24/09/2022\n",
    "\n",
    "# Python asoslari\n",
    "\n",
    "# 29-dars : OOP\n",
    "\n",
    "# Muallif: Farrux Sotivoldiyev"
   ]
  },
  {
   "cell_type": "markdown",
   "id": "3b961639",
   "metadata": {},
   "source": [
    "**` Talaba haqida Class yaratish. `**"
   ]
  },
  {
   "cell_type": "code",
   "execution_count": 39,
   "id": "ae02e43f",
   "metadata": {},
   "outputs": [],
   "source": [
    "class Talaba:\n",
    "    \n",
    "    def __init__(self,ism,familya,talim_maskani,kurs,fakultet,yunalish,guruh,talim_turi,talim_shakli):\n",
    "        self.talim_maskani = talim_maskani\n",
    "        self.ismi = ism\n",
    "        self.familyasi = familya\n",
    "        self.kursi = kurs\n",
    "        self.fakulteti = fakultet\n",
    "        self.yunalishi = yunalish\n",
    "        self.guruhi = guruh\n",
    "        self.talim_turi = talim_turi\n",
    "        self.talim_shakli = talim_shakli\n",
    "        \n",
    "    def talim_maskanini_ozgartir(self,maskan):\n",
    "        self.talim_maskani = maskan\n",
    "        \n",
    "    def yuqori_kursga_otish(self):\n",
    "        if self.kursi=='Siz bitirdingiz':\n",
    "            self.kursi = 'Siz bitirdingiz'\n",
    "        elif self.kursi < 4:\n",
    "            self.kursi += 1\n",
    "        else:\n",
    "            self.kursi = 'Siz bitirdingiz'\n",
    "        \n",
    "    def kursdan_kursga_qolish(self):\n",
    "        if self.kursi=='Siz bitirdingiz':\n",
    "            self.kursi = \"Siz bitirdingiz\"\n",
    "        else:\n",
    "            self.kursi += 0\n",
    "        \n",
    "    def fakultetni_ozgartir(self,fakultetlar):\n",
    "        self.fakulteti = fakultetlar\n",
    "    \n",
    "    def yunalishni_ozgartir(self,yunalishlar):\n",
    "        self.yunalishi = yunalishlar\n",
    "        \n",
    "    def guruhni_uzgartir(self,guruhlar):\n",
    "        self.guruhi = guruhlar\n",
    "        \n",
    "    def talim_turini_ozgartir(self,turi):\n",
    "        self.talim_turi = turi\n",
    "        \n",
    "    def talim_shaklini_ozgartir(self,shakli):\n",
    "        self.talim_shakli = shakli\n",
    "        "
   ]
  },
  {
   "cell_type": "code",
   "execution_count": 53,
   "id": "f8f3053b",
   "metadata": {},
   "outputs": [],
   "source": [
    "a = Talaba(\"TATUFF\",\"Farruxbek\",\"Sotivoldiyev\",2,\"TT va KT\",\"Dasturiy injenering\",\"653-20\",\"Bakalavr\",\"Kunduzgi\")\n",
    "b = Talaba(\"Moliya\",\"Sherali\",\"Vohobov\",1,\"Moliya\",\"Bank ishi\",\"220A-21\",\"Magistr\",\"Kechki\")"
   ]
  },
  {
   "cell_type": "code",
   "execution_count": 54,
   "id": "278be54f",
   "metadata": {},
   "outputs": [
    {
     "name": "stdout",
     "output_type": "stream",
     "text": [
      "2\n",
      "2\n"
     ]
    }
   ],
   "source": [
    "print(a.kursi)\n",
    "a.kursdan_kursga_qolish()\n",
    "print(a.kursi)"
   ]
  },
  {
   "cell_type": "code",
   "execution_count": 55,
   "id": "b13006d6",
   "metadata": {},
   "outputs": [
    {
     "name": "stdout",
     "output_type": "stream",
     "text": [
      "2\n",
      "3\n"
     ]
    }
   ],
   "source": [
    "print(a.kursi)\n",
    "a.yuqori_kursga_otish()\n",
    "print(a.kursi)"
   ]
  },
  {
   "cell_type": "code",
   "execution_count": 56,
   "id": "375c2596",
   "metadata": {},
   "outputs": [
    {
     "name": "stdout",
     "output_type": "stream",
     "text": [
      "TT va KT\n",
      "KIF\n"
     ]
    }
   ],
   "source": [
    "print(a.fakulteti)\n",
    "a.fakultetni_ozgartir(\"KIF\")\n",
    "print(a.fakulteti)"
   ]
  },
  {
   "cell_type": "code",
   "execution_count": 57,
   "id": "3c4d91a5",
   "metadata": {},
   "outputs": [
    {
     "name": "stdout",
     "output_type": "stream",
     "text": [
      "Dasturiy injenering\n",
      "Axborot xavfsizligi\n"
     ]
    }
   ],
   "source": [
    "print(a.yunalishi)\n",
    "a.yunalishni_ozgartir(\"Axborot xavfsizligi\")\n",
    "print(a.yunalishi)"
   ]
  },
  {
   "cell_type": "code",
   "execution_count": 58,
   "id": "9727d6be",
   "metadata": {},
   "outputs": [
    {
     "name": "stdout",
     "output_type": "stream",
     "text": [
      "653-20\n",
      "610-20\n"
     ]
    }
   ],
   "source": [
    "print(a.guruhi)\n",
    "a.guruhni_uzgartir(\"610-20\")\n",
    "print(a.guruhi)"
   ]
  },
  {
   "cell_type": "code",
   "execution_count": 59,
   "id": "dcc74f2f",
   "metadata": {},
   "outputs": [
    {
     "name": "stdout",
     "output_type": "stream",
     "text": [
      "Bakalavr\n",
      "Magistratura\n"
     ]
    }
   ],
   "source": [
    "print(a.talim_turi)\n",
    "a.talim_turini_ozgartir(\"Magistratura\")\n",
    "print(a.talim_turi)"
   ]
  },
  {
   "cell_type": "code",
   "execution_count": 60,
   "id": "7fc4605c",
   "metadata": {},
   "outputs": [
    {
     "name": "stdout",
     "output_type": "stream",
     "text": [
      "Kunduzgi\n",
      "Sirtqi\n"
     ]
    }
   ],
   "source": [
    "print(a.talim_shakli)\n",
    "a.talim_shaklini_ozgartir(\"Sirtqi\")\n",
    "print(a.talim_shakli)"
   ]
  },
  {
   "cell_type": "markdown",
   "id": "2fdf68d8",
   "metadata": {},
   "source": [
    "### Qo'shimcha."
   ]
  },
  {
   "cell_type": "code",
   "execution_count": 84,
   "id": "7837e204",
   "metadata": {},
   "outputs": [],
   "source": [
    "class Pul_birlik:\n",
    "    umumiy_pul_birlik = 'Dollar'\n",
    "    \n",
    "    def __init__(self,pul):\n",
    "        self.pul_birlik = pul\n",
    "    \n",
    "    def um_pul_bir_voz_kech1(self):\n",
    "        ichki_pul_birlik = \"So'm\"\n",
    "        self.umumiy_pul_birlik = ichki_pul_birlik\n",
    "        \n",
    "    def um_pul_bir_voz_kech2(self):\n",
    "        self.umumiy_pul_birlik = self.pul_birlik"
   ]
  },
  {
   "cell_type": "code",
   "execution_count": 85,
   "id": "ce2d7168",
   "metadata": {},
   "outputs": [
    {
     "data": {
      "text/plain": [
       "\"So'm\""
      ]
     },
     "execution_count": 85,
     "metadata": {},
     "output_type": "execute_result"
    }
   ],
   "source": [
    "a = Pul_birlik(\"Sum\")\n",
    "a.um_pul_bir_voz_kech1()\n",
    "a.umumiy_pul_birlik"
   ]
  },
  {
   "cell_type": "code",
   "execution_count": 86,
   "id": "84a60b6d",
   "metadata": {},
   "outputs": [
    {
     "data": {
      "text/plain": [
       "'Sum'"
      ]
     },
     "execution_count": 86,
     "metadata": {},
     "output_type": "execute_result"
    }
   ],
   "source": [
    "a.um_pul_bir_voz_kech2()\n",
    "a.umumiy_pul_birlik"
   ]
  },
  {
   "cell_type": "markdown",
   "id": "d588558a",
   "metadata": {},
   "source": [
    "# Classga obyekt jo'natish"
   ]
  },
  {
   "cell_type": "code",
   "execution_count": 15,
   "id": "d668e447",
   "metadata": {},
   "outputs": [],
   "source": [
    "class Futbolchi:\n",
    "    def __init__(self,ism,familya,yosh,narx,ampula,team):\n",
    "        self.__ismi = ism\n",
    "        self.__familyasi = familya\n",
    "        self.__yoshi = yosh\n",
    "        self.__narxi = narx\n",
    "        self.__ampulasi = ampula\n",
    "        self.__jamoasi = team\n",
    "    \n",
    "    def get_info(self):\n",
    "        return f\"Ism: {self.__ismi}\\nFamilyasi: {self.__familyasi}\\nYoshi: {self.__yoshi}\\nJamoasi: {self.__jamoasi}\\nAmpulasi: {self.__ampulasi}\"\n",
    "    \n",
    "    def get_tansfer_narx(self,new_team,transfer_narxi):\n",
    "        self.__jamoasi = new_team\n",
    "        self.__narxi = transfer_narxi\n",
    "        \n",
    "    def set_yoshi(self):\n",
    "        self.__yoshi += 1 \n",
    "        \n",
    "    def get_ism(self):\n",
    "        return self.__ismi\n",
    "    \n",
    "    def get_familya(self):\n",
    "        return self.__familyasi\n",
    "    \n",
    "    def get_yosh(self):\n",
    "        return self.__yoshi"
   ]
  },
  {
   "cell_type": "code",
   "execution_count": 21,
   "id": "90d535ea",
   "metadata": {},
   "outputs": [],
   "source": [
    "class UEFA:\n",
    "    def __init__(self,ism,familya,yoshi,oltin_top_soni):\n",
    "        self.__ism = ism\n",
    "        self.__familya = familya\n",
    "        self.__yoshi = yoshi\n",
    "        self.__oltin_top_soni = oltin_top_soni\n",
    "    \n",
    "    def update_oltin_top_soni(self):\n",
    "        self.__oltin_top_soni += 1\n",
    "        \n",
    "    def oltin_top_soni(self):\n",
    "        return self.__oltin_top_soni\n",
    "        \n",
    "    def get_info(self):\n",
    "        return f\"Ism: {self.__ism.get_ism()}\\nFamilyasi: {self.__familya.get_familya()}\\nYoshi: {self.__yoshi.get_yosh()}\\nOltin to'plar soni: {self.__oltin_top_soni}\""
   ]
  },
  {
   "cell_type": "code",
   "execution_count": 22,
   "id": "6a860446",
   "metadata": {},
   "outputs": [],
   "source": [
    "ronaldu = Futbolchi(\"Cristiano\",\"Ronaldu\",18,3000000,\"Hujumchi\",\"MYU\")\n",
    "ronaldu2 = UEFA(ronaldu,ronaldu,ronaldu,5)"
   ]
  },
  {
   "cell_type": "code",
   "execution_count": 23,
   "id": "0a29301e",
   "metadata": {},
   "outputs": [
    {
     "name": "stdout",
     "output_type": "stream",
     "text": [
      "Ism: Cristiano\n",
      "Familyasi: Ronaldu\n",
      "Yoshi: 18\n",
      "Oltin to'plar soni: 5\n"
     ]
    }
   ],
   "source": [
    "print(ronaldu2.get_info())"
   ]
  },
  {
   "cell_type": "code",
   "execution_count": 24,
   "id": "3e32f2ed",
   "metadata": {},
   "outputs": [
    {
     "name": "stdout",
     "output_type": "stream",
     "text": [
      "Ism: Cristiano\n",
      "Familyasi: Ronaldu\n",
      "Yoshi: 18\n",
      "Jamoasi: MYU\n",
      "Ampulasi: Hujumchi\n"
     ]
    }
   ],
   "source": [
    "print(ronaldu.get_info())"
   ]
  },
  {
   "cell_type": "markdown",
   "id": "cf5e5e9a",
   "metadata": {},
   "source": [
    "# Voris olish"
   ]
  },
  {
   "cell_type": "code",
   "execution_count": 48,
   "id": "ff0efde0",
   "metadata": {},
   "outputs": [],
   "source": [
    "class Hayvon:\n",
    "    def __init__(self,nomi,jinsi):\n",
    "        self.nomi = nomi\n",
    "        self.jinsi = jinsi\n",
    "        \n",
    "    def ovqatlanish(self):\n",
    "        return f\"Men {self.nomi} ovqat yeyapman\"\n",
    "    \n",
    "    def uxlash(self):\n",
    "        return f\"Men {self.nomi} uxlayapman\""
   ]
  },
  {
   "cell_type": "code",
   "execution_count": 49,
   "id": "dbfea34a",
   "metadata": {},
   "outputs": [],
   "source": [
    "class Kuchuk(Hayvon):\n",
    "    def __init__(self,nomi,jinsi):\n",
    "        super().__init__(nomi,jinsi)\n",
    "        \n",
    "    def suyak_yeyish(self):\n",
    "        return \"Suyak yeyman\""
   ]
  },
  {
   "cell_type": "code",
   "execution_count": 51,
   "id": "ebfb296d",
   "metadata": {},
   "outputs": [],
   "source": [
    "kuchuk = Kuchuk(\"Olapar\",\"Erkak\")"
   ]
  },
  {
   "cell_type": "code",
   "execution_count": 53,
   "id": "de5d0043",
   "metadata": {},
   "outputs": [
    {
     "data": {
      "text/plain": [
       "'Men Olapar ovqat yeyapman'"
      ]
     },
     "execution_count": 53,
     "metadata": {},
     "output_type": "execute_result"
    }
   ],
   "source": [
    "kuchuk.ovqatlanish()"
   ]
  },
  {
   "cell_type": "markdown",
   "id": "5cdc0d32",
   "metadata": {},
   "source": [
    "# Dounder methods"
   ]
  },
  {
   "cell_type": "markdown",
   "id": "e9454f55",
   "metadata": {},
   "source": [
    "* _ _lt_ _(self, other)\tTo get called on comparison using < operator. \n",
    "* _ _le__(self, other)\tTo get called on comparison using <= operator.\n",
    "* _ _eq_ _(self, other)\tTo get called on comparison using == operator.\n",
    "* _ _ne_ _(self, other)\tTo get called on comparison using != operator.\n",
    "* _ _ge_ _(self, other)\tTo get called on comparison using >= operator."
   ]
  },
  {
   "cell_type": "code",
   "execution_count": 73,
   "id": "4ca38828",
   "metadata": {},
   "outputs": [],
   "source": [
    "import math\n",
    "class Dounder:\n",
    "    def __init__(self,a):\n",
    "        self.a = a\n",
    "        \n",
    "    # <   \n",
    "    def __lt__(self,other): \n",
    "        if self.a < other.a:\n",
    "            return True\n",
    "        else:\n",
    "            return False\n",
    "    # <=   \n",
    "    def __le__(self,other): \n",
    "        if self.a <= other.a:\n",
    "            return True\n",
    "        else:\n",
    "            return False\n",
    "    \n",
    "    # ==     \n",
    "    def __eq__(self,other): \n",
    "        if self.a == other.a:\n",
    "            return True\n",
    "        else:\n",
    "            return False\n",
    "     \n",
    "    # != \n",
    "    def __ne__(self,other): \n",
    "        if self.a != other.a:\n",
    "            return True\n",
    "        else:\n",
    "            return False\n",
    "     \n",
    "    # >=\n",
    "    def __ge__(self,other): \n",
    "        if self.a >= other.a:\n",
    "            return True\n",
    "        else:\n",
    "            return False\n",
    "        \n",
    "    def __int__(self):\n",
    "        return  int(self.a)\n",
    "    \n",
    "    def __float__(self):\n",
    "        return float(self.a)\n",
    "    \n",
    "    def __complex__(self):\n",
    "        return complex(self.a)\n",
    "    \n",
    "    def __ceil__(self):\n",
    "        return math.ceil(self.a)\n",
    "    \n",
    "    def __floor__(self):\n",
    "        return math.floor(self.a)\n",
    "        \n",
    "    def __add__(self,other):\n",
    "        return self.a + other.a\n",
    "    \n",
    "    def __sub__(self,other):\n",
    "        return self.a - other.a\n",
    "    \n",
    "    def __mul__(self,other):\n",
    "        return self.a * other.a\n",
    "    \n",
    "    def __truediv__(self,other):\n",
    "        return self.a / other.a\n",
    "    \n",
    "    def __abs__(self):\n",
    "        return abs(self.a)\n",
    "    \n",
    "    def __floordiv__(self,other):\n",
    "        return self.a // other.a\n",
    "    \n",
    "    def __mod__(self,other):\n",
    "        return self.a % other.a\n",
    "    \n",
    "    def __pow__(self,other):\n",
    "        return self.a ** other.a\n",
    "    \n",
    "    def __divmod__(self,other):\n",
    "        return divmod(self.a,other.a)\n",
    "    \n",
    "    # +=\n",
    "    def __iadd__(self,other):\n",
    "        self.a += other.a\n",
    "        return self.a\n",
    "    \n",
    "    # -=\n",
    "    def __isub__(self,other):\n",
    "        self.a -= other.a\n",
    "        return self.a\n",
    "    \n",
    "    # *=\n",
    "    def __imul__(self,other):\n",
    "        self.a /= other.a\n",
    "        return self.a\n",
    "    \n",
    "    # /=\n",
    "    def __itruediv__(self,other):\n",
    "        self.a /= other.a\n",
    "        return self.a\n",
    "    \n",
    "    # //=\n",
    "    def __ifloordiv__(self,other):\n",
    "        self.a //= other.a\n",
    "        return self.a\n",
    "    \n",
    "    # %=\n",
    "    def __imod__(self,other):\n",
    "        self.a %= other.a\n",
    "        return self.a\n",
    "    \n",
    "    # **=\n",
    "    def __ipow__(self,other):\n",
    "        self.a **= other.a\n",
    "        return self.a\n",
    "    \n",
    "    # round\n",
    "    def __round__(self,n=None):\n",
    "        return round(self.a,n)\n",
    "    \n",
    "    # trunc\n",
    "    def __trunc__(self):\n",
    "        return math.trunc(self.a)\n",
    "    \n",
    "    #Qo'shimcha\n",
    "    \n",
    "    def __invert__(self):\n",
    "        return ~self.a\n",
    "    \n",
    "    def __pos__(self):\n",
    "        return +self.a\n",
    "    \n",
    "    def __neg__(self):\n",
    "        return -self.a\n",
    "    \n",
    "    def __and__(self,other):\n",
    "        return self.a & other.a\n",
    "\n",
    "    def __or__(self,other):\n",
    "        return self.a | other.a\n",
    "    \n",
    "    def __xor__(self,other):\n",
    "        return self.a ^ other.a\n",
    "    \n",
    "    def __rshift__(self,other):\n",
    "        return self.a >> other.a\n",
    "    \n",
    "    def __lshift__(self,other):\n",
    "        return self.a << other.a"
   ]
  },
  {
   "cell_type": "code",
   "execution_count": 74,
   "id": "a492b47a",
   "metadata": {},
   "outputs": [
    {
     "name": "stdout",
     "output_type": "stream",
     "text": [
      "False\n",
      "True\n",
      "False\n",
      "True\n",
      "True\n",
      "False\n"
     ]
    }
   ],
   "source": [
    "import math\n",
    "x = Dounder(5)\n",
    "y = Dounder(10)\n",
    "z = Dounder(2.6)\n",
    "\n",
    "print(x>y)\n",
    "print(x<y)\n",
    "print(x>=y)\n",
    "print(x<=y)\n",
    "print(x!=y)\n",
    "print(x==y)"
   ]
  },
  {
   "cell_type": "markdown",
   "id": "a34b55dc",
   "metadata": {},
   "source": [
    "# Vazifa "
   ]
  },
  {
   "attachments": {
    "image.png": {
     "image/png": "[encoded data removed]"
    }
   },
   "cell_type": "markdown",
   "id": "2b5589ee",
   "metadata": {},
   "source": [
    "![image.png](attachment:image.png)"
   ]
  },
  {
   "cell_type": "code",
   "execution_count": 38,
   "id": "335685bb",
   "metadata": {},
   "outputs": [],
   "source": [
    "class Talaba:\n",
    "    def __init__(self,ism,familya):\n",
    "        self.__ism = ism\n",
    "        self.__familya = familya\n",
    "    \n",
    "    def get_full_name(self):\n",
    "        return f\"{self.__ism} {self.__familya}\"\n",
    "\n",
    "    \n",
    "class Fan(Talaba):\n",
    "    __matematika = []\n",
    "    __fizika = []\n",
    "    __ingliztili = []\n",
    "    __tarix = []\n",
    "    def __init__(self,ism,familya):\n",
    "        super().__init__(ism,familya)\n",
    "        \n",
    "    def set_fan_info(self,fan_nomi):\n",
    "        while True:\n",
    "            if fan_nomi==\"matematika\":\n",
    "                (Fan.__matematika).append(self.get_full_name())\n",
    "                break\n",
    "            elif fan_nomi==\"fizika\":\n",
    "                (Fan.__fizika).append(self.get_full_name())\n",
    "                break\n",
    "            elif fan_nomi==\"ingliztili\":\n",
    "                (Fan.__ingliztili).append(self.get_full_name())\n",
    "                break\n",
    "            elif fan_nomi==\"tarix\":\n",
    "                (Fan.__tarix).append(self.get_full_name())\n",
    "                break\n",
    "            else:\n",
    "                print(\"Fan nomi xato kiritilgan!\")\n",
    "                fan_nomi = input(\"Qaytatdan kiriting: \").lower()\n",
    "\n",
    "        \n",
    "    def get_fan_info(self,fan_nomi):\n",
    "        while True:\n",
    "            if fan_nomi==\"matematika\":\n",
    "                if Fan.__matematika:\n",
    "                    print(f\"Fan nomi: {fan_nomi}\\nTalabalar soni: {len(Fan.__matematika)}\\n\\n\")\n",
    "                    for i in range(len(Fan.__matematika)):\n",
    "                        print(f\"{i+1}.{Fan.__matematika[i]}\")\n",
    "                    break\n",
    "                else:\n",
    "                    print(\"Xech narsa topilmadi!\")\n",
    "                    break\n",
    "            elif fan_nomi==\"fizika\":\n",
    "                if Fan.__fizika:\n",
    "                    print(f\"Fan nomi: {fan_nomi}\\nTalabalar soni: {len(Fan.__fizika)}\\n\\n\")\n",
    "                    for i in range(len(Fan.__fizika)):\n",
    "                        print(f\"{i+1}.{Fan.__fizika[i]}\")\n",
    "                    break\n",
    "                else:\n",
    "                    print(\"Xech narsa topilmadi!\")\n",
    "                    break\n",
    "            elif fan_nomi==\"ingliztili\":\n",
    "                if Fan.__ingliztili:\n",
    "                    print(f\"Fan nomi: {fan_nomi}\\nTalabalar soni: {len(Fan.__ingliztili)}\\n\\n\")\n",
    "                    for i in range(len(Fan.__ingliztili)):\n",
    "                        print(f\"{i+1}.{Fan.__ingliztili[i]}\")\n",
    "                    break\n",
    "                else:\n",
    "                    print(\"Xech narsa topilmadi!\")\n",
    "                    break\n",
    "            elif fan_nomi==\"tarix\":\n",
    "                if Fan.__tarix:\n",
    "                    print(f\"Fan nomi: {fan_nomi}\\nTalabalar soni: {len(Fan.__tarix)}\\n\\n\")\n",
    "                    for i in range(len(Fan.__tarix)):\n",
    "                        print(f\"{i+1}.{Fan.__tarix[i]}\")\n",
    "                    break\n",
    "                else:\n",
    "                    print(\"Xech narsa topilmadi!\")\n",
    "                    break\n",
    "            else:\n",
    "                    print(\"Fan nomi xato kiritilgan!\")\n",
    "                    fan_nomi = input(\"Qaytatdan kiriting: \").lower()"
   ]
  },
  {
   "cell_type": "code",
   "execution_count": 39,
   "id": "604f80d1",
   "metadata": {},
   "outputs": [],
   "source": [
    "sherali = Fan(\"Sherali\",\"salomov\")\n",
    "asad = Fan(\"Asad\",\"Halilov\")\n",
    "jasmina = Fan(\"Jasmina\",\"Hamidova\")"
   ]
  },
  {
   "cell_type": "code",
   "execution_count": 30,
   "id": "d8e65c18",
   "metadata": {},
   "outputs": [
    {
     "data": {
      "text/plain": [
       "'Farrux Sotivoldiyev'"
      ]
     },
     "execution_count": 30,
     "metadata": {},
     "output_type": "execute_result"
    }
   ],
   "source": [
    "farrux.get_full_name()"
   ]
  },
  {
   "cell_type": "code",
   "execution_count": 31,
   "id": "2560a3e7",
   "metadata": {},
   "outputs": [
    {
     "data": {
      "text/plain": [
       "'Jasmina Hamidova'"
      ]
     },
     "execution_count": 31,
     "metadata": {},
     "output_type": "execute_result"
    }
   ],
   "source": [
    "jasmina.get_full_name()"
   ]
  },
  {
   "cell_type": "code",
   "execution_count": 40,
   "id": "0e2589ad",
   "metadata": {},
   "outputs": [],
   "source": [
    "asad.set_fan_info(\"matematika\")\n",
    "asad.set_fan_info(\"fizika\")\n",
    "jasmina.set_fan_info(\"matematika\")\n",
    "sherali.set_fan_info(\"tarix\")\n",
    "asad.set_fan_info(\"ingliztili\")\n",
    "jasmina.set_fan_info(\"tarix\")"
   ]
  },
  {
   "cell_type": "code",
   "execution_count": 41,
   "id": "4468cbda",
   "metadata": {},
   "outputs": [
    {
     "name": "stdout",
     "output_type": "stream",
     "text": [
      "Fan nomi: matematika\n",
      "Talabalar soni: 2\n",
      "\n",
      "\n",
      "1.Asad Halilov\n",
      "2.Jasmina Hamidova\n"
     ]
    }
   ],
   "source": [
    "asad.get_fan_info(\"matematika\")"
   ]
  },
  {
   "cell_type": "code",
   "execution_count": 42,
   "id": "0dfd2c82",
   "metadata": {},
   "outputs": [
    {
     "name": "stdout",
     "output_type": "stream",
     "text": [
      "Fan nomi: fizika\n",
      "Talabalar soni: 1\n",
      "\n",
      "\n",
      "1.Asad Halilov\n"
     ]
    }
   ],
   "source": [
    "asad.get_fan_info(\"fizika\")"
   ]
  },
  {
   "cell_type": "code",
   "execution_count": 43,
   "id": "92c075d5",
   "metadata": {},
   "outputs": [
    {
     "name": "stdout",
     "output_type": "stream",
     "text": [
      "Fan nomi: tarix\n",
      "Talabalar soni: 2\n",
      "\n",
      "\n",
      "1.Sherali salomov\n",
      "2.Jasmina Hamidova\n"
     ]
    }
   ],
   "source": [
    "asad.get_fan_info(\"tarix\")"
   ]
  },
  {
   "cell_type": "code",
   "execution_count": 44,
   "id": "5413ead0",
   "metadata": {},
   "outputs": [
    {
     "name": "stdout",
     "output_type": "stream",
     "text": [
      "Fan nomi: ingliztili\n",
      "Talabalar soni: 1\n",
      "\n",
      "\n",
      "1.Asad Halilov\n"
     ]
    }
   ],
   "source": [
    "asad.get_fan_info(\"ingliztili\")"
   ]
  },
  {
   "cell_type": "code",
   "execution_count": null,
   "id": "347071f2",
   "metadata": {},
   "outputs": [],
   "source": []
  },
  {
   "cell_type": "code",
   "execution_count": 8,
   "id": "879564d5",
   "metadata": {},
   "outputs": [],
   "source": [
    "class Fan:\n",
    "    def __init__(self,fan_nomi):\n",
    "        self.__fan_nomi = fan_nomi\n",
    "        self.__talabalar = []\n",
    "        self.__talabalar_soni = 0\n",
    "        \n",
    "    def add_talaba(self,talaba):\n",
    "        self.__talabalar.append(talaba)\n",
    "        self.__talabalar_soni += 1\n",
    "        \n",
    "    def get_fan_info(self):\n",
    "        return f\"Fan nomi: {self.__fan_nomi}\\nTalabalar soni: {self.__talabalar_soni}\\n{self.__talabalar}\""
   ]
  },
  {
   "cell_type": "code",
   "execution_count": 9,
   "id": "b2e965f9",
   "metadata": {},
   "outputs": [],
   "source": [
    "mat = Fan(\"Xisob\")"
   ]
  },
  {
   "cell_type": "code",
   "execution_count": 10,
   "id": "922f32a0",
   "metadata": {},
   "outputs": [],
   "source": [
    "mat.add_talaba(\"Farrux\")"
   ]
  },
  {
   "cell_type": "code",
   "execution_count": 11,
   "id": "d69d43f9",
   "metadata": {},
   "outputs": [],
   "source": [
    "mat.add_talaba(\"Sherali\")"
   ]
  },
  {
   "cell_type": "code",
   "execution_count": 13,
   "id": "9b3343a6",
   "metadata": {},
   "outputs": [
    {
     "name": "stdout",
     "output_type": "stream",
     "text": [
      "Fan nomi: Xisob\n",
      "Talabalar soni: 2\n",
      "['Farrux', 'Sherali']\n"
     ]
    }
   ],
   "source": [
    "print(mat.get_fan_info())"
   ]
  }
 ],
 "metadata": {
  "kernelspec": {
   "display_name": "Python 3 (ipykernel)",
   "language": "python",
   "name": "python3"
  },
  "language_info": {
   "codemirror_mode": {
    "name": "ipython",
    "version": 3
   },
   "file_extension": ".py",
   "mimetype": "text/x-python",
   "name": "python",
   "nbconvert_exporter": "python",
   "pygments_lexer": "ipython3",
   "version": "3.9.8"
  }
 },
 "nbformat": 4,
 "nbformat_minor": 5
}
