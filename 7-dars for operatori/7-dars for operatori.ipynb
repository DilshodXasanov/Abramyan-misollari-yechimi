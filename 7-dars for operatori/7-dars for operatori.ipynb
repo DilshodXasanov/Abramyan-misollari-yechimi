{
 "cells": [
  {
   "cell_type": "markdown",
   "id": "302a7d08",
   "metadata": {},
   "source": [
    "# 19/02/2022\n",
    "\n",
    "# Python asoslari\n",
    "\n",
    "# 7-dars: For sikl operatori\n",
    "\n",
    "# Muallif: Farrux Sotivoldiyev"
   ]
  },
  {
   "cell_type": "code",
   "execution_count": 35,
   "id": "e209894d",
   "metadata": {},
   "outputs": [
    {
     "name": "stdout",
     "output_type": "stream",
     "text": [
      "k = 2\n",
      "n = 9\n",
      "2\n",
      "2\n",
      "2\n",
      "2\n",
      "2\n",
      "2\n",
      "2\n",
      "2\n",
      "2\n"
     ]
    }
   ],
   "source": [
    "#for1\n",
    "k = int(input(\"k = \"))\n",
    "n = int(input(\"n = \"))\n",
    "for i in range(n):\n",
    "    print(k)"
   ]
  },
  {
   "cell_type": "code",
   "execution_count": 47,
   "id": "36ebf371",
   "metadata": {},
   "outputs": [
    {
     "name": "stdout",
     "output_type": "stream",
     "text": [
      "a = 2\n",
      "b = 6\n",
      "2\n",
      "3\n",
      "4\n",
      "5\n",
      "6\n",
      "5 ta son\n"
     ]
    }
   ],
   "source": [
    "#for2\n",
    "a = int(input(\"a = \"))\n",
    "b = int(input(\"b = \"))\n",
    "k = 0\n",
    "for i in range(a,b+1):\n",
    "    k += 1\n",
    "    print(i)\n",
    "print(k,\"ta son\")"
   ]
  },
  {
   "cell_type": "code",
   "execution_count": 46,
   "id": "0d757d64",
   "metadata": {},
   "outputs": [
    {
     "name": "stdout",
     "output_type": "stream",
     "text": [
      "a = 2\n",
      "b = 6\n",
      "5\n",
      "4\n",
      "3\n",
      "3 ta son\n"
     ]
    }
   ],
   "source": [
    "#for3\n",
    "a = int(input(\"a = \"))\n",
    "b = int(input(\"b = \"))\n",
    "k = 0\n",
    "for i in range(b-1,a,-1):\n",
    "    k += 1\n",
    "    print(i)\n",
    "print(k,\"ta son\")"
   ]
  },
  {
   "cell_type": "code",
   "execution_count": 45,
   "id": "50929bce",
   "metadata": {},
   "outputs": [
    {
     "name": "stdout",
     "output_type": "stream",
     "text": [
      "Narx = 3200\n",
      "1 kg konfet 3200.0 so'm\n",
      "2 kg konfet 6400.0 so'm\n",
      "3 kg konfet 9600.0 so'm\n",
      "4 kg konfet 12800.0 so'm\n",
      "5 kg konfet 16000.0 so'm\n",
      "6 kg konfet 19200.0 so'm\n",
      "7 kg konfet 22400.0 so'm\n",
      "8 kg konfet 25600.0 so'm\n",
      "9 kg konfet 28800.0 so'm\n",
      "10 kg konfet 32000.0 so'm\n"
     ]
    }
   ],
   "source": [
    "#for4\n",
    "narx = float(input(\"Narx = \"))\n",
    "for i in range(1,11):\n",
    "    print(f\"{i} kg konfet {narx*i} so'm\")"
   ]
  },
  {
   "cell_type": "code",
   "execution_count": 1,
   "id": "ee02fd1d",
   "metadata": {},
   "outputs": [
    {
     "name": "stdout",
     "output_type": "stream",
     "text": [
      "Narx = 4500\n",
      "0.1 kg konfet 450.0 so'm\n",
      "0.2 kg konfet 900.0 so'm\n",
      "0.3 kg konfet 1350.0 so'm\n",
      "0.4 kg konfet 1800.0 so'm\n",
      "0.5 kg konfet 2250.0 so'm\n",
      "0.6 kg konfet 2700.0 so'm\n",
      "0.7 kg konfet 3150.0 so'm\n",
      "0.8 kg konfet 3600.0 so'm\n",
      "0.9 kg konfet 4050.0 so'm\n",
      "1.0 kg konfet 4500.0 so'm\n"
     ]
    }
   ],
   "source": [
    "#for5\n",
    "narx = float(input(\"Narx = \"))\n",
    "for i in range(1,11):\n",
    "    print(f\"{i/10:.1f} kg konfet {i/10*narx:.1f} so'm\")"
   ]
  },
  {
   "cell_type": "code",
   "execution_count": 5,
   "id": "a2c8aa4b",
   "metadata": {},
   "outputs": [
    {
     "name": "stdout",
     "output_type": "stream",
     "text": [
      "Narx = 3200\n",
      "1.2 kg konfet 3840.0 so'm\n",
      "1.3 kg konfet 4160.0 so'm\n",
      "1.4 kg konfet 4480.0 so'm\n",
      "1.5 kg konfet 4800.0 so'm\n",
      "1.6 kg konfet 5120.0 so'm\n",
      "1.7 kg konfet 5440.0 so'm\n",
      "1.8 kg konfet 5760.0 so'm\n",
      "1.9 kg konfet 6080.0 so'm\n",
      "2.0 kg konfet 6400.0 so'm\n"
     ]
    }
   ],
   "source": [
    "#for6\n",
    "narx = float(input(\"Narx = \"))\n",
    "for i in range(12,21):\n",
    "    print(f\"{i/10:.1f} kg konfet {narx*i/10:.1f} so'm\")"
   ]
  },
  {
   "cell_type": "code",
   "execution_count": 42,
   "id": "a54661eb",
   "metadata": {},
   "outputs": [
    {
     "name": "stdout",
     "output_type": "stream",
     "text": [
      "a = 1\n",
      "b = 10\n",
      "summa: 55\n"
     ]
    }
   ],
   "source": [
    "#for7\n",
    "a = int(input(\"a = \"))\n",
    "b = int(input(\"b = \"))\n",
    "s = 0\n",
    "for i in range(a,b+1):\n",
    "    s += i\n",
    "print(\"summa:\",s)"
   ]
  },
  {
   "cell_type": "code",
   "execution_count": 41,
   "id": "0b411609",
   "metadata": {},
   "outputs": [
    {
     "name": "stdout",
     "output_type": "stream",
     "text": [
      "a = 1\n",
      "b = 5\n",
      "jami kopaytma: 120\n"
     ]
    }
   ],
   "source": [
    "#for8\n",
    "a = int(input(\"a = \"))\n",
    "b = int(input(\"b = \"))\n",
    "k = 1\n",
    "for i in range(a,b+1):\n",
    "     k *= i\n",
    "print(\"jami kopaytma:\",k)"
   ]
  },
  {
   "cell_type": "code",
   "execution_count": 38,
   "id": "6f0caef7",
   "metadata": {},
   "outputs": [
    {
     "name": "stdout",
     "output_type": "stream",
     "text": [
      "a = 1\n",
      "b = 3\n",
      "kvadratlari yeg'indisi: 14\n"
     ]
    }
   ],
   "source": [
    "#for9\n",
    "a = int(input(\"a = \"))\n",
    "b = int(input(\"b = \"))\n",
    "s = 0\n",
    "for i in range(a,b+1):\n",
    "    s += i**2\n",
    "print(\"kvadratlari yeg'indisi:\",s)"
   ]
  },
  {
   "cell_type": "code",
   "execution_count": 2,
   "id": "3d00d60b",
   "metadata": {},
   "outputs": [
    {
     "name": "stdout",
     "output_type": "stream",
     "text": [
      "n = 5\n",
      "summa: 2.283333333333333\n"
     ]
    }
   ],
   "source": [
    "#for10\n",
    "n = int(input(\"n = \"))\n",
    "s = 0 \n",
    "for i in range(1,n+1):\n",
    "    s += 1/i\n",
    "print(\"summa:\",s)"
   ]
  },
  {
   "cell_type": "code",
   "execution_count": 6,
   "id": "b8ccf9a3",
   "metadata": {},
   "outputs": [
    {
     "name": "stdout",
     "output_type": "stream",
     "text": [
      "n = 1\n",
      "summa: 5\n"
     ]
    }
   ],
   "source": [
    "#for11\n",
    "n = int(input(\"n = \"))\n",
    "s = 0 \n",
    "for i in range(n,2*n+1):\n",
    "    s += i**2\n",
    "print(\"summa:\",s)"
   ]
  },
  {
   "cell_type": "code",
   "execution_count": 26,
   "id": "b528bd91",
   "metadata": {},
   "outputs": [
    {
     "name": "stdout",
     "output_type": "stream",
     "text": [
      "n = 5\n",
      "1.1\n",
      "1.2\n",
      "1.3\n",
      "1.4\n",
      "1.5\n",
      "jami: 3.6036\n"
     ]
    }
   ],
   "source": [
    "#for12\n",
    "n = int(input(\"n = \"))\n",
    "k = 1\n",
    "for i in range(11,n+11):\n",
    "    print(i/10)\n",
    "    k *= i/10\n",
    "print(\"jami:\",k)"
   ]
  },
  {
   "cell_type": "code",
   "execution_count": 28,
   "id": "eb985562",
   "metadata": {},
   "outputs": [
    {
     "name": "stdout",
     "output_type": "stream",
     "text": [
      "n = 10\n",
      "-0.5\n"
     ]
    }
   ],
   "source": [
    "#for13                          \n",
    "n = int(input(\"n = \"))\n",
    "s = 0\n",
    "for i in range(11,n+11):\n",
    "    s += (i/10)*((-1)**(i+1))\n",
    "print(s)"
   ]
  },
  {
   "cell_type": "code",
   "execution_count": 30,
   "id": "9568fb9d",
   "metadata": {},
   "outputs": [
    {
     "name": "stdout",
     "output_type": "stream",
     "text": [
      "n = 9\n",
      "kvadrati: 81\n"
     ]
    }
   ],
   "source": [
    "#for14\n",
    "n = int(input(\"n = \"))\n",
    "s = 0\n",
    "for i in range(1,2*n,2):\n",
    "    s += i\n",
    "print(\"kvadrati:\",s)"
   ]
  },
  {
   "cell_type": "code",
   "execution_count": 18,
   "id": "b9f02053",
   "metadata": {},
   "outputs": [
    {
     "name": "stdout",
     "output_type": "stream",
     "text": [
      "n = 5\n",
      "a = 2\n",
      "32.0\n"
     ]
    }
   ],
   "source": [
    "#for15                                   \n",
    "n = int(input(\"n = \"))\n",
    "a = float(input(\"a = \"))\n",
    "p = 1\n",
    "for i in range(1,n+1):\n",
    "    p *= a\n",
    "print(p)"
   ]
  },
  {
   "cell_type": "code",
   "execution_count": 1,
   "id": "0f60f1c5",
   "metadata": {},
   "outputs": [
    {
     "name": "stdout",
     "output_type": "stream",
     "text": [
      "n = 5\n",
      "a = 2\n",
      "2.0\n",
      "4.0\n",
      "8.0\n",
      "16.0\n",
      "32.0\n"
     ]
    }
   ],
   "source": [
    "#for16\n",
    "n = int(input(\"n = \"))\n",
    "a = float(input(\"a = \"))\n",
    "k = 1\n",
    "for i in range(1,n+1):\n",
    "    k *= a\n",
    "    print(k)"
   ]
  },
  {
   "cell_type": "code",
   "execution_count": 61,
   "id": "e90f3a0e",
   "metadata": {},
   "outputs": [
    {
     "name": "stdout",
     "output_type": "stream",
     "text": [
      "n = 3\n",
      "a = 2\n",
      "0-darajasi 1.00\n",
      "1-darajasi 2.00\n",
      "2-darajasi 4.00\n",
      "3-darajasi 8.00\n",
      "Summa: 15.0\n"
     ]
    }
   ],
   "source": [
    "#for17\n",
    "n = int(input(\"n = \"))\n",
    "a = float(input(\"a = \"))\n",
    "s = 0\n",
    "for i in range(0,n+1):\n",
    "    print(f\"{i}-darajasi {a**(i):.2f}\")\n",
    "    s += a**(i)\n",
    "print(\"Summa:\",s)"
   ]
  },
  {
   "cell_type": "code",
   "execution_count": 66,
   "id": "62cdf7b6",
   "metadata": {},
   "outputs": [
    {
     "name": "stdout",
     "output_type": "stream",
     "text": [
      "n = 3\n",
      "a = 2\n",
      "0- darajasi 1.0\n",
      "1- darajasi -2.0\n",
      "2- darajasi 4.0\n",
      "3- darajasi -8.0\n",
      "jami: -5.0\n"
     ]
    }
   ],
   "source": [
    "#for18\n",
    "n = int(input(\"n = \"))\n",
    "a = float(input(\"a = \"))\n",
    "s = 0\n",
    "for i in range(0,n+1):\n",
    "    s += ((-1)**i)*(a**(i))\n",
    "    print(f\"{i}- darajasi {a**(i)*((-1)**i)}\")\n",
    "print(\"jami:\",s)"
   ]
  },
  {
   "cell_type": "code",
   "execution_count": 17,
   "id": "87aa447b",
   "metadata": {},
   "outputs": [
    {
     "name": "stdout",
     "output_type": "stream",
     "text": [
      "n = 5\n",
      "120\n"
     ]
    }
   ],
   "source": [
    "#for19\n",
    "n = int(input(\"n = \"))\n",
    "p = 1\n",
    "for i in range(1,n+1):\n",
    "    p *= i\n",
    "print(p)"
   ]
  },
  {
   "cell_type": "code",
   "execution_count": 36,
   "id": "0ccee3f2",
   "metadata": {},
   "outputs": [
    {
     "name": "stdout",
     "output_type": "stream",
     "text": [
      "n = 4\n",
      "summa: 33\n"
     ]
    }
   ],
   "source": [
    "#for20\n",
    "n = int(input(\"n = \"))\n",
    "s = 0\n",
    "p = 1\n",
    "for i in range(1,n+1):\n",
    "    p *= i\n",
    "    s += p\n",
    "print(\"summa:\",s)"
   ]
  },
  {
   "cell_type": "code",
   "execution_count": 41,
   "id": "99fb532f",
   "metadata": {},
   "outputs": [
    {
     "name": "stdout",
     "output_type": "stream",
     "text": [
      "n = 5\n",
      "2.716666666666667\n"
     ]
    }
   ],
   "source": [
    "#for21\n",
    "n = int(input(\"n = \"))\n",
    "s = 0\n",
    "p = 1\n",
    "for i in range(1,n+1):\n",
    "    p *= i\n",
    "    s += 1/p\n",
    "print(1+s)"
   ]
  },
  {
   "cell_type": "code",
   "execution_count": 16,
   "id": "8e9c6881",
   "metadata": {},
   "outputs": [
    {
     "name": "stdout",
     "output_type": "stream",
     "text": [
      "n = 3\n",
      "x = 2\n",
      "yeg'indi: 5.333333333333333\n"
     ]
    }
   ],
   "source": [
    "#for22\n",
    "n = int(input(\"n = \"))\n",
    "x = float(input(\"x = \"))\n",
    "s = 0\n",
    "p = 1\n",
    "for i in range(1,n+1):\n",
    "    p *= i\n",
    "    s += (x**i)/p\n",
    "print(\"yeg'indi:\",s)"
   ]
  },
  {
   "cell_type": "code",
   "execution_count": 15,
   "id": "61a7138f",
   "metadata": {},
   "outputs": [
    {
     "name": "stdout",
     "output_type": "stream",
     "text": [
      "n = 2\n",
      "x = 2\n",
      "0.9333333333333333\n"
     ]
    }
   ],
   "source": [
    "#for23                     \n",
    "n = int(input(\"n = \"))\n",
    "x = float(input(\"x = \"))\n",
    "s = 0\n",
    "p = 1\n",
    "for i in range(1,n+1):\n",
    "    p *= (2*i+1)*2*i\n",
    "    s += (((-1)**i) * (x**(2*i+1)))/p\n",
    "print('Summa:',x+s)"
   ]
  },
  {
   "cell_type": "code",
   "execution_count": 12,
   "id": "4d8dd6d6",
   "metadata": {},
   "outputs": [
    {
     "name": "stdout",
     "output_type": "stream",
     "text": [
      "n = 2\n",
      "x = 2\n",
      "Summa: -0.3333333333333335\n"
     ]
    }
   ],
   "source": [
    "#for24                  \n",
    "n = int(input(\"n = \"))\n",
    "x = float(input(\"x = \"))\n",
    "p = 1\n",
    "s = 0\n",
    "for i in range(1,n+1):\n",
    "    p *= (2*i-1)*2*i\n",
    "    s += ((-1)**i * (x**(2*i)))/p\n",
    "print('Summa:',1+s)"
   ]
  },
  {
   "cell_type": "code",
   "execution_count": 13,
   "id": "f5e5294c",
   "metadata": {},
   "outputs": [
    {
     "name": "stdout",
     "output_type": "stream",
     "text": [
      "n = 2\n",
      "x = 0.2\n",
      "Summa: 0.18\n"
     ]
    }
   ],
   "source": [
    "#for25\n",
    "n = int(input(\"n = \"))\n",
    "x = float(input(\"x = \"))\n",
    "s = 0\n",
    "for i in range(1,n+1):\n",
    "    s += (((-1)**(i-1))*(x**i))/i\n",
    "print(\"Summa:\",s)"
   ]
  },
  {
   "cell_type": "code",
   "execution_count": 117,
   "id": "ebbeb164",
   "metadata": {},
   "outputs": [
    {
     "name": "stdout",
     "output_type": "stream",
     "text": [
      "n = 4\n",
      "x = -0.25\n",
      "Summa: -0.24497868371388265\n"
     ]
    }
   ],
   "source": [
    "#for26\n",
    "n = int(input(\"n = \"))\n",
    "x = float(input(\"x = \"))\n",
    "s = 0\n",
    "for i in range(0,n+1):\n",
    "    s += (((-1)**i)*(x**(2*i+1)))/(2*i+1) \n",
    "print(\"Summa:\",s)"
   ]
  },
  {
   "cell_type": "code",
   "execution_count": 1,
   "id": "5b2145c0",
   "metadata": {},
   "outputs": [
    {
     "name": "stdout",
     "output_type": "stream",
     "text": [
      "n = 5\n",
      "x = 1\n",
      "summa: 1.3390636273448773\n"
     ]
    }
   ],
   "source": [
    "#for27\n",
    "n = int(input(\"n = \"))\n",
    "x = float(input(\"x = \"))\n",
    "s = 1\n",
    "m = 1\n",
    "yegindi = 0\n",
    "for i in range(1,n+1):\n",
    "    s *= 2*i-1\n",
    "    m *= 2*i\n",
    "    yegindi += (s*x**(2*i+1))/(m*(2*i+1))\n",
    "print(\"summa:\",yegindi+x)"
   ]
  },
  {
   "cell_type": "code",
   "execution_count": 32,
   "id": "9031cbf7",
   "metadata": {},
   "outputs": [
    {
     "name": "stdout",
     "output_type": "stream",
     "text": [
      "n = 3\n",
      "x = 1\n",
      "summa: 1.4375\n"
     ]
    }
   ],
   "source": [
    "#for28\n",
    "n = int(input(\"n = \"))\n",
    "x = float(input(\"x = \"))\n",
    "s = 1\n",
    "m = 1\n",
    "yegindi = 0\n",
    "for i in range(1,n+1):\n",
    "    s *= 2*i-3\n",
    "    m *= 2*i\n",
    "    yegindi += ((s*((-1)**(i-1))*x**i)/m)*(-1)\n",
    "print(\"summa:\",1+yegindi)"
   ]
  },
  {
   "cell_type": "code",
   "execution_count": 10,
   "id": "e6bb3823",
   "metadata": {},
   "outputs": [
    {
     "name": "stdout",
     "output_type": "stream",
     "text": [
      "N = 8\n",
      "A = -45\n",
      "B = 2\n",
      "2.0\n",
      "-3.875\n",
      "-9.75\n",
      "-15.625\n",
      "-21.5\n",
      "-27.375\n",
      "-33.25\n",
      "-39.125\n",
      "-45.0\n"
     ]
    }
   ],
   "source": [
    "#for29\n",
    "n = int(input(\"N = \"))\n",
    "a = float(input(\"A = \"))\n",
    "b = float(input(\"B = \"))\n",
    "\n",
    "if a < b:\n",
    "    a,b = b,a\n",
    "c = (a-b) / n\n",
    "for i in range(n+1):\n",
    "    print(round(a,3))\n",
    "    a -= c"
   ]
  },
  {
   "cell_type": "code",
   "execution_count": 11,
   "id": "8a2a2cbe",
   "metadata": {},
   "outputs": [
    {
     "name": "stdout",
     "output_type": "stream",
     "text": [
      "N = 5\n",
      "A = -8\n",
      "B = 25\n",
      "F(X) = 1.1323517500977731\n",
      "F(X) = 1.4345656220718968\n",
      "F(X) = 1.6935250847771237\n",
      "F(X) = 1.8834546557201537\n",
      "F(X) = 1.9854497299884604\n",
      "F(X) = 1.989358246623382\n"
     ]
    }
   ],
   "source": [
    "#for30 \n",
    "from math import sin\n",
    "n = int(input(\"N = \"))\n",
    "a = float(input(\"A = \"))\n",
    "b = float(input(\"B = \"))\n",
    "\n",
    "if a < b:\n",
    "    a,b = b,a\n",
    "c = (a-b) / n\n",
    "for i in range(n+1):\n",
    "    print(f\"F(X) = {1 - sin(a)}\")\n",
    "    a -= c"
   ]
  },
  {
   "cell_type": "code",
   "execution_count": 33,
   "id": "18ea00b8",
   "metadata": {},
   "outputs": [
    {
     "name": "stdout",
     "output_type": "stream",
     "text": [
      "n = 3\n",
      "A1 = 2.5\n",
      "A2 = 2.4\n",
      "A3 = 2.4166666666666665\n"
     ]
    }
   ],
   "source": [
    "#for31\n",
    "n = int(input(\"n = \"))\n",
    "A0 = 2\n",
    "A1 = 0\n",
    "\n",
    "for i in range(1,n+1):\n",
    "    A1 = 2 + 1/A0\n",
    "    print(f\"A{i} = {A1}\")\n",
    "    A0 = A1"
   ]
  },
  {
   "cell_type": "code",
   "execution_count": 82,
   "id": "48bfd7a9",
   "metadata": {},
   "outputs": [
    {
     "name": "stdout",
     "output_type": "stream",
     "text": [
      "n = 3\n",
      "A1 = 2.0\n",
      "A2 = 1.5\n",
      "A3 = 0.8333333333333334\n"
     ]
    }
   ],
   "source": [
    "#for32\n",
    "n = int(input(\"n = \"))\n",
    "A0 = 1\n",
    "A1 = 0\n",
    "\n",
    "for i in range(1,n+1):\n",
    "    A1 = (A0 + 1)/i\n",
    "    print(f\"A{i} = {A1}\")\n",
    "    A0 = A1\n"
   ]
  },
  {
   "cell_type": "code",
   "execution_count": 11,
   "id": "bd2911dd",
   "metadata": {},
   "outputs": [
    {
     "name": "stdout",
     "output_type": "stream",
     "text": [
      "n = 5\n",
      "1\n",
      "1\n",
      "2\n",
      "3\n",
      "5\n"
     ]
    }
   ],
   "source": [
    "#for33 Fibonachi sonlari 1-usul\n",
    "n = int(input(\"n = \"))\n",
    "F1 = 1\n",
    "F2 = 1\n",
    "\n",
    "for i in range(1,n+1):\n",
    "    print(F1)\n",
    "    F1,F2 = F2,F1+F2"
   ]
  },
  {
   "cell_type": "code",
   "execution_count": 34,
   "id": "eb569763",
   "metadata": {},
   "outputs": [
    {
     "name": "stdout",
     "output_type": "stream",
     "text": [
      "n = 9\n",
      "1\n",
      "1\n",
      "2\n",
      "3\n",
      "5\n",
      "8\n",
      "13\n",
      "21\n",
      "34\n"
     ]
    }
   ],
   "source": [
    "#for33 Fibonachi sonlari 2-usul\n",
    "n = int(input(\"n = \"))\n",
    "F1 = 1\n",
    "F2 = 1\n",
    "\n",
    "for i in range(1,n+1):\n",
    "    print(F1)\n",
    "    F = F1 + F2\n",
    "    F1 = F2\n",
    "    F2 = F"
   ]
  },
  {
   "cell_type": "code",
   "execution_count": 85,
   "id": "d3c704b2",
   "metadata": {},
   "outputs": [
    {
     "name": "stdout",
     "output_type": "stream",
     "text": [
      "n = 3\n",
      "1\n",
      "2\n",
      "1.6666666666666667\n"
     ]
    }
   ],
   "source": [
    "#for34\n",
    "n = int(input(\"n = \"))\n",
    "A1 = 1\n",
    "A2 = 2\n",
    "\n",
    "for i in range(n):\n",
    "    print(A1)\n",
    "    A = (A1 + 2*A2)/3\n",
    "    A1 = A2\n",
    "    A2 = A"
   ]
  },
  {
   "cell_type": "code",
   "execution_count": 86,
   "id": "1f8896fc",
   "metadata": {},
   "outputs": [
    {
     "name": "stdout",
     "output_type": "stream",
     "text": [
      "n = 8\n",
      "1\n",
      "2\n",
      "3\n",
      "3\n",
      "2\n",
      "-1\n",
      "-5\n",
      "-10\n"
     ]
    }
   ],
   "source": [
    "#for35\n",
    "n = int(input(\"n = \"))\n",
    "A1 = 1\n",
    "A2 = 2\n",
    "A3 = 3\n",
    "\n",
    "for i in range(n):\n",
    "    print(A1)\n",
    "    A = A3 + A2 - 2*A1\n",
    "    A1 = A2\n",
    "    A2 = A3\n",
    "    A3 = A"
   ]
  },
  {
   "cell_type": "code",
   "execution_count": 63,
   "id": "cb4ccc7a",
   "metadata": {},
   "outputs": [
    {
     "name": "stdout",
     "output_type": "stream",
     "text": [
      "n = 4\n",
      "k = 2\n",
      "Summa: 30\n"
     ]
    }
   ],
   "source": [
    "#for36\n",
    "n = int(input(\"n = \"))\n",
    "k = int(input(\"k = \"))\n",
    "s = 0 \n",
    "for i in range(1,n+1):\n",
    "    s += i**k\n",
    "print(\"Summa:\",s)"
   ]
  },
  {
   "cell_type": "code",
   "execution_count": 64,
   "id": "ca228534",
   "metadata": {},
   "outputs": [
    {
     "name": "stdout",
     "output_type": "stream",
     "text": [
      "n = 3\n",
      "Summa: 32\n"
     ]
    }
   ],
   "source": [
    "#for37\n",
    "n = int(input(\"n = \"))\n",
    "s = 0\n",
    "for i in range(1,n+1):\n",
    "    s += i**i\n",
    "print(\"Summa:\",s)"
   ]
  },
  {
   "cell_type": "code",
   "execution_count": 66,
   "id": "d4c41ebd",
   "metadata": {},
   "outputs": [
    {
     "name": "stdout",
     "output_type": "stream",
     "text": [
      "n = 3\n",
      "Summa: 8\n"
     ]
    }
   ],
   "source": [
    "#for38\n",
    "n = int(input(\"n = \"))\n",
    "s = 0\n",
    "for i in range(1,n+1):\n",
    "    s += i**((n+1)-i)\n",
    "print(\"Summa:\",s)"
   ]
  },
  {
   "cell_type": "code",
   "execution_count": 62,
   "id": "4f2b269b",
   "metadata": {},
   "outputs": [
    {
     "name": "stdout",
     "output_type": "stream",
     "text": [
      "A = 5\n",
      "B = 9\n",
      "5\n",
      "5\n",
      "5\n",
      "5\n",
      "5\n",
      "\n",
      "6\n",
      "6\n",
      "6\n",
      "6\n",
      "6\n",
      "6\n",
      "\n",
      "7\n",
      "7\n",
      "7\n",
      "7\n",
      "7\n",
      "7\n",
      "7\n",
      "\n",
      "8\n",
      "8\n",
      "8\n",
      "8\n",
      "8\n",
      "8\n",
      "8\n",
      "8\n",
      "\n",
      "9\n",
      "9\n",
      "9\n",
      "9\n",
      "9\n",
      "9\n",
      "9\n",
      "9\n",
      "9\n",
      "\n"
     ]
    }
   ],
   "source": [
    "#for39                      \n",
    "a = int(input(\"A = \"))\n",
    "b = int(input(\"B = \"))\n",
    "\n",
    "for i in range(a,b+1):\n",
    "    print(f\"{i}\\n\"*i)"
   ]
  },
  {
   "cell_type": "code",
   "execution_count": 61,
   "id": "5e59c6e7",
   "metadata": {},
   "outputs": [
    {
     "name": "stdout",
     "output_type": "stream",
     "text": [
      "A = 5\n",
      "B = 9\n",
      "5\n",
      "\n",
      "6\n",
      "6\n",
      "\n",
      "7\n",
      "7\n",
      "7\n",
      "\n",
      "8\n",
      "8\n",
      "8\n",
      "8\n",
      "\n",
      "9\n",
      "9\n",
      "9\n",
      "9\n",
      "9\n",
      "\n"
     ]
    }
   ],
   "source": [
    "#for40                       \n",
    "a = int(input(\"A = \"))\n",
    "b = int(input(\"B = \"))\n",
    "t = 1\n",
    "\n",
    "for i in range(a,b+1):\n",
    "        print(f\"{i}\\n\"*t)\n",
    "        t += 1\n"
   ]
  },
  {
   "cell_type": "code",
   "execution_count": 36,
   "id": "e0efc341",
   "metadata": {},
   "outputs": [
    {
     "name": "stdout",
     "output_type": "stream",
     "text": [
      "A = 5\n",
      "B = 6\n",
      "5 5 5 5 5 6 6 6 6 6 6 "
     ]
    }
   ],
   "source": [
    "#for39    ichma-ich for\n",
    "a = int(input(\"A = \"))\n",
    "b = int(input(\"B = \"))\n",
    "\n",
    "for i in range(a,b+1):\n",
    "    for j in range(i):\n",
    "        print(i,end = \" \")"
   ]
  },
  {
   "cell_type": "code",
   "execution_count": null,
   "id": "2719c0d5",
   "metadata": {},
   "outputs": [],
   "source": [
    "#for40     ichma-ich for              \n",
    "a = int(input(\"A = \"))\n",
    "b = int(input(\"B = \"))\n",
    "c = 1\n",
    "\n",
    "for i in range(a,b+1):\n",
    "    for j in range(c):\n",
    "        print(i,end = \" \")\n",
    "    c += 1\n"
   ]
  },
  {
   "cell_type": "code",
   "execution_count": 34,
   "id": "af94d7d8",
   "metadata": {},
   "outputs": [
    {
     "name": "stdout",
     "output_type": "stream",
     "text": [
      "A = 1\n",
      "B = 5\n",
      "1\n",
      "2\n",
      "2\n",
      "3\n",
      "3\n",
      "3\n",
      "4\n",
      "4\n",
      "4\n",
      "4\n",
      "5\n",
      "5\n",
      "5\n",
      "5\n",
      "5\n"
     ]
    }
   ],
   "source": [
    "#for40 Unversal usul   \n",
    "a = int(input(\"A = \"))\n",
    "b = int(input(\"B = \"))\n",
    "c = 1\n",
    "if a > b:\n",
    "    a,b = b,a\n",
    "for i in range(a,b+1):\n",
    "    for j in range(c):\n",
    "        print(i)\n",
    "    c += 1"
   ]
  }
 ],
 "metadata": {
  "kernelspec": {
   "display_name": "Python 3 (ipykernel)",
   "language": "python",
   "name": "python3"
  },
  "language_info": {
   "codemirror_mode": {
    "name": "ipython",
    "version": 3
   },
   "file_extension": ".py",
   "mimetype": "text/x-python",
   "name": "python",
   "nbconvert_exporter": "python",
   "pygments_lexer": "ipython3",
   "version": "3.10.2"
  }
 },
 "nbformat": 4,
 "nbformat_minor": 5
}
