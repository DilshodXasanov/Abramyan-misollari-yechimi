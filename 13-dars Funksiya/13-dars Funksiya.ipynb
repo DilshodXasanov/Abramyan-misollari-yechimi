{
 "cells": [
  {
   "cell_type": "markdown",
   "id": "a4f5c5d2",
   "metadata": {},
   "source": [
    "# 24/03/2022\n",
    "\n",
    "# Python asoslari\n",
    "\n",
    "# 13-dars : Funksiya bilan ishlash\n",
    "\n",
    "# Muallif: Farrux Sotivoldiyev"
   ]
  },
  {
   "cell_type": "code",
   "execution_count": 6,
   "id": "5ff4a4cb",
   "metadata": {},
   "outputs": [
    {
     "name": "stdout",
     "output_type": "stream",
     "text": [
      "a = 2\n",
      "8.0\n"
     ]
    }
   ],
   "source": [
    "#FunSimple1\n",
    "def PowerA3(x):\n",
    "    return x**3\n",
    "\n",
    "a = float(input(\"a = \"))\n",
    "print(PowerA3(a))"
   ]
  },
  {
   "cell_type": "code",
   "execution_count": 7,
   "id": "873a9233",
   "metadata": {},
   "outputs": [
    {
     "name": "stdout",
     "output_type": "stream",
     "text": [
      "a = 2\n",
      "(4.0, 8.0, 16.0)\n"
     ]
    }
   ],
   "source": [
    "#FunSimple2\n",
    "def PowerA234(x):\n",
    "    a = x**2\n",
    "    b = x**3\n",
    "    c = x**4\n",
    "    return a,b,c\n",
    "\n",
    "a = float(input(\"a = \"))\n",
    "print(PowerA234(a))"
   ]
  },
  {
   "cell_type": "code",
   "execution_count": 12,
   "id": "fc8143bc",
   "metadata": {},
   "outputs": [
    {
     "name": "stdout",
     "output_type": "stream",
     "text": [
      "a = 5\n",
      "b = 4\n",
      "(4.5, 4.47213595499958)\n"
     ]
    }
   ],
   "source": [
    "#FunSimple3\n",
    "def MEAN(x,y):\n",
    "    arif = (x+y)/2\n",
    "    geo = (x*y)**(1/2)\n",
    "    return arif,geo\n",
    "\n",
    "a = float(input(\"a = \"))\n",
    "b = float(input(\"b = \"))\n",
    "print(MEAN(a,b))"
   ]
  },
  {
   "cell_type": "code",
   "execution_count": 14,
   "id": "96160f9a",
   "metadata": {},
   "outputs": [
    {
     "name": "stdout",
     "output_type": "stream",
     "text": [
      "a = 2\n",
      "(1.7320508075688772, 6.0)\n"
     ]
    }
   ],
   "source": [
    "#FunSimple4\n",
    "def Triangle(x):\n",
    "    s = (x**2 * 3**(1/2)) / 4\n",
    "    p = 3 * x\n",
    "    return s,p\n",
    "\n",
    "a = float(input(\"a = \"))\n",
    "print(Triangle(a))"
   ]
  },
  {
   "cell_type": "code",
   "execution_count": 20,
   "id": "4ae98fd7",
   "metadata": {},
   "outputs": [
    {
     "name": "stdout",
     "output_type": "stream",
     "text": [
      "a1 = 1\n",
      "b1 = 2\n",
      "a2 = 5\n",
      "b2 = 6\n",
      "(16, 16)\n"
     ]
    }
   ],
   "source": [
    "#FunSimple5\n",
    "def RectPS(x1,y1,x2,y2):\n",
    "    x = abs(x1 - x2)\n",
    "    y = abs(y1 - y2)\n",
    "    s = x * y\n",
    "    p = 2 * (x + y)\n",
    "    return s,p\n",
    "\n",
    "a1 = int(input(\"a1 = \"))\n",
    "b1 = int(input(\"b1 = \"))\n",
    "a2 = int(input(\"a2 = \"))\n",
    "b2 = int(input(\"b2 = \"))\n",
    "print(RectPS(a1,b1,a2,b2))\n"
   ]
  },
  {
   "cell_type": "code",
   "execution_count": 15,
   "id": "aafaf6b8",
   "metadata": {},
   "outputs": [
    {
     "name": "stdout",
     "output_type": "stream",
     "text": [
      "a = 785\n",
      "(3, 20)\n"
     ]
    }
   ],
   "source": [
    "#FunSimple6\n",
    "def DigitCountSum(x):\n",
    "    s = 0\n",
    "    k = 0\n",
    "    while x > 0:\n",
    "        k += 1\n",
    "        s += x%10\n",
    "        x //= 10\n",
    "    return k,s\n",
    "\n",
    "a = int(input(\"a = \"))\n",
    "print(DigitCountSum(a))"
   ]
  },
  {
   "cell_type": "code",
   "execution_count": 17,
   "id": "59e05501",
   "metadata": {},
   "outputs": [
    {
     "name": "stdout",
     "output_type": "stream",
     "text": [
      "a = 4567\n",
      "7654\n"
     ]
    }
   ],
   "source": [
    "#FunSimple7\n",
    "def InvertDigit(x):\n",
    "    s = 0\n",
    "    while x != 0:\n",
    "        s = x%10 + s*10\n",
    "        x//=10\n",
    "    return s\n",
    "\n",
    "a = int(input(\"a = \"))\n",
    "print(InvertDigit(a))"
   ]
  },
  {
   "cell_type": "code",
   "execution_count": 51,
   "id": "edeaf538",
   "metadata": {},
   "outputs": [
    {
     "name": "stdout",
     "output_type": "stream",
     "text": [
      "k = 7894\n",
      "r = 6\n",
      "78946\n"
     ]
    }
   ],
   "source": [
    "#FunSimpl8\n",
    "def AddRightDigit(x,y):\n",
    "    add = (x + y / 10) * 10\n",
    "    return int(add)\n",
    "\n",
    "K = int(input(\"k = \"))\n",
    "R = int(input(\"r = \"))\n",
    "print(AddRightDigit(K,R))"
   ]
  },
  {
   "cell_type": "code",
   "execution_count": 63,
   "id": "221ec17e",
   "metadata": {},
   "outputs": [
    {
     "name": "stdout",
     "output_type": "stream",
     "text": [
      "k = 4523\n",
      "r = 9\n",
      "94523\n"
     ]
    }
   ],
   "source": [
    "#FunSimple9\n",
    "def AddLeftDigit(x,y):\n",
    "    k = 0\n",
    "    s = x\n",
    "    while s != 0:\n",
    "        k += 1\n",
    "        s //= 10\n",
    "    add = x + 10**k * y\n",
    "    return add\n",
    "\n",
    "K = int(input(\"k = \"))\n",
    "R = int(input(\"r = \"))\n",
    "print(AddLeftDigit(K,R))"
   ]
  },
  {
   "cell_type": "code",
   "execution_count": 3,
   "id": "18b8a78f",
   "metadata": {},
   "outputs": [
    {
     "name": "stdout",
     "output_type": "stream",
     "text": [
      "a = 5\n",
      "b = 6\n",
      "(6, 5)\n"
     ]
    }
   ],
   "source": [
    "#FunSimple10\n",
    "def swap(x,y):\n",
    "    return y,x\n",
    "\n",
    "a = int(input(\"a = \"))\n",
    "b = int(input(\"b = \"))\n",
    "print(swap(a,b))"
   ]
  },
  {
   "cell_type": "code",
   "execution_count": 24,
   "id": "d01fff6f",
   "metadata": {},
   "outputs": [
    {
     "name": "stdout",
     "output_type": "stream",
     "text": [
      "a = 5\n",
      "b = 9\n",
      "c = 5\n",
      "d = 2\n",
      "9 2\n"
     ]
    }
   ],
   "source": [
    "#FunSimple11\n",
    "def Minmax(x,y):\n",
    "    if x < y:\n",
    "        x,y = y,x\n",
    "    return x,y\n",
    "\n",
    "a = int(input(\"a = \"))\n",
    "b = int(input(\"b = \"))\n",
    "c = int(input(\"c = \"))\n",
    "d = int(input(\"d = \"))\n",
    "a,b = Minmax(a,b)\n",
    "c,d = Minmax(c,d)\n",
    "a,c = Minmax(a,c)\n",
    "b,d = Minmax(b,d)\n",
    "print(a,d)"
   ]
  },
  {
   "cell_type": "code",
   "execution_count": 21,
   "id": "bdc49f3d",
   "metadata": {},
   "outputs": [
    {
     "name": "stdout",
     "output_type": "stream",
     "text": [
      "A = 5\n",
      "B = 20\n",
      "C = 1\n",
      "(1, 5, 20)\n"
     ]
    }
   ],
   "source": [
    "#FunSimple12\n",
    "def Sortlnc3(a,b,c):\n",
    "    if a <= b <= c:\n",
    "        return a,b,c\n",
    "    elif a <= c <= b:\n",
    "        return a,c,b\n",
    "    elif c <= a <= b:\n",
    "        return c,a,b\n",
    "    elif c <= b <= a:\n",
    "        return c,b,a\n",
    "    elif b <= c <= a:\n",
    "        return b,c,a\n",
    "    elif b <= a <= c:\n",
    "        return b,a,c\n",
    "    \n",
    "A = int(input(\"A = \"))\n",
    "B = int(input(\"B = \"))\n",
    "C = int(input(\"C = \"))\n",
    "print(Sortlnc3(A,B,C))"
   ]
  },
  {
   "cell_type": "code",
   "execution_count": 23,
   "id": "3f845cec",
   "metadata": {},
   "outputs": [
    {
     "name": "stdout",
     "output_type": "stream",
     "text": [
      "A = 8\n",
      "B = 2\n",
      "C = 5\n",
      "(8, 5, 2)\n"
     ]
    }
   ],
   "source": [
    "#FunSimple13\n",
    "def sort3(a,b,c):\n",
    "    if a<c:\n",
    "        a,c = c,a\n",
    "    if a<b:\n",
    "        a,b = b,a\n",
    "    if b<c:\n",
    "        b,c = c,b\n",
    "    return a,b,c\n",
    "\n",
    "A = int(input(\"A = \"))\n",
    "B = int(input(\"B = \"))\n",
    "C = int(input(\"C = \"))\n",
    "print(sort3(A,B,C))"
   ]
  },
  {
   "cell_type": "code",
   "execution_count": 46,
   "id": "413ca588",
   "metadata": {},
   "outputs": [
    {
     "name": "stdout",
     "output_type": "stream",
     "text": [
      "A = 3\n",
      "B = 4\n",
      "C = 5\n",
      "(5, 3, 4)\n"
     ]
    }
   ],
   "source": [
    "#FunSimple14\n",
    "def ShiftRight(a,b,c):\n",
    "    c = a + b + c\n",
    "    a = c - a - b\n",
    "    b = c - a - b \n",
    "    c = c - a - b\n",
    "    return a,b,c\n",
    "\n",
    "A = int(input(\"A = \"))\n",
    "B = int(input(\"B = \"))\n",
    "C = int(input(\"C = \"))\n",
    "print(ShiftRight(A,B,C))"
   ]
  },
  {
   "cell_type": "code",
   "execution_count": 47,
   "id": "68553892",
   "metadata": {},
   "outputs": [
    {
     "name": "stdout",
     "output_type": "stream",
     "text": [
      "A = 3\n",
      "B = 4\n",
      "C = 5\n",
      "(4, 5, 3)\n"
     ]
    }
   ],
   "source": [
    "#FunSimple15\n",
    "def ShiftLeft(a,b,c):\n",
    "    a = a + b + c\n",
    "    c = a - b - c\n",
    "    b = a - b - c\n",
    "    a = a - b - c\n",
    "    return a,b,c\n",
    "\n",
    "A = int(input(\"A = \"))\n",
    "B = int(input(\"B = \"))\n",
    "C = int(input(\"C = \"))\n",
    "print(ShiftLeft(A,B,C))"
   ]
  },
  {
   "cell_type": "code",
   "execution_count": 51,
   "id": "c27f7cba",
   "metadata": {},
   "outputs": [
    {
     "name": "stdout",
     "output_type": "stream",
     "text": [
      "a = 2\n",
      "b = 0\n",
      "1\n"
     ]
    }
   ],
   "source": [
    "#FunSimple16\n",
    "def ishora(x):\n",
    "    if x > 0:\n",
    "        x = 1\n",
    "    elif x < 0:\n",
    "        x = -1\n",
    "    else:\n",
    "        x = 0\n",
    "    return x\n",
    "\n",
    "a = int(input(\"a = \"))\n",
    "b = int(input(\"b = \"))\n",
    "s = ishora(a) + ishora(b)\n",
    "print(s)"
   ]
  },
  {
   "cell_type": "code",
   "execution_count": 114,
   "id": "bcde8367",
   "metadata": {},
   "outputs": [
    {
     "name": "stdout",
     "output_type": "stream",
     "text": [
      "A = 2\n",
      "B = 0\n",
      "C = 3\n",
      "Mavjud emas\n"
     ]
    }
   ],
   "source": [
    "#FunSimple17\n",
    "def tenglama(x,y,z):\n",
    "    if (z == 0 and y != 0) or (y**2 - 4 * x * z) > 0:\n",
    "        s = 2\n",
    "    elif y==0 and x<0 and z>0:\n",
    "        s = 1\n",
    "    elif y==0 and x>0 and z<0:\n",
    "        s = 1\n",
    "    elif y**2 - 4 * x * z == 0:\n",
    "        s = 1\n",
    "    else:\n",
    "        s = \"Mavjud emas\"\n",
    "    return s\n",
    "\n",
    "A = int(input(\"A = \"))\n",
    "B = int(input(\"B = \"))       \n",
    "C = int(input(\"C = \"))\n",
    "print(tenglama(A,B,C))"
   ]
  },
  {
   "cell_type": "code",
   "execution_count": 64,
   "id": "9a7b3378",
   "metadata": {},
   "outputs": [
    {
     "name": "stdout",
     "output_type": "stream",
     "text": [
      "R = 2\n",
      "12.566370614359172\n"
     ]
    }
   ],
   "source": [
    "#FunSimple18\n",
    "def D_yuzi(x):\n",
    "    s = pi * x**2\n",
    "    return s\n",
    "\n",
    "R = int(input(\"R = \"))\n",
    "print(D_yuzi(R))"
   ]
  },
  {
   "cell_type": "code",
   "execution_count": 22,
   "id": "1e652185",
   "metadata": {},
   "outputs": [
    {
     "name": "stdout",
     "output_type": "stream",
     "text": [
      "R1 = 3\n",
      "R2 = 1\n",
      "25.132741228718345\n"
     ]
    }
   ],
   "source": [
    "#FunSimple19\n",
    "from math import pi\n",
    "def RingS(x,y):\n",
    "    s1 = pi * x**2\n",
    "    s2 = pi * y**2\n",
    "    return abs(s2 - s1)\n",
    "\n",
    "R1 = int(input(\"R1 = \"))\n",
    "R2 = int(input(\"R2 = \"))\n",
    "print(RingS(R1,R2))"
   ]
  },
  {
   "cell_type": "code",
   "execution_count": 66,
   "id": "3e0bf08c",
   "metadata": {},
   "outputs": [
    {
     "name": "stdout",
     "output_type": "stream",
     "text": [
      "A = 3\n",
      "B = 4\n",
      "12.0\n"
     ]
    }
   ],
   "source": [
    "#FunSimple20\n",
    "def TriangleP(x,y):\n",
    "    z = (x**2 +y**2)**(1/2)\n",
    "    p = x + y + z\n",
    "    return p\n",
    "\n",
    "A = int(input(\"A = \"))\n",
    "B = int(input(\"B = \"))\n",
    "print(TriangleP(A,B))"
   ]
  },
  {
   "cell_type": "code",
   "execution_count": 67,
   "id": "e7a7f002",
   "metadata": {},
   "outputs": [
    {
     "name": "stdout",
     "output_type": "stream",
     "text": [
      "55\n"
     ]
    }
   ],
   "source": [
    "#FunSimple21\n",
    "def SumRange(x,y):\n",
    "    if x > y:\n",
    "        return 0\n",
    "    else:\n",
    "        s = 0\n",
    "        for i in range(x,y+1):\n",
    "            s += i\n",
    "        return s\n",
    "    \n",
    "print(SumRange(1,10))"
   ]
  },
  {
   "cell_type": "code",
   "execution_count": 76,
   "id": "dd20a57e",
   "metadata": {},
   "outputs": [
    {
     "name": "stdout",
     "output_type": "stream",
     "text": [
      "A = 5\n",
      "B = 9\n",
      "Amal = 2\n",
      "45\n"
     ]
    }
   ],
   "source": [
    "#FunSimple22\n",
    "def Calc(x,y,amal):\n",
    "    if amal == 1:\n",
    "        s = x - y\n",
    "    elif amal == 2:\n",
    "        s = x * y\n",
    "    elif amal == 3:\n",
    "        s = x / y\n",
    "    else:\n",
    "        s = x + y\n",
    "    return s\n",
    "\n",
    "A = int(input(\"A = \"))\n",
    "B = int(input(\"B = \"))\n",
    "Amal = int(input(\"Amal = \"))\n",
    "print(Calc(A,B,Amal))"
   ]
  },
  {
   "cell_type": "code",
   "execution_count": 90,
   "id": "89789f43",
   "metadata": {},
   "outputs": [
    {
     "name": "stdout",
     "output_type": "stream",
     "text": [
      "x = 5\n",
      "y = -9\n",
      "4-chorak\n"
     ]
    }
   ],
   "source": [
    "#FunSimple23\n",
    "def Quarter(x,y):\n",
    "    if x > 0 and y > 0:\n",
    "        s = \"1-chorak\"\n",
    "    elif x < 0 and y > 0:\n",
    "        s = \"2-chorak\"\n",
    "    elif x < 0 and y < 0:\n",
    "        s = \"3-chorak\"\n",
    "    elif x > 0 and y < 0:\n",
    "        s = \"4-chorak\"\n",
    "    return s\n",
    "\n",
    "x = int(input(\"x = \"))\n",
    "y = int(input(\"y = \"))\n",
    "print(Quarter(x,y))"
   ]
  },
  {
   "cell_type": "code",
   "execution_count": 89,
   "id": "25af0897",
   "metadata": {},
   "outputs": [
    {
     "name": "stdout",
     "output_type": "stream",
     "text": [
      "k = 9\n",
      "False\n"
     ]
    }
   ],
   "source": [
    "#FunSimple24\n",
    "def Even(x):\n",
    "    if x%2==0:\n",
    "        s = True\n",
    "    else:\n",
    "        s = False\n",
    "    return s\n",
    "\n",
    "k = int(input(\"k = \"))\n",
    "print(Even(k))"
   ]
  },
  {
   "cell_type": "code",
   "execution_count": 3,
   "id": "ef6c6246",
   "metadata": {},
   "outputs": [
    {
     "name": "stdout",
     "output_type": "stream",
     "text": [
      "k = 9\n",
      "True\n"
     ]
    }
   ],
   "source": [
    "#FunSimple25\n",
    "def Square(x):\n",
    "    if x**0.5 % 1==0:\n",
    "        s = True\n",
    "    else:\n",
    "        s = False\n",
    "    return s\n",
    "\n",
    "k = int(input('k = '))\n",
    "print(Square(k))"
   ]
  },
  {
   "cell_type": "code",
   "execution_count": 140,
   "id": "64f7cf01",
   "metadata": {},
   "outputs": [
    {
     "name": "stdout",
     "output_type": "stream",
     "text": [
      "k = 625\n",
      "True\n"
     ]
    }
   ],
   "source": [
    "#FunSimple26\n",
    "def Power5(x):\n",
    "    i = 1\n",
    "    while 5**i != x:\n",
    "        if 5**i>x:\n",
    "            s = False\n",
    "            break\n",
    "        i += 1\n",
    "    else:\n",
    "        s = True\n",
    "    return s\n",
    "\n",
    "k = int(input(\"k = \"))\n",
    "print(Power5(k))"
   ]
  },
  {
   "cell_type": "code",
   "execution_count": 148,
   "id": "2f7bb457",
   "metadata": {},
   "outputs": [
    {
     "name": "stdout",
     "output_type": "stream",
     "text": [
      "K = 2048\n",
      "N = 2\n",
      "True\n"
     ]
    }
   ],
   "source": [
    "#FunSimple27\n",
    "def PowerN(x,y):\n",
    "    i = 1\n",
    "    while y**i != x:\n",
    "        if y**i>x:\n",
    "            s = False\n",
    "            break\n",
    "        i += 1\n",
    "    else:\n",
    "        s = True\n",
    "    return s\n",
    "\n",
    "K = int(input(\"K = \"))\n",
    "N = int(input(\"N = \"))\n",
    "print(PowerN(K,N))"
   ]
  },
  {
   "cell_type": "code",
   "execution_count": 166,
   "id": "5d2ef4c7",
   "metadata": {},
   "outputs": [
    {
     "name": "stdout",
     "output_type": "stream",
     "text": [
      "N = 13\n",
      "True\n"
     ]
    }
   ],
   "source": [
    "#FunSimple28\n",
    "def Prime(x):\n",
    "    k = 0\n",
    "    for i in range(1,x+1):\n",
    "        if x%i==0:\n",
    "            k += 1\n",
    "    if k==2:\n",
    "        return True\n",
    "    else:\n",
    "        return False\n",
    "    \n",
    "N = int(input(\"N = \"))\n",
    "print(Prime(N))"
   ]
  },
  {
   "cell_type": "code",
   "execution_count": 169,
   "id": "b6e907fe",
   "metadata": {},
   "outputs": [
    {
     "name": "stdout",
     "output_type": "stream",
     "text": [
      "K = 12354\n",
      "5\n"
     ]
    }
   ],
   "source": [
    "#FunSimple29\n",
    "def DigitCount(x):\n",
    "    k = 0\n",
    "    while x != 0:\n",
    "        k += 1\n",
    "        x //= 10\n",
    "    return k\n",
    "\n",
    "K = int(input(\"K = \"))\n",
    "print(DigitCount(K))"
   ]
  },
  {
   "cell_type": "code",
   "execution_count": 20,
   "id": "7a992b45",
   "metadata": {},
   "outputs": [
    {
     "name": "stdout",
     "output_type": "stream",
     "text": [
      "K = 452216518\n",
      "N = 5\n"
     ]
    },
    {
     "data": {
      "text/plain": [
       "1"
      ]
     },
     "execution_count": 20,
     "metadata": {},
     "output_type": "execute_result"
    }
   ],
   "source": [
    "#FunSimple30\n",
    "def Digit(x,y):\n",
    "    k = 1\n",
    "    for i in str(x):\n",
    "        if k==y:\n",
    "            return int(i)\n",
    "            break\n",
    "        k+=1\n",
    "    else:\n",
    "        return -1\n",
    "    \n",
    "K = int(input(\"K = \"))\n",
    "N = int(input(\"N = \"))\n",
    "Digit(K,N)"
   ]
  },
  {
   "cell_type": "code",
   "execution_count": 63,
   "id": "0d848ace",
   "metadata": {},
   "outputs": [
    {
     "name": "stdout",
     "output_type": "stream",
     "text": [
      "N = 121\n"
     ]
    },
    {
     "data": {
      "text/plain": [
       "True"
      ]
     },
     "execution_count": 63,
     "metadata": {},
     "output_type": "execute_result"
    }
   ],
   "source": [
    "#FunSimple31\n",
    "def Palindrom(x):\n",
    "    k = x\n",
    "    s = 0\n",
    "    while k != 0:\n",
    "        s = k%10 + s*10\n",
    "        k //= 10\n",
    "        \n",
    "    if s == x:\n",
    "        return True\n",
    "    else:\n",
    "        return False\n",
    "N = int(input(\"N = \"))\n",
    "print(Palindrom(N))"
   ]
  },
  {
   "cell_type": "code",
   "execution_count": 64,
   "id": "aae30038",
   "metadata": {},
   "outputs": [
    {
     "name": "stdout",
     "output_type": "stream",
     "text": [
      "D = 180\n",
      "3.141592653589793\n",
      "0.7853981633974483\n",
      "6.283185307179586\n"
     ]
    }
   ],
   "source": [
    "#FunSimple32\n",
    "from math import pi\n",
    "def DegToRad(x):\n",
    "    rad = (pi / 180) * x\n",
    "    return rad\n",
    "\n",
    "D = int(input(\"D = \"))\n",
    "print(DegToRad(D))"
   ]
  },
  {
   "cell_type": "code",
   "execution_count": 19,
   "id": "1c79744b",
   "metadata": {},
   "outputs": [
    {
     "name": "stdout",
     "output_type": "stream",
     "text": [
      "R = 45\n",
      "2578.3100780887044\n"
     ]
    }
   ],
   "source": [
    "#FunSimple33\n",
    "from math import pi\n",
    "def RadToDeg(x):\n",
    "    deg = (180 / pi ) * x\n",
    "    return deg\n",
    "\n",
    "R = float(input(\"R = \"))\n",
    "print(RadToDeg(R))"
   ]
  },
  {
   "cell_type": "code",
   "execution_count": 97,
   "id": "819a491a",
   "metadata": {},
   "outputs": [
    {
     "name": "stdout",
     "output_type": "stream",
     "text": [
      "N = 5\n",
      "120\n"
     ]
    }
   ],
   "source": [
    "#FunSimple34\n",
    "def Fact(x):\n",
    "    s = 1\n",
    "    for i in range(1,x+1):\n",
    "        s *= i\n",
    "    return s\n",
    "\n",
    "N = int(input(\"N = \"))\n",
    "print(Fact(N))"
   ]
  },
  {
   "cell_type": "code",
   "execution_count": 100,
   "id": "722c27bb",
   "metadata": {},
   "outputs": [
    {
     "name": "stdout",
     "output_type": "stream",
     "text": [
      "N = 5\n",
      "15\n"
     ]
    }
   ],
   "source": [
    "#FunSimple35\n",
    "def Fact2(x):\n",
    "    s = 1\n",
    "    for i in range(x,0,-2):\n",
    "        s *= i\n",
    "    return s\n",
    "\n",
    "N = int(input(\"N = \"))\n",
    "print(Fact2(N))"
   ]
  },
  {
   "cell_type": "code",
   "execution_count": 110,
   "id": "112d985d",
   "metadata": {},
   "outputs": [
    {
     "name": "stdout",
     "output_type": "stream",
     "text": [
      "N = 7\n",
      "13\n"
     ]
    }
   ],
   "source": [
    "#FunSimple36\n",
    "def Fib(x):\n",
    "    f1 = 1\n",
    "    f2 = 1\n",
    "    for i in range(x-2):\n",
    "        f1 = f1 + f2\n",
    "        f2 = f1 - f2\n",
    "    return f1\n",
    "\n",
    "N = int(input(\"N = \"))\n",
    "print(Fib(N))"
   ]
  },
  {
   "cell_type": "code",
   "execution_count": 113,
   "id": "12f2d5d4",
   "metadata": {},
   "outputs": [
    {
     "name": "stdout",
     "output_type": "stream",
     "text": [
      "A = 2.2\n",
      "B = 2\n",
      "4.840000000000001\n",
      "9\n",
      "12.25\n"
     ]
    }
   ],
   "source": [
    "#FunSimple37\n",
    "def Power1(x,y):\n",
    "    return x**y\n",
    "\n",
    "A = float(input(\"A = \"))\n",
    "B = int(input(\"B = \"))\n",
    "print(Power1(A,B))\n",
    "print(Power1(3,B))\n",
    "print(Power1(3.5,B))"
   ]
  },
  {
   "cell_type": "code",
   "execution_count": 119,
   "id": "6da073ce",
   "metadata": {},
   "outputs": [
    {
     "name": "stdout",
     "output_type": "stream",
     "text": [
      "A = -2.2\n",
      "B = 2\n",
      "0.20661157024793386\n"
     ]
    }
   ],
   "source": [
    "#FunSimple38\n",
    "def Power2(x,y):\n",
    "    if x >= 0:\n",
    "        s = x**y\n",
    "    else:\n",
    "        s = 1 / x**y\n",
    "    return s\n",
    "\n",
    "A = float(input(\"A = \"))\n",
    "B = int(input(\"B = \"))\n",
    "print(Power2(A,B))"
   ]
  },
  {
   "cell_type": "code",
   "execution_count": 38,
   "id": "4144f063",
   "metadata": {},
   "outputs": [
    {
     "name": "stdout",
     "output_type": "stream",
     "text": [
      "A = 2\n",
      "B = 0.5\n",
      "1.4142135623730951\n"
     ]
    }
   ],
   "source": [
    "#FunSimple39\n",
    "def Power1(x,y):\n",
    "    return x**y\n",
    "\n",
    "def Power2(x,y):\n",
    "    if x >= 0:\n",
    "        s = x**y\n",
    "    else:\n",
    "        s = 1 / x**y\n",
    "    return s\n",
    "\n",
    "def Power3(a,n):\n",
    "    if n%1 != 0:\n",
    "        return Power2(a,n)\n",
    "    else:\n",
    "        return Power1(a,n)\n",
    "        \n",
    "A = float(input(\"A = \"))\n",
    "N = float(input(\"B = \"))\n",
    "print(Power3(A,N))"
   ]
  },
  {
   "cell_type": "code",
   "execution_count": 40,
   "id": "3503845f",
   "metadata": {},
   "outputs": [
    {
     "name": "stdout",
     "output_type": "stream",
     "text": [
      "x = 2\n",
      "e = 0.5\n",
      "7.0\n"
     ]
    }
   ],
   "source": [
    "#FunSimple40\n",
    "def Exp1(x,e):\n",
    "    p = 1\n",
    "    s = 1\n",
    "    i = 1\n",
    "    while True:\n",
    "        p *= i\n",
    "        if x**i/p < e:\n",
    "            return s\n",
    "        else:\n",
    "            s+= x**i / p\n",
    "            i += 1\n",
    "            \n",
    "x = int(input(\"x = \"))\n",
    "e = float(input(\"e = \"))\n",
    "print(Exp1(x,e))"
   ]
  },
  {
   "cell_type": "code",
   "execution_count": 75,
   "id": "a8550b8b",
   "metadata": {},
   "outputs": [
    {
     "name": "stdout",
     "output_type": "stream",
     "text": [
      "x = 2\n",
      "e = 0.5\n",
      "0.6666666666666667\n"
     ]
    }
   ],
   "source": [
    "#FunSimple41\n",
    "def Sin1(x,e):\n",
    "    fact = 1\n",
    "    s = x\n",
    "    i = 1\n",
    "    while True:\n",
    "        fact *= 2*i * (2*i + 1)\n",
    "        daraja = (-1)**i * x**(2*i+1)\n",
    "        if abs(daraja/fact) < e:\n",
    "            return s\n",
    "        else:\n",
    "            s += daraja / fact\n",
    "            i += 1\n",
    "            \n",
    "x = int(input(\"x = \"))\n",
    "e = float(input(\"e = \"))\n",
    "print(Sin1(x,e))"
   ]
  },
  {
   "cell_type": "code",
   "execution_count": 42,
   "id": "15631201",
   "metadata": {},
   "outputs": [
    {
     "name": "stdout",
     "output_type": "stream",
     "text": [
      "x = 2\n",
      "e = 0.5\n",
      "-0.33333333333333337\n"
     ]
    }
   ],
   "source": [
    "#FunSimple42\n",
    "def Cos1(x,e):\n",
    "    s = 1\n",
    "    fact = 1\n",
    "    i = 1\n",
    "    while True:\n",
    "        fact *= (2*i-1) * 2*i\n",
    "        daraja = (-1)**i * x**(2*i)\n",
    "        if abs(daraja/fact) < e:\n",
    "            return s\n",
    "        else:\n",
    "            s += daraja / fact\n",
    "            i += 1\n",
    "            \n",
    "x = int(input(\"x = \"))\n",
    "e = float(input(\"e = \"))\n",
    "print(Cos1(x,e))"
   ]
  },
  {
   "cell_type": "code",
   "execution_count": 89,
   "id": "9e2f186e",
   "metadata": {},
   "outputs": [
    {
     "name": "stdout",
     "output_type": "stream",
     "text": [
      "x = 1.3\n",
      "e = 1.02\n",
      "1.3\n"
     ]
    }
   ],
   "source": [
    "#FunSimple43\n",
    "def Ln1(x,e):\n",
    "    s = 0\n",
    "    i = 1\n",
    "    while True:\n",
    "        daraja = ((-1)**(i-1) * x**i) / i   \n",
    "        if abs(daraja)  < e:\n",
    "            return s\n",
    "        else:\n",
    "            s +=  daraja\n",
    "            i += 1\n",
    "            \n",
    "x = float(input(\"x = \"))\n",
    "e = float(input(\"e = \"))\n",
    "print(Ln1(x,e))      "
   ]
  },
  {
   "cell_type": "code",
   "execution_count": 90,
   "id": "07dad0cc",
   "metadata": {},
   "outputs": [
    {
     "name": "stdout",
     "output_type": "stream",
     "text": [
      "x = 1.3\n",
      "e = 1.02\n",
      "1.3\n"
     ]
    }
   ],
   "source": [
    "#FunSimple44\n",
    "def Arctg1(x,e):\n",
    "    s = 0\n",
    "    i = 0\n",
    "    while True:\n",
    "        daraja = (-1)**(i) * x**(2*i+1) / (2*i+1)\n",
    "        if abs(daraja) < e:\n",
    "            return s\n",
    "        else:\n",
    "            s += daraja\n",
    "            i += 1\n",
    "            \n",
    "x = float(input(\"x = \"))\n",
    "e = float(input(\"e = \"))\n",
    "print(Arctg1(x,e))   "
   ]
  },
  {
   "cell_type": "code",
   "execution_count": 16,
   "id": "fc7cb6a6",
   "metadata": {},
   "outputs": [
    {
     "name": "stdout",
     "output_type": "stream",
     "text": [
      "x = 1\n",
      "a = 2\n",
      "e  = 0.2\n",
      "4.333333333333333\n"
     ]
    }
   ],
   "source": [
    "#FunSimple45\n",
    "def Power4(x,a,e):\n",
    "    s = 1\n",
    "    i = 1\n",
    "    p = 1\n",
    "    a1 = a\n",
    "    while True:\n",
    "        p *= i\n",
    "        daraja = x**i\n",
    "        if abs(a*daraja/p) < e:\n",
    "            return s\n",
    "        else:\n",
    "            s += a*daraja / p\n",
    "            if (a1 - i) != 0 :\n",
    "                a *= (a1 - i)     \n",
    "            i += 1\n",
    "            \n",
    "x = int(input(\"x = \"))\n",
    "a = int(input(\"a = \"))\n",
    "e = float(input(\"e  = \"))\n",
    "print(Power4(x,a,e))"
   ]
  },
  {
   "cell_type": "code",
   "execution_count": 4,
   "id": "aad70938",
   "metadata": {},
   "outputs": [
    {
     "name": "stdout",
     "output_type": "stream",
     "text": [
      "A = 15\n",
      "B = 20\n",
      "5\n"
     ]
    }
   ],
   "source": [
    "#FunSimple46\n",
    "def Ekub(x,y):\n",
    "    while x != y:\n",
    "        if x > y:\n",
    "            x %= y\n",
    "        else:\n",
    "            y %= x\n",
    "        if x == 0:\n",
    "            x = y\n",
    "        if y == 0:\n",
    "            y = x\n",
    "            \n",
    "    return x\n",
    "\n",
    "A = int(input(\"A = \"))\n",
    "B = int(input(\"B = \"))\n",
    "print(Ekub(A,B))"
   ]
  },
  {
   "cell_type": "code",
   "execution_count": 34,
   "id": "14f557f2",
   "metadata": {},
   "outputs": [
    {
     "name": "stdout",
     "output_type": "stream",
     "text": [
      "a = 25\n",
      "b = 45\n",
      "5/9\n"
     ]
    }
   ],
   "source": [
    "#FunSimple47\n",
    "def Frac1(x,y):\n",
    "    ekub =  x\n",
    "    while x%ekub != 0 or y%ekub != 0:\n",
    "        ekub -= 1\n",
    "    x //= ekub\n",
    "    y //= ekub \n",
    "    \n",
    "    return x,y\n",
    "\n",
    "a =  int(input(\"a = \"))\n",
    "b =  int(input(\"b = \"))\n",
    "c,d = Frac1(a,b)\n",
    "print(f\"{c}/{d}\")"
   ]
  },
  {
   "cell_type": "code",
   "execution_count": 7,
   "id": "4a51ba5e",
   "metadata": {},
   "outputs": [
    {
     "name": "stdout",
     "output_type": "stream",
     "text": [
      "A = 45\n",
      "B = 96\n",
      "Ekuk =  1440\n"
     ]
    }
   ],
   "source": [
    "#FunSimple48\n",
    "def Ekuk(x,y):\n",
    "    s = x * y\n",
    "    while x != y:\n",
    "        if x > y:\n",
    "            x %= y\n",
    "        else:\n",
    "            y %= x\n",
    "        if x == 0:\n",
    "            x = y\n",
    "        if y == 0:\n",
    "            y = x\n",
    "            \n",
    "    return s // x\n",
    "\n",
    "A = int(input(\"A = \"))\n",
    "B = int(input(\"B = \"))\n",
    "ekuk = Ekuk(A,B)\n",
    "print(\"Ekuk = \",ekuk)"
   ]
  },
  {
   "cell_type": "code",
   "execution_count": 25,
   "id": "05998b22",
   "metadata": {},
   "outputs": [
    {
     "name": "stdout",
     "output_type": "stream",
     "text": [
      "a = 30\n",
      "b = 45\n",
      "c = 180\n",
      "(15, 180)\n"
     ]
    }
   ],
   "source": [
    "#FunSimple49\n",
    "def Ekub_Ekuk(x,y,z):          \n",
    "    ekub = x\n",
    "    ekuk = x\n",
    "    while x%ekub != 0 or y%ekub != 0 or z%ekub != 0:\n",
    "        ekub -= 1\n",
    "    while ekuk%x != 0 or ekuk%y != 0 or ekuk%z != 0:\n",
    "        ekuk += 1\n",
    "        \n",
    "    return  ekub,ekuk\n",
    "\n",
    "a = int(input(\"a = \"))\n",
    "b = int(input(\"b = \"))\n",
    "c = int(input(\"c = \"))\n",
    "\n",
    "print(Ekub_Ekuk(a,b,c))"
   ]
  },
  {
   "cell_type": "code",
   "execution_count": 11,
   "id": "1385a3a0",
   "metadata": {},
   "outputs": [
    {
     "name": "stdout",
     "output_type": "stream",
     "text": [
      "T = 3920\n",
      "(1, 5, 20)\n"
     ]
    }
   ],
   "source": [
    "#FunSimple50\n",
    "def TimeToHMS(x):\n",
    "    soat = x // 3600\n",
    "    minut = x % 3600 // 60\n",
    "    sekund = x % 60\n",
    "    \n",
    "    return soat,minut,sekund\n",
    "\n",
    "T = int(input(\"T = \"))\n",
    "print(TimeToHMS(T))"
   ]
  },
  {
   "cell_type": "code",
   "execution_count": 14,
   "id": "4a7fded6",
   "metadata": {},
   "outputs": [
    {
     "name": "stdout",
     "output_type": "stream",
     "text": [
      "H = 2\n",
      "M = 20\n",
      "S = 20\n",
      "8420\n"
     ]
    }
   ],
   "source": [
    "#FunSimple51\n",
    "def IncTime(x,y,z):\n",
    "    soat = x * 3600\n",
    "    minut = y * 60\n",
    "    sekund = z\n",
    "    T = soat + minut + sekund\n",
    "    \n",
    "    return T\n",
    "\n",
    "H = int(input(\"H = \"))\n",
    "M = int(input(\"M = \"))\n",
    "S = int(input(\"S = \"))\n",
    "print(IncTime(H,M,S))"
   ]
  },
  {
   "cell_type": "code",
   "execution_count": 26,
   "id": "dbdd2003",
   "metadata": {},
   "outputs": [
    {
     "name": "stdout",
     "output_type": "stream",
     "text": [
      "Year =  2024\n",
      "True\n"
     ]
    }
   ],
   "source": [
    "#FunSimple52\n",
    "def IsLeapYear(x):\n",
    "    kabisa = False\n",
    "    if x % 4 ==0:\n",
    "        kabisa = True\n",
    "    if x%100 == 0 and x%400 != 0:\n",
    "        kabisa = False\n",
    "        \n",
    "    return kabisa\n",
    "\n",
    "Y = int(input(\"Year =  \"))\n",
    "print(IsLeapYear(Y))"
   ]
  },
  {
   "cell_type": "code",
   "execution_count": 27,
   "id": "ed345aba",
   "metadata": {},
   "outputs": [
    {
     "name": "stdout",
     "output_type": "stream",
     "text": [
      "Year =  2020\n",
      "Month =  2\n",
      "29\n"
     ]
    }
   ],
   "source": [
    "#FunSimple53\n",
    "def MonthDays(x,y):\n",
    "    kabisa = False\n",
    "    if y%4==0:\n",
    "        kabisa = True\n",
    "    if y%100==0 and y%400!=0:\n",
    "        kabisa = False\n",
    "        \n",
    "    if x==1 or x==3 or x==5 or x==7 or x==8 or x==10 or x==12:\n",
    "        kun = 31\n",
    "    elif x==4 or x==6 or x==9 or x==11:\n",
    "        kun = 30\n",
    "    elif x==2:\n",
    "        kun = 28 + kabisa\n",
    "        \n",
    "    return kun\n",
    "\n",
    "Y = int(input(\"Year =  \"))\n",
    "M = int(input(\"Month =  \"))\n",
    "print(MonthDays(M,Y))"
   ]
  },
  {
   "cell_type": "code",
   "execution_count": 9,
   "id": "01ae3ae4",
   "metadata": {},
   "outputs": [
    {
     "name": "stdout",
     "output_type": "stream",
     "text": [
      "Day =  20\n",
      "Month =  12\n",
      "Year =  2023\n",
      "(19, 12, 2023)\n"
     ]
    }
   ],
   "source": [
    "#FunSimple54\n",
    "def PrevDate(d,m,y):\n",
    "    kabisa = False\n",
    "    if y%4==0:\n",
    "        kabisa=True\n",
    "    if y%100==0 and y%400!=0:\n",
    "        kabisa=False\n",
    "\n",
    "    if d == 1 and (m==5 or m==7 or m==10 or m==12):  \n",
    "            d = 30\n",
    "            m -= 1\n",
    "    elif d == 1 and m == 3:\n",
    "            d = 28 + kabisa\n",
    "            m = 2\n",
    "    else:\n",
    "        if d == 1:\n",
    "            d = 31\n",
    "            m -= 1\n",
    "        if m == 0:\n",
    "            m = 12\n",
    "            y -= 1\n",
    "        else:\n",
    "            d -= 1\n",
    "\n",
    "    return d,m,y\n",
    "\n",
    "D = int(input(\"Day =  \"))\n",
    "M = int(input(\"Month =  \"))\n",
    "Y = int(input(\"Year =  \"))\n",
    "print(PrevDate(D,M,Y))"
   ]
  },
  {
   "cell_type": "code",
   "execution_count": 15,
   "id": "8f515525",
   "metadata": {},
   "outputs": [
    {
     "name": "stdout",
     "output_type": "stream",
     "text": [
      "Day =  25\n",
      "Month =  02\n",
      "Year =  2021\n",
      "(26, 2, 2021)\n"
     ]
    }
   ],
   "source": [
    "#FunSimple55\n",
    "def NextDate(d,m,y):\n",
    "    kabisa = False\n",
    "    if y%4==0:\n",
    "        kabisa=True\n",
    "    if y%100==0 and y%400!=0:\n",
    "        kabisa=False\n",
    "\n",
    "    if d == 31 and (m==1 or m==3 or m==5 or m==7 or m==8 or m==10):  \n",
    "            d = 1\n",
    "            m += 1\n",
    "    elif d == 30 and (m==4 or m==6 or m==9 or m==11):\n",
    "            d = 1\n",
    "            m += 1\n",
    "    elif d == 31 and m == 12:\n",
    "        d = 1\n",
    "        m = 1\n",
    "        y += 1\n",
    "    elif d == 28 + kabisa:\n",
    "        d = 1\n",
    "        m = 3\n",
    "    else:\n",
    "        d+=1\n",
    "        \n",
    "    return d,m,y\n",
    "\n",
    "D = int(input(\"Day =  \"))\n",
    "M = int(input(\"Month =  \"))\n",
    "Y = int(input(\"Year =  \"))\n",
    "print(NextDate(D,M,Y))"
   ]
  },
  {
   "cell_type": "code",
   "execution_count": 17,
   "id": "b1c4df0b",
   "metadata": {},
   "outputs": [
    {
     "name": "stdout",
     "output_type": "stream",
     "text": [
      "x1 = 2\n",
      "y1 = 3\n",
      "x2 = 9\n",
      "y2 = 8\n",
      "8.602325267042627\n"
     ]
    }
   ],
   "source": [
    "#FunSimple56\n",
    "def Leng(x1,y1,x2,y2):\n",
    "    x = abs(x1-x2)\n",
    "    y = abs(y1-y2)\n",
    "    z = (x**2 + y**2)**0.5\n",
    "    return z\n",
    "\n",
    "x1 = int(input(\"x1 = \"))\n",
    "y1 = int(input(\"y1 = \"))\n",
    "x2 = int(input(\"x2 = \"))\n",
    "y2 = int(input(\"y2 = \"))\n",
    "print(Leng(x1,y1,x2,y2))"
   ]
  },
  {
   "cell_type": "code",
   "execution_count": 6,
   "id": "b81fba6f",
   "metadata": {},
   "outputs": [
    {
     "name": "stdout",
     "output_type": "stream",
     "text": [
      "x1 = 2\n",
      "y1 = 3\n",
      "x2 = 5\n",
      "y2 = 8\n",
      "x3 = 10\n",
      "y3 = 3\n",
      "20.902019706710774\n"
     ]
    }
   ],
   "source": [
    "#FunSimple57\n",
    "def Leng(x1,y1,x2,y2):\n",
    "    x = abs(x1-x2)\n",
    "    y = abs(y1-y2)\n",
    "    z = (x**2 + y**2)**0.5\n",
    "    return z\n",
    "\n",
    "def Perim(x1,y1,x2,y2,x3,y3):\n",
    "    a = Leng(x1,y1,x2,y2) \n",
    "    b = Leng(x1,y1,x3,y3)    \n",
    "    c = Leng(x3,y3,x2,y2)\n",
    "    p = a + b + c\n",
    "    return p\n",
    "\n",
    "x1 = int(input(\"x1 = \"))\n",
    "y1 = int(input(\"y1 = \"))\n",
    "x2 = int(input(\"x2 = \"))\n",
    "y2 = int(input(\"y2 = \"))\n",
    "x3 = int(input(\"x3 = \"))\n",
    "y3 = int(input(\"y3 = \"))\n",
    "print(Perim(x1,y1,x2,y2,x3,y3))"
   ]
  },
  {
   "cell_type": "code",
   "execution_count": 5,
   "id": "454807fc",
   "metadata": {},
   "outputs": [
    {
     "name": "stdout",
     "output_type": "stream",
     "text": [
      "x1 = 2\n",
      "y1 = 3\n",
      "x2 = 5\n",
      "y2 = 8\n",
      "x3 = 10\n",
      "y3 = 3\n",
      "19.999999999999993\n"
     ]
    }
   ],
   "source": [
    "#FunSimple58\n",
    "def HalfPerim(a,b,c):\n",
    "    p = (a + b + c) / 2\n",
    "    return p\n",
    "\n",
    "def Leng(x1,y1,x2,y2):\n",
    "    x = abs(x1-x2)\n",
    "    y = abs(y1-y2)\n",
    "    z = (x**2 + y**2)**0.5\n",
    "    return z\n",
    "\n",
    "def Area(x1,y1,x2,y2,x3,y3):\n",
    "    a = Leng(x1,y1,x2,y2) \n",
    "    b = Leng(x1,y1,x3,y3)    \n",
    "    c = Leng(x3,y3,x2,y2)\n",
    "    p = HalfPerim(a,b,c)\n",
    "    s = (p*(p-a)*(p-b)*(p-c))**0.5\n",
    "    return s\n",
    "\n",
    "x1 = int(input(\"x1 = \"))\n",
    "y1 = int(input(\"y1 = \"))\n",
    "x2 = int(input(\"x2 = \"))\n",
    "y2 = int(input(\"y2 = \"))\n",
    "x3 = int(input(\"x3 = \"))\n",
    "y3 = int(input(\"y3 = \"))\n",
    "print(Area(x1,y1,x2,y2,x3,y3))"
   ]
  },
  {
   "cell_type": "code",
   "execution_count": 4,
   "id": "d57659af",
   "metadata": {},
   "outputs": [
    {
     "name": "stdout",
     "output_type": "stream",
     "text": [
      "x1 = 2\n",
      "y1 = 3\n",
      "x2 = 5\n",
      "y2 = 8\n",
      "x3 = 10\n",
      "y3 = 3\n",
      "6.859943405700351\n"
     ]
    }
   ],
   "source": [
    "#FunSimple59\n",
    "def Leng(x1,y1,x2,y2):\n",
    "    x = abs(x1-x2)\n",
    "    y = abs(y1-y2)\n",
    "    z = (x**2 + y**2)**0.5\n",
    "    return z\n",
    "\n",
    "def Area(x1,y1,x2,y2,x3,y3):\n",
    "    a = Leng(x1,y1,x2,y2) \n",
    "    b = Leng(x1,y1,x3,y3)    \n",
    "    c = Leng(x3,y3,x2,y2)\n",
    "    p = (a + b + c) / 2\n",
    "    s = (p*(p-a)*(p-b)*(p-c))**0.5\n",
    "    return s\n",
    "\n",
    "def Dist(x1,y1,x2,y2,x3,y3):\n",
    "    s = Area(x1,y1,x2,y2,x3,y3)\n",
    "    a = Leng(x1,y1,x2,y2)\n",
    "    h = 2 * s / a \n",
    "    return h\n",
    "\n",
    "x1 = int(input(\"x1 = \"))\n",
    "y1 = int(input(\"y1 = \"))\n",
    "x2 = int(input(\"x2 = \"))\n",
    "y2 = int(input(\"y2 = \"))\n",
    "x3 = int(input(\"x3 = \"))\n",
    "y3 = int(input(\"y3 = \"))\n",
    "print(Dist(x1,y1,x2,y2,x3,y3))"
   ]
  },
  {
   "cell_type": "code",
   "execution_count": 5,
   "id": "4ff9abea",
   "metadata": {},
   "outputs": [
    {
     "name": "stdout",
     "output_type": "stream",
     "text": [
      "x1 = 1\n",
      "y1 = 1\n",
      "x2 = 4\n",
      "y2 = 1\n",
      "x3 = 1\n",
      "y3 = 5\n",
      "(4.0, 3.0, 2.4)\n"
     ]
    }
   ],
   "source": [
    "#FunSimple60\n",
    "def HalfPerim(a,b,c):\n",
    "    p = (a + b + c)/2\n",
    "    return p\n",
    "\n",
    "def Leng(x1,y1,x2,y2):\n",
    "    x = abs(x1-x2)\n",
    "    y = abs(y1-y2)\n",
    "    z = (x**2 + y**2)**0.5\n",
    "    return z\n",
    "\n",
    "def Dist(x1,y1,x2,y2,x3,y3):\n",
    "    a = Leng(x1,y1,x2,y2)\n",
    "    b = Leng(x1,y1,x3,y3)    \n",
    "    c = Leng(x3,y3,x2,y2)\n",
    "    return a,b,c\n",
    "\n",
    "def Area(a,b,c):\n",
    "    p = HalfPerim(a,b,c)\n",
    "    s = (p*(p-a)*(p-b)*(p-c))**0.5\n",
    "    return s\n",
    "\n",
    "def Heights(x1,y1,x2,y2,x3,y3):\n",
    "    a,b,c = Dist(x1,y1,x2,y2,x3,y3)\n",
    "    s = Area(a,b,c)\n",
    "    h1 = 2 * s / a \n",
    "    h2 = 2 * s / b \n",
    "    h3 = 2 * s / c \n",
    "    return h1,h2,h3\n",
    "\n",
    "x1 = int(input(\"x1 = \"))\n",
    "y1 = int(input(\"y1 = \"))\n",
    "x2 = int(input(\"x2 = \"))\n",
    "y2 = int(input(\"y2 = \"))\n",
    "x3 = int(input(\"x3 = \"))\n",
    "y3 = int(input(\"y3 = \"))\n",
    "print(Heights(x1,y1,x2,y2,x3,y3))"
   ]
  }
 ],
 "metadata": {
  "kernelspec": {
   "display_name": "Python 3 (ipykernel)",
   "language": "python",
   "name": "python3"
  },
  "language_info": {
   "codemirror_mode": {
    "name": "ipython",
    "version": 3
   },
   "file_extension": ".py",
   "mimetype": "text/x-python",
   "name": "python",
   "nbconvert_exporter": "python",
   "pygments_lexer": "ipython3",
   "version": "3.10.3"
  }
 },
 "nbformat": 4,
 "nbformat_minor": 5
}
