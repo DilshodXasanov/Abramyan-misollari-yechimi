{
 "cells": [
  {
   "cell_type": "markdown",
   "id": "add66c60",
   "metadata": {},
   "source": [
    "# 15/02/2022\n",
    "\n",
    "# Python asoslari\n",
    "\n",
    "# 6-dars: Tanlash operatorigacha bo'lgan vazifa misollarni yechish\n",
    "\n",
    "# Muallif: Farrux Sotivoldiyev\n"
   ]
  },
  {
   "cell_type": "code",
   "execution_count": 17,
   "id": "46ea04d5",
   "metadata": {},
   "outputs": [
    {
     "name": "stdout",
     "output_type": "stream",
     "text": [
      "Kun bo'yi o'tgan sekund: 1000000000\n",
      "32 Yil\n",
      " 1 Oy\n",
      " 24 Kun\n",
      " 1 Soat\n",
      " 46 Minut\n",
      " 40 Sekund\n"
     ]
    }
   ],
   "source": [
    "#1 Sekund kiritilsa uni yil,oy,kun,soat,minut,sekund larda ifodalsh\n",
    "n = int(input(\"Kun bo'yi o'tgan sekund: \"))\n",
    "yil = n//(86400*360)\n",
    "oy = n%(86400*360)//(86400*30)\n",
    "kun = n%(86400*30)//86400\n",
    "soat = n%86400//3600\n",
    "minut = n%3600//60\n",
    "sekund = n%60\n",
    "print(yil,\"Yil\\n\",oy,\"Oy\\n\",kun,\"Kun\\n\",soat,\"Soat\\n\",minut,\"Minut\\n\",sekund,\"Sekund\")"
   ]
  },
  {
   "cell_type": "code",
   "execution_count": 20,
   "id": "12cca756",
   "metadata": {},
   "outputs": [
    {
     "name": "stdout",
     "output_type": "stream",
     "text": [
      "Baytlarda kiritingL:455889220000012\n",
      "424579 944 246 268\n"
     ]
    }
   ],
   "source": [
    "#2 Bayt kiritilsa uni GB,MB,KB,B larda ifodalash\n",
    "#1kb = 1024b\n",
    "#1mb = 1024kb\n",
    "#1gb = 1024mb\n",
    "\n",
    "B = int(input(\"Baytlarda kiriting:\"))\n",
    "GB = B//(2**30)\n",
    "MB = B%(2**30)//(2**20)\n",
    "KB = B%(2**20)//(2**10)\n",
    "B = B%(2**10)\n",
    "print(GB,MB,KB,B)"
   ]
  },
  {
   "cell_type": "code",
   "execution_count": 20,
   "id": "3bcc3f4b",
   "metadata": {},
   "outputs": [
    {
     "name": "stdout",
     "output_type": "stream",
     "text": [
      "1-ko'paytuvchini kiriting:  a = 9\n",
      "2-ko'paytuvchini kiriting:  b = 8\n",
      "72\n"
     ]
    }
   ],
   "source": [
    "# for->Qo'shish va ayirish amali yordamida * amalini bajarish\n",
    "a = int(input(\"1-ko'paytuvchini kiriting:  a = \"))  \n",
    "b = int(input(\"2-ko'paytuvchini kiriting:  b = \"))  \n",
    "s=0\n",
    "for i in range(1,a+1):\n",
    "    s+=b\n",
    "print(s)"
   ]
  },
  {
   "cell_type": "code",
   "execution_count": 22,
   "id": "8d199834",
   "metadata": {},
   "outputs": [
    {
     "name": "stdout",
     "output_type": "stream",
     "text": [
      "Bo'linuvchini kiriting:  a = 9\n",
      "Bo'luvchini kiriting:  b = 8\n",
      "72\n"
     ]
    }
   ],
   "source": [
    "# while->Qo'shish va ayirish amali yordamida * amalini bajarish\n",
    "a = int(input(\"Bo'linuvchini kiriting:  a = \"))  \n",
    "b = int(input(\"Bo'luvchini kiriting:  b = \"))\n",
    "s = 0\n",
    "k = 0\n",
    "while k<a:\n",
    "    s+=b\n",
    "    k+=1\n",
    "print(s)\n"
   ]
  },
  {
   "cell_type": "code",
   "execution_count": 27,
   "id": "61e645ed",
   "metadata": {},
   "outputs": [
    {
     "name": "stdout",
     "output_type": "stream",
     "text": [
      "Bo'linuvchini kiriting:  a = 8\n",
      "Bo'luvchini kiriting:  b = 4\n",
      "2\n"
     ]
    }
   ],
   "source": [
    "#Qo'shish va ayirish amali yordamida // amalini bajarish\n",
    "a = int(input(\"Bo'linuvchini kiriting:  a = \"))  \n",
    "b = int(input(\"Bo'luvchini kiriting:  b = \"))\n",
    "k = 0\n",
    "while a>=b:\n",
    "    k+=1\n",
    "    a-=b\n",
    "print(k)\n",
    "\n"
   ]
  },
  {
   "cell_type": "code",
   "execution_count": 31,
   "id": "317e937c",
   "metadata": {},
   "outputs": [
    {
     "name": "stdout",
     "output_type": "stream",
     "text": [
      "Bo'linuvchini kiriting:  a = 8\n",
      "Bo'luvchini kiriting:  b = 4\n",
      "0\n"
     ]
    }
   ],
   "source": [
    "#Qo'shish va ayirish amali yordamida % amalini bajarish\n",
    "a = int(input(\"Bo'linuvchini kiriting:  a = \"))  \n",
    "b = int(input(\"Bo'luvchini kiriting:  b = \"))\n",
    "k = 0\n",
    "while a>=b:\n",
    "    a-=b\n",
    "print(a)"
   ]
  },
  {
   "cell_type": "code",
   "execution_count": 11,
   "id": "a2e046b7",
   "metadata": {},
   "outputs": [
    {
     "name": "stdout",
     "output_type": "stream",
     "text": [
      "a = 0\n",
      "-1\n"
     ]
    }
   ],
   "source": [
    "# shart operatorini bir qatorda yozish\n",
    "a = int(input(\"a = \"))\n",
    "b = 1 if a>0 else -1 if a==0 else 0\n",
    "print(b)"
   ]
  },
  {
   "cell_type": "code",
   "execution_count": 8,
   "id": "a9a8c56e",
   "metadata": {},
   "outputs": [
    {
     "name": "stdout",
     "output_type": "stream",
     "text": [
      "day = 5\n",
      "month = 9\n",
      "year = 2021\n",
      "4/9/2021\n"
     ]
    }
   ],
   "source": [
    "# kun,oy va yil kiritiladi kabisa yili va oddiy yil ekanini ham nazarga olib oldingi kunni chiqarsin\n",
    "d = int(input('day = '))\n",
    "m = int(input('month = '))\n",
    "y = int(input('year = '))\n",
    "\n",
    "kabisa = False\n",
    "if y%4==0:\n",
    "    kabisa=True\n",
    "if y%100==0 and y%400!=0:\n",
    "    kabisa=False\n",
    "\n",
    "d = d - 1\n",
    "\n",
    "if d == 0 and (m==5 or m==7 or m==10 or m==12):\n",
    "        d = 30\n",
    "        m = m - 1\n",
    "elif d == 0 and m == 3:\n",
    "        d = 28 + kabisa\n",
    "        m = 2\n",
    "else:\n",
    "    if d == 0:\n",
    "        d = 31\n",
    "        m = m - 1\n",
    "    if m == 0:\n",
    "        m = 12\n",
    "        y = y - 1\n",
    "\n",
    "print(d,m,y,sep='/')"
   ]
  }
 ],
 "metadata": {
  "kernelspec": {
   "display_name": "Python 3 (ipykernel)",
   "language": "python",
   "name": "python3"
  },
  "language_info": {
   "codemirror_mode": {
    "name": "ipython",
    "version": 3
   },
   "file_extension": ".py",
   "mimetype": "text/x-python",
   "name": "python",
   "nbconvert_exporter": "python",
   "pygments_lexer": "ipython3",
   "version": "3.9.8"
  }
 },
 "nbformat": 4,
 "nbformat_minor": 5
}
