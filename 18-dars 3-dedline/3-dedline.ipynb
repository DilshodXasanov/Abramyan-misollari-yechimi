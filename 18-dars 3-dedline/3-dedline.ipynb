{
 "cells": [
  {
   "cell_type": "markdown",
   "id": "28c23730",
   "metadata": {},
   "source": [
    "# 12/05/2022\n",
    "# Sotivoldiyev Farruxbek\n",
    "\n",
    "# 3 - nazorat ishi"
   ]
  },
  {
   "cell_type": "markdown",
   "id": "b189bc0e",
   "metadata": {},
   "source": [
    "# Imtihon 2 soat davom etadi:\n",
    "20:00-22:00\n",
    "\n",
    "Kodlar adminga shu vaqt oralig'ida jo'natiladi. Natijalarni Yakshanba kuni e'lon qilamiz!\n",
    "\n",
    "1. Nta elementdan iborat massiv berilgan, shu massivning elementlarini fagat bittadan qoldiruvchi dastur tuzing. Shart:\n",
    "   2 tadan ko'p element bo'lsa faqat oxirgi o'rinda turgan massiv oldirilsin\n",
    "   Masalan: N = 10\n",
    "   Kiruvchi massiv: [1,1,3,4,2,4,5,4,2,1]\n",
    "   Chiquvchi massiv: [3,5,4,2,1]\n",
    "\n",
    "\n",
    "2. Nta elementdan iborat massiv berilgan, massivning eng katta 2 ta elementi orasidagi sonlarni almashtiruvchi dastur tuzing.\n",
    "   Qo'shimcha: Agar Faqat 1 ta katta son kelsa massiv o'zgarishsiz qoldirilsin, agar 2 tadan ko'p maximum son kelsa 1-uchragan      va oxirigi uchragan elementlari orasidagi elementlarni teskari yozish kerak.\n",
    "\n",
    "3. NxN o'lchamli matritsa berilgan, matritsaning ustunlarini ustunlarning minimum elementiari bo'yicha o'sish tartibida\n",
    "   saralovchi dastur tuzing. E'tibor bering ustunlarining minimum elementilari bo'yicha saralash kerak.\n",
    "\n",
    "4. NxM o'lchamli matritsa berilgan, matritsaning satrlarining eng katta elementlari yig'indisini toping.\n",
    "\n",
    "5. NxN matritsa berilgan.\n",
    "\n",
    "   N = 5 bo'lsa:  \n",
    "                     0 -1 -2 -3 -4\n",
    "                     1  0 -1 -2 -3\n",
    "                     2  1  0 -1 -2\n",
    "                     3  2  1  0 -1\n",
    "                     4  3  2  1  0\n",
    "   N = 6 bo'lsa:\n",
    "                     0 -1 -2 -3 -4 -5\n",
    "                     1  0 -1 -2 -3 -4\n",
    "                     2  1  0 -1 -2 -3\n",
    "                     3  2  1  0 -1 -2\n",
    "                     4  3  2  1  0 -1\n",
    "                     5  4  3  2  1  0\n",
    "                         "
   ]
  },
  {
   "cell_type": "code",
   "execution_count": 92,
   "id": "0eb34593",
   "metadata": {},
   "outputs": [
    {
     "name": "stdout",
     "output_type": "stream",
     "text": [
      "n = 10\n",
      "[3, 3, 3, 2, 2, 5, 1, 1, 2, 3]\n",
      "[5, 1, 2, 3]\n"
     ]
    }
   ],
   "source": [
    "# 1-misol\n",
    "from random import randint\n",
    "n = int(input(\"n = \"))\n",
    "massiv = [randint(1,5) for i in range(n)]\n",
    "print(massiv)\n",
    "\n",
    "i = 0\n",
    "while i<len(massiv):\n",
    "    if massiv.count(massiv[i]) > 1:\n",
    "        for _ in range(massiv.count(massiv[i])-1):\n",
    "            massiv.remove(massiv[i])\n",
    "        continue\n",
    "    i += 1\n",
    "    \n",
    "print(massiv)"
   ]
  },
  {
   "cell_type": "code",
   "execution_count": 71,
   "id": "7358de62",
   "metadata": {},
   "outputs": [
    {
     "name": "stdout",
     "output_type": "stream",
     "text": [
      "n = 10\n",
      "[4, 8, 1, 7, 3, 8, 1, 3, 4, 1]\n",
      "[4, 8, 3, 7, 1, 8, 1, 3, 4, 1]\n"
     ]
    }
   ],
   "source": [
    "# 2-misol\n",
    "from random import randint\n",
    "n = int(input(\"n = \"))\n",
    "massiv = [randint(1,9) for i in range(n)]\n",
    "print(massiv)\n",
    "\n",
    "maxi = max(massiv)\n",
    "soni = massiv.count(maxi)\n",
    "temp = []\n",
    "flag = True\n",
    "if soni>=2:\n",
    "    for i in range(n):\n",
    "        if flag and maxi==massiv[i]:\n",
    "            temp.append(i)\n",
    "            flag = False\n",
    "        elif maxi==massiv[i]:\n",
    "            index = i\n",
    "    temp.append(index)\n",
    "    \n",
    "    massiv2 = list(reversed(massiv[temp[0]+1:temp[1]]))\n",
    "    for _ in range(len(massiv2)):\n",
    "        del massiv[temp[0]+1]\n",
    "    for i in range(len(massiv2)-1,-1,-1):\n",
    "        massiv.insert(temp[0]+1,massiv2[i])\n",
    "        \n",
    "print(massiv)"
   ]
  },
  {
   "cell_type": "code",
   "execution_count": 90,
   "id": "17160eb4",
   "metadata": {},
   "outputs": [
    {
     "name": "stdout",
     "output_type": "stream",
     "text": [
      "n = 4\n",
      "-5 1 8 -1\n",
      "2 1 9 2\n",
      "4 2 6 2\n",
      "-4 -5 1 9\n",
      "\n",
      "-5 1 -1 8\n",
      "2 1 2 9\n",
      "4 2 2 6\n",
      "-4 -5 9 1\n"
     ]
    }
   ],
   "source": [
    "# 3-misol\n",
    "from random import randint\n",
    "n = int(input(\"n = \"))\n",
    "matrix = [[randint(-5,9) for i in range(n)] for _ in range(n)]\n",
    "for i in matrix:\n",
    "    print(*i)\n",
    "print()\n",
    "\n",
    "for _ in range(n):\n",
    "    for i in range(n-1):\n",
    "        mini1 = matrix[0][i]\n",
    "        mini2 = matrix[0][i+1]\n",
    "        \n",
    "        for k in range(1,n):\n",
    "            if mini1>matrix[k][i]:\n",
    "                mini1 = matrix[k][i]\n",
    "                \n",
    "        for k in range(1,n):\n",
    "            if mini2>matrix[k][i+1]:\n",
    "                mini2 = matrix[k][i+1]\n",
    "                \n",
    "        if mini1>mini2:\n",
    "            for k in range(n):\n",
    "                matrix[k][i],matrix[k][i+1] = matrix[k][i+1],matrix[k][i]\n",
    "        \n",
    "for i in matrix:\n",
    "    print(*i)"
   ]
  },
  {
   "cell_type": "code",
   "execution_count": 88,
   "id": "1f44fff5",
   "metadata": {},
   "outputs": [
    {
     "name": "stdout",
     "output_type": "stream",
     "text": [
      "n = 5\n",
      "m = 4\n",
      "3 1 9 8 7\n",
      "3 2 1 1 3\n",
      "6 6 6 3 3\n",
      "3 4 7 5 5\n",
      "\n",
      "25\n"
     ]
    }
   ],
   "source": [
    "# 4-misol\n",
    "from random import randint\n",
    "n = int(input(\"n = \"))\n",
    "m = int(input(\"m = \"))\n",
    "matrix = [[randint(1,9) for i in range(n)] for _ in range(m)]\n",
    "for i in matrix:\n",
    "    print(*i)\n",
    "print()\n",
    "\n",
    "s = 0\n",
    "for i in range(m):\n",
    "    s += max(matrix[i])\n",
    "    \n",
    "print(s)"
   ]
  },
  {
   "cell_type": "code",
   "execution_count": 87,
   "id": "c88661ad",
   "metadata": {},
   "outputs": [
    {
     "name": "stdout",
     "output_type": "stream",
     "text": [
      "n = 5\n",
      "0 -1 -2 -3 -4\n",
      "1 0 -1 -2 -3\n",
      "2 1 0 -1 -2\n",
      "3 2 1 0 -1\n",
      "4 3 2 1 0\n"
     ]
    }
   ],
   "source": [
    "# 5-misol\n",
    "n = int(input(\"n = \"))\n",
    "matrix = [[0 for i in range(n)] for _ in range(n)]\n",
    "\n",
    "for i in range(n):\n",
    "    k = i\n",
    "    for j in range(n):\n",
    "        matrix[i][j] = k\n",
    "        k -= 1\n",
    "        \n",
    "for i in matrix:\n",
    "    print(*i)"
   ]
  }
 ],
 "metadata": {
  "kernelspec": {
   "display_name": "Python 3 (ipykernel)",
   "language": "python",
   "name": "python3"
  },
  "language_info": {
   "codemirror_mode": {
    "name": "ipython",
    "version": 3
   },
   "file_extension": ".py",
   "mimetype": "text/x-python",
   "name": "python",
   "nbconvert_exporter": "python",
   "pygments_lexer": "ipython3",
   "version": "3.9.8"
  }
 },
 "nbformat": 4,
 "nbformat_minor": 5
}
