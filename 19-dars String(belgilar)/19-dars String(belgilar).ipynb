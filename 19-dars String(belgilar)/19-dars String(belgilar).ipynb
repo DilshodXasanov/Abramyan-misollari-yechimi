{
 "cells": [
  {
   "cell_type": "markdown",
   "id": "9d88037b",
   "metadata": {},
   "source": [
    "# 13/05/2022\n",
    "\n",
    "# Python asoslari\n",
    "\n",
    "# 19-dars : Belgilar massivi bilan ishlash\n",
    "\n",
    "# Muallif: Farrux Sotivoldiyev"
   ]
  },
  {
   "cell_type": "markdown",
   "id": "0582094b",
   "metadata": {},
   "source": [
    "### ASCII kodi\n",
    "\n",
    "* Raqamlar (48 : 57)\n",
    "* Katta lotin harflari (65 : 90)\n",
    "* Kichik lotin harflari (97 : 122)\n",
    "* Katta krill harflari (1040 : 1071) -> \"Ё\" = 1025\n",
    "* Kichik krill harflari (1072 : 1103) -> \"ё\" = 1105\n"
   ]
  },
  {
   "cell_type": "markdown",
   "id": "4cb1017b",
   "metadata": {},
   "source": [
    "### 1.Belgilar va ularning kodlari. Satrlarni hosil qilish."
   ]
  },
  {
   "cell_type": "code",
   "execution_count": 2,
   "id": "f169cfd4",
   "metadata": {},
   "outputs": [
    {
     "name": "stdout",
     "output_type": "stream",
     "text": [
      "Belgi kiriting:@\n",
      "64\n"
     ]
    }
   ],
   "source": [
    "# String1\n",
    "belgi = input(\"Belgi kiriting:\")\n",
    "print(ord(belgi))"
   ]
  },
  {
   "cell_type": "code",
   "execution_count": 12,
   "id": "d1b26916",
   "metadata": {},
   "outputs": [
    {
     "name": "stdout",
     "output_type": "stream",
     "text": [
      "Raqam kiriting:64\n",
      "@\n"
     ]
    }
   ],
   "source": [
    "# String2\n",
    "n = int(input(\"Raqam kiriting:\"))\n",
    "print(chr(n))"
   ]
  },
  {
   "cell_type": "code",
   "execution_count": 39,
   "id": "4c8c5571",
   "metadata": {},
   "outputs": [
    {
     "name": "stdout",
     "output_type": "stream",
     "text": [
      "Belgi kiriting:@\n",
      "\u0000 \u0001 \u0002 \u0003 \u0004 \u0005 \u0006 \u0007 \t \n",
      " \u000e \u000f \u0010 \u0011 \u0012 \u0013 \u0014 \u0015 \u0016 \u0017 \u0018 \u0019 \u001a \u001b \u001c",
      " \u001d",
      " \u001e",
      " \u001f   ! \" # $ % & ' ( ) * + , - . / 0 1 2 3 4 5 6 7 8 9 : ; < = > ? A B C D E F G H I J K L M N O P Q R S T U V W X Y Z [ \\ ] ^ _ ` a b c d e f g h i j k l m n o p q r s t u v w x y z { | } "
     ]
    }
   ],
   "source": [
    "# String3\n",
    "belgi = input(\"Belgi kiriting:\")\n",
    "for i in range(126):\n",
    "    if i==ord(belgi):\n",
    "        continue\n",
    "    print(chr(i),end=\" \")"
   ]
  },
  {
   "cell_type": "code",
   "execution_count": 43,
   "id": "96cbc2b2",
   "metadata": {},
   "outputs": [
    {
     "name": "stdout",
     "output_type": "stream",
     "text": [
      "Raqam kiriting:26\n",
      "A B C D E F G H I J K L M N O P Q R S T U V W X Y Z "
     ]
    }
   ],
   "source": [
    "# String4\n",
    "n = int(input(\"Raqam kiriting:\"))\n",
    "for i in range(1,n+1):\n",
    "    print(chr(i+64),end=\" \")"
   ]
  },
  {
   "cell_type": "code",
   "execution_count": 46,
   "id": "4589b088",
   "metadata": {},
   "outputs": [
    {
     "name": "stdout",
     "output_type": "stream",
     "text": [
      "Raqam kiriting:26\n",
      "z y x w v u t s r q p o n m l k j i h g f e d c b a "
     ]
    }
   ],
   "source": [
    "# String5\n",
    "n = int(input(\"Raqam kiriting:\"))\n",
    "for i in range(122,122-n,-1):\n",
    "    print(chr(i),end=\" \")"
   ]
  },
  {
   "cell_type": "code",
   "execution_count": 62,
   "id": "190d4f54",
   "metadata": {},
   "outputs": [
    {
     "name": "stdout",
     "output_type": "stream",
     "text": [
      "Belgi kiriting:z\n",
      "lotin\n"
     ]
    }
   ],
   "source": [
    "# String6\n",
    "belgi = input(\"Belgi kiriting:\")\n",
    "if 48 <= ord(belgi) <= 57:\n",
    "    print(\"digit\")\n",
    "    \n",
    "elif 65 <= ord(belgi) <= 90 or 97 <= ord(belgi) <= 122:\n",
    "    print(\"lotin\")\n",
    "    \n",
    "else:\n",
    "    print(0)"
   ]
  },
  {
   "cell_type": "code",
   "execution_count": 63,
   "id": "5d1bc84e",
   "metadata": {},
   "outputs": [
    {
     "name": "stdout",
     "output_type": "stream",
     "text": [
      "Satr kiriting:salom\n",
      "115 109\n"
     ]
    }
   ],
   "source": [
    "# String7\n",
    "satr = input(\"Satr kiriting:\")\n",
    "print(ord(satr[0]),ord(satr[-1]),sep=\" \")"
   ]
  },
  {
   "cell_type": "code",
   "execution_count": 67,
   "id": "faeac05f",
   "metadata": {},
   "outputs": [
    {
     "name": "stdout",
     "output_type": "stream",
     "text": [
      "Raqam kiriting:5\n",
      "Belgi kiriting:#\n",
      "#####\n"
     ]
    }
   ],
   "source": [
    "# String8\n",
    "n = int(input(\"Raqam kiriting:\"))\n",
    "belgi = input(\"Belgi kiriting:\")\n",
    "s = \"\"\n",
    "for i in range(n):\n",
    "    s += belgi\n",
    "print(s)"
   ]
  },
  {
   "cell_type": "code",
   "execution_count": 69,
   "id": "c371c681",
   "metadata": {},
   "outputs": [
    {
     "name": "stdout",
     "output_type": "stream",
     "text": [
      "satr1 ni kiriting:Farruxbek\n",
      "satr2 ni kiriting:Salom\n",
      "FarruxbekSalom\n"
     ]
    }
   ],
   "source": [
    "# String9\n",
    "satr1 = input(\"satr1 ni kiriting:\")\n",
    "satr2 = input(\"satr2 ni kiriting:\")\n",
    "print(satr1+satr2)"
   ]
  },
  {
   "cell_type": "code",
   "execution_count": 86,
   "id": "24e9a13b",
   "metadata": {},
   "outputs": [
    {
     "name": "stdout",
     "output_type": "stream",
     "text": [
      "satr kiriting:farrux\n",
      "xurraf\n"
     ]
    }
   ],
   "source": [
    "# String10\n",
    "satr = input(\"satr kiriting:\")\n",
    "print(satr[::-1])"
   ]
  },
  {
   "cell_type": "code",
   "execution_count": 95,
   "id": "e8bab918",
   "metadata": {},
   "outputs": [
    {
     "name": "stdout",
     "output_type": "stream",
     "text": [
      "satr kiriting:salom\n",
      "s a l o m \n"
     ]
    }
   ],
   "source": [
    "# String11\n",
    "satr = input(\"satr kiriting:\")\n",
    "s = \"\"\n",
    "for i in range(len(satr)):\n",
    "        s += satr[i] + \" \"\n",
    "print(s)"
   ]
  },
  {
   "cell_type": "code",
   "execution_count": 96,
   "id": "41006592",
   "metadata": {},
   "outputs": [
    {
     "name": "stdout",
     "output_type": "stream",
     "text": [
      "Satr kiriting:salom\n",
      "Raqam kiriting:3\n",
      "s***a***l***o***m***\n"
     ]
    }
   ],
   "source": [
    "# String12\n",
    "satr = input(\"Satr kiriting:\")\n",
    "n = int(input(\"Raqam kiriting:\"))\n",
    "s = \"\"\n",
    "for i in range(len(satr)):\n",
    "        s += satr[i] + n * \"*\"\n",
    "print(s)"
   ]
  },
  {
   "cell_type": "markdown",
   "id": "e4c62bfe",
   "metadata": {},
   "source": [
    "### 2.Belgili taxlil va satrlarni qayta ishlash."
   ]
  },
  {
   "cell_type": "code",
   "execution_count": 97,
   "id": "61e2857e",
   "metadata": {},
   "outputs": [
    {
     "name": "stdout",
     "output_type": "stream",
     "text": [
      "Satr kiriting:salom123qalesan34\n",
      "5\n"
     ]
    }
   ],
   "source": [
    "# String13\n",
    "satr = input(\"Satr kiriting:\")\n",
    "k = 0\n",
    "for i in range(len(satr)):\n",
    "    if 48 <= ord(satr[i]) <= 57:\n",
    "        k += 1\n",
    "print(k)"
   ]
  },
  {
   "cell_type": "code",
   "execution_count": 99,
   "id": "9df6045c",
   "metadata": {},
   "outputs": [
    {
     "name": "stdout",
     "output_type": "stream",
     "text": [
      "Satr kiriting:SALOmqaleSan\n",
      "5\n"
     ]
    }
   ],
   "source": [
    "# String14\n",
    "satr = input(\"Satr kiriting:\")\n",
    "k = 0\n",
    "for i in range(len(satr)):\n",
    "    if 65 <= ord(satr[i]) <= 90:\n",
    "        k += 1\n",
    "print(k)"
   ]
  },
  {
   "cell_type": "code",
   "execution_count": 157,
   "id": "99899517",
   "metadata": {},
   "outputs": [
    {
     "name": "stdout",
     "output_type": "stream",
     "text": [
      "Satr kiriting:SAFsfsdfsdыфапыврЫАПЫВА\n",
      "14\n"
     ]
    }
   ],
   "source": [
    "# String15\n",
    "satr = input(\"Satr kiriting:\")\n",
    "k = 0\n",
    "for i in range(len(satr)):\n",
    "    if 97 <= ord(satr[i]) <= 122 or 1072 <= ord(satr[i]) <= 1103:\n",
    "        k += 1\n",
    "print(k)"
   ]
  },
  {
   "cell_type": "code",
   "execution_count": 156,
   "id": "b9f6d09f",
   "metadata": {},
   "outputs": [
    {
     "name": "stdout",
     "output_type": "stream",
     "text": [
      "Satr kiriting:salLOFASADJF\n",
      "sallofasadjf\n"
     ]
    }
   ],
   "source": [
    "# String16\n",
    "satr = input(\"Satr kiriting:\")\n",
    "s = \"\"\n",
    "for i in range(len(satr)):\n",
    "    if 65 <= ord(satr[i]) <= 90:\n",
    "        s += chr(ord(satr[i])+32)\n",
    "        continue\n",
    "    s += satr[i]\n",
    "print(s)"
   ]
  },
  {
   "cell_type": "code",
   "execution_count": 155,
   "id": "16083efc",
   "metadata": {},
   "outputs": [
    {
     "name": "stdout",
     "output_type": "stream",
     "text": [
      "Satr kiriting:saLQOFNSАФЫРАИЫВйывщ\n",
      "salqofnsафыраиывйывщ\n"
     ]
    }
   ],
   "source": [
    "# String17\n",
    "satr = input(\"Satr kiriting:\")\n",
    "s = \"\"\n",
    "for i in range(len(satr)):\n",
    "    if 65 <= ord(satr[i]) <= 90 or 1040 <= ord(satr[i]) <= 1071:\n",
    "        s += chr(ord(satr[i])+32)                               \n",
    "    elif ord(satr[i])==1025:          # Ё -> ё\n",
    "        s += chr(1105)\n",
    "    else: s += satr[i]\n",
    "print(s)"
   ]
  },
  {
   "cell_type": "code",
   "execution_count": 158,
   "id": "5d381ddd",
   "metadata": {},
   "outputs": [
    {
     "name": "stdout",
     "output_type": "stream",
     "text": [
      "Satr kiriting:saLOMlar йцукВЫАЫФ\n",
      "SAlomLARЙЦУКвыаыф\n"
     ]
    }
   ],
   "source": [
    "# String18\n",
    "satr = input(\"Satr kiriting:\")\n",
    "s = \"\"\n",
    "for i in range(len(satr)):\n",
    "    if 65 <= ord(satr[i]) <= 90 or 1040 <= ord(satr[i]) <= 1071:\n",
    "        s += chr(ord(satr[i])+32)                                \n",
    "    elif ord(satr[i])==1025:          # Ё -> ё\n",
    "        s += chr(1105)\n",
    "        \n",
    "    elif 97 <= ord(satr[i]) <= 122 or 1072 <= ord(satr[i]) <= 1103:\n",
    "        s += chr(ord(satr[i])-32)                                \n",
    "    elif ord(satr[i])==1105:          # ё -> Ё\n",
    "        s += chr(1025)\n",
    "print(s)"
   ]
  },
  {
   "cell_type": "code",
   "execution_count": 37,
   "id": "3c365f6b",
   "metadata": {},
   "outputs": [
    {
     "name": "stdout",
     "output_type": "stream",
     "text": [
      "Satr kiriting:-15.15\n",
      "Haqiqiy son\n"
     ]
    }
   ],
   "source": [
    "# String19\n",
    "satr = input(\"Satr kiriting:\")\n",
    "\n",
    "flag = True\n",
    "haqiqiy,butun = False,False\n",
    "for i in satr:\n",
    "    if flag and i == \"-\":\n",
    "        continue\n",
    "    flag = False\n",
    "        \n",
    "    if \"0\"<= i <=\"9\" or i == \".\":\n",
    "        if satr.count(\".\")==0:\n",
    "            butun = True\n",
    "        elif satr.count(\".\")==1:\n",
    "            haqiqiy = True\n",
    "        \n",
    "    else:\n",
    "        haqiqiy,butun = False,False\n",
    "        break\n",
    "        \n",
    "        \n",
    "if butun:\n",
    "    print(\"Butun son\")\n",
    "elif haqiqiy:\n",
    "    print(\"Haqiqiy son\")\n",
    "else:\n",
    "    print(\"Oddiy satr\")\n"
   ]
  },
  {
   "cell_type": "code",
   "execution_count": 38,
   "id": "0a6e759d",
   "metadata": {},
   "outputs": [
    {
     "name": "stdout",
     "output_type": "stream",
     "text": [
      "Satr kiriting:123698\n",
      "1 2 3 6 9 8 "
     ]
    }
   ],
   "source": [
    "# String20\n",
    "satr = input(\"Satr kiriting:\")\n",
    "for i in satr:\n",
    "    print(int(i),end=\" \")"
   ]
  },
  {
   "cell_type": "code",
   "execution_count": 39,
   "id": "105046d6",
   "metadata": {},
   "outputs": [
    {
     "name": "stdout",
     "output_type": "stream",
     "text": [
      "Satr kiriting:123456789\n",
      "9 8 7 6 5 4 3 2 1 "
     ]
    }
   ],
   "source": [
    "# String21\n",
    "satr = input(\"Satr kiriting:\")\n",
    "for i in range(len(satr)-1,-1,-1):\n",
    "    print(int(satr[i]),end=\" \")"
   ]
  },
  {
   "cell_type": "code",
   "execution_count": 183,
   "id": "0be64b3d",
   "metadata": {},
   "outputs": [
    {
     "name": "stdout",
     "output_type": "stream",
     "text": [
      "Satr kiriting:123456\n",
      "21\n"
     ]
    }
   ],
   "source": [
    "# String22\n",
    "satr = input(\"Satr kiriting:\")\n",
    "s = 0\n",
    "for i in range(len(satr)):\n",
    "    s += int(satr[i])\n",
    "print(s)"
   ]
  },
  {
   "cell_type": "code",
   "execution_count": 30,
   "id": "220ca76d",
   "metadata": {},
   "outputs": [
    {
     "name": "stdout",
     "output_type": "stream",
     "text": [
      "Satr kiriting:500-400+100-300-45-55+100\n",
      "-100\n"
     ]
    }
   ],
   "source": [
    "# String23\n",
    "satr = input(\"Satr kiriting:\")\n",
    "amal = []\n",
    "for i in satr:\n",
    "    if i==\"+\" or i==\"-\":\n",
    "        amal.append(i)\n",
    "        satr = satr.replace(i,\" \")\n",
    "satr = satr.split()\n",
    "\n",
    "s = int(satr[0])\n",
    "for i in range(len(amal)):\n",
    "    if amal[i]==\"+\":\n",
    "        s += int(satr[i+1])\n",
    "    elif amal[i]==\"-\":\n",
    "        s -= int(satr[i+1])\n",
    "print(s)"
   ]
  },
  {
   "cell_type": "code",
   "execution_count": 46,
   "id": "ff48ac8d",
   "metadata": {},
   "outputs": [
    {
     "name": "stdout",
     "output_type": "stream",
     "text": [
      "Satr kiriting:1011\n",
      "11\n"
     ]
    }
   ],
   "source": [
    "# String24\n",
    "satr = input(\"Satr kiriting:\")\n",
    "n = len(satr)\n",
    "s = 0\n",
    "for i in range(n-1,-1,-1):\n",
    "    s += 2**(n-i-1) * int(satr[i])\n",
    "    \n",
    "satr = str(s)\n",
    "\n",
    "print(satr)"
   ]
  },
  {
   "cell_type": "code",
   "execution_count": 55,
   "id": "6ca0fb08",
   "metadata": {},
   "outputs": [
    {
     "name": "stdout",
     "output_type": "stream",
     "text": [
      "Satr kiriting:22\n",
      "10110\n"
     ]
    }
   ],
   "source": [
    "# String25\n",
    "satr = input(\"Satr kiriting:\")\n",
    "x = int(satr)\n",
    "s = ''\n",
    "while x >= 2:\n",
    "    s += str(x%2)\n",
    "    x //= 2\n",
    "    \n",
    "s += str(x)\n",
    "satr = s[::-1]\n",
    "\n",
    "print(satr)"
   ]
  }
 ],
 "metadata": {
  "kernelspec": {
   "display_name": "Python 3 (ipykernel)",
   "language": "python",
   "name": "python3"
  },
  "language_info": {
   "codemirror_mode": {
    "name": "ipython",
    "version": 3
   },
   "file_extension": ".py",
   "mimetype": "text/x-python",
   "name": "python",
   "nbconvert_exporter": "python",
   "pygments_lexer": "ipython3",
   "version": "3.9.8"
  }
 },
 "nbformat": 4,
 "nbformat_minor": 5
}
