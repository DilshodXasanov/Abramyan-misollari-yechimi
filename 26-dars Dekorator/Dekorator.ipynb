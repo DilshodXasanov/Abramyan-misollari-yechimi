{
 "cells": [
  {
   "cell_type": "markdown",
   "id": "0d3c3f17",
   "metadata": {},
   "source": [
    "# 15/09/2022\n",
    "\n",
    "# Python asoslari\n",
    "\n",
    "# 26-dars : Dekorator\n",
    "\n",
    "# Muallif: Farrux Sotivoldiyev"
   ]
  },
  {
   "cell_type": "code",
   "execution_count": 2,
   "id": "9d133b48",
   "metadata": {},
   "outputs": [
    {
     "name": "stdout",
     "output_type": "stream",
     "text": [
      "2.5\n"
     ]
    }
   ],
   "source": [
    "def dek(func):\n",
    "    def salom(a,b):\n",
    "        return func(a,b)\n",
    "    return salom\n",
    "\n",
    "@dek\n",
    "\n",
    "def div(a,b):\n",
    "    return a/b\n",
    "\n",
    "print(div(5,2))"
   ]
  },
  {
   "cell_type": "code",
   "execution_count": 25,
   "id": "7994141e",
   "metadata": {},
   "outputs": [
    {
     "name": "stdout",
     "output_type": "stream",
     "text": [
      "ichki: \n",
      "9 3 7 5 6 3\n",
      "2 1 1 8 5 7\n",
      "2 8 2 5 3 7\n",
      "3 5 9 9 4 6\n",
      "9 4 3 9 1 8\n",
      "Tashqi1:  [[9, 3, 6, 5, 7, 3], [2, 1, 5, 8, 1, 7], [2, 8, 3, 5, 2, 7], [3, 5, 4, 9, 9, 6], [9, 4, 1, 9, 3, 8]]\n",
      "ichki: \n",
      "0 1 2 3 4 5\n",
      "0 1 2 3 4 5\n",
      "0 1 2 3 4 5\n",
      "0 1 2 3 4 5\n",
      "0 1 2 3 4 5\n",
      "Tashqi2:  [[0, 1, 4, 3, 2, 5], [0, 1, 4, 3, 2, 5], [0, 1, 4, 3, 2, 5], [0, 1, 4, 3, 2, 5], [0, 1, 4, 3, 2, 5]]\n"
     ]
    }
   ],
   "source": [
    "# 2-ustun bilan 4-ustunni almashtirib beruvchi decorator\n",
    "\n",
    "from random import randint\n",
    "\n",
    "def swap_col(func):\n",
    "    def dek(m,n):\n",
    "        matrix = func(m,n)\n",
    "        print(\"ichki: \")\n",
    "        for i in matrix:\n",
    "            print(*i)\n",
    "        for i in range(m):\n",
    "            matrix[i][2],matrix[i][4] = matrix[i][4],matrix[i][2]\n",
    "        return matrix\n",
    "    return dek\n",
    "\n",
    "@swap_col\n",
    "def input_matrix(m,n):\n",
    "    return [[randint(1,9) for _ in range(n)] for _ in range(m)]\n",
    "\n",
    "@swap_col\n",
    "def salom(m,n):\n",
    "    return [[i for i in range(n)] for j in range(m)]\n",
    "\n",
    "print(\"Tashqi1: \",input_matrix(5,6))\n",
    "print(\"Tashqi2: \",salom(5,6))"
   ]
  },
  {
   "cell_type": "code",
   "execution_count": 39,
   "id": "67234ac6",
   "metadata": {},
   "outputs": [
    {
     "name": "stdout",
     "output_type": "stream",
     "text": [
      "Asl matrix:  [[4, 4, 5, 3, 6, 1, 6, 9], [2, 9, 9, 8, 1, 6, 1, 9], [8, 4, 2, 6, 8, 4, 2, 6], [9, 2, 4, 4, 1, 4, 4, 4], [1, 3, 1, 7, 6, 5, 2, 7], [7, 5, 2, 1, 8, 3, 2, 1]]\n",
      "\n",
      "4X4 Matrix: \n",
      "4 4 5 3\n",
      "2 9 9 8\n",
      "8 4 2 6\n",
      "9 2 4 4\n"
     ]
    }
   ],
   "source": [
    "# mXn matritsani decorator yordamida 4X4 qilish\n",
    "def tortgatort(func):\n",
    "    def tort(m,n):\n",
    "        matrix = func(m,n)\n",
    "        print(\"Asl matrix: \",matrix)\n",
    "        matrix = matrix[:4]\n",
    "        for i in range(4):\n",
    "            matrix[i] = matrix[i][:4]\n",
    "        print(\"\\n4X4 Matrix: \")\n",
    "        return matrix\n",
    "    return tort\n",
    "\n",
    "@tortgatort\n",
    "def input_matrix(m,n):\n",
    "    return [[randint(1,9) for _ in range(n)] for _ in range(m)]\n",
    "\n",
    "\n",
    "for i in input_matrix(6,8):\n",
    "    print(*i)"
   ]
  }
 ],
 "metadata": {
  "kernelspec": {
   "display_name": "Python 3 (ipykernel)",
   "language": "python",
   "name": "python3"
  },
  "language_info": {
   "codemirror_mode": {
    "name": "ipython",
    "version": 3
   },
   "file_extension": ".py",
   "mimetype": "text/x-python",
   "name": "python",
   "nbconvert_exporter": "python",
   "pygments_lexer": "ipython3",
   "version": "3.9.8"
  }
 },
 "nbformat": 4,
 "nbformat_minor": 5
}
