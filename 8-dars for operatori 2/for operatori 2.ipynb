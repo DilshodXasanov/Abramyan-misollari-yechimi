{
 "cells": [
  {
   "cell_type": "markdown",
   "id": "3f1ad1a8",
   "metadata": {},
   "source": [
    "# 04/03/2022\n",
    "\n",
    "# Python asoslari\n",
    "\n",
    "# 8-dars: for sikl operatori_2 ning misollarini yechish \n",
    "\n",
    "# Muallif: Farrux Sotivoldiyev"
   ]
  },
  {
   "cell_type": "code",
   "execution_count": 1,
   "id": "1410b79d",
   "metadata": {},
   "outputs": [
    {
     "name": "stdout",
     "output_type": "stream",
     "text": [
      "n = 7\n",
      "28\n"
     ]
    }
   ],
   "source": [
    "# 1.  n natural soni berilgan. 1 dan n gacha bo’lgan sonlarning yig'indisini \n",
    "# hisoblovchi dastur tuzing. \n",
    "# Kiritish: 7\n",
    "# 1 2 3 4 5 6 7\n",
    "# Natural sonlarning yig'indisi: 28\n",
    "\n",
    "n = int(input(\"n = \"))\n",
    "\n",
    "s = 0\n",
    "for i in range(1,n+1):\n",
    "    s += i\n",
    "print(s)"
   ]
  },
  {
   "cell_type": "code",
   "execution_count": 1,
   "id": "44189aa5",
   "metadata": {},
   "outputs": [
    {
     "name": "stdout",
     "output_type": "stream",
     "text": [
      "n = 5\n",
      "a = 2\n",
      "Summa: 11\n"
     ]
    }
   ],
   "source": [
    "# 2.  1 - a + a^2 - a^3 +.....(-1)^n * a^n\n",
    "\n",
    "n = int(input(\"n = \"))\n",
    "a = int(input(\"a = \"))\n",
    "\n",
    "s = 0\n",
    "for i in range(n): #0,1,2,3,4   n = 5\n",
    "    s += (-1)**i * a**i\n",
    "print(\"Summa:\",s)\n",
    "    "
   ]
  },
  {
   "cell_type": "code",
   "execution_count": 6,
   "id": "ea538657",
   "metadata": {},
   "outputs": [
    {
     "name": "stdout",
     "output_type": "stream",
     "text": [
      "n = 47\n",
      "Tub\n"
     ]
    }
   ],
   "source": [
    "# 3. Kiritilgan sonning tub yoki tub emasligini aniqlovchi dastur tuzing. \n",
    "# Kiritish: 47\n",
    "# Chiqarish: Tub\n",
    "\n",
    "n = int(input(\"n = \"))\n",
    "\n",
    "for i in range(1,n+1):\n",
    "    k = 0\n",
    "    for j in range(2,i):\n",
    "        if i%j==0:\n",
    "            k += 1\n",
    "if k > 0:\n",
    "    print(\"Murakkab\")\n",
    "else:\n",
    "    print(\"Tub\")"
   ]
  },
  {
   "cell_type": "code",
   "execution_count": 18,
   "id": "b3a24f7d",
   "metadata": {},
   "outputs": [
    {
     "name": "stdout",
     "output_type": "stream",
     "text": [
      "n = 100\n",
      "1 2 3 5 7 11 13 17 19 23 29 31 37 41 43 47 53 59 61 67 71 73 79 83 89 97 \n",
      "Tub sonlar: 26\n"
     ]
    }
   ],
   "source": [
    "# 4. 1 dan n gacha bo’lgan sonlar oralig’idagi tub sonlarni va ularning sonini \n",
    "# ekranga chiqaruvchi dastur tuzing \n",
    "# Kiritish: 100\n",
    "# Chiqarish:\n",
    "# 2 3 5 7 11 13 17 19 23 29 31 37 41 43 47 53 59 61 67 71 73 79 83 89 97\n",
    "# 1 dan 100 gacha bo'lgan tub sonlarning umumiy soni: 25\n",
    "\n",
    "n = int(input(\"n = \"))\n",
    "\n",
    "sana = 0\n",
    "for i in range(1,n+1):\n",
    "    k = 0\n",
    "    for j in range(2,i):\n",
    "        if i%j==0:\n",
    "            k += 1\n",
    "            \n",
    "            break\n",
    "    if k==0:\n",
    "        sana += 1\n",
    "        print(i,end=' ')\n",
    "print(\"\\nTub sonlar:\",sana)"
   ]
  },
  {
   "cell_type": "code",
   "execution_count": 19,
   "id": "1edcd624",
   "metadata": {},
   "outputs": [
    {
     "name": "stdout",
     "output_type": "stream",
     "text": [
      "n = 5\n",
      "120\n"
     ]
    }
   ],
   "source": [
    "# 5. n soni berilgan. n faktorialni hisoblovchi dastur tuzing ( n!=1*2*3*…*n ).\n",
    "# Kiritish: 5\n",
    "# Chiqarish: 120 \n",
    "\n",
    "n = int(input(\"n = \"))\n",
    "\n",
    "p = 1\n",
    "for i in range(1,n+1):\n",
    "    p *= i\n",
    "print(p)"
   ]
  },
  {
   "cell_type": "code",
   "execution_count": 7,
   "id": "6bc66069",
   "metadata": {},
   "outputs": [
    {
     "name": "stdout",
     "output_type": "stream",
     "text": [
      "n = 50\n",
      "47\n"
     ]
    }
   ],
   "source": [
    "# 6. n soni berilgan. n gacha bo’lgan tub sonlarning oxirgisini aniqlovchi dastur \n",
    "# tuzing. \n",
    "# Kiritish: 50\n",
    "# Chiqarish: 47\n",
    "\n",
    "n = int(input(\"n = \"))\n",
    "\n",
    "for i in range(n,1,-1):\n",
    "    k = 0\n",
    "    for j in range(1,i+1):\n",
    "        if i%j==0:\n",
    "            k += 1\n",
    "    if k == 2:\n",
    "        print(i)\n",
    "        break"
   ]
  },
  {
   "cell_type": "code",
   "execution_count": 13,
   "id": "24bc9a98",
   "metadata": {},
   "outputs": [
    {
     "name": "stdout",
     "output_type": "stream",
     "text": [
      "a = 45\n",
      "b = 135\n",
      "45\n"
     ]
    }
   ],
   "source": [
    "# 7. Ikki sonning eng katta umumiy bo'linuvchisini (EKUB) aniqlovchi dastur tuzing.\n",
    "# Kiritish: 45\n",
    "#          135\n",
    "# Chiqarish: 45\n",
    "\n",
    "a = int(input(\"a = \"))\n",
    "b = int(input(\"b = \"))\n",
    "\n",
    "if a > b:\n",
    "    oxir = a\n",
    "else:\n",
    "    oxir = b\n",
    "    \n",
    "for i in range(oxir):\n",
    "    if a==b:\n",
    "        print(a)\n",
    "        break\n",
    "    elif a>b:\n",
    "        a -= b\n",
    "    else:\n",
    "        b -= a"
   ]
  },
  {
   "cell_type": "code",
   "execution_count": 101,
   "id": "3c25c28b",
   "metadata": {},
   "outputs": [
    {
     "name": "stdout",
     "output_type": "stream",
     "text": [
      "n = 147852\n",
      "27\n"
     ]
    }
   ],
   "source": [
    "# 8.  Berilgan sonning raqamlari yig'indisini aniqlovchi dastur tuzing.\n",
    "# Kiritish: 147852 \n",
    "# Chiqarish: 27\n",
    "\n",
    "n = int(input(\"n = \"))\n",
    "\n",
    "s = 0 \n",
    "for i in str(n):\n",
    "    s += int(i)\n",
    "print(s)"
   ]
  },
  {
   "cell_type": "code",
   "execution_count": 1,
   "id": "6a3871aa",
   "metadata": {},
   "outputs": [
    {
     "name": "stdout",
     "output_type": "stream",
     "text": [
      "n = 3\n",
      "10\n",
      "n=3\n",
      "10\n"
     ]
    }
   ],
   "source": [
    "# 9.   n soni berilgan. \n",
    "# (1) + (1 + 2) + (1 + 2 + 3) + (1 + 2 + 3 + 4) + ... + (1 + 2 + 3 +…n) ni \n",
    "# hisoblovchi dastur tuzing.\n",
    "# Kiritish: 3 \n",
    "# Chiqarish: 10\n",
    "\n",
    "# 1-usul\n",
    "\n",
    "n = int(input(\"n = \"))\n",
    "\n",
    "s = 0\n",
    "for i in range(1,n+1):\n",
    "    for j in range(1,i+1):\n",
    "        s += j\n",
    "print(s)\n",
    "\n",
    "# 2-usul\n",
    "\n",
    "n = int(input(\"n = \"))\n",
    "s = 0\n",
    "p = 0\n",
    "for i in range(1,n+1):\n",
    "    p += i\n",
    "    s += p\n",
    "print(s)\n"
   ]
  },
  {
   "cell_type": "code",
   "execution_count": 100,
   "id": "c650c72f",
   "metadata": {},
   "outputs": [
    {
     "name": "stdout",
     "output_type": "stream",
     "text": [
      "n = 5\n",
      "n = 9\n",
      "n = 8\n",
      "n = 7\n",
      "n = -5\n",
      "n = -3\n",
      "n = -12\n",
      "n = 89\n",
      "n = -1\n",
      "5 ta musbat son\n",
      "max = 89\n",
      "min = -12\n"
     ]
    }
   ],
   "source": [
    "# 10. Oxiri -1 bilan tugovchi sonlar ketma-ketligi berilgan, shu ketma-ketlikda\n",
    "# nechta musbat son borligini va Maksimum, minimum qiymatlarini topuvchi dastur\n",
    "# tuzing?\n",
    "\n",
    "k = 0\n",
    "maxi = -float('inf')\n",
    "mini = float('inf')\n",
    "\n",
    "while True:\n",
    "    n = int(input(\"n = \"))\n",
    "    \n",
    "    if n == -1:\n",
    "        break\n",
    "    elif n>0:\n",
    "        k += 1\n",
    "        \n",
    "    if mini > n:\n",
    "        mini = n\n",
    "    elif maxi < n:\n",
    "        maxi = n\n",
    "print(f\"{k} ta musbat son\\nmax = {maxi}\\nmin = {mini}\")"
   ]
  },
  {
   "cell_type": "code",
   "execution_count": 99,
   "id": "20b3bee1",
   "metadata": {},
   "outputs": [
    {
     "name": "stdout",
     "output_type": "stream",
     "text": [
      "n = 25\n",
      "4 6 8 9 10 12 14 15 16 18 20 21 22 24 25 "
     ]
    }
   ],
   "source": [
    "# 11. n soni berilgan. Berilgan songacha bo’lgan murakkab sonlarni ekranga \n",
    "# chiqaruvchi dastur tuzing. \n",
    "# Kiritish: 25\n",
    "# Chiqarish: 4 6 8 9 10 12 14 15 16 18 20 21 22 24 25\n",
    "\n",
    "n = int(input(\"n = \"))\n",
    "\n",
    "for i in range(1,n+1):\n",
    "    k = 0\n",
    "    for j in range(2,i):\n",
    "        if i%j==0:\n",
    "            k += 1\n",
    "    if k>0:\n",
    "        print(i,end=' ')"
   ]
  },
  {
   "cell_type": "code",
   "execution_count": 98,
   "id": "116d4d08",
   "metadata": {},
   "outputs": [
    {
     "name": "stdout",
     "output_type": "stream",
     "text": [
      "n = 9\n",
      "# # # # # # # # # \n",
      "# # # # # # # # # \n",
      "# # # # # # # # # \n",
      "# # # # # # # # # \n",
      "# # # # # # # # # \n",
      "# # # # # # # # # \n",
      "# # # # # # # # # \n",
      "# # # # # # # # # \n",
      "# # # # # # # # # \n"
     ]
    }
   ],
   "source": [
    "# 12. n soni berilgan. Tomoni n ga teng bo’lgan kvadrat yasang. Kvadratni \n",
    "#  << # >> belgisi bilan bosib chiqaruvchi dastur tuzing.  \n",
    "#Kiritish: 4\n",
    "#Chiqarish:\n",
    "# # # #\n",
    "# # # #\n",
    "# # # #\n",
    "# # # # \n",
    "\n",
    "n = int(input(\"n = \"))\n",
    "\n",
    "for i in range(n):\n",
    "    for j in range(n):\n",
    "        print(\"#\",end = ' ')\n",
    "    print()"
   ]
  },
  {
   "cell_type": "code",
   "execution_count": 23,
   "id": "454749f0",
   "metadata": {},
   "outputs": [
    {
     "name": "stdout",
     "output_type": "stream",
     "text": [
      "n = 10\n",
      "1x1=1\t2x1=2\t3x1=3\t4x1=4\t5x1=5\t6x1=6\t7x1=7\t8x1=8\t9x1=9\t10x1=10\t\n",
      "1x2=2\t2x2=4\t3x2=6\t4x2=8\t5x2=10\t6x2=12\t7x2=14\t8x2=16\t9x2=18\t10x2=20\t\n",
      "1x3=3\t2x3=6\t3x3=9\t4x3=12\t5x3=15\t6x3=18\t7x3=21\t8x3=24\t9x3=27\t10x3=30\t\n",
      "1x4=4\t2x4=8\t3x4=12\t4x4=16\t5x4=20\t6x4=24\t7x4=28\t8x4=32\t9x4=36\t10x4=40\t\n",
      "1x5=5\t2x5=10\t3x5=15\t4x5=20\t5x5=25\t6x5=30\t7x5=35\t8x5=40\t9x5=45\t10x5=50\t\n",
      "1x6=6\t2x6=12\t3x6=18\t4x6=24\t5x6=30\t6x6=36\t7x6=42\t8x6=48\t9x6=54\t10x6=60\t\n",
      "1x7=7\t2x7=14\t3x7=21\t4x7=28\t5x7=35\t6x7=42\t7x7=49\t8x7=56\t9x7=63\t10x7=70\t\n",
      "1x8=8\t2x8=16\t3x8=24\t4x8=32\t5x8=40\t6x8=48\t7x8=56\t8x8=64\t9x8=72\t10x8=80\t\n",
      "1x9=9\t2x9=18\t3x9=27\t4x9=36\t5x9=45\t6x9=54\t7x9=63\t8x9=72\t9x9=81\t10x9=90\t\n",
      "1x10=10\t2x10=20\t3x10=30\t4x10=40\t5x10=50\t6x10=60\t7x10=70\t8x10=80\t9x10=90\t10x10=100\t\n"
     ]
    }
   ],
   "source": [
    "# 13. 1 dan n gacha vertikal ravishda ko'paytirish jadvalini ko'rsatuvchi dastur \n",
    "# yozing. \n",
    "# Kiritish: 5\n",
    "# Chiqarish:  \n",
    "# 1x1 = 1    2x1 = 2      3x1 = 3     4x1 = 4     5x1 = 5\n",
    "# 1x2 = 2    2x2 = 4      3x2 = 6     4x2 = 8     5x2 = 10\n",
    "# 1x3 = 3    2x3 = 6      3x3 = 9     4x3 = 12    5x3 = 15\n",
    "# 1x4 = 4    2x4 = 8      3x4 = 12    4x4 = 16    5x4 = 20\n",
    "# 1x5 = 5    2x5 = 10     3x5 = 15    4x5 = 20    5x5 = 25\n",
    "# 1x6 = 6    2x6 = 12.    3x6 = 18    4x6 = 24    5x6 = 30\n",
    "# 1x7 = 7    2x7 = 14     3x7 = 21    4x7 = 28    5x7 = 35\n",
    "# 1x8 = 8    2x8 = 16     3x8 = 24    4x8 = 32    5x8 = 40\n",
    "# 1x9 = 9    2x9 = 18     3x9 = 27    4x9 = 36    5x9 = 45\n",
    "# 1x10 = 10  2x10 = 20    3x10 = 30   4x10 = 40   5x10 = 50\n",
    "\n",
    "n = int(input(\"n = \"))\n",
    "\n",
    "for i in range(1,n+1):\n",
    "    for j in range(1,n+1):\n",
    "        a = len(\"{j}x{i}={i*j}\")\n",
    "        print((f\"{j}x{i}={i*j}\"),end=\"\\t\")\n",
    "    print()"
   ]
  },
  {
   "cell_type": "code",
   "execution_count": 77,
   "id": "a83d7742",
   "metadata": {},
   "outputs": [
    {
     "name": "stdout",
     "output_type": "stream",
     "text": [
      "n = 5\n",
      "1 3 5 7 9 \n",
      "summa: 25\n"
     ]
    }
   ],
   "source": [
    "# 14. N musbat soni berilgan. Dastlabki N ta toq sonlarni ekranga chiqaruvchi va \n",
    "# ularning yig’indisini aniqlovchi dastur tuzing.\n",
    "# Kiritish: 5 \n",
    "# Chiqarish: 1 3 5 7 9  .........  25\n",
    "\n",
    "n = int(input(\"n = \"))\n",
    "\n",
    "s = 0 \n",
    "for i in range(1,2*n,2):\n",
    "    s += i\n",
    "    print(i,end=\" \")\n",
    "print(\"\\nsumma:\",s)"
   ]
  },
  {
   "cell_type": "code",
   "execution_count": 76,
   "id": "90b4c23d",
   "metadata": {},
   "outputs": [
    {
     "name": "stdout",
     "output_type": "stream",
     "text": [
      "n = 5\n",
      "2 4 6 8 10 \n",
      "summa: 30\n"
     ]
    }
   ],
   "source": [
    "# 15. N musbat soni berilgan. Dastlabki Nta juft sonlarni ekranga chiqaruvchi \n",
    "# va ularning yig’indisini aniqlovchi dastur tuzing.\n",
    "# Kiritish: 5 \n",
    "# Chiqarish: 2 4 6 8 10       Yeg'indisi = 30 \n",
    "\n",
    "n = int(input(\"n = \"))\n",
    "\n",
    "s = 0\n",
    "for i in range(2,2*n+1,2):\n",
    "    s += i\n",
    "    print(i,end=\" \")\n",
    "print(\"\\nsumma:\",s)"
   ]
  },
  {
   "cell_type": "code",
   "execution_count": 24,
   "id": "74e42fbb",
   "metadata": {},
   "outputs": [
    {
     "name": "stdout",
     "output_type": "stream",
     "text": [
      "n = 23\n",
      "12345679012345679012343\n"
     ]
    }
   ],
   "source": [
    "# 16. 1 + 11 + 111 + 1111 + 11111 + …+ n qatorlarining yig'indisini aniqlovchi dastur tuzing. \n",
    "# Kiritish: 5\n",
    "# Chiqarish: 12345\n",
    "\n",
    "n = int(input(\"n = \"))\n",
    "\n",
    "k = 1\n",
    "s = 0\n",
    "for i in range(1,n+1):\n",
    "    s += k\n",
    "    k = (k*10)+1\n",
    "print(s)"
   ]
  },
  {
   "cell_type": "code",
   "execution_count": 73,
   "id": "403afffc",
   "metadata": {},
   "outputs": [
    {
     "name": "stdout",
     "output_type": "stream",
     "text": [
      "n = 10\n",
      "1 1 2 3 5 8 13 21 34 55 "
     ]
    }
   ],
   "source": [
    "# 17. Fibonachchi sonlarining dastlabki n tasini ekranga chiqaruvchi dastur tuzing.\n",
    "# Kiritish: 10\n",
    "# Chiqarish: 1 1 2 3 5 8 13 21 34 55\n",
    "\n",
    "n = int(input(\"n = \"))\n",
    "\n",
    "f1 = 1\n",
    "f2 = 1\n",
    "for i in range(n):\n",
    "    print(f1,end=\" \")\n",
    "    f2 = f1 + f2\n",
    "    f1 = f2 - f1"
   ]
  },
  {
   "cell_type": "code",
   "execution_count": 5,
   "id": "7d152109",
   "metadata": {},
   "outputs": [
    {
     "name": "stdout",
     "output_type": "stream",
     "text": [
      "n = 10\n",
      "Mumkin 3 7 "
     ]
    }
   ],
   "source": [
    "# 18. S musbat soni berilgan. Ushbu sonni ikki tub son yig’indisi ko’rinishida \n",
    "# ifodalash mumkinligini aniqlovchi dastur tuzing. Shu sonlarni ekranga chiqaring.\n",
    "# Kiritish: 20\n",
    "# Chiqarish: Mumkin  3 va 17\n",
    "\n",
    "n = int(input(\"n = \"))\n",
    "\n",
    "for i in range(2,n):\n",
    "    k = 0\n",
    "    for j in range(1,i+1):\n",
    "        if i % j == 0:\n",
    "            k += 1\n",
    "    if k == 2:\n",
    "        a = n - i\n",
    "        l = 0\n",
    "        for h in range(1,a+1):\n",
    "            if a % h == 0:\n",
    "                l += 1\n",
    "        if l == 2:\n",
    "            print(\"Mumkin\",i,a,end=\" \")\n",
    "            break\n",
    "            \n",
    "else:\n",
    "    print(\"Mumkin emas\")"
   ]
  },
  {
   "cell_type": "code",
   "execution_count": 2,
   "id": "22e36428",
   "metadata": {},
   "outputs": [
    {
     "name": "stdout",
     "output_type": "stream",
     "text": [
      "n = 10\n",
      "*\n",
      "**\n",
      "***\n",
      "****\n",
      "*****\n",
      "******\n",
      "*******\n",
      "********\n",
      "*********\n",
      "**********\n"
     ]
    }
   ],
   "source": [
    "# 19. n musbat soni berilgan. Yulduzcha yordamida to'g'ri burchakli uchburchak \n",
    "# shaklini  ekranga chiqaruvchi dastur tuzing. \n",
    "# Kiritish: 5 \n",
    "# Chiqarish:\n",
    "# *\n",
    "# **\n",
    "# ***\n",
    "# ****\n",
    "# *****\n",
    "\n",
    "n = int(input(\"n = \"))\n",
    "\n",
    "for i in range(1,n+1):\n",
    "    print(i * '*')"
   ]
  },
  {
   "cell_type": "code",
   "execution_count": 70,
   "id": "70329cdb",
   "metadata": {},
   "outputs": [
    {
     "name": "stdout",
     "output_type": "stream",
     "text": [
      "n = 5\n",
      "1\n",
      "12\n",
      "123\n",
      "1234\n",
      "12345\n"
     ]
    }
   ],
   "source": [
    "# 20. n musbat soni berilgan. Ekranga quyidagi “sonli uchburchak”ni chiqaruvchi \n",
    "# dastur tuzing. \n",
    "# Kiritish: 5\n",
    "# Chiqarish: \n",
    "# 1\n",
    "# 12\n",
    "# 123\n",
    "# 1234\n",
    "# 12345\n",
    "\n",
    "n = int(input(\"n = \"))\n",
    "\n",
    "for i in range(1,n+1):\n",
    "    for j in range(1,i+1):\n",
    "        print(j,end='')\n",
    "    print()"
   ]
  },
  {
   "cell_type": "code",
   "execution_count": 69,
   "id": "d5058955",
   "metadata": {},
   "outputs": [
    {
     "name": "stdout",
     "output_type": "stream",
     "text": [
      "n = 5\n",
      "1\n",
      "22\n",
      "333\n",
      "4444\n",
      "55555\n"
     ]
    }
   ],
   "source": [
    "# 21. n musbat soni berilgan. Ekranga quyidagi “sonli uchburchak”ni chiqaruvchi \n",
    "# dastur tuzing. \n",
    "# Kiritish: 5\n",
    "# Chiqarish:\n",
    "# 1                                                                                                             \n",
    "# 22                                                                                                      \n",
    "# 333                                                                                                         \n",
    "# 4444                                                                                                         \n",
    "# 55555 \n",
    "\n",
    "n = int(input(\"n = \"))\n",
    "\n",
    "for i in range(1,n+1):\n",
    "    print(f\"{i}\"*i)"
   ]
  },
  {
   "cell_type": "code",
   "execution_count": 26,
   "id": "b95b81b5",
   "metadata": {},
   "outputs": [
    {
     "name": "stdout",
     "output_type": "stream",
     "text": [
      "n=5\n",
      "1 \n",
      "2 3 \n",
      "4 5 6 \n",
      "7 8 9 10 \n",
      "11 12 13 14 15 \n"
     ]
    }
   ],
   "source": [
    "# 22. n musbat soni berilgan. Ekranga quyidagi “sonli uchburchak”ni chiqaruvchi \n",
    "# dastur tuzing. \n",
    "# Kiritish: 5\n",
    "# Chiqarish:                                                                                   \n",
    "# 1                                                                                  \n",
    "# 2 3                                                                                                         \n",
    "# 4 5 6                                                                                             \n",
    "# 7 8 9 10 \n",
    "# 11 12 13 14 15\n",
    "\n",
    "n = int(input('n='))\n",
    "\n",
    "k = 1\n",
    "for i in range(1,n+1):\n",
    "    for j in range(1,i+1):\n",
    "        print(k,end=\" \")\n",
    "        k += 1\n",
    "    print()"
   ]
  },
  {
   "cell_type": "code",
   "execution_count": 28,
   "id": "7336b89d",
   "metadata": {},
   "outputs": [
    {
     "name": "stdout",
     "output_type": "stream",
     "text": [
      "n=4\n",
      "    1 \n",
      "   2 3 \n",
      "  4 5 6 \n",
      " 7 8 9 10 \n"
     ]
    }
   ],
   "source": [
    "# 23. n musbat soni berilgan. Ekranga quyidagi “sonli piramida”ni chiqaruvchi \n",
    "# dastur tuzing. \n",
    "# Kiritish: 4\n",
    "# Chiqarish:\n",
    "#    1                                                          \n",
    "#   2 3                                                        \n",
    "#  4 5 6                                                             \n",
    "# 7 8 9 10 \n",
    "\n",
    "n = int(input('n='))\n",
    "\n",
    "k = 1\n",
    "for i in range(1,n+1):\n",
    "    print(end=' '*(n+1-i))\n",
    "    for j in range(1,i+1):\n",
    "        print(k, end=' ')\n",
    "        k+=1\n",
    "    print()"
   ]
  },
  {
   "cell_type": "code",
   "execution_count": 27,
   "id": "4c8c2f3d",
   "metadata": {},
   "outputs": [
    {
     "name": "stdout",
     "output_type": "stream",
     "text": [
      "n = 5\n",
      "     * \n",
      "    * * \n",
      "   * * * \n",
      "  * * * * \n",
      " * * * * * \n"
     ]
    }
   ],
   "source": [
    "# 24. n musbat soni berilgan. Ekranga n qatordan iborat “yulduzchali piramida” \n",
    "# ni chiqaruvchi dastur tuzing:\n",
    "# Kiritish: 5\n",
    "# Chiqarish:                                                \n",
    "#        *                                                              \n",
    "#       * *                                                             \n",
    "#      * * *                                                            \n",
    "#     * * * *                                                           \n",
    "#    * * * * *\n",
    "\n",
    "n = int(input(\"n = \"))\n",
    "\n",
    "k = 1\n",
    "for i in range(1,n+1):\n",
    "    print(end=\" \"*(n+1-i))\n",
    "    for j in range(1,i+1):\n",
    "        print(\"*\",end=\" \")\n",
    "        k += 1\n",
    "    print()"
   ]
  },
  {
   "cell_type": "code",
   "execution_count": 35,
   "id": "bc7da494",
   "metadata": {},
   "outputs": [
    {
     "name": "stdout",
     "output_type": "stream",
     "text": [
      "n = 5\n",
      "     1 \n",
      "    2 2 \n",
      "   3 3 3 \n",
      "  4 4 4 4 \n",
      " 5 5 5 5 5 \n"
     ]
    }
   ],
   "source": [
    "# 25. n musbat soni berilgan. Ekranga quyidagi “sonli piramida”ni chiqaruvchi \n",
    "# dastur tuzing.\n",
    "# Kiritish: 5\n",
    "# Chiqarish:                                              \n",
    "#        1                                                              \n",
    "#       2 2                                                             \n",
    "#      3 3 3                                                            \n",
    "#     4 4 4 4                                                           \n",
    "#    5 5 5 5 5 \n",
    "\n",
    "n = int(input(\"n = \"))\n",
    "\n",
    "k = 1\n",
    "for i in range(1,n+1):\n",
    "    print(end=\" \"*(n+1-i) )\n",
    "    for j in range(1,i+1):\n",
    "        print(k,end=\" \")\n",
    "    print()\n",
    "    k += 1"
   ]
  },
  {
   "cell_type": "code",
   "execution_count": 78,
   "id": "f5848e80",
   "metadata": {},
   "outputs": [
    {
     "name": "stdout",
     "output_type": "stream",
     "text": [
      "n = 5\n",
      "    *\n",
      "   ***\n",
      "  *****\n",
      " *******\n"
     ]
    }
   ],
   "source": [
    "# 26. n musbat soni berilgan. Ekranga quyidagi toq qatorli “sonli piramida”ni \n",
    "# chiqaruvchi dastur tuzing.\n",
    "# Kiritish: 5\n",
    "# Chiqarish:                                                             \n",
    "#    *                                                                  \n",
    "#   ***                                                                 \n",
    "#  *****                                                                \n",
    "# ******* \n",
    "\n",
    "n = int(input(\"n = \"))\n",
    "\n",
    "k = 1\n",
    "for i in range(1,2*n-2,2):\n",
    "    print(end=\" \"*(n-k))\n",
    "    for j in range(1):\n",
    "        print(\"*\"*i,end=\"\")\n",
    "        k += 1\n",
    "    print()"
   ]
  },
  {
   "cell_type": "code",
   "execution_count": 4,
   "id": "53a84077",
   "metadata": {},
   "outputs": [
    {
     "name": "stdout",
     "output_type": "stream",
     "text": [
      "n=5\n",
      "1\n",
      "01\n",
      "101\n",
      "0101\n",
      "10101\n",
      "1\n",
      "01\n",
      "101\n",
      "0101\n",
      "10101\n"
     ]
    }
   ],
   "source": [
    "# 27. n musbat soni berilgan. Ekranga n qatorli Floyd uchburchagini chiqaruvchi \n",
    "# dastur tuzing.\n",
    "# Kiritish: 5\n",
    "# Chiqarish:                                             \n",
    "# 1                                                                      \n",
    "# 01                                                                     \n",
    "# 101                                                                    \n",
    "# 0101                                                              \n",
    "# 10101\n",
    "\n",
    "# 1-usul\n",
    "\n",
    "n = int(input('n='))\n",
    "\n",
    "for i in range(n):\n",
    "    for j in range(i+1):\n",
    "        print((i+j+1)%2,end=\"\")\n",
    "    print()\n",
    "\n",
    "# 2-usul\n",
    "\n",
    "for i in range(1,n+1):\n",
    "    for j in range(i,0,-1):\n",
    "        if j%2==1:\n",
    "            print(\"1\",end=\"\")\n",
    "        if j%2==0:\n",
    "            print(\"0\",end=\"\")\n",
    "    print()"
   ]
  },
  {
   "cell_type": "code",
   "execution_count": 5,
   "id": "b9d464ec",
   "metadata": {},
   "outputs": [
    {
     "name": "stdout",
     "output_type": "stream",
     "text": [
      "n=5\n",
      "     *\n",
      "    ***\n",
      "   *****\n",
      "  *******\n",
      " *********\n",
      "  *******\n",
      "   *****\n",
      "    ***\n",
      "     *\n",
      "n = 5\n",
      "    * \n",
      "   *** \n",
      "  ***** \n",
      " ******* \n",
      "********* \n",
      " ******* \n",
      "  ***** \n",
      "   *** \n",
      "    * \n",
      "      \n"
     ]
    }
   ],
   "source": [
    "# 28. n musbat soni berilgan. Tomoni n ta yulduzchadan iborat bo’lgan romb shaklini \n",
    "# yasovchi dastur tuzing.\n",
    "# Kiritish: 5\n",
    "# Chiqarish:\n",
    "                                                                       \n",
    "#     *                                                                  \n",
    "#    ***                                                                 \n",
    "#   *****                                                                \n",
    "#  *******                                                               \n",
    "# *********                                                              \n",
    "#  *******                                                               \n",
    "#   *****                                                                \n",
    "#    ***                                                                 \n",
    "#     *\n",
    "\n",
    "# 1-usul\n",
    "\n",
    "n = int(input('n='))\n",
    "\n",
    "for i in range(1,n+1):\n",
    "    print(' '*(n-i),'*'*(2*i-1),end='\\n')\n",
    "for i in range(n-1,0,-1):\n",
    "    print(' '*(n-i), '*'*(2*i-1),end='\\n')\n",
    "\n",
    "# 2-usul\n",
    "\n",
    "n = int(input(\"n = \"))\n",
    "\n",
    "k = 1\n",
    "for i in range(1,n+1):\n",
    "    print(end=\" \"*(n-i))\n",
    "    for j in range(1):\n",
    "        print(k*\"*\",end=\" \")\n",
    "    k += 2\n",
    "    print()\n",
    "k-= 4  \n",
    "for i in range(1,n+1):\n",
    "    print(end=\" \"*i)\n",
    "    for j in range(1):\n",
    "        print(k*\"*\",end=\" \")\n",
    "    k -= 2\n",
    "    print()"
   ]
  },
  {
   "cell_type": "code",
   "execution_count": 7,
   "id": "ad33b2a7",
   "metadata": {},
   "outputs": [
    {
     "name": "stdout",
     "output_type": "stream",
     "text": [
      "n = 5\n",
      "     1 \n",
      "    1 1 \n",
      "   1 2 1 \n",
      "  1 3 3 1 \n",
      " 1 4 6 4 1 \n",
      "n = 5\n",
      "     1 \n",
      "    1 1 \n",
      "   1 2 1 \n",
      "  1 3 3 1 \n",
      " 1 4 6 4 1 \n"
     ]
    }
   ],
   "source": [
    "# 29. n musbat soni berilgan. n-darajali Paskal uchburchagini piramida ko’rinishida \n",
    "# ekranga chiqaruvchi dastur tuzing.\n",
    "# Kiritish: 5\n",
    "# Chiqarish:                                  \n",
    "#          1                                                            \n",
    "#        1   1                                                          \n",
    "#      1   2   1                                                        \n",
    "#    1   3   3   1                                                    \n",
    "#  1   4   6   4   1                          \n",
    "\n",
    "# 1-usul\n",
    "\n",
    "n = int(input(\"n = \"))\n",
    "for i in range(n):\n",
    "    for j in range(n-i):\n",
    "        print(' ',end=\"\")\n",
    "    for j in range(i+1):\n",
    "        if j==0:\n",
    "            c = 1\n",
    "        else:\n",
    "            c = c*(i+1-j)//j\n",
    "        print(c,end=\" \")\n",
    "    print()\n",
    "n = int(input(\"n = \"))\n",
    "\n",
    "# 2-usul funksiya bilan\n",
    "\n",
    "def fak(x):\n",
    "    if x>0:\n",
    "        p = 1\n",
    "        for i in range(1,x+1):\n",
    "            p *= i\n",
    "        return p\n",
    "    elif x==0:\n",
    "        return 1\n",
    "\n",
    "for i in range(0,n):\n",
    "    print(\" \"*(n-i),end=\"\")\n",
    "    for j in range(0,i+1):\n",
    "        print(int(fak(i) / (fak(j) * fak(i-j))),end=\" \")\n",
    "    print()\n",
    "        \n"
   ]
  },
  {
   "cell_type": "code",
   "execution_count": 3,
   "id": "0b183920",
   "metadata": {},
   "outputs": [
    {
     "name": "stdout",
     "output_type": "stream",
     "text": [
      "n = 5\n",
      "    1\n",
      "   121\n",
      "  12321\n",
      " 1234321\n",
      "123454321\n"
     ]
    }
   ],
   "source": [
    "# 30. n musbat soni berilgan. Ekranga quyidagi “sonli piramida”ni chiqaruvchi dastur \n",
    "# tuzing.\n",
    "# Kiritish: 5\n",
    "# Chiqarish:\n",
    "#         1                                                                  \n",
    "#        121                                                                 \n",
    "#       12321                                                                \n",
    "#      1234321                                                               \n",
    "#     123454321\n",
    "\n",
    "n = int(input(\"n = \"))\n",
    "\n",
    "for i in range(1,n+1):\n",
    "    print(\" \"*(n-i),end=\"\")\n",
    "    for j in range(1,i+1):\n",
    "        print(j,end=\"\")\n",
    "    for j in range(i-1,0,-1):\n",
    "        print(j,end=\"\")\n",
    "    print()"
   ]
  },
  {
   "cell_type": "code",
   "execution_count": 29,
   "id": "51ec76a5",
   "metadata": {},
   "outputs": [
    {
     "name": "stdout",
     "output_type": "stream",
     "text": [
      "n = 5\n",
      "    1\n",
      "   232\n",
      "  34543\n",
      " 4567654\n",
      "567898765\n"
     ]
    }
   ],
   "source": [
    "# 31.  n musbat soni berilgan. Ekranga quyidagi “sonli piramida”ni chiqaruvchi \n",
    "# dastur tuzing.\n",
    "# Kiritish: 5\n",
    "# Chiqarish:   \n",
    "#       1                                                                  \n",
    "#      232                                                                 \n",
    "#     34543                                                                \n",
    "#    4567654                                                               \n",
    "#   567898765\n",
    "\n",
    "n = int(input(\"n = \"))\n",
    "\n",
    "for i in range(1,n+1):\n",
    "    print(\" \"*(n-i),end=\"\")\n",
    "    for j in range(i,2*i):\n",
    "        print(j,end=\"\")\n",
    "    for j in range(2*i-2,i-1,-1):\n",
    "        print(j,end=\"\")\n",
    "    print()"
   ]
  },
  {
   "cell_type": "code",
   "execution_count": 68,
   "id": "5dfcdb40",
   "metadata": {},
   "outputs": [
    {
     "name": "stdout",
     "output_type": "stream",
     "text": [
      "n = 8\n",
      "0 1 2 3 4 5 6 7 \n",
      "1 0 1 2 3 4 5 6 \n",
      "2 1 0 1 2 3 4 5 \n",
      "3 2 1 0 1 2 3 4 \n",
      "4 3 2 1 0 1 2 3 \n",
      "5 4 3 2 1 0 1 2 \n",
      "6 5 4 3 2 1 0 1 \n",
      "7 6 5 4 3 2 1 0 \n"
     ]
    }
   ],
   "source": [
    "# 32. n musbat soni berilgan. Quyidagi ko’rinishdagi kvadratni ekranga chiqaruvchi \n",
    "# dastur tuzing.\n",
    "# Kiritish: 5\n",
    "# Chiqarish:\n",
    "# 0 1 2 3 4\n",
    "# 1 0 1 2 3\n",
    "# 2 1 0 1 2\n",
    "# 3 2 1 0 1\n",
    "# 4 3 2 1 0\n",
    "\n",
    "# Kiritish: 8\n",
    "# Chiqarish:                                                                                      \n",
    "# 0 1 2 3 4 5 6 7                                                                                        \n",
    "# 1 0 1 2 3 4 5 6                                                                                        \n",
    "# 2 1 0 1 2 3 4 5                                                                                        \n",
    "# 3 2 1 0 1 2 3 4                                                                                        \n",
    "# 4 3 2 1 0 1 2 3                                                                                        \n",
    "# 5 4 3 2 1 0 1 2                                                                                        \n",
    "# 6 5 4 3 2 1 0 1                                                                                        \n",
    "# 7 6 5 4 3 2 1 0 \n",
    "#32\n",
    "n = int(input(\"n = \"))\n",
    "\n",
    "for i in range(n):\n",
    "    for j in range(i,0,-1):\n",
    "        print(j,end=\" \")\n",
    "    for j in range(0,n-i):\n",
    "        print(j,end=\" \")\n",
    "    print()"
   ]
  },
  {
   "cell_type": "code",
   "execution_count": 1,
   "id": "69d51eb0",
   "metadata": {},
   "outputs": [
    {
     "name": "stdout",
     "output_type": "stream",
     "text": [
      "n = 35\n",
      "100011\n"
     ]
    }
   ],
   "source": [
    "# 33. O'nli sanoq sistemasidagi sonlarni ikkilik sanoq sistemasiga o’tkazib beruvchi \n",
    "# dastur tuzing. \n",
    "# Kiritish: 35\n",
    "# Chiqarish: 10001122\n",
    "\n",
    "n = int(input(\"n = \"))\n",
    "\n",
    "sonlar = ''\n",
    "for i in range(n):\n",
    "    if n%2 != n//2:\n",
    "        sonlar += str(n % 2)\n",
    "        n //= 2\n",
    "a = int(sonlar[::-1]) \n",
    "print(a)"
   ]
  },
  {
   "cell_type": "code",
   "execution_count": 3,
   "id": "6ba5a9e1",
   "metadata": {},
   "outputs": [
    {
     "name": "stdout",
     "output_type": "stream",
     "text": [
      "10 lik sanoq sistemasida son kiriting: 15\n",
      "17\n"
     ]
    }
   ],
   "source": [
    "# 34. O'nli sanoq sistemasidagi sonlarni sakkizlik sanoq sistemasiga o’tkazib \n",
    "# beruvchi dastur tuzing. \n",
    "# Kiritish: 15\n",
    "# Chiqarish: 17\n",
    "\n",
    "son = int(input(\"10 lik sanoq sistemasida son kiriting: \"))\n",
    "\n",
    "sonlar = ''\n",
    "for i in range(son):                      \n",
    "    if son % 8 != son // 8:\n",
    "        k = son % 8\n",
    "        sonlar += str(k)\n",
    "        son //= 8\n",
    "    else:\n",
    "        break\n",
    "print(int(sonlar[::-1]))"
   ]
  },
  {
   "cell_type": "code",
   "execution_count": 67,
   "id": "13f01b2b",
   "metadata": {},
   "outputs": [
    {
     "name": "stdout",
     "output_type": "stream",
     "text": [
      "n = 1011\n",
      "O'nlik sanoq sistemasida: 11 ga teng\n"
     ]
    }
   ],
   "source": [
    "# 35. Ikkilik sanoq sistemasidagi sonlarni o’nlik sanoq sistemasiga o’tkazib beruvchi dastur tuzing. \n",
    "# Kiritish: 1011\n",
    "# Chiqarish: 11\n",
    "\n",
    "son = int(input(\"n = \"))\n",
    "\n",
    "s = 0\n",
    "k = len(str(son))-1\n",
    "for i in str(son):\n",
    "    s += int(i) * 2**k\n",
    "    k -= 1\n",
    "print(\"O'nlik sanoq sistemasida:\",s,\"ga teng\")"
   ]
  },
  {
   "cell_type": "code",
   "execution_count": 4,
   "id": "93f0c8a5",
   "metadata": {},
   "outputs": [
    {
     "name": "stdout",
     "output_type": "stream",
     "text": [
      "10 lik sanoq sistemasida son kiriting: 35\n",
      "qaysi sanoq sistemasiga o'tkazasiz: 2\n",
      "100011\n"
     ]
    }
   ],
   "source": [
    "# Universal (10 - > x). O'nli sanoq sistemasidagi sonlarni boshqa bir sanoq sistemasiga o’tkazib \n",
    "# beruvchi dastur tuzing. \n",
    "\n",
    "son = int(input(\"10 lik sanoq sistemasida son kiriting: \"))\n",
    "sanoq = int(input(\"qaysi sanoq sistemasiga o'tkazasiz: \"))\n",
    "\n",
    "sonlar = ''\n",
    "for i in range(son):                      \n",
    "    if son % sanoq != son // sanoq:\n",
    "        k = son % sanoq\n",
    "        sonlar += str(k)\n",
    "        son //= sanoq\n",
    "    else:\n",
    "        break\n",
    "        \n",
    "print(int(sonlar[::-1]))"
   ]
  },
  {
   "cell_type": "code",
   "execution_count": 107,
   "id": "0d9bee64",
   "metadata": {},
   "outputs": [
    {
     "name": "stdout",
     "output_type": "stream",
     "text": [
      "Qaysi sanoq sistemasida son kiritasiz: 8\n",
      "8 lik sanoq sistemasida son kiriting: 1130\n",
      "600\n"
     ]
    }
   ],
   "source": [
    "# Universal (x - > 10). O'nli sanoq sistemasidagi sonlarni boshqa bir sanoq sistemasiga o’tkazib \n",
    "# beruvchi dastur tuzing. \n",
    "\n",
    "sanoq = int(input(\"Qaysi sanoq sistemasida son kiritasiz: \"))\n",
    "son = int(input(f\"{sanoq} lik sanoq sistemasida son kiriting: \"))\n",
    "s = 0\n",
    "k = len(str(son)) - 1\n",
    "for i in str(son):\n",
    "    s += int(i) * sanoq**k\n",
    "    k -= 1\n",
    "print(s)\n"
   ]
  },
  {
   "cell_type": "code",
   "execution_count": 1,
   "id": "b788cde1",
   "metadata": {},
   "outputs": [
    {
     "name": "stdout",
     "output_type": "stream",
     "text": [
      "Qaysi sanoq sistemasida son kiritasiz: 10\n",
      "Qaysi sanoq sistemasiga o'tkazasiz: 2\n",
      "10 lik sanoq sistemasida son kiriting: 93125\n",
      "10110101111000101\n"
     ]
    }
   ],
   "source": [
    "# Universal (x - > x). O'nli sanoq sistemasidagi sonlarni boshqa bir sanoq sistemasiga o’tkazib \n",
    "# beruvchi dastur tuzing. \n",
    "\n",
    "sanoq = int(input(\"Qaysi sanoq sistemasida son kiritasiz: \"))\n",
    "sanoq2 = int(input(\"Qaysi sanoq sistemasiga o'tkazasiz: \"))\n",
    "son = int(input(f\"{sanoq} lik sanoq sistemasida son kiriting: \"))\n",
    "\n",
    "if sanoq < 11 and sanoq2 < 11:\n",
    "    s = 0\n",
    "    k = len(str(son)) - 1\n",
    "    for i in str(son):\n",
    "        s += int(i) * sanoq**k\n",
    "        k -= 1\n",
    "\n",
    "    sonlar = ''\n",
    "    for i in range(s):                      \n",
    "        if s % sanoq2 != s // sanoq2:\n",
    "            k = s % sanoq2\n",
    "            sonlar += str(k)\n",
    "            s //= sanoq2\n",
    "        else:\n",
    "            break\n",
    "    print(int(sonlar[::-1]))\n",
    "else:\n",
    "    print(\"10 likdan kichik yoki 10 lik sanoq kiriting\")"
   ]
  }
 ],
 "metadata": {
  "kernelspec": {
   "display_name": "Python 3 (ipykernel)",
   "language": "python",
   "name": "python3"
  },
  "language_info": {
   "codemirror_mode": {
    "name": "ipython",
    "version": 3
   },
   "file_extension": ".py",
   "mimetype": "text/x-python",
   "name": "python",
   "nbconvert_exporter": "python",
   "pygments_lexer": "ipython3",
   "version": "3.10.2"
  }
 },
 "nbformat": 4,
 "nbformat_minor": 5
}
