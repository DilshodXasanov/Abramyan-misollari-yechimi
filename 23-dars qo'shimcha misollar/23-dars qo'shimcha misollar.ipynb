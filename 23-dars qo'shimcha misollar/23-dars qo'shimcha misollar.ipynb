{
 "cells": [
  {
   "cell_type": "markdown",
   "id": "0bff4ac7",
   "metadata": {},
   "source": [
    "# 27/08/2022\n",
    "\n",
    "# Python asoslari\n",
    "\n",
    "# 23-dars: Matritsa,String,Lambda,Map,Filter,Reduce va Dekoratorlarga oid qo'shimcha misollarni yechish\n",
    "\n",
    "# Muallif: Farrux Sotivoldiyev"
   ]
  },
  {
   "cell_type": "code",
   "execution_count": 4,
   "id": "9f3e0d49",
   "metadata": {},
   "outputs": [
    {
     "name": "stdout",
     "output_type": "stream",
     "text": [
      "m = 4\n",
      "n = 3\n",
      "2 5 5\n",
      "8 8 2\n",
      "2 8 2\n",
      "1 2 3\n",
      "\n",
      "3 5 5\n",
      "9 9 3\n",
      "3 10 6\n",
      "2 5 12\n"
     ]
    }
   ],
   "source": [
    "# savol-1\n",
    "# random matritsa hosil qiling va uni shunday o'zgartiring yani o'sh elementga uzi turgan indexni darajaga ko'tarib \n",
    "# qo'shilsin .Masalan 2 5 7 9 -> 2+0^0  5+0^1 ....\n",
    "#                     3 1 0 4 -> 3+1^0  1+1^1 ....\n",
    "    \n",
    "from random import randint\n",
    "m = int(input(\"m = \"))\n",
    "n = int(input(\"n = \"))\n",
    "matrix = [[randint(1,9) for i in range(n)] for j in range(m)]\n",
    "for i in matrix:\n",
    "    print(*i)\n",
    "    \n",
    "for i in range(m):\n",
    "    for j in range(n):\n",
    "        matrix[i][j] = matrix[i][j] + i**j\n",
    "print()     \n",
    "for i in matrix:\n",
    "    print(*i)"
   ]
  },
  {
   "cell_type": "code",
   "execution_count": null,
   "id": "bbc45dca",
   "metadata": {},
   "outputs": [],
   "source": []
  },
  {
   "cell_type": "code",
   "execution_count": 7,
   "id": "d490e1bf",
   "metadata": {},
   "outputs": [
    {
     "name": "stdout",
     "output_type": "stream",
     "text": [
      "k = 10\n",
      "[3, 9, 1, 2, 1, 8, 6, 8, 9, 3]\n",
      "[9, 6, 3, 1, 1]\n",
      "k = 10\n",
      "[3, 3, 7, 3, 4, 8, 9, 1, 9, 4]\n",
      "[9, 9, 7, 4, 3]\n"
     ]
    }
   ],
   "source": [
    "# savol-2 Random massiv berilgan uning toq indexdagi elementlarini o'chiring va qolgan\n",
    "# elementlarini teskari sort qilamiz\n",
    "\n",
    "#1-usul\n",
    "from random import randint\n",
    "k = int(input(\"k = \"))\n",
    "massiv = [randint(1,9) for i in range(k)]\n",
    "print(massiv)\n",
    "\n",
    "i = 1\n",
    "while i<len(massiv):\n",
    "    massiv.pop(i)\n",
    "    i+=1\n",
    "    \n",
    "massiv.sort(reverse=True)\n",
    "\n",
    "print(massiv)\n",
    "\n",
    "#2-usul\n",
    "from random import randint\n",
    "\n",
    "k = int(input(\"k = \"))\n",
    "massiv = [randint(1,9) for i in range(k)]\n",
    "print(massiv)\n",
    "\n",
    "massiv = massiv[::2]\n",
    "print(sorted(massiv,reverse=True))"
   ]
  },
  {
   "cell_type": "code",
   "execution_count": 2,
   "id": "22b1f276",
   "metadata": {},
   "outputs": [
    {
     "name": "stdout",
     "output_type": "stream",
     "text": [
      "matn kiriting: matn berilgan shu matndagi so'zlarning uzunligi bo'yicha saralash kerak uzundan kaltagacha.\n",
      "so'zlarning kaltagacha. berilgan matndagi uzunligi bo'yicha saralash uzundan kerak matn shu\n",
      "matn kiriting: matn berilgan shu matndagi so'zlarning uzunligi bo'yicha saralash kerak uzundan kaltagacha.\n",
      "so'zlarning kaltagacha. berilgan matndagi uzunligi bo'yicha saralash uzundan kerak matn shu\n"
     ]
    }
   ],
   "source": [
    "# savol-3 by Farrux\n",
    "# matn berilgan shu matndagi so'zlarning uzunligi bo'yicha saralash kerak uzundan kaltagacha.\n",
    "\n",
    "# 1-usul\n",
    "matn = input(\"matn kiriting: \")\n",
    "x = matn.split()\n",
    "\n",
    "for _ in range(len(x)):\n",
    "    for i in range(len(x)-1):\n",
    "        if len(x[i])<len(x[i+1]):\n",
    "            x[i],x[i+1] = x[i+1],x[i]\n",
    "            \n",
    "print(\" \".join(x))\n",
    "\n",
    "# 2-usul\n",
    "matn = input(\"matn kiriting: \")\n",
    "x = matn.split()\n",
    "\n",
    "y = sorted(x,key=len,reverse=True)\n",
    "\n",
    "print(\" \".join(y))"
   ]
  },
  {
   "cell_type": "markdown",
   "id": "b0cb8fc8",
   "metadata": {},
   "source": [
    "# Lambda funksiyasi"
   ]
  },
  {
   "cell_type": "code",
   "execution_count": 32,
   "id": "c3603854",
   "metadata": {},
   "outputs": [
    {
     "name": "stdout",
     "output_type": "stream",
     "text": [
      "[92, 78, 56, 43, 23, 9, 8, 3]\n"
     ]
    }
   ],
   "source": [
    "# savol-4\n",
    "# 100 ga yaqinligi bo'yicha saralash\n",
    "x = [3,56,8,9,23,43,78,92]\n",
    "print(sorted(x,key=lambda i: 100-i))"
   ]
  },
  {
   "cell_type": "code",
   "execution_count": 16,
   "id": "4ee62c48",
   "metadata": {},
   "outputs": [
    {
     "name": "stdout",
     "output_type": "stream",
     "text": [
      "matn kiriting: qalse bu matn berilgan shu matndagi so'zlarning uzun bo salom saralash kerak uz kaltagacha.\n",
      "so'zlarning qalse salom kaltagacha. berilgan saralash kerak matn matndagi shu uzun\n"
     ]
    }
   ],
   "source": [
    "# savol-5 Matn berilgan\n",
    "# 1- Hamma katta harflarni kichigiga aylantiramiz\n",
    "# 2- Uzunligi 3 dan kichik so'zlarni o'chiramiz\n",
    "# 3- So'zlarni 2-index bo'yicha sort qilamiz\n",
    "\n",
    "matn = input(\"matn kiriting: \")\n",
    "matn = matn.lower()\n",
    "x = matn.split()\n",
    "\n",
    "i = 0\n",
    "while i<len(x):\n",
    "    if len(x[i])<3:\n",
    "        del x[i]\n",
    "        continue\n",
    "    i += 1\n",
    "    \n",
    "y = sorted(x,key=lambda i:i[2])   \n",
    "\n",
    "print(\" \".join(y))"
   ]
  },
  {
   "cell_type": "code",
   "execution_count": 18,
   "id": "605957f3",
   "metadata": {},
   "outputs": [
    {
     "name": "stdout",
     "output_type": "stream",
     "text": [
      "matn kiriting:  qalse bu matn berilgan shu matndagi\n",
      "qalse matndagi matn berilgan bu shu\n"
     ]
    }
   ],
   "source": [
    "# savol-6 Matn berilgan.\n",
    "# Oxirgi belgisi bo'yicha sortlaymiz o'zimiz yasagan funksiya orqali.\n",
    "\n",
    "matn = input(\"matn kiriting: \")\n",
    "x = matn.split()\n",
    "\n",
    "def oxirgi_belgi(i):\n",
    "    return i[-1]\n",
    "y = sorted(x,key=oxirgi_belgi)\n",
    "print(\" \".join(y))"
   ]
  },
  {
   "cell_type": "markdown",
   "id": "9862a21d",
   "metadata": {},
   "source": [
    "### sort() funksiyasi bilan ishlatilishi"
   ]
  },
  {
   "cell_type": "code",
   "execution_count": 23,
   "id": "7936ce6b",
   "metadata": {},
   "outputs": [
    {
     "name": "stdout",
     "output_type": "stream",
     "text": [
      "['ber', 'uzun', 'kaltaga.', 'matndagi', \"bo'yicha\", \"so'zlarning\"]\n"
     ]
    }
   ],
   "source": [
    "# sort funksiyasi bilan ishlatilishi\n",
    "\n",
    "massiv = [\"so'zlarning\", 'kaltaga.', 'ber', 'matndagi', 'uzun', \"bo'yicha\"]\n",
    "\n",
    "massiv.sort(key=lambda i:len(i))\n",
    "\n",
    "print(massiv)"
   ]
  },
  {
   "cell_type": "markdown",
   "id": "4dd6131e",
   "metadata": {},
   "source": [
    "### map() funksiyasi bilan ishlatilishi."
   ]
  },
  {
   "cell_type": "code",
   "execution_count": 19,
   "id": "f268113c",
   "metadata": {},
   "outputs": [
    {
     "name": "stdout",
     "output_type": "stream",
     "text": [
      "[2, 10, 8, 12, 16, 22, 6, 24]\n"
     ]
    }
   ],
   "source": [
    "# map() funksiyasi bilan ishlatilishi\n",
    "\n",
    "my_list = [1, 5, 4, 6, 8, 11, 3, 12]\n",
    "\n",
    "new_list = list(map(lambda x: x * 2 , my_list))\n",
    "\n",
    "print(new_list)"
   ]
  },
  {
   "cell_type": "code",
   "execution_count": 63,
   "id": "32580775",
   "metadata": {},
   "outputs": [
    {
     "name": "stdout",
     "output_type": "stream",
     "text": [
      "[10, 14, 44, 194, 108, 124, 154, 46, 146, 122]\n"
     ]
    }
   ],
   "source": [
    "# Python code to illustrate\n",
    "# map() with lambda()\n",
    "# to get double of a list.\n",
    "li = [5, 7, 22, 97, 54, 62, 77, 23, 73, 61]\n",
    "\n",
    "final_list = list(map(lambda x: x*2, li))\n",
    "print(final_list)\n"
   ]
  },
  {
   "cell_type": "code",
   "execution_count": 64,
   "id": "13694cb5",
   "metadata": {},
   "outputs": [
    {
     "name": "stdout",
     "output_type": "stream",
     "text": [
      "['DOG', 'CAT', 'PARROT', 'RABBIT']\n"
     ]
    }
   ],
   "source": [
    "# Python program to demonstrate\n",
    "# use of lambda() function\n",
    "# with map() function\n",
    "animals = ['dog', 'cat', 'parrot', 'rabbit']\n",
    "\n",
    "# here we intend to change all animal names\n",
    "# to upper case and return the same\n",
    "uppered_animals = list(map(lambda animal: str.upper(animal), animals))\n",
    "\n",
    "print(uppered_animals)\n"
   ]
  },
  {
   "cell_type": "markdown",
   "id": "f1aa8e64",
   "metadata": {},
   "source": [
    "### filter() funksiyasi bilan ishlatilishi."
   ]
  },
  {
   "cell_type": "code",
   "execution_count": 20,
   "id": "6dbe6ea5",
   "metadata": {},
   "outputs": [
    {
     "name": "stdout",
     "output_type": "stream",
     "text": [
      "[4, 6, 8, 12]\n"
     ]
    }
   ],
   "source": [
    "# filter() funksiyasi bilan ishlatilishi\n",
    "\n",
    "my_list = [1, 5, 4, 6, 8, 11, 3, 12]\n",
    "\n",
    "new_list = list(filter(lambda x: (x%2 == 0) , my_list))\n",
    "\n",
    "print(new_list)"
   ]
  },
  {
   "cell_type": "code",
   "execution_count": 61,
   "id": "aa699c20",
   "metadata": {},
   "outputs": [
    {
     "name": "stdout",
     "output_type": "stream",
     "text": [
      "[5, 7, 97, 77, 23, 73, 61]\n"
     ]
    }
   ],
   "source": [
    "# filter() with lambda()\n",
    "li = [5, 7, 22, 97, 54, 62, 77, 23, 73, 61]\n",
    "\n",
    "final_list = list(filter(lambda x: (x%2 != 0) , li))\n",
    "print(final_list)\n"
   ]
  },
  {
   "cell_type": "code",
   "execution_count": 62,
   "id": "2ec0ebaa",
   "metadata": {},
   "outputs": [
    {
     "name": "stdout",
     "output_type": "stream",
     "text": [
      "[90, 59, 21, 60]\n"
     ]
    }
   ],
   "source": [
    "# Python 3 code to people above 18 yrs\n",
    "ages = [13, 90, 17, 59, 21, 60, 5]\n",
    "\n",
    "adults = list(filter(lambda age: age>18, ages))\n",
    "\n",
    "print(adults)\n"
   ]
  },
  {
   "cell_type": "markdown",
   "id": "a80f55ab",
   "metadata": {},
   "source": [
    "### reduce() funksiyasi bilan ishlatilishi."
   ]
  },
  {
   "cell_type": "code",
   "execution_count": null,
   "id": "9f9fecef",
   "metadata": {},
   "outputs": [],
   "source": [
    "# Python code to illustrate\n",
    "# reduce() with lambda()\n",
    "# to get sum of a list\n",
    "\n",
    "from functools import reduce\n",
    "li = [5, 8, 10, 20, 50, 100]\n",
    "sum = reduce((lambda x, y: x + y), li)\n",
    "print (sum)\n"
   ]
  },
  {
   "cell_type": "code",
   "execution_count": 65,
   "id": "06a0e48c",
   "metadata": {},
   "outputs": [
    {
     "name": "stdout",
     "output_type": "stream",
     "text": [
      "The maximum element of the list is : 6\n"
     ]
    }
   ],
   "source": [
    "# python code to demonstrate working of reduce()\n",
    "# with a lambda function\n",
    "\n",
    "# importing functools for reduce()\n",
    "import functools\n",
    "\n",
    "# initializing list\n",
    "lis = [ 1 , 3, 5, 6, 2, ]\n",
    "\n",
    "# using reduce to compute maximum element from list\n",
    "print (\"The maximum element of the list is : \",end=\"\")\n",
    "print (functools.reduce(lambda a,b : a if a > b else b,lis))\n"
   ]
  },
  {
   "cell_type": "markdown",
   "id": "66c35e35",
   "metadata": {},
   "source": [
    "### lambda ni ichida ham funksiyaga murojat."
   ]
  },
  {
   "cell_type": "code",
   "execution_count": 31,
   "id": "d8e9727e",
   "metadata": {},
   "outputs": [
    {
     "name": "stdout",
     "output_type": "stream",
     "text": [
      "14\n"
     ]
    }
   ],
   "source": [
    "# lambda ni ichida ham funksiyaga murojat\n",
    "k = lambda x,daraja:x*daraja(x)\n",
    "print(k(2,lambda x:x+5))"
   ]
  },
  {
   "cell_type": "markdown",
   "id": "23a6dbcc",
   "metadata": {},
   "source": [
    "### Lambdani boshqacha tarzda ham ishlatilishi."
   ]
  },
  {
   "cell_type": "code",
   "execution_count": 35,
   "id": "b8996be3",
   "metadata": {},
   "outputs": [
    {
     "name": "stdout",
     "output_type": "stream",
     "text": [
      "6\n",
      "6\n",
      "6\n",
      "6\n",
      "6\n",
      "6\n"
     ]
    }
   ],
   "source": [
    "# Lambdani boshqacha tarzda ham ishlatilishi\n",
    "\n",
    "print((lambda x, y, z: x + y + z)(1, 2, 3))\n",
    "\n",
    "print((lambda x, y, z=3: x + y + z)(1, 2))\n",
    "\n",
    "print((lambda x, y, z=3: x + y + z)(1, y=2))\n",
    "\n",
    "print((lambda *args: sum(args))(1,2,3))\n",
    "\n",
    "print((lambda **kwargs: sum(kwargs.values()))(one=1, two=2, three=3))\n",
    "\n",
    "print((lambda x, *, y=0, z=0: x + y + z)(1, y=2, z=3))"
   ]
  },
  {
   "cell_type": "code",
   "execution_count": 43,
   "id": "b80135b5",
   "metadata": {},
   "outputs": [
    {
     "name": "stdout",
     "output_type": "stream",
     "text": [
      "10 20 30 40 50 60 70 80 90 100 "
     ]
    }
   ],
   "source": [
    "tables = [lambda x=x: x*10 for x in range(1, 11)]   # ko'rsataman\n",
    "for table in tables:\n",
    "    print(table(),end=\" \")"
   ]
  },
  {
   "cell_type": "code",
   "execution_count": 58,
   "id": "787c9ab0",
   "metadata": {},
   "outputs": [
    {
     "name": "stdout",
     "output_type": "stream",
     "text": [
      "[3, 16, 9]\n"
     ]
    }
   ],
   "source": [
    "List = [[2,3,4],[1, 4, 16, 64],[3, 6, 9, 12]]\n",
    "\n",
    "# Sort each sublist\n",
    "sortList = lambda x: (sorted(i) for i in x)\n",
    "\n",
    "# Get the second largest element\n",
    "secondLargest = lambda x, f : [y[len(y)-2] for y in f(x)]      # ko'rsataman\n",
    "res = secondLargest(List, sortList)\n",
    "\n",
    "print(res)\n"
   ]
  },
  {
   "cell_type": "markdown",
   "id": "d8b787dd",
   "metadata": {},
   "source": [
    "**`DETERMINANT topish`**"
   ]
  },
  {
   "cell_type": "code",
   "execution_count": 43,
   "id": "3ac02332",
   "metadata": {},
   "outputs": [
    {
     "name": "stdout",
     "output_type": "stream",
     "text": [
      "n = 5\n",
      "Matritsani kiriting:\n",
      "3 5 2 0 8\n",
      "-1 2 0 2 -5\n",
      "3 7 2 3 0\n",
      "4 8 2 4 6\n",
      "1 7 9 7 2\n",
      "Determinanti: 1422\n"
     ]
    }
   ],
   "source": [
    "n = int(input(\"n = \"))\n",
    "print(\"Matritsani kiriting:\")\n",
    "\n",
    "matrix = [list(map(int,input().split())) for i in range(n)]\n",
    "\n",
    "assert len(matrix)==len(matrix[0]),\"Ustun va satr bir biriga teng emas!\"\n",
    "    \n",
    "def det(matrix):\n",
    "    if len(matrix)==1:\n",
    "        return matrix[0][0]\n",
    "    elif len(matrix)==2:\n",
    "        return matrix[0][0]*matrix[1][1] - matrix[1][0]*matrix[0][1]\n",
    "    elif len(matrix)==3:\n",
    "        return matrix[0][0]*matrix[1][1]*matrix[2][2]+matrix[0][1]*matrix[1][2]*matrix[2][0]+\\\n",
    "               matrix[0][2]*matrix[1][0]*matrix[2][1]-matrix[0][2]*matrix[1][1]*matrix[2][0]-\\\n",
    "               matrix[0][0]*matrix[1][2]*matrix[2][1]-matrix[0][1]*matrix[1][0]*matrix[2][2]\n",
    "    s = 0\n",
    "    for i in range(len(matrix)):\n",
    "        s += matrix[0][i] * (1 if i%2==0 else -1) * det([j[:i]+j[i+1:] for j in matrix[1:]])\n",
    "    return s\n",
    "\n",
    "print(\"Determinanti:\",det(matrix))"
   ]
  },
  {
   "cell_type": "markdown",
   "id": "5c4cff7f",
   "metadata": {},
   "source": [
    "**`Dekorator`**"
   ]
  },
  {
   "cell_type": "code",
   "execution_count": 10,
   "id": "012b8950",
   "metadata": {},
   "outputs": [
    {
     "name": "stdout",
     "output_type": "stream",
     "text": [
      "n = 6\n",
      "9 7 9 6 7 3\n",
      "7 6 4 4 4 4\n",
      "8 6 8 9 8 1\n",
      "8 9 5 5 2 3\n",
      "5 1 8 7 3 8\n",
      "4 1 3 2 6 6\n",
      "[[9, 7, 9, 6, 7, 3], [7, 6, 4, 4, 4, 4], [8, 6, 8, 9, 8, 1], [8, 9, 5, 5, 2, 3], [5, 1, 8, 7, 3, 8], [4, 1, 3, 2, 6, 6]]\n"
     ]
    }
   ],
   "source": [
    "from random import randint\n",
    "n = int(input(\"n = \"))\n",
    "matrix = [[randint(1,9) for _ in range(n)] for _ in range(n)]\n",
    "\n",
    "for i in matrix:\n",
    "    print(*i)\n",
    "    \n",
    "def almashtir(func):\n",
    "    def salom(matrix):\n",
    "        for i in range(n):\n",
    "            for j in range(n):\n",
    "                if i==2:\n",
    "                    matrix[j][2],matrix[j][4] = matrix[j][4],matrix[j][2]\n",
    "            break\n",
    "        return matrix\n",
    "    return salom\n",
    "    \n",
    "@almashtir\n",
    "def hello(matrix):\n",
    "    return matrix\n",
    "\n",
    "print(hello(matrix))"
   ]
  },
  {
   "cell_type": "markdown",
   "id": "fef0b198",
   "metadata": {},
   "source": [
    "# 4-savol\n",
    "* nxn o'lchamli matritsa berilgan, \n",
    "* matritsani 90 gradusga o'ngga buruvchi dastur yarating.\n",
    "\n",
    "* Kirishda n matritsa o'lchami kiritiladi va keyingi nxn \n",
    "* qatorda matritsa elementlari. Chiqishda matritsa\n",
    "* elementlari  n ta qatorda probel bilan ajratilgan holatda chiqariladi.\n",
    "\n",
    "* (Juda muhim eslatma, input kiritishlarda va print \n",
    "* chiqarishlarda hech qanday so'z ishlatilmaydi, \n",
    "* faqat kiruvchi qiymatlar yoki natijalar chiqishi kerak. \n",
    "* Quyidagi misollarga qarang!)\n",
    "\n",
    "* Kirishda\n",
    "* 3\n",
    "* 1\n",
    "* 2\n",
    "* 3\n",
    "* 4\n",
    "* 5\n",
    "* 6\n",
    "* 7\n",
    "* 8\n",
    "* 9  \n",
    "* Chiqishda:\n",
    "*                                     7 4 1\n",
    "*                                     8 5 2\n",
    "*                                     9 6 3"
   ]
  },
  {
   "cell_type": "code",
   "execution_count": 3,
   "id": "e0a46013",
   "metadata": {},
   "outputs": [
    {
     "name": "stdout",
     "output_type": "stream",
     "text": [
      "3\n",
      "1\n",
      "2\n",
      "3\n",
      "4\n",
      "5\n",
      "6\n",
      "7\n",
      "8\n",
      "9\n",
      "7 4 1\n",
      "8 5 2\n",
      "9 6 3\n"
     ]
    }
   ],
   "source": [
    "#1-usul\n",
    "from random import randint  # by Farrux\n",
    "\n",
    "n = int(input())\n",
    "\n",
    "matrix = [[int(input()) for i in range(n)] for _ in range(n)] \n",
    "\n",
    "matrix = [[matrix[i][j] for i in range(n-1,-1,-1)] for j in range(n)]\n",
    "\n",
    "for k in matrix:\n",
    "    print(*k)"
   ]
  },
  {
   "cell_type": "code",
   "execution_count": 4,
   "id": "7f617016",
   "metadata": {},
   "outputs": [
    {
     "name": "stdout",
     "output_type": "stream",
     "text": [
      "3\n",
      "1\n",
      "2\n",
      "3\n",
      "4\n",
      "5\n",
      "6\n",
      "7\n",
      "8\n",
      "9\n",
      "7 4 1\n",
      "8 5 2\n",
      "9 6 3\n"
     ]
    }
   ],
   "source": [
    "#2-usul\n",
    "n = int(input())\n",
    "matrix = [[int(input()) for i in range(n)] for i in range(n)]\n",
    "\n",
    "for j in range(n-1,-1,-1):\n",
    "    for i in range(j):\n",
    "        matrix[i][j], matrix[j][i] = matrix[j][i], matrix[i][j]\n",
    "    matrix[j].reverse()\n",
    "    \n",
    "for i in matrix:\n",
    "    print(*i)"
   ]
  }
 ],
 "metadata": {
  "kernelspec": {
   "display_name": "Python 3 (ipykernel)",
   "language": "python",
   "name": "python3"
  },
  "language_info": {
   "codemirror_mode": {
    "name": "ipython",
    "version": 3
   },
   "file_extension": ".py",
   "mimetype": "text/x-python",
   "name": "python",
   "nbconvert_exporter": "python",
   "pygments_lexer": "ipython3",
   "version": "3.9.8"
  }
 },
 "nbformat": 4,
 "nbformat_minor": 5
}
