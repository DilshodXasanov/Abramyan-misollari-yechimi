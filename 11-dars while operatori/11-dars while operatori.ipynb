{
 "cells": [
  {
   "cell_type": "markdown",
   "id": "f0e3fd19",
   "metadata": {},
   "source": [
    "# 10/03/2022\n",
    "\n",
    "# Python asoslari\n",
    "\n",
    "# 10-dars: While operatori\n",
    "\n",
    "# Muallif: Farrux Sotivoldiyev"
   ]
  },
  {
   "cell_type": "code",
   "execution_count": 6,
   "id": "57c1e92b",
   "metadata": {},
   "outputs": [
    {
     "name": "stdout",
     "output_type": "stream",
     "text": [
      "A = 4\n",
      "B = 2\n",
      "butun: 2 qoldiq: 0\n"
     ]
    }
   ],
   "source": [
    "#while1\n",
    "\n",
    "a  = int(input(\"A = \"))\n",
    "b  = int(input(\"B = \"))\n",
    "\n",
    "k = 0\n",
    "while b <= a:\n",
    "    a -= b \n",
    "    k +=1\n",
    "print(\"butun:\",k,\"qoldiq:\",a)"
   ]
  },
  {
   "cell_type": "code",
   "execution_count": 11,
   "id": "32ab64ba",
   "metadata": {},
   "outputs": [
    {
     "name": "stdout",
     "output_type": "stream",
     "text": [
      "A = 9\n",
      "B = 4\n",
      "butun: 2\n"
     ]
    }
   ],
   "source": [
    "#while2\n",
    "\n",
    "a  = int(input(\"A = \"))\n",
    "b  = int(input(\"B = \"))\n",
    "\n",
    "k = 0\n",
    "while b < a:\n",
    "    a -= b \n",
    "    k +=1\n",
    "print(\"butun:\",k)"
   ]
  },
  {
   "cell_type": "code",
   "execution_count": 4,
   "id": "1a47340f",
   "metadata": {},
   "outputs": [
    {
     "name": "stdout",
     "output_type": "stream",
     "text": [
      "N = 4\n",
      "K = 2\n",
      "butun: 2 qoldiq: 0\n"
     ]
    }
   ],
   "source": [
    "#while3\n",
    "\n",
    "n  = int(input(\"N = \"))\n",
    "k  = int(input(\"K = \"))\n",
    "\n",
    "h = 0\n",
    "while k <= n:\n",
    "    n -= k \n",
    "    h +=1\n",
    "print(\"butun:\",h,\"qoldiq:\",n)\n"
   ]
  },
  {
   "cell_type": "code",
   "execution_count": 6,
   "id": "14d93e3f",
   "metadata": {},
   "outputs": [
    {
     "name": "stdout",
     "output_type": "stream",
     "text": [
      "N = 12\n",
      "3 ga karrali\n"
     ]
    }
   ],
   "source": [
    "#while4 \n",
    "\n",
    "n  = int(input(\"N = \"))\n",
    "\n",
    "while n>0:\n",
    "    n-=3\n",
    "if n==0:\n",
    "    print(\"3 ga karrali\")\n",
    "else:\n",
    "    print(\"3 karrali emas\")\n",
    "    "
   ]
  },
  {
   "cell_type": "code",
   "execution_count": 105,
   "id": "189294ab",
   "metadata": {},
   "outputs": [
    {
     "name": "stdout",
     "output_type": "stream",
     "text": [
      "N = 4\n",
      "2\n"
     ]
    }
   ],
   "source": [
    "#while5   \n",
    "\n",
    "n  = int(input(\"N = \"))\n",
    "\n",
    "i = 1\n",
    "while 2**i != n:\n",
    "    i += 1\n",
    "print(i)"
   ]
  },
  {
   "cell_type": "code",
   "execution_count": 15,
   "id": "177b7857",
   "metadata": {},
   "outputs": [
    {
     "name": "stdout",
     "output_type": "stream",
     "text": [
      "N = 5\n",
      "15\n"
     ]
    }
   ],
   "source": [
    "#while6  \n",
    "\n",
    "n  = int(input(\"N = \"))\n",
    "\n",
    "k = 1\n",
    "while n > 1:\n",
    "    k *= n    \n",
    "    n -= 2\n",
    "print(k)"
   ]
  },
  {
   "cell_type": "code",
   "execution_count": 94,
   "id": "2acfaa4b",
   "metadata": {},
   "outputs": [
    {
     "name": "stdout",
     "output_type": "stream",
     "text": [
      "N = 3\n",
      "2\n"
     ]
    }
   ],
   "source": [
    "#while7  \n",
    "\n",
    "n  = int(input(\"N = \"))\n",
    "\n",
    "k = 1\n",
    "while k**2 < n+1:\n",
    "    k += 1\n",
    "print(k)"
   ]
  },
  {
   "cell_type": "code",
   "execution_count": 87,
   "id": "6c6202df",
   "metadata": {},
   "outputs": [
    {
     "name": "stdout",
     "output_type": "stream",
     "text": [
      "N = 8\n",
      "2\n"
     ]
    }
   ],
   "source": [
    "#while8\n",
    "\n",
    "n  = int(input(\"N = \"))\n",
    "\n",
    "k = 1\n",
    "while k**2 <= n:\n",
    "    k += 1\n",
    "print(k-1)"
   ]
  },
  {
   "cell_type": "code",
   "execution_count": 83,
   "id": "794d6c15",
   "metadata": {},
   "outputs": [
    {
     "name": "stdout",
     "output_type": "stream",
     "text": [
      "N = 9\n",
      "3\n"
     ]
    }
   ],
   "source": [
    "#while9\n",
    "\n",
    "n  = int(input(\"N = \"))\n",
    "\n",
    "k = 1\n",
    "while 3**k <= n:\n",
    "    k += 1\n",
    "print(k)"
   ]
  },
  {
   "cell_type": "code",
   "execution_count": 81,
   "id": "7873464a",
   "metadata": {},
   "outputs": [
    {
     "name": "stdout",
     "output_type": "stream",
     "text": [
      "N = 28\n",
      "3\n"
     ]
    }
   ],
   "source": [
    "#while10\n",
    "\n",
    "n  = int(input(\"N = \"))\n",
    "\n",
    "k = 1\n",
    "while 3**k <= n:\n",
    "    k += 1\n",
    "print(k-1)"
   ]
  },
  {
   "cell_type": "code",
   "execution_count": 75,
   "id": "df8f3149",
   "metadata": {},
   "outputs": [
    {
     "name": "stdout",
     "output_type": "stream",
     "text": [
      "N = 9\n",
      "4 \n",
      "yeg'indi = 10\n"
     ]
    }
   ],
   "source": [
    "#while11\n",
    "\n",
    "n  = int(input(\"N = \"))\n",
    "\n",
    "s = 0\n",
    "k = 0\n",
    "while s < n:\n",
    "    k += 1\n",
    "    s += k \n",
    "print(k,\"\\nyeg'indi =\",s)"
   ]
  },
  {
   "cell_type": "code",
   "execution_count": 72,
   "id": "ae8681ce",
   "metadata": {},
   "outputs": [
    {
     "name": "stdout",
     "output_type": "stream",
     "text": [
      "N = 9\n",
      "3\n"
     ]
    }
   ],
   "source": [
    "#while12\n",
    "\n",
    "n  = int(input(\"N = \"))\n",
    "\n",
    "s = 0\n",
    "k = 0\n",
    "while s <= n:\n",
    "    k += 1\n",
    "    s += k \n",
    "print(k-1)"
   ]
  },
  {
   "cell_type": "code",
   "execution_count": 109,
   "id": "6947df6e",
   "metadata": {},
   "outputs": [
    {
     "name": "stdout",
     "output_type": "stream",
     "text": [
      "a = 2\n",
      "k = 4 \n",
      "summa: 2.083333333333333\n"
     ]
    }
   ],
   "source": [
    "#while13\n",
    "\n",
    "a = int(input(\"a = \"))\n",
    "\n",
    "i = 1\n",
    "s = 0\n",
    "while True:\n",
    "    p = 1 / i\n",
    "    s += p\n",
    "    if s >= a:\n",
    "        print(\"k =\",i,\"\\nsumma:\",s)\n",
    "        break\n",
    "    i += 1\n"
   ]
  },
  {
   "cell_type": "code",
   "execution_count": 59,
   "id": "d70653c7",
   "metadata": {},
   "outputs": [
    {
     "name": "stdout",
     "output_type": "stream",
     "text": [
      "a = 2\n",
      "k = 3 \n",
      "summa: 1.833333333333333\n"
     ]
    }
   ],
   "source": [
    "#while14\n",
    "\n",
    "a = int(input(\"a = \"))\n",
    "s = 0                           \n",
    "i = 1\n",
    "while True:\n",
    "    p = 1 / i\n",
    "    s += p\n",
    "    if s >= a:\n",
    "        print(\"k =\",i-1,\"\\nsumma:\",s-p)\n",
    "        break\n",
    "    i += 1"
   ]
  },
  {
   "cell_type": "code",
   "execution_count": 17,
   "id": "e8bf9612",
   "metadata": {},
   "outputs": [
    {
     "name": "stdout",
     "output_type": "stream",
     "text": [
      "s = 1200\n",
      "har oyda necha  foizga oshsin:(0<p<50)12\n",
      "9 oyda\n"
     ]
    }
   ],
   "source": [
    "#while15\n",
    "\n",
    "s = int(input(\"s = \"))\n",
    "p = int(input(\"har oyda necha  foizga oshsin (0<p<50):\"))\n",
    "\n",
    "oy = 0\n",
    "summa = s\n",
    "while True:\n",
    "    summa += s*p/100\n",
    "    oy += 1\n",
    "    if summa > 2*s:\n",
    "        print(oy,\"oyda\")\n",
    "        break"
   ]
  },
  {
   "cell_type": "code",
   "execution_count": 10,
   "id": "5a8df0d8",
   "metadata": {},
   "outputs": [
    {
     "name": "stdout",
     "output_type": "stream",
     "text": [
      "har oyda necha  foizga oshsin (0<p<25):20\n",
      "202.0 km\n",
      "96 oyda\n"
     ]
    }
   ],
   "source": [
    "#while16\n",
    "\n",
    "p = int(input(\"har oyda necha  foizga oshsin (0<p<25):\"))\n",
    "\n",
    "oy = 0\n",
    "jami = 10\n",
    "while True:\n",
    "    jami += p/10\n",
    "    oy += 1\n",
    "    if jami > 200:\n",
    "        print(jami,\"km\")\n",
    "        print(oy,\"oyda\")\n",
    "        break"
   ]
  },
  {
   "cell_type": "code",
   "execution_count": 1,
   "id": "6dd2e9ec",
   "metadata": {},
   "outputs": [
    {
     "name": "stdout",
     "output_type": "stream",
     "text": [
      "n = 1001\n",
      "m = 1000\n",
      "Qoldiq: 1 \n",
      "Butun 1\n"
     ]
    }
   ],
   "source": [
    "#while17\n",
    "\n",
    "n = int(input(\"n = \"))\n",
    "m = int(input(\"m = \"))\n",
    "\n",
    "k = 0\n",
    "while n > m:\n",
    "    k += 1\n",
    "    n -= m\n",
    "print(\"Qoldiq:\",n,\"\\nButun\",k)"
   ]
  },
  {
   "cell_type": "code",
   "execution_count": 13,
   "id": "15bfa6c8",
   "metadata": {},
   "outputs": [
    {
     "name": "stdout",
     "output_type": "stream",
     "text": [
      "n = 45623\n",
      "32654\n"
     ]
    }
   ],
   "source": [
    "#while18\n",
    "\n",
    "n = int(input(\"n = \"))\n",
    "\n",
    "s = 0\n",
    "while n>0:\n",
    "    s = n%10 + s*10\n",
    "    n //= 10                    \n",
    "print(s)"
   ]
  },
  {
   "cell_type": "code",
   "execution_count": 47,
   "id": "7b4156fa",
   "metadata": {},
   "outputs": [
    {
     "name": "stdout",
     "output_type": "stream",
     "text": [
      "n = 4594\n",
      "raqamlari yeg'indisi: 22 \n",
      "raqamlari soni: 4 ta\n"
     ]
    }
   ],
   "source": [
    "#while19\n",
    "\n",
    "n = int(input(\"n = \"))\n",
    "\n",
    "s = 0\n",
    "r = 0\n",
    "while n!=0:\n",
    "    k = n%10\n",
    "    r += 1\n",
    "    s += k\n",
    "    n //= 10\n",
    "print(\"raqamlari yeg'indisi:\",s,\"\\nraqamlari soni:\",r,\"ta\")"
   ]
  },
  {
   "cell_type": "code",
   "execution_count": 39,
   "id": "9b966806",
   "metadata": {},
   "outputs": [
    {
     "name": "stdout",
     "output_type": "stream",
     "text": [
      "n = 78523\n",
      "2 raqami bor\n"
     ]
    }
   ],
   "source": [
    "#while20\n",
    "\n",
    "a = int(input(\"n = \"))\n",
    "\n",
    "s=0\n",
    "while a!=0:\n",
    "    if a%10==2:\n",
    "        s += 1\n",
    "    a //= 10\n",
    "if s > 0:\n",
    "    print(\"2 raqami bor\")\n",
    "else:\n",
    "    print(\"2 raqami yo'q\")"
   ]
  },
  {
   "cell_type": "code",
   "execution_count": 65,
   "id": "a41528a1",
   "metadata": {},
   "outputs": [
    {
     "name": "stdout",
     "output_type": "stream",
     "text": [
      "n = 4566\n",
      "Bor\n"
     ]
    }
   ],
   "source": [
    "#while21\n",
    "\n",
    "n = int(input(\"n = \"))\n",
    "\n",
    "while n!=0:\n",
    "    k = n%10\n",
    "    n //= 10\n",
    "    if k%2 == 1:\n",
    "        print(\"Bor\")\n",
    "        break\n",
    "else:\n",
    "    print(\"yo'q\")"
   ]
  },
  {
   "cell_type": "code",
   "execution_count": 80,
   "id": "90f6af7d",
   "metadata": {},
   "outputs": [
    {
     "name": "stdout",
     "output_type": "stream",
     "text": [
      "n = 20\n",
      "Tub emas\n"
     ]
    }
   ],
   "source": [
    "#while22\n",
    "\n",
    "n = int(input(\"n = \"))\n",
    "\n",
    "i = 2\n",
    "while i < n:\n",
    "    k = 0\n",
    "    if n%i==0:\n",
    "        k += 1\n",
    "        break\n",
    "    i += 1\n",
    "if k>0:\n",
    "    print(\"Tub emas\")\n",
    "else:\n",
    "    print(\"Tub\")"
   ]
  },
  {
   "cell_type": "code",
   "execution_count": 92,
   "id": "366d60bb",
   "metadata": {},
   "outputs": [
    {
     "name": "stdout",
     "output_type": "stream",
     "text": [
      "a = 45\n",
      "b = 27\n",
      "Ekub =  9 \n",
      "Ekuk =  135\n"
     ]
    }
   ],
   "source": [
    "#while23\n",
    "\n",
    "a = int(input(\"a = \"))\n",
    "b = int(input(\"b = \"))\n",
    "\n",
    "c = a * b\n",
    "if a < b:\n",
    "    a,b = b,a\n",
    "while a != b:\n",
    "    if a > b:\n",
    "        a -= b\n",
    "    elif b > a:\n",
    "        b -= a\n",
    "print(\"Ekub = \", a ,\"\\nEkuk = \", c // a)"
   ]
  },
  {
   "cell_type": "code",
   "execution_count": 116,
   "id": "c4679647",
   "metadata": {},
   "outputs": [
    {
     "name": "stdout",
     "output_type": "stream",
     "text": [
      "n = 8\n",
      "Bor\n"
     ]
    }
   ],
   "source": [
    "#while24\n",
    "\n",
    "n = int(input(\"n = \"))\n",
    "\n",
    "i = 1\n",
    "f1 = 1\n",
    "f2 = 1\n",
    "while i <= n:\n",
    "    if f2 == n:\n",
    "        print(\"Bor\")\n",
    "        break\n",
    "    elif f2<=n:\n",
    "        f1 = f1 + f2\n",
    "        f2 = f1 - f2\n",
    "    else:\n",
    "        print(\"yo'q\")\n",
    "        break\n",
    "    i += 1\n",
    "else:\n",
    "    print(\"yo'q\")"
   ]
  },
  {
   "cell_type": "code",
   "execution_count": 130,
   "id": "d536ac19",
   "metadata": {},
   "outputs": [
    {
     "name": "stdout",
     "output_type": "stream",
     "text": [
      "n = 8\n",
      "13\n"
     ]
    }
   ],
   "source": [
    "#while25\n",
    "\n",
    "n = int(input(\"n = \"))\n",
    "\n",
    "i = 0\n",
    "f1 = 1\n",
    "f2 = 1\n",
    "while i <= n:\n",
    "    if f2 > n:\n",
    "        print(f2)\n",
    "        break\n",
    "    f1 = f1 + f2\n",
    "    f2 = f1 - f2\n",
    "    i += 1\n"
   ]
  },
  {
   "cell_type": "code",
   "execution_count": 7,
   "id": "684afb9e",
   "metadata": {},
   "outputs": [
    {
     "name": "stdout",
     "output_type": "stream",
     "text": [
      "n = 8\n",
      "Kattasi: 13\n",
      "Kichigi: 5\n"
     ]
    }
   ],
   "source": [
    "#while26\n",
    "\n",
    "n = int(input(\"n = \"))\n",
    "\n",
    "i = 0\n",
    "f1 = 1\n",
    "f2 = 1\n",
    "maxi = 0\n",
    "while i <= n:\n",
    "    if f2 > n:\n",
    "        print(\"Kattasi:\",f2)\n",
    "        break\n",
    "    if n > f2 and maxi < f2:\n",
    "        maxi = f2\n",
    "    f1 = f1 + f2\n",
    "    f2 = f1 - f2\n",
    "    i += 1\n",
    "print(\"Kichigi:\",maxi)"
   ]
  },
  {
   "cell_type": "code",
   "execution_count": 20,
   "id": "68d7a6b4",
   "metadata": {},
   "outputs": [
    {
     "name": "stdout",
     "output_type": "stream",
     "text": [
      "n = 34\n",
      "34\n",
      "9 - xadi\n"
     ]
    }
   ],
   "source": [
    "#while27\n",
    "\n",
    "n = int(input(\"n = \"))\n",
    "\n",
    "i = 1\n",
    "f1 = 1\n",
    "f2 = 1\n",
    "while i <= n:\n",
    "    if f2 == n:\n",
    "        print(f2)\n",
    "        print(i,\"- xadi\")\n",
    "        break\n",
    "    f1 = f1 + f2\n",
    "    f2 = f1 - f2\n",
    "    i += 1"
   ]
  },
  {
   "cell_type": "code",
   "execution_count": 38,
   "id": "edf5f00e",
   "metadata": {},
   "outputs": [
    {
     "name": "stdout",
     "output_type": "stream",
     "text": [
      "e = 0.9\n",
      "2.5 | 2\n",
      "2 - xadi\n"
     ]
    }
   ],
   "source": [
    "#while28\n",
    "\n",
    "e = float(input(\"e = \"))\n",
    "\n",
    "k = 1\n",
    "a1 = 2\n",
    "while True:                         \n",
    "    k += 1                          \n",
    "    a2 = 2 + 1 / a1\n",
    "    if abs(a2 - a1) < e:\n",
    "        print(a2,a1,sep = \" | \")\n",
    "        print(k,\"- xadi\")\n",
    "        break\n",
    "    a1 = a2  "
   ]
  },
  {
   "cell_type": "code",
   "execution_count": 37,
   "id": "8f95b561",
   "metadata": {},
   "outputs": [
    {
     "name": "stdout",
     "output_type": "stream",
     "text": [
      "e = 0.000008\n",
      "1.7500042337719524 | 1.7499985887426828\n",
      "12 - xad\n"
     ]
    }
   ],
   "source": [
    "#while29\n",
    "\n",
    "e = float(input(\"e = \"))\n",
    "\n",
    "a1 = 1\n",
    "a2 = 2\n",
    "k = 1\n",
    "while True:\n",
    "    a3 = (a1 + 2 * a2)/3           \n",
    "    if abs(a2 - a1) < e:           \n",
    "        print(a1,a2,sep=\" | \")\n",
    "        print(k,\"- xad\")\n",
    "        break\n",
    "    a1 = a2\n",
    "    a2 = a3\n",
    "    k+=1"
   ]
  },
  {
   "cell_type": "code",
   "execution_count": 15,
   "id": "ade07170",
   "metadata": {},
   "outputs": [
    {
     "name": "stdout",
     "output_type": "stream",
     "text": [
      "A = 5\n",
      "B = 3\n",
      "C = 1\n",
      "15\n"
     ]
    }
   ],
   "source": [
    "#while30\n",
    "\n",
    "a = int(input(\"A = \"))\n",
    "b = int(input(\"B = \"))\n",
    "c = int(input(\"C = \"))\n",
    "\n",
    "k1 = 0\n",
    "while a >= c:\n",
    "    k1 += 1\n",
    "    a -= c\n",
    "k2 = 0\n",
    "while b >= c:\n",
    "    k2 += 1\n",
    "    b -= c\n",
    "s = 0\n",
    "while k1>0:\n",
    "    s+=k2\n",
    "    k1-=1\n",
    "print(s)\n"
   ]
  }
 ],
 "metadata": {
  "kernelspec": {
   "display_name": "Python 3 (ipykernel)",
   "language": "python",
   "name": "python3"
  },
  "language_info": {
   "codemirror_mode": {
    "name": "ipython",
    "version": 3
   },
   "file_extension": ".py",
   "mimetype": "text/x-python",
   "name": "python",
   "nbconvert_exporter": "python",
   "pygments_lexer": "ipython3",
   "version": "3.10.2"
  }
 },
 "nbformat": 4,
 "nbformat_minor": 5
}
