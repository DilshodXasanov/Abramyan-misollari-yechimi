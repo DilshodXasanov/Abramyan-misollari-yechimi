{
 "cells": [
  {
   "cell_type": "markdown",
   "id": "85ddf732",
   "metadata": {},
   "source": [
    "# 20/04/2022\n",
    "\n",
    "# Python asoslari\n",
    "\n",
    "# 15-dars : List bilan ishlash\n",
    "\n",
    "# Muallif: Farrux Sotivoldiyev"
   ]
  },
  {
   "cell_type": "markdown",
   "id": "f32dd06e",
   "metadata": {},
   "source": [
    "### 1.Massivni hosil qilish va elementlarini kiritish"
   ]
  },
  {
   "cell_type": "code",
   "execution_count": 1,
   "id": "065c8b0f",
   "metadata": {},
   "outputs": [
    {
     "name": "stdout",
     "output_type": "stream",
     "text": [
      "len-> 11\n",
      "type-> <class 'list'>\n",
      "del-> [1, 3, 9, 567, 778, 9, -6, 9, -1, 0]\n",
      "append-> [1, 3, 9, 567, 778, 9, -6, 9, -1, 0, 1]\n",
      "insert-> [1, 5, 3, 9, 567, 778, 9, -6, 9, -1, 0, 1]\n",
      "extend-> [1, 5, 3, 9, 567, 778, 9, -6, 9, -1, 0, 1, 1, 5, 3, 9, 567, 778, 9, -6, 9, -1, 0, 1]\n",
      "remove-> [1, 5, 3, 567, 778, 9, -6, 9, -1, 0, 1, 1, 5, 3, 9, 567, 778, 9, -6, 9, -1, 0, 1]\n",
      "pop-> 9\n",
      "min-> -6\n",
      "sum-> 2732\n",
      "list-> [1, 3, 5, 7, 9]\n",
      "clear-> []\n",
      "Tamom\n"
     ]
    }
   ],
   "source": [
    "a = [1,2,3,9,567,778,9,-6,9,-1,0]\n",
    "print(\"len->\",len(a))\n",
    "print(\"type->\",type(a))\n",
    "del a[1]\n",
    "print(\"del->\",a)\n",
    "a.append(1)\n",
    "print(\"append->\",a)\n",
    "a.insert(1,5)\n",
    "print(\"insert->\",a)\n",
    "a.extend(a)\n",
    "print(\"extend->\",a)\n",
    "a.remove(9)\n",
    "print(\"remove->\",a)\n",
    "print(\"pop->\",a.pop(5))\n",
    "print(\"min->\",min(a))\n",
    "print(\"sum->\",sum(a))\n",
    "print(\"list->\",list(range(1,11,2)))\n",
    "a.clear()\n",
    "print(\"clear->\",a)"
   ]
  },
  {
   "cell_type": "code",
   "execution_count": 16,
   "id": "f67c20ba",
   "metadata": {},
   "outputs": [
    {
     "name": "stdout",
     "output_type": "stream",
     "text": [
      "n = 9\n",
      "[1, 3, 5, 7, 9, 11, 13, 15, 17]\n"
     ]
    }
   ],
   "source": [
    "#Array1\n",
    "n = int(input(\"n = \"))\n",
    "toq = []\n",
    "i = 0\n",
    "while len(toq) != n:\n",
    "    if i%2==1:\n",
    "        toq.append(i)\n",
    "    i += 1\n",
    "    \n",
    "print(toq)"
   ]
  },
  {
   "cell_type": "code",
   "execution_count": 15,
   "id": "b358738e",
   "metadata": {},
   "outputs": [
    {
     "name": "stdout",
     "output_type": "stream",
     "text": [
      "n = 10\n",
      "[1, 2, 4, 8, 16, 32, 64, 128, 256, 512]\n"
     ]
    }
   ],
   "source": [
    "#Array2\n",
    "n = int(input(\"n = \"))\n",
    "daraja_2 = []\n",
    "i = 0\n",
    "while len(daraja_2) != n:\n",
    "    daraja_2.append(2**i)\n",
    "    i += 1\n",
    "    \n",
    "print(daraja_2)"
   ]
  },
  {
   "cell_type": "code",
   "execution_count": 19,
   "id": "569e09c4",
   "metadata": {},
   "outputs": [
    {
     "name": "stdout",
     "output_type": "stream",
     "text": [
      "n = 9\n",
      "A = 3\n",
      "D = 6\n",
      "[3, 9, 15, 21, 27, 33, 39, 45, 51]\n"
     ]
    }
   ],
   "source": [
    "#Array3\n",
    "n = int(input(\"n = \"))\n",
    "A = int(input(\"A = \"))\n",
    "D = int(input(\"D = \"))\n",
    "Arif_prog = []\n",
    "while len(Arif_prog) != n:\n",
    "    Arif_prog.append(A)\n",
    "    A+=D\n",
    "print(Arif_prog)"
   ]
  },
  {
   "cell_type": "code",
   "execution_count": 21,
   "id": "0a62670b",
   "metadata": {},
   "outputs": [
    {
     "name": "stdout",
     "output_type": "stream",
     "text": [
      "n = 10\n",
      "A = 2\n",
      "D = 3\n",
      "[2, 6, 18, 54, 162, 486, 1458, 4374, 13122, 39366]\n"
     ]
    }
   ],
   "source": [
    "#Array4\n",
    "n = int(input(\"n = \"))\n",
    "A = int(input(\"A = \"))\n",
    "D = int(input(\"D = \"))\n",
    "Geo_prog = []\n",
    "while len(Geo_prog) != n:\n",
    "    Geo_prog.append(A)\n",
    "    A*=D\n",
    "print(Geo_prog)"
   ]
  },
  {
   "cell_type": "code",
   "execution_count": 2,
   "id": "3417ea60",
   "metadata": {},
   "outputs": [
    {
     "name": "stdout",
     "output_type": "stream",
     "text": [
      "n = 10\n",
      "[1, 1, 2, 3, 5, 8, 13, 21, 34, 55]\n",
      "n = 10\n",
      "[1, 1, 2, 3, 5, 8, 13, 21, 34, 55]\n"
     ]
    }
   ],
   "source": [
    "#Array5 1-usul\n",
    "n = int(input(\"n = \"))\n",
    "fibonachi = []\n",
    "f1 = 1\n",
    "f2 = 1\n",
    "while len(fibonachi) != n:\n",
    "    fibonachi.append(f2)\n",
    "    f1 = f1 + f2\n",
    "    f2 = f1 - f2\n",
    "print(fibonachi)\n",
    "\n",
    "#Array5 2-usul\n",
    "n = int(input(\"n = \"))\n",
    "fibonachi = [1,1]\n",
    "for i in range(2,n):\n",
    "    fibonachi.append(fibonachi[i-1]+fibonachi[i-2])\n",
    "print(fibonachi)"
   ]
  },
  {
   "cell_type": "code",
   "execution_count": 1,
   "id": "e9ddbe1d",
   "metadata": {},
   "outputs": [
    {
     "name": "stdout",
     "output_type": "stream",
     "text": [
      "n = 10\n",
      "A = 2\n",
      "B = 4\n",
      "[2, 4, 6, 12, 24, 48, 96, 192, 384, 768]\n",
      "n = 10\n",
      "A = 2\n",
      "B = 4\n",
      "[2, 4, 6, 12, 24, 48, 96, 192, 384, 768]\n"
     ]
    }
   ],
   "source": [
    "#Array6 1-usul\n",
    "n = int(input(\"n = \"))\n",
    "a = int(input(\"A = \"))\n",
    "b = int(input(\"B = \"))\n",
    "massiv = [a,b]\n",
    "c = a+b\n",
    "while len(massiv)!=n:\n",
    "    massiv.append(c)\n",
    "    c+=c\n",
    "print(massiv)\n",
    "\n",
    "#Array6 2-usul\n",
    "n = int(input(\"n = \"))\n",
    "a = int(input(\"A = \"))\n",
    "b = int(input(\"B = \"))\n",
    "massiv = [a,b]\n",
    "for i in range(2,n):\n",
    "    massiv.append(sum(massiv))\n",
    "print(massiv)"
   ]
  },
  {
   "cell_type": "code",
   "execution_count": 23,
   "id": "8654730f",
   "metadata": {},
   "outputs": [
    {
     "name": "stdout",
     "output_type": "stream",
     "text": [
      "16 11 6 1 \n",
      "[16, 11, 6, 1]\n",
      "[16, 11, 6, 1]\n",
      "[16, 11, 6, 1]\n"
     ]
    }
   ],
   "source": [
    "#Array7 1-usul\n",
    "massiv = list(range(1,20,5))\n",
    "for i in range(len(massiv)-1,-1,-1):\n",
    "    print(massiv[i],end=\" \")\n",
    "\n",
    "#Array7 2-usul\n",
    "massiv = list(range(1,20,5))\n",
    "print(list(reversed(massiv)))\n",
    "\n",
    "#Array7 3-usul\n",
    "massiv = list(range(1,20,5))\n",
    "print(massiv[::-1])\n",
    "\n",
    "#Array7 4-usul\n",
    "massiv = list(range(1,20,5))\n",
    "massiv.reverse()\n",
    "print(massiv)"
   ]
  },
  {
   "cell_type": "code",
   "execution_count": 24,
   "id": "0c7a467d",
   "metadata": {},
   "outputs": [
    {
     "name": "stdout",
     "output_type": "stream",
     "text": [
      "3 5 7 9 11 13 15 17 19 soni: 9\n"
     ]
    }
   ],
   "source": [
    "#Array8\n",
    "massiv = list(range(2,20))\n",
    "k = 0\n",
    "for i in range(len(massiv)):\n",
    "    if massiv[i]%2==1:\n",
    "        k += 1\n",
    "        print(massiv[i],end=\" \")\n",
    "print(\"soni:\",k)"
   ]
  },
  {
   "cell_type": "code",
   "execution_count": 27,
   "id": "943fb4f0",
   "metadata": {},
   "outputs": [
    {
     "name": "stdout",
     "output_type": "stream",
     "text": [
      "18 16 14 12 10 8 6 4 2 soni: 9\n",
      "18 16 14 12 10 8 6 4 2 soni: 9\n"
     ]
    }
   ],
   "source": [
    "#Array9 1-usul\n",
    "massiv = list(range(2,20))\n",
    "k = 0\n",
    "for i in range(len(massiv)-1,-1,-1):\n",
    "    if massiv[i]%2==0:\n",
    "        k += 1\n",
    "        print(massiv[i],end=\" \")\n",
    "print(\"soni:\",k)\n",
    "\n",
    "#Array9 2-usul\n",
    "massiv = list(range(2,20))\n",
    "massiv.reverse()\n",
    "k = 0\n",
    "for i in range(len(massiv)):\n",
    "    if massiv[i]%2==0:\n",
    "        k += 1\n",
    "        print(massiv[i],end=\" \")\n",
    "print(\"soni:\",k)\n"
   ]
  },
  {
   "cell_type": "code",
   "execution_count": 28,
   "id": "f384775c",
   "metadata": {},
   "outputs": [
    {
     "name": "stdout",
     "output_type": "stream",
     "text": [
      "2 4 6 8 10 12 14 16 18 19 17 15 13 11 9 7 5 3 "
     ]
    }
   ],
   "source": [
    "#Array10\n",
    "massiv = list(range(2,20))\n",
    "\n",
    "for i in range(len(massiv)):\n",
    "    if massiv[i]%2==0:\n",
    "        print(massiv[i],end=\" \")\n",
    "        \n",
    "for i in range(len(massiv)-1,-1,-1):\n",
    "    if massiv[i]%2==1:\n",
    "        print(massiv[i],end=\" \")"
   ]
  },
  {
   "cell_type": "code",
   "execution_count": 40,
   "id": "e55c5075",
   "metadata": {},
   "outputs": [
    {
     "name": "stdout",
     "output_type": "stream",
     "text": [
      "k = 2\n",
      "4 6 8 10 12 14 16 18 \n",
      "k = 2\n",
      "[4, 6, 8, 10, 12, 14, 16, 18]\n"
     ]
    }
   ],
   "source": [
    "#Array11 1-usul\n",
    "k = int(input(\"k = \"))\n",
    "massiv = list(range(2,20))\n",
    "for i in range(k,len(massiv),k):\n",
    "    print(massiv[i],end = \" \")\n",
    "    \n",
    "#Array11 2-usul\n",
    "k = int(input(\"k = \"))\n",
    "massiv = list(range(2,20))\n",
    "print(massiv[k:len(massiv):k])"
   ]
  },
  {
   "cell_type": "code",
   "execution_count": 39,
   "id": "bb503e06",
   "metadata": {},
   "outputs": [
    {
     "name": "stdout",
     "output_type": "stream",
     "text": [
      "0 2 4 6 8 10 12 14 16 18 \n",
      "[0, 2, 4, 6, 8, 10, 12, 14, 16, 18]\n"
     ]
    }
   ],
   "source": [
    "#Array12 1-usul\n",
    "massiv = list(range(20))\n",
    "for i in range(0,len(massiv),2):\n",
    "    print(massiv[i],end = \" \")\n",
    "\n",
    "#Array12 2-usul\n",
    "massiv = list(range(20))\n",
    "print(massiv[0:len(massiv):2])"
   ]
  },
  {
   "cell_type": "code",
   "execution_count": 45,
   "id": "9db6c79f",
   "metadata": {},
   "outputs": [
    {
     "name": "stdout",
     "output_type": "stream",
     "text": [
      "18 16 14 12 10 8 6 4 2 0 \n",
      "[18, 16, 14, 12, 10, 8, 6, 4, 2, 0]\n"
     ]
    }
   ],
   "source": [
    "#Array13 1-usul\n",
    "massiv = list(range(19)) \n",
    "for i in range(len(massiv)-1,-1,-2):\n",
    "    print(massiv[i],end = \" \")\n",
    "\n",
    "#Array13 2-usul\n",
    "massiv = list(range(19)) \n",
    "print(massiv[::-2])"
   ]
  },
  {
   "cell_type": "code",
   "execution_count": 55,
   "id": "10b4afbb",
   "metadata": {},
   "outputs": [
    {
     "name": "stdout",
     "output_type": "stream",
     "text": [
      "0 2 4 6 8 10 12 14 16 18 1 3 5 7 9 11 13 15 17 \n",
      "[0, 2, 4, 6, 8, 10, 12, 14, 16, 18, 1, 3, 5, 7, 9, 11, 13, 15, 17]\n"
     ]
    }
   ],
   "source": [
    "#Array14 1-usul\n",
    "massiv = list(range(19)) \n",
    "for i in range(0,len(massiv),2):\n",
    "    print(massiv[i],end = \" \")\n",
    "for i in range(1,len(massiv),2):\n",
    "    print(massiv[i],end = \" \")\n",
    "\n",
    "#Array14 2-usul\n",
    "massiv = list(range(19)) \n",
    "a = massiv[:len(massiv):2]\n",
    "b = massiv[1:len(massiv):2]\n",
    "a.extend(b)\n",
    "print(a)"
   ]
  },
  {
   "cell_type": "code",
   "execution_count": 105,
   "id": "e84d3011",
   "metadata": {},
   "outputs": [
    {
     "name": "stdout",
     "output_type": "stream",
     "text": [
      "n = 20\n",
      "11 13 15 17 19 18 16 14 12 10 \n",
      "n = 20\n",
      "[11, 13, 15, 17, 19, 18, 16, 14, 12, 10]\n"
     ]
    }
   ],
   "source": [
    "#Array15 1-usul\n",
    "massiv = list(range(10,int(input(\"n = \"))))\n",
    "for i in range(1,len(massiv),2):\n",
    "    print(massiv[i],end = \" \")\n",
    "for i in range(len(massiv)-2,-1,-2):\n",
    "    print(massiv[i],end = \" \")\n",
    "\n",
    "#Array15 2-usul\n",
    "massiv = list(range(10,int(input(\"n = \")))) \n",
    "a = massiv[1:len(massiv):2]\n",
    "b = massiv[len(massiv)-2::-2]\n",
    "a.extend(b)\n",
    "print(a)"
   ]
  },
  {
   "cell_type": "code",
   "execution_count": 8,
   "id": "ad4d3055",
   "metadata": {},
   "outputs": [
    {
     "name": "stdout",
     "output_type": "stream",
     "text": [
      "n = 12\n",
      "0 11 1 10 2 9 3 8 4 7 5 6 \n",
      "n = 12\n",
      "0 11 1 10 2 9 3 8 4 7 5 6 \n",
      "n = 12\n",
      "0 11 1 10 2 9 3 8 4 7 5 6 "
     ]
    }
   ],
   "source": [
    "#Array16 1-usul\n",
    "massiv = list(range(int(input(\"n = \")))) \n",
    "i = 0\n",
    "uzunlik = len(massiv)\n",
    "while i < uzunlik:\n",
    "    uzunlik -= 1 \n",
    "    print(massiv[i],end=\" \")\n",
    "    if i==uzunlik:\n",
    "        break\n",
    "    print(massiv[uzunlik],end=\" \")\n",
    "    i += 1 \n",
    "\n",
    "#Array16 2-usul\n",
    "massiv = list(range(int(input(\"n = \")))) \n",
    "m = massiv[:len(massiv)//2]\n",
    "n = massiv[:len(massiv)//2-1:-1]\n",
    "k = 0\n",
    "while k < len(m) or k < len(n):\n",
    "    if k!=len(m):\n",
    "        print(m[k],end=\" \")\n",
    "    print(n[k],end=\" \")\n",
    "    k += 1\n",
    "    \n",
    "#Array16 3-usul\n",
    "massiv = list(range(int(input(\"n = \")))) \n",
    "for i in range(len(massiv)//2):\n",
    "    print(massiv[i],massiv[len(massiv)-i-1],end=\" \")"
   ]
  },
  {
   "cell_type": "code",
   "execution_count": 8,
   "id": "474b1936",
   "metadata": {},
   "outputs": [
    {
     "name": "stdout",
     "output_type": "stream",
     "text": [
      "n = 10\n",
      "0 1 10 9 2 3 8 7 4 5 6 \n",
      "n = 10\n",
      "0 1 10 9 2 3 8 7 4 5 6 "
     ]
    }
   ],
   "source": [
    "#Array17 1-usul\n",
    "n = int(input(\"n = \"))\n",
    "massiv = [i for i in range(n+1)]\n",
    "m = massiv[:len(massiv)//2+1]\n",
    "n = massiv[:len(massiv)//2:-1]\n",
    "k = 0\n",
    "while k < len(m) or k < len(n):\n",
    "    if k<len(m)-1:\n",
    "        print(m[k],end=\" \")\n",
    "        print(m[k+1],end=\" \")\n",
    "    if k==len(m)-1:\n",
    "        print(m[k],end=\" \")\n",
    "        \n",
    "    if k<len(n)-1:\n",
    "        print(n[k],end=\" \")\n",
    "        print(n[k+1],end=\" \")\n",
    "    if k==len(n)-1:\n",
    "        print(n[k],end=\" \")\n",
    "    k += 2\n",
    "\n",
    "#Array17 2-usul\n",
    "n = int(input(\"n = \"))\n",
    "a = [i for i in range(n+1)]\n",
    "i = 0\n",
    "while i<=n:\n",
    "    print(a[i],end=\" \")\n",
    "    i+=1\n",
    "    if i>n:\n",
    "        break\n",
    "    print(a[i],end=\" \")\n",
    "    i+=1\n",
    "    if i>n:\n",
    "        break\n",
    "    print(a[n],end=\" \")\n",
    "    n-=1\n",
    "    if i>n:\n",
    "        break\n",
    "    print(a[n],end=\" \")\n",
    "    n-=1"
   ]
  },
  {
   "cell_type": "markdown",
   "id": "d1e61ae6",
   "metadata": {},
   "source": [
    "### 2.Massiv elementlarini taxlil qilish "
   ]
  },
  {
   "cell_type": "code",
   "execution_count": 10,
   "id": "9cd0f066",
   "metadata": {},
   "outputs": [
    {
     "name": "stdout",
     "output_type": "stream",
     "text": [
      "1\n",
      "1\n"
     ]
    }
   ],
   "source": [
    "#Array18 1-usul\n",
    "massiv = [9,6,1,3,8,6,2,8,6,5] \n",
    "for i in range(len(massiv)):\n",
    "    if massiv[-1] > massiv[i]:\n",
    "        print(massiv[i])\n",
    "        break\n",
    "else:\n",
    "    print(0)\n",
    "    \n",
    "#Array18 2-usul\n",
    "massiv = [9,6,1,3,8,6,2,8,6,5] \n",
    "oxirgi = massiv[len(massiv)-1]\n",
    "for i in massiv:\n",
    "    if oxirgi>i:\n",
    "        print(i)\n",
    "        break\n",
    "else:\n",
    "    print(0)"
   ]
  },
  {
   "cell_type": "code",
   "execution_count": 92,
   "id": "41d953e7",
   "metadata": {},
   "outputs": [
    {
     "name": "stdout",
     "output_type": "stream",
     "text": [
      "8\n",
      "8\n"
     ]
    }
   ],
   "source": [
    "#Array19 1-usul\n",
    "massiv = [20,64,9,0,2,4,567,89,24,40]\n",
    "for i in range(len(massiv)-1,-1,-1):\n",
    "    if massiv[0] < massiv[i] < massiv[-1]:\n",
    "        print(i)\n",
    "        break\n",
    "else:\n",
    "    print(0)\n",
    "    \n",
    "#Array19 2-usul\n",
    "massiv = [20,64,9,0,2,4,567,89,24,40]\n",
    "o = massiv[-1]\n",
    "b = massiv[0]\n",
    "massiv.reverse()\n",
    "for i in range(len(massiv)):\n",
    "    if b<massiv[i]<o:\n",
    "        print(len(massiv)-1-i)\n",
    "        break\n",
    "else:\n",
    "    print(0)"
   ]
  },
  {
   "cell_type": "code",
   "execution_count": 105,
   "id": "766da7b8",
   "metadata": {},
   "outputs": [
    {
     "name": "stdout",
     "output_type": "stream",
     "text": [
      "K = 4\n",
      "L = 8\n",
      "660\n",
      "K = 4\n",
      "L = 8\n",
      "660\n"
     ]
    }
   ],
   "source": [
    "#Array20 1-usul\n",
    "k = int(input(\"K = \"))\n",
    "l = int(input(\"L = \"))\n",
    "s = 0\n",
    "massiv = [20,64,9,0,2,4,567,89,24,40]\n",
    "for i in range(k+1,l):\n",
    "    s += massiv[i]\n",
    "print(s)\n",
    "\n",
    "#Array20 2-usul\n",
    "k = int(input(\"K = \"))\n",
    "l = int(input(\"L = \"))\n",
    "massiv = [20,64,9,0,2,4,567,89,24,40]\n",
    "print(sum(massiv[k+1:l]))"
   ]
  },
  {
   "cell_type": "code",
   "execution_count": 127,
   "id": "d8050528",
   "metadata": {},
   "outputs": [
    {
     "name": "stdout",
     "output_type": "stream",
     "text": [
      "K = 2\n",
      "L = 9\n",
      "114.33333333333333\n",
      "K = 2\n",
      "L = 9\n",
      "114.33333333333333\n"
     ]
    }
   ],
   "source": [
    "#Array21 1-usul\n",
    "k = int(input(\"K = \"))\n",
    "l = int(input(\"L = \"))\n",
    "s = 0\n",
    "p = 0\n",
    "massiv = [20,64,9,0,2,4,567,89,24,40]\n",
    "for i in range(len(massiv)):\n",
    "    if k < i < l:\n",
    "        p += 1\n",
    "        s += massiv[i]\n",
    "print(s/p)\n",
    "\n",
    "#Array21 2-usul\n",
    "massiv = [20,64,9,0,2,4,567,89,24,40]\n",
    "k = int(input(\"K = \"))\n",
    "l = int(input(\"L = \"))\n",
    "print(sum(massiv[k+1:l])/(1 if l-k==1 else abs(l-k-1)))"
   ]
  },
  {
   "cell_type": "code",
   "execution_count": 133,
   "id": "a1ebea9f",
   "metadata": {},
   "outputs": [
    {
     "name": "stdout",
     "output_type": "stream",
     "text": [
      "K = 1\n",
      "L = 5\n",
      "808\n",
      "K = 1\n",
      "L = 5\n",
      "808\n"
     ]
    }
   ],
   "source": [
    "#Array22 1-usul\n",
    "k = int(input(\"K = \"))\n",
    "l = int(input(\"L = \"))\n",
    "s = 0\n",
    "massiv = [20,64,9,0,2,4,567,89,24,40]\n",
    "for i in range(len(massiv)):\n",
    "    if k >= i or l <= i:\n",
    "        s += massiv[i]\n",
    "print(s)\n",
    "\n",
    "#Array22 2-usul\n",
    "k = int(input(\"K = \"))\n",
    "l = int(input(\"L = \"))\n",
    "massiv = [20,64,9,0,2,4,567,89,24,40]\n",
    "k1 = massiv[:k+1]\n",
    "l1 = massiv[l::]\n",
    "print(sum(k1)+sum(l1))"
   ]
  },
  {
   "cell_type": "code",
   "execution_count": 138,
   "id": "808c6532",
   "metadata": {},
   "outputs": [
    {
     "name": "stdout",
     "output_type": "stream",
     "text": [
      "K = 2\n",
      "L = 9\n",
      "33.25\n",
      "K = 2\n",
      "L = 9\n",
      "33.25\n"
     ]
    }
   ],
   "source": [
    "#Array23 1-usul\n",
    "k = int(input(\"K = \"))\n",
    "l = int(input(\"L = \"))\n",
    "massiv = [20,64,9,0,2,4,567,89,24,40]\n",
    "s = 0\n",
    "p = 0\n",
    "for i in range(len(massiv)):\n",
    "    if k >= i or l <= i:\n",
    "        p += 1\n",
    "        s += massiv[i]\n",
    "print(s/p)\n",
    "    \n",
    "#Array23 2-usul\n",
    "k = int(input(\"K = \"))\n",
    "l = int(input(\"L = \"))\n",
    "massiv = [20,64,9,0,2,4,567,89,24,40]\n",
    "k1 = massiv[:k+1]\n",
    "l1 = massiv[l::]\n",
    "print((sum(k1)+sum(l1))/len(k1+l1))"
   ]
  },
  {
   "cell_type": "code",
   "execution_count": 12,
   "id": "524ecfc4",
   "metadata": {},
   "outputs": [
    {
     "name": "stdout",
     "output_type": "stream",
     "text": [
      "n = 10\n",
      "2\n",
      "n = 10\n",
      "2\n"
     ]
    }
   ],
   "source": [
    "#Array24 1-usul\n",
    "n = int(input(\"n = \"))\n",
    "k = 0\n",
    "massiv = [2*i for i in range(n)]\n",
    "d = massiv[1] - massiv[0]\n",
    "for i in range(len(massiv)-1):\n",
    "    if massiv[i+1]-massiv[i]==d:\n",
    "        k += 1\n",
    "if len(massiv)-1==k:\n",
    "    print(d)\n",
    "else:\n",
    "    print(0)\n",
    "    \n",
    "#Array24 2-usul\n",
    "n = int(input(\"n = \"))\n",
    "a = [2*i for i in range(n)]\n",
    "d = a[1] - a[0]\n",
    "for i in range(2,n):\n",
    "    if a[i]-a[i-1]!=d:\n",
    "        print(0)\n",
    "        break\n",
    "else:\n",
    "    print(d)"
   ]
  },
  {
   "cell_type": "code",
   "execution_count": 144,
   "id": "d054207e",
   "metadata": {},
   "outputs": [
    {
     "name": "stdout",
     "output_type": "stream",
     "text": [
      "3\n"
     ]
    }
   ],
   "source": [
    "#Array25\n",
    "k = 0\n",
    "massiv = [2,6,18,54,162]\n",
    "d = massiv[1] // massiv[0]\n",
    "for i in range(len(massiv)-1):\n",
    "    if massiv[i+1]//massiv[i]==d:\n",
    "        k += 1\n",
    "if len(massiv)-1==k:\n",
    "    print(d)\n",
    "else:\n",
    "    print(0)"
   ]
  },
  {
   "cell_type": "code",
   "execution_count": 61,
   "id": "52f39bdb",
   "metadata": {},
   "outputs": [
    {
     "name": "stdout",
     "output_type": "stream",
     "text": [
      "[4, 7, 1, 2, 4, 2, 3, 7, 5, 4]\n",
      "2\n",
      "n = 10\n",
      "[1, 5, 4, 5, 3, 1, 1, 5, 4, 1]\n",
      "1\n"
     ]
    }
   ],
   "source": [
    "#Array26 1-usul\n",
    "from random import randint \n",
    "a = [randint(1,9) for i in range(n)]\n",
    "print(a)\n",
    "for i in range(len(a)-1):\n",
    "    if (a[i]%2==0 and a[i+1]%2==1) or (a[i]%2==1 and a[i+1]%2==0):\n",
    "        continue\n",
    "    else:\n",
    "        print(i+1)\n",
    "        break\n",
    "else:\n",
    "    print(0)\n",
    "    \n",
    "#Array26 2-usul\n",
    "from random import randint \n",
    "n = int(input(\"n = \"))\n",
    "a = [randint(1,9) for i in range(n)] \n",
    "print(a)\n",
    "for i in range(1,n):\n",
    "    if (a[i]+a[i-1])%2!=1:\n",
    "        print(i)\n",
    "        break\n",
    "else:\n",
    "    print(0)"
   ]
  },
  {
   "cell_type": "code",
   "execution_count": 35,
   "id": "b1386a62",
   "metadata": {},
   "outputs": [
    {
     "name": "stdout",
     "output_type": "stream",
     "text": [
      "4\n"
     ]
    }
   ],
   "source": [
    "#Array27\n",
    "m = [-9,8,-7,6,5,4,-8,3,-2,1]\n",
    "for i in range(len(m)-1):\n",
    "    if (m[i]>0 and m[i+1]<0) or (m[i]<0 and m[i+1]>0):\n",
    "        continue\n",
    "    else:\n",
    "        print(i+1)\n",
    "        break\n",
    "else:\n",
    "    print(0)"
   ]
  },
  {
   "cell_type": "code",
   "execution_count": 49,
   "id": "6690ebc5",
   "metadata": {},
   "outputs": [
    {
     "name": "stdout",
     "output_type": "stream",
     "text": [
      "-8\n",
      "-8\n"
     ]
    }
   ],
   "source": [
    "#Array28 1-usul\n",
    "m = [9,8,-7,6,5,4,-8,3,-2,1]\n",
    "for i in range(0,len(m),2):\n",
    "    if i==0:\n",
    "        mini = m[0]\n",
    "    elif mini > m[i]:\n",
    "        mini = m[i]\n",
    "print(mini)\n",
    "\n",
    "#Array28 2-usul\n",
    "m = [9,8,-7,6,5,4,-8,3,-2,1,0]\n",
    "print(min(m[::2]))"
   ]
  },
  {
   "cell_type": "code",
   "execution_count": 50,
   "id": "771fdaab",
   "metadata": {},
   "outputs": [
    {
     "name": "stdout",
     "output_type": "stream",
     "text": [
      "6\n",
      "6\n"
     ]
    }
   ],
   "source": [
    "#Array29 1-usul\n",
    "m = [9,2,-7,6,5,4,-8,3,-2,1]\n",
    "for i in range(1,len(m),2):\n",
    "    if i==1:\n",
    "        maxi = m[1]\n",
    "    elif maxi < m[i]:\n",
    "        maxi = m[i]\n",
    "print(maxi)\n",
    "\n",
    "#Array29 2-usul\n",
    "m = [9,2,-7,6,5,4,-8,3,-2,1]\n",
    "print(max(m[1::2]))"
   ]
  },
  {
   "cell_type": "code",
   "execution_count": 52,
   "id": "551c806f",
   "metadata": {},
   "outputs": [
    {
     "name": "stdout",
     "output_type": "stream",
     "text": [
      "0 1 3 4 5 7 soni: 6\n"
     ]
    }
   ],
   "source": [
    "#Array30 \n",
    "k = 0\n",
    "m = [9,2,-7,6,5,4,-8,3,-2,1]\n",
    "for i in range(len(m)-1):\n",
    "    if m[i+1] < m[i]:\n",
    "        k+=1\n",
    "        print(i,end=\" \")\n",
    "print(\"soni:\",k)"
   ]
  },
  {
   "cell_type": "code",
   "execution_count": 56,
   "id": "5d268580",
   "metadata": {},
   "outputs": [
    {
     "name": "stdout",
     "output_type": "stream",
     "text": [
      "9 7 3 soni: 3\n"
     ]
    }
   ],
   "source": [
    "#Array31\n",
    "k = 0\n",
    "m = [9,2,-7,6,5,4,-8,3,-2,1]\n",
    "for i in range(len(m)-1,0,-1):\n",
    "    if m[i-1] < m[i]:\n",
    "        k+=1\n",
    "        print(i,end=\" \")\n",
    "print(\"soni:\",k)"
   ]
  },
  {
   "cell_type": "code",
   "execution_count": 57,
   "id": "eba8f03b",
   "metadata": {},
   "outputs": [
    {
     "name": "stdout",
     "output_type": "stream",
     "text": [
      "2\n"
     ]
    }
   ],
   "source": [
    "#Array32\n",
    "m = [9,2,-7,6,5,4,-8,3,-2,1]\n",
    "for i in range(1,len(m)-1):\n",
    "    if m[i-1] > m[i] and m[i+1] > m[i]:\n",
    "        print(i)\n",
    "        break"
   ]
  },
  {
   "cell_type": "code",
   "execution_count": 63,
   "id": "bd18e68e",
   "metadata": {},
   "outputs": [
    {
     "name": "stdout",
     "output_type": "stream",
     "text": [
      "7\n"
     ]
    }
   ],
   "source": [
    "#Array33\n",
    "m = [9,2,-7,6,5,4,-8,3,-2,1]\n",
    "for i in range(1,len(m)-1):\n",
    "    if m[i-1] < m[i] and m[i+1] < m[i]:\n",
    "        k = i\n",
    "print(k)"
   ]
  },
  {
   "cell_type": "code",
   "execution_count": 64,
   "id": "bc828b4a",
   "metadata": {},
   "outputs": [
    {
     "name": "stdout",
     "output_type": "stream",
     "text": [
      "-2\n"
     ]
    }
   ],
   "source": [
    "#Array34\n",
    "m = [9,2,-7,6,5,4,-8,3,-2,1]\n",
    "flag = True\n",
    "for i in range(1,len(m)-1):\n",
    "    if m[i-1] > m[i] and m[i+1] > m[i]:\n",
    "        if flag:\n",
    "            maxi = m[i]\n",
    "            flag = False\n",
    "        elif maxi < m[i]:\n",
    "            maxi = m[i]\n",
    "print(maxi)"
   ]
  },
  {
   "cell_type": "code",
   "execution_count": 65,
   "id": "73b3a4d9",
   "metadata": {},
   "outputs": [
    {
     "name": "stdout",
     "output_type": "stream",
     "text": [
      "3\n"
     ]
    }
   ],
   "source": [
    "#Array35\n",
    "m = [9,2,-7,6,5,4,-8,3,-2,1]\n",
    "flag = True\n",
    "for i in range(1,len(m)-1):\n",
    "    if m[i-1] < m[i] and m[i+1] < m[i]:\n",
    "        if flag:\n",
    "            mini = m[i]\n",
    "            flag = False\n",
    "        elif mini > m[i]:\n",
    "            mini = m[i]\n",
    "print(mini)"
   ]
  },
  {
   "cell_type": "code",
   "execution_count": 100,
   "id": "3d544e70",
   "metadata": {},
   "outputs": [
    {
     "name": "stdout",
     "output_type": "stream",
     "text": [
      "9\n"
     ]
    }
   ],
   "source": [
    "#Array36\n",
    "m = [9,2,-7,6,5,4,-8,3,-2,1]\n",
    "def lok_max(m):\n",
    "    l_max = []\n",
    "    for i in range(1,len(m)-1):\n",
    "        if m[i-1]<m[i] and m[i+1]<m[i]:\n",
    "            l_max.append(m[i])\n",
    "    return l_max\n",
    "\n",
    "def lok_min(m):\n",
    "    l_min = []\n",
    "    for i in range(1,len(m)-1):\n",
    "        if m[i-1]>m[i] and m[i+1]>m[i]:\n",
    "            l_min.append(m[i])\n",
    "    return l_min\n",
    "\n",
    "def main(m):\n",
    "    maxi = lok_max(m)\n",
    "    mini = lok_min(m)\n",
    "    for i in maxi:\n",
    "        m.remove(i)\n",
    "    for i in mini:\n",
    "        m.remove(i)\n",
    "    return max(m)\n",
    "\n",
    "print(main(m))"
   ]
  },
  {
   "cell_type": "code",
   "execution_count": 3,
   "id": "c2960fab",
   "metadata": {},
   "outputs": [
    {
     "name": "stdout",
     "output_type": "stream",
     "text": [
      "3\n"
     ]
    }
   ],
   "source": [
    "#Array37 \n",
    "m = [9,2,-7,6,5,4,8,-3,2,1]\n",
    "i = 1\n",
    "s = 0\n",
    "while i<len(m)-1:\n",
    "    if m[i]>m[i-1] and m[i]>m[i+1]:\n",
    "        s+=1\n",
    "    i+=1\n",
    "if m[-2]<m[-1]:\n",
    "    s+=1\n",
    "print(s)"
   ]
  },
  {
   "cell_type": "code",
   "execution_count": 2,
   "id": "b136f34b",
   "metadata": {},
   "outputs": [
    {
     "name": "stdout",
     "output_type": "stream",
     "text": [
      "4\n"
     ]
    }
   ],
   "source": [
    "#Array38\n",
    "m = [9,2,-7,6,5,4,8,-3,2,1]\n",
    "i = 1\n",
    "s = 0\n",
    "while i<len(m)-1:\n",
    "    if m[i] < m[i-1] and m[i] < m[i+1]:\n",
    "        s += 1\n",
    "    i += 1\n",
    "if m[-1]<m[-2]:\n",
    "    s += 1\n",
    "print(s)"
   ]
  },
  {
   "cell_type": "code",
   "execution_count": 11,
   "id": "4099604f",
   "metadata": {},
   "outputs": [
    {
     "name": "stdout",
     "output_type": "stream",
     "text": [
      "7\n"
     ]
    }
   ],
   "source": [
    "#Array39\n",
    "m = [9,2,-7,6,5,4,8,-3,2,1]\n",
    "i = 1\n",
    "m_o = 0\n",
    "m_k = 0\n",
    "while i < len(m)-1:\n",
    "    if m[i-1]>m[i]<m[i+1]:\n",
    "        m_k += 1\n",
    "    if m[i-1]<m[i]>m[i+1]:\n",
    "        m_o += 1\n",
    "    i += 1\n",
    "if m[-1]>m[-2]:\n",
    "    m_o += 1   # 3 ta\n",
    "if m[-1]<m[-2]:\n",
    "    m_k += 1   # 4 ta\n",
    "print(m_k + m_o)"
   ]
  },
  {
   "cell_type": "code",
   "execution_count": 115,
   "id": "c49ecb61",
   "metadata": {},
   "outputs": [
    {
     "name": "stdout",
     "output_type": "stream",
     "text": [
      "R = 17\n",
      "Eng yaqini: 20\n"
     ]
    }
   ],
   "source": [
    "#Array40\n",
    "r = int(input(\"R = \"))\n",
    "m = [1,12,-2,20,0,-15,9,56]\n",
    "mini = abs(r - m[0])\n",
    "son = m[0]\n",
    "for i in range(len(m)):      \n",
    "    if mini > abs(r - m[i]):\n",
    "        mini = abs(r - m[i])\n",
    "        son = m[i]\n",
    "print(\"Eng yaqini:\",son)"
   ]
  },
  {
   "cell_type": "code",
   "execution_count": 127,
   "id": "a9cbaf1e",
   "metadata": {},
   "outputs": [
    {
     "name": "stdout",
     "output_type": "stream",
     "text": [
      "20 1\n"
     ]
    }
   ],
   "source": [
    "#Array41\n",
    "m = [1,12,-2,20,1,-15,9,5]\n",
    "maxi = m[0]+m[1]\n",
    "for i in range(1,len(m)-1):\n",
    "    if maxi<m[i]+m[i+1]:\n",
    "        maxi = m[i]+m[i+1]\n",
    "        k = m[i]\n",
    "        n = m[i+1]\n",
    "print(k,n)"
   ]
  },
  {
   "cell_type": "code",
   "execution_count": 12,
   "id": "b505ec0e",
   "metadata": {},
   "outputs": [
    {
     "name": "stdout",
     "output_type": "stream",
     "text": [
      "R = -2\n",
      "(2, 3)\n"
     ]
    }
   ],
   "source": [
    "#Array42\n",
    "m = [1,12,-2,2,1,-15,9,5]\n",
    "r = int(input(\"R = \"))\n",
    "\n",
    "def qoshni_max(m,r):\n",
    "    k =  []\n",
    "    for i in range(len(m)-1):\n",
    "        k.append(m[i] + m[i+1])\n",
    "    for i in range(len(k)):\n",
    "        if i==0:\n",
    "            mini = abs(r - k[0])  \n",
    "            son = k[i]\n",
    "        elif mini > abs(r - k[i]):\n",
    "            mini = abs(r - k[i])\n",
    "            index1 = i\n",
    "            index2 = i+1\n",
    "    return index1,index2\n",
    "\n",
    "print(qoshni_max(m,r))"
   ]
  },
  {
   "cell_type": "code",
   "execution_count": 7,
   "id": "0d5679b5",
   "metadata": {},
   "outputs": [
    {
     "name": "stdout",
     "output_type": "stream",
     "text": [
      "n = 10\n",
      "[2, 2, 3, 6, 6, 7, 7, 7, 9, 9]\n",
      "5\n",
      "n = 10\n",
      "[1, 3, 4, 4, 6, 6, 6, 6, 6, 9]\n",
      "5\n"
     ]
    }
   ],
   "source": [
    "#Array43 1-usul\n",
    "from random import randint\n",
    "n = int(input(\"n = \"))\n",
    "m = [randint(1,9) for i in range(n)]\n",
    "m.sort()\n",
    "print(m)\n",
    "bir = m[0]\n",
    "k = 1\n",
    "for i in range(len(m)):\n",
    "    if bir<m[i] or bir>m[i]:\n",
    "        bir = m[i]\n",
    "        k += 1\n",
    "print(k)\n",
    "\n",
    "#Array43 2-usul\n",
    "from random import randint\n",
    "n = int(input(\"n = \"))\n",
    "a = [randint(1,9) for i in range(n)]\n",
    "a.sort()\n",
    "print(a)\n",
    "s = 1\n",
    "for i in range(1,n):\n",
    "    if a[i]!=a[i-1]:\n",
    "        s += 1\n",
    "print(s)"
   ]
  },
  {
   "cell_type": "code",
   "execution_count": 12,
   "id": "d7948cf6",
   "metadata": {},
   "outputs": [
    {
     "name": "stdout",
     "output_type": "stream",
     "text": [
      "1 6\n"
     ]
    }
   ],
   "source": [
    "#Array44\n",
    "a = [1,6,3,5,4,7,6,2]\n",
    "for i in range(len(a)):\n",
    "    for j in range(i+1,len(a)):\n",
    "        if a[i]==a[j]:\n",
    "            print(i,j)\n",
    "            break"
   ]
  },
  {
   "cell_type": "code",
   "execution_count": 37,
   "id": "176e429d",
   "metadata": {},
   "outputs": [
    {
     "name": "stdout",
     "output_type": "stream",
     "text": [
      "3 4\n"
     ]
    }
   ],
   "source": [
    "#Array45\n",
    "m = [1,12,-2,2,4,-15,9,5]\n",
    "yaqin = abs(m[0]-m[1])\n",
    "for i in range(1,len(m)-1):\n",
    "    if yaqin > abs(m[i]-m[i+1]):\n",
    "        yaqin = abs(m[i]-m[i+1])\n",
    "        bir = i\n",
    "        ikki = i+1\n",
    "print(bir,ikki)"
   ]
  },
  {
   "cell_type": "code",
   "execution_count": 43,
   "id": "44ec8ddc",
   "metadata": {},
   "outputs": [
    {
     "name": "stdout",
     "output_type": "stream",
     "text": [
      "R = 1\n",
      "(-2, 2)\n"
     ]
    }
   ],
   "source": [
    "#Array46\n",
    "m = [1,12,-2,2,1,-15,9,5]\n",
    "r = int(input(\"R = \"))\n",
    "\n",
    "def katta_max(m,r):\n",
    "    k =  []\n",
    "    for i in range(len(m)-1):\n",
    "        k.append(m[i] + m[i+1])\n",
    "    for i in range(len(k)):\n",
    "        if i==0:\n",
    "            mini = abs(r - k[0])  \n",
    "            son = k[i]\n",
    "        elif mini > abs(r - k[i]):\n",
    "            mini = abs(r - k[i])\n",
    "            index1 = i\n",
    "            index2 = i+1\n",
    "    return m[index1],m[index2]\n",
    "\n",
    "print(katta_max(m,r))"
   ]
  },
  {
   "cell_type": "code",
   "execution_count": 9,
   "id": "41b63fd0",
   "metadata": {},
   "outputs": [
    {
     "name": "stdout",
     "output_type": "stream",
     "text": [
      "7 5 4 3 2 1 n = 10\n",
      "[3, 1, 9, 4, 7, 1, 1, 1, 1, 2]\n",
      "[3, 1, 9, 4, 7, 2]\n"
     ]
    }
   ],
   "source": [
    "#Array47 1-usul\n",
    "m = [4,4,2,3,1,4,5,7,4,2]\n",
    "m.sort(reverse=True)\n",
    "maxi = m[0]\n",
    "print(maxi,end=\" \")\n",
    "for i in range(len(m)):\n",
    "    if maxi > m[i]:\n",
    "        maxi = m[i]\n",
    "        print(maxi,end=\" \")\n",
    "\n",
    "#Array47 2-usul\n",
    "from random import randint\n",
    "n = int(input(\"n = \"))\n",
    "a = [randint(1,9) for i in range(n)]\n",
    "print(a)\n",
    "matrix = []\n",
    "for i in a:\n",
    "    if i not in matrix:\n",
    "        matrix.append(i)\n",
    "print(matrix)"
   ]
  },
  {
   "cell_type": "code",
   "execution_count": 25,
   "id": "9e2c735d",
   "metadata": {},
   "outputs": [
    {
     "name": "stdout",
     "output_type": "stream",
     "text": [
      "son = 2 \n",
      "soni: 5 ta\n"
     ]
    }
   ],
   "source": [
    "#Array48\n",
    "m = [1,2,4,5,8,7,2,3,4,5,8,7,8,8,1,1,2,2,2,6,1]\n",
    "m.sort()\n",
    "maxi = m[0]\n",
    "soni = m.count(m[0])\n",
    "for i in range(len(m)):\n",
    "    if maxi < m[i] and soni < m.count(m[i]):\n",
    "        maxi = m[i]\n",
    "        soni = m.count(m[i])\n",
    "print(\"son =\",maxi,\"\\nsoni:\",soni,\"ta\")"
   ]
  },
  {
   "cell_type": "code",
   "execution_count": 26,
   "id": "2b7d6de0",
   "metadata": {},
   "outputs": [
    {
     "name": "stdout",
     "output_type": "stream",
     "text": [
      "n = 20\n",
      "[16, 42, 17, -2, 22, 5, 0, 17, 24, 4, 20, 19, -4, 45, -3, -1, 18, 16, 20, 18]\n",
      "1\n"
     ]
    }
   ],
   "source": [
    "#Array49\n",
    "n = int(input(\"n = \"))\n",
    "a = [randint(-5,50) for i in range(n)]\n",
    "print(a)\n",
    "for i in range(n):\n",
    "    if a[i]>n or a[i]<1:\n",
    "        print(i)\n",
    "        break\n",
    "else:\n",
    "    print(\"Done!\")  "
   ]
  },
  {
   "cell_type": "code",
   "execution_count": 33,
   "id": "a523c9f0",
   "metadata": {},
   "outputs": [
    {
     "name": "stdout",
     "output_type": "stream",
     "text": [
      "6\n"
     ]
    }
   ],
   "source": [
    "#Array50\n",
    "m = [1,2,4,5,8,7,2,3,4,5,8,7,8,6,9,8,0]\n",
    "k = 0\n",
    "for i in range(len(m)-1):\n",
    "    if m[i] > m[i+1]:\n",
    "        k += 1 \n",
    "print(k)"
   ]
  },
  {
   "cell_type": "markdown",
   "id": "3764fc68",
   "metadata": {},
   "source": [
    "### 3.Bir nechta massiv bilan ishlash"
   ]
  },
  {
   "cell_type": "code",
   "execution_count": 29,
   "id": "e4155647",
   "metadata": {},
   "outputs": [
    {
     "name": "stdout",
     "output_type": "stream",
     "text": [
      "[4, 5, 2, 4, 7]\n",
      "[1, 2, 4, 58, 8]\n"
     ]
    }
   ],
   "source": [
    "#Array51\n",
    "a = [1,2,4,58,8]\n",
    "b = [4,5,2,4,7]\n",
    "for i in range(len(a)):\n",
    "    a[i],b[i] = b[i],a[i]\n",
    "print(a,b)"
   ]
  },
  {
   "cell_type": "code",
   "execution_count": 16,
   "id": "70a13fc3",
   "metadata": {},
   "outputs": [
    {
     "name": "stdout",
     "output_type": "stream",
     "text": [
      "n = 10\n",
      "[1, 7, 10, 3, 9, 11, 8, 5, 5, 11]\n",
      "[2, 3.5, 5.0, 6, 4.5, 5.5, 4.0, 2.5, 2.5, 5.5]\n"
     ]
    }
   ],
   "source": [
    "#Array52\n",
    "from random import randint as r\n",
    "n = int(input(\"n = \"))\n",
    "a = [r(1,11) for i in range(n)]\n",
    "b = []\n",
    "for i in range(n):\n",
    "    if a[i]<5:\n",
    "        b.append(2*a[i])\n",
    "    else:\n",
    "        b.append(a[i]/2)\n",
    "print(b)"
   ]
  },
  {
   "cell_type": "code",
   "execution_count": 20,
   "id": "1db586fc",
   "metadata": {},
   "outputs": [
    {
     "name": "stdout",
     "output_type": "stream",
     "text": [
      "n = 10\n",
      "[4, 8, 4, 7, 9, 10, 7, 7, 8, 9]\n"
     ]
    }
   ],
   "source": [
    "#Array53\n",
    "from random import randint as r\n",
    "n = int(input(\"n = \"))\n",
    "a = [r(1,10) for i in range(n)]\n",
    "b = [r(1,10) for i in range(n)]\n",
    "c = []\n",
    "for i in range(n):\n",
    "    if a[i]>b[i]:\n",
    "        c.append(a[i])\n",
    "    else:\n",
    "        c.append(b[i])\n",
    "print(c)"
   ]
  },
  {
   "cell_type": "code",
   "execution_count": 24,
   "id": "5fefce45",
   "metadata": {},
   "outputs": [
    {
     "name": "stdout",
     "output_type": "stream",
     "text": [
      "n = 10\n",
      "[7, 2, 2, 1, 8, 7, 3, 5, 5, 1]\n",
      "soni = 3 ta\n",
      "[2, 2, 8]\n"
     ]
    }
   ],
   "source": [
    "#Array54\n",
    "from random import randint as r\n",
    "n = int(input(\"n = \"))\n",
    "a = [r(1,10) for i in range(n)]\n",
    "b = []\n",
    "print(a)\n",
    "for i in range(n):\n",
    "    if a[i]%2==0:\n",
    "        b.append(a[i])\n",
    "print(\"soni =\",len(b),\"ta\")\n",
    "print(b)"
   ]
  },
  {
   "cell_type": "code",
   "execution_count": 27,
   "id": "cbe213fa",
   "metadata": {},
   "outputs": [
    {
     "name": "stdout",
     "output_type": "stream",
     "text": [
      "n = 10\n",
      "[3, 9, 8, 1, 1, 3, 1, 9, 10, 10]\n",
      "Soni : 5\n",
      "[9, 1, 3, 9, 10]\n"
     ]
    }
   ],
   "source": [
    "#Array55\n",
    "from random import randint as r\n",
    "n = int(input(\"n = \"))\n",
    "a = [r(1,10) for i in range(n)]\n",
    "b = []\n",
    "print(a)\n",
    "for i in range(1,n,2):\n",
    "    b.append(a[i])\n",
    "print(\"Soni :\",len(b))\n",
    "print(b)"
   ]
  },
  {
   "cell_type": "code",
   "execution_count": 26,
   "id": "2165113e",
   "metadata": {},
   "outputs": [
    {
     "name": "stdout",
     "output_type": "stream",
     "text": [
      "n = 10\n",
      "[1, 5, 4, 9, 4, 1, 4, 8, 4, 3]\n",
      "Soni : 3\n",
      "[9, 4, 3]\n"
     ]
    }
   ],
   "source": [
    "#Array56\n",
    "from random import randint as r\n",
    "n = int(input(\"n = \"))\n",
    "a = [r(1,10) for i in range(n)]\n",
    "b = []\n",
    "print(a)\n",
    "for i in range(3,n,3):\n",
    "    b.append(a[i])\n",
    "print(\"Soni :\",len(b))\n",
    "print(b)"
   ]
  },
  {
   "cell_type": "code",
   "execution_count": 32,
   "id": "c9cbe1ef",
   "metadata": {},
   "outputs": [
    {
     "name": "stdout",
     "output_type": "stream",
     "text": [
      "n = 10\n",
      "[9, 9, 3, 9, 1, 10, 5, 3, 2, 3]\n",
      "n = 10\n",
      "[9, 6, 5, 8, 4, 10, 8, 8, 2, 4]\n"
     ]
    }
   ],
   "source": [
    "#Array57 1-usul\n",
    "from random import randint as r\n",
    "n = int(input(\"n = \"))\n",
    "a = [r(1,10) for i in range(n)]\n",
    "b = []\n",
    "for i in range(0,n,2):\n",
    "    b.append(a[i])\n",
    "for i in range(1,n,2):\n",
    "    b.append(a[i])\n",
    "print(b)\n",
    "\n",
    "#Array57 2-usul\n",
    "n = int(input(\"n = \"))\n",
    "a = [r(1,10) for i in range(n)]\n",
    "b = a[::2] + a[1::2]\n",
    "print(b)"
   ]
  },
  {
   "cell_type": "code",
   "execution_count": 33,
   "id": "794c01e8",
   "metadata": {},
   "outputs": [
    {
     "name": "stdout",
     "output_type": "stream",
     "text": [
      "n = 10\n",
      "[3, 7, 9, 5, 7, 7, 4, 8, 6, 6]\n",
      "[3, 10, 19, 24, 31, 38, 42, 50, 56, 62]\n"
     ]
    }
   ],
   "source": [
    "#Array58\n",
    "from random import randint as r\n",
    "n = int(input(\"n = \"))\n",
    "a = [r(1,10) for i in range(n)]\n",
    "print(a)\n",
    "b = []\n",
    "for i in range(n):\n",
    "    s = 0\n",
    "    for j in range(i+1):\n",
    "        s += a[j]\n",
    "    b.append(s)\n",
    "print(b)"
   ]
  },
  {
   "cell_type": "code",
   "execution_count": 35,
   "id": "a7b2aa14",
   "metadata": {},
   "outputs": [
    {
     "name": "stdout",
     "output_type": "stream",
     "text": [
      "n = 10\n",
      "[7, 7, 9, 7, 9, 8, 4, 7, 2, 9]\n",
      "[1.0, 2.0, 2.5555555555555554, 4.285714285714286, 4.333333333333333, 5.875, 12.75, 8.285714285714286, 30.0, 7.666666666666667]\n"
     ]
    }
   ],
   "source": [
    "#Array59\n",
    "from random import randint as r\n",
    "n = int(input(\"n = \"))\n",
    "a = [r(1,10) for i in range(n)]\n",
    "print(a)\n",
    "b = []\n",
    "for i in range(n):\n",
    "    s = 0\n",
    "    for j in range(i+1):\n",
    "        s += a[j]\n",
    "    b.append(s/a[i])\n",
    "print(b)"
   ]
  },
  {
   "cell_type": "code",
   "execution_count": 33,
   "id": "21b150e9",
   "metadata": {},
   "outputs": [
    {
     "name": "stdout",
     "output_type": "stream",
     "text": [
      "n = 10\n",
      "[8, 10, 2, 9, 1, 1, 7, 6, 7, 6]\n",
      "[57, 49, 39, 37, 28, 27, 26, 19, 13, 6]\n",
      "n = 10\n",
      "[7, 3, 10, 1, 10, 2, 1, 9, 5, 2]\n",
      "[50, 43, 40, 30, 29, 19, 17, 16, 7, 2]\n"
     ]
    }
   ],
   "source": [
    "#Array60 1-usul\n",
    "from random import randint as r\n",
    "n = int(input(\"n = \"))\n",
    "a = [r(1,10) for i in range(n)]\n",
    "print(a)\n",
    "b = []\n",
    "for i in range(n):\n",
    "    s = 0\n",
    "    for j in range(i,n):\n",
    "        s += a[j]\n",
    "    b.append(s)\n",
    "print(b)\n",
    "\n",
    "#Array60 2-usul\n",
    "from random import randint as r\n",
    "n = int(input(\"n = \"))\n",
    "a = [r(1,10) for i in range(n)]\n",
    "print(a)\n",
    "b = []\n",
    "for i in range(n):\n",
    "    b.append(sum(a[i:]))\n",
    "print(b)"
   ]
  },
  {
   "cell_type": "code",
   "execution_count": 38,
   "id": "f2feeb10",
   "metadata": {},
   "outputs": [
    {
     "name": "stdout",
     "output_type": "stream",
     "text": [
      "n = 5\n",
      "[8, 2, 10, 6, 1]\n",
      "[5.4, 4.75, 5.666666666666667, 3.5, 1.0]\n"
     ]
    }
   ],
   "source": [
    "#Array61\n",
    "from random import randint as r\n",
    "n = int(input(\"n = \"))\n",
    "a = [r(1,10) for i in range(n)]\n",
    "print(a)\n",
    "b = []\n",
    "for i in range(n):\n",
    "    s = 0\n",
    "    k = 0\n",
    "    for j in range(i,n):\n",
    "        k += 1\n",
    "        s += a[j]\n",
    "    b.append(s/k)\n",
    "print(b)"
   ]
  },
  {
   "cell_type": "code",
   "execution_count": 45,
   "id": "e3d072fe",
   "metadata": {},
   "outputs": [
    {
     "name": "stdout",
     "output_type": "stream",
     "text": [
      "n = 10\n",
      "[1, 9, 5, -10, -7, -6, -2, 4, 12, 7]\n",
      "[1, 9, 5, 4, 12, 7]\n",
      "[-10, -7, -6, -2]\n"
     ]
    }
   ],
   "source": [
    "#Array62\n",
    "from random import randint as r\n",
    "n = int(input(\"n = \"))\n",
    "a = [r(-10,12) for i in range(n)]\n",
    "print(a)\n",
    "b = []\n",
    "c = []\n",
    "for i in range(n):\n",
    "    if a[i]>=0:\n",
    "        b.append(a[i])\n",
    "    else:\n",
    "        c.append(a[i])\n",
    "print(b)\n",
    "print(c)"
   ]
  },
  {
   "cell_type": "code",
   "execution_count": 54,
   "id": "9f06b7c1",
   "metadata": {},
   "outputs": [
    {
     "name": "stdout",
     "output_type": "stream",
     "text": [
      "n = 5\n",
      "[1, 2, 3, 4, 5]\n",
      "[6, 7, 8, 9, 10]\n",
      "[1, 2, 3, 4, 5, 6, 7, 8, 9, 10]\n"
     ]
    }
   ],
   "source": [
    "#Array63\n",
    "from random import randint as r\n",
    "n = int(input(\"n = \"))\n",
    "a = [i for i in range(1,n+1)]\n",
    "b = [i for i in range(n+1,2*n+1)]\n",
    "c = []\n",
    "print(a)\n",
    "print(b)\n",
    "if a[0]<b[0]:\n",
    "    c.extend(a)\n",
    "    c.extend(b)\n",
    "else:\n",
    "    c.extend(b)\n",
    "    c.extend(a)\n",
    "print(c)"
   ]
  },
  {
   "cell_type": "code",
   "execution_count": 54,
   "id": "5a3d5249",
   "metadata": {},
   "outputs": [
    {
     "name": "stdout",
     "output_type": "stream",
     "text": [
      "[1, 4, 5, 6, 10, 11, 20, 21, 40]\n"
     ]
    }
   ],
   "source": [
    "#Array64 \n",
    "a = [1,5,10]\n",
    "b = [4,11,20]\n",
    "c = [6,21,40] \n",
    "d = a+b+c\n",
    "d.sort()\n",
    "print(d)"
   ]
  },
  {
   "cell_type": "markdown",
   "id": "5511e76a",
   "metadata": {},
   "source": [
    "### 4.Massiv elementlarini o'zgartirish"
   ]
  },
  {
   "cell_type": "code",
   "execution_count": 72,
   "id": "41a01314",
   "metadata": {},
   "outputs": [
    {
     "name": "stdout",
     "output_type": "stream",
     "text": [
      "n = 10\n",
      "k = 3\n",
      "[8, 3, 5, 9, 10, 4, 4, 8, 7, 8]\n",
      "[17, 12, 14, 18, 19, 13, 13, 17, 16, 17]\n"
     ]
    }
   ],
   "source": [
    "#Array65\n",
    "from random import randint as r\n",
    "n = int(input(\"n = \"))\n",
    "k = int(input(\"k = \"))\n",
    "a = [r(1,12) for i in range(n)]\n",
    "print(a)\n",
    "ak = a[k]\n",
    "for i in range(n):\n",
    "    a[i] = a[i] + ak\n",
    "print(a)"
   ]
  },
  {
   "cell_type": "code",
   "execution_count": 75,
   "id": "75c71601",
   "metadata": {},
   "outputs": [
    {
     "name": "stdout",
     "output_type": "stream",
     "text": [
      "n = 10\n",
      "[10, 3, 12, 10, 10, 10, 9, 12, 4, 3]\n",
      "[20, 3, 22, 20, 20, 20, 9, 22, 14, 3]\n"
     ]
    }
   ],
   "source": [
    "#Array66\n",
    "from random import randint as r\n",
    "n = int(input(\"n = \"))\n",
    "a = [r(1,12) for i in range(n)]\n",
    "print(a)\n",
    "for i in range(n):\n",
    "    if a[i]%2==0:\n",
    "        ak = a[i]\n",
    "        break\n",
    "for i in range(n):\n",
    "    if a[i]%2==0:\n",
    "        a[i] = a[i] + ak\n",
    "print(a)"
   ]
  },
  {
   "cell_type": "code",
   "execution_count": 80,
   "id": "c50393e3",
   "metadata": {},
   "outputs": [
    {
     "name": "stdout",
     "output_type": "stream",
     "text": [
      "n = 10\n",
      "[12, 5, 6, 9, 7, 2, 2, 9, 8, 8]\n",
      "[12, 14, 6, 18, 16, 2, 2, 18, 8, 8]\n"
     ]
    }
   ],
   "source": [
    "#Array67\n",
    "from random import randint as r\n",
    "n = int(input(\"n = \"))\n",
    "a = [r(1,12) for i in range(n)]\n",
    "print(a)\n",
    "for i in range(n):\n",
    "    if a[i]%2==1:\n",
    "        ak = a[i]\n",
    "for i in range(n):\n",
    "    if a[i]%2==1:\n",
    "        a[i] = a[i] + ak\n",
    "print(a)"
   ]
  },
  {
   "cell_type": "code",
   "execution_count": 81,
   "id": "b485b4fc",
   "metadata": {},
   "outputs": [
    {
     "name": "stdout",
     "output_type": "stream",
     "text": [
      "n = 10\n",
      "[12, 3, 12, 8, 1, 2, 6, 1, 12, 2]\n",
      "[1, 3, 12, 8, 12, 2, 6, 1, 12, 2]\n"
     ]
    }
   ],
   "source": [
    "#Array68 1-usul\n",
    "from random import randint\n",
    "n = int(input(\"n = \"))\n",
    "a = [randint(1,9) for i in range(n)]\n",
    "print(a)\n",
    "for i in range(n):\n",
    "    if i==0:\n",
    "        maxi = a[i]\n",
    "        mini = a[i]\n",
    "        continue\n",
    "    if maxi<a[i]:\n",
    "        maxi = a[i]\n",
    "    if mini>a[i]:\n",
    "        mini = a[i]\n",
    "a[a.index(mini)] = maxi\n",
    "a[a.index(maxi)] = mini\n",
    "print(a)\n",
    "\n",
    "#Array68 2-usul\n",
    "from random import randint\n",
    "n = int(input(\"n = \"))\n",
    "a = [randint(1,9) for i in range(n)]\n",
    "print(a)\n",
    "\n",
    "mini_index = a.index(min(a))\n",
    "maxi_index = a.index(max(a))\n",
    "a[mini_index],a[maxi_index] = a[maxi_index],a[mini_index]"
   ]
  },
  {
   "cell_type": "code",
   "execution_count": 5,
   "id": "23c86ce7",
   "metadata": {},
   "outputs": [
    {
     "name": "stdout",
     "output_type": "stream",
     "text": [
      "n = 10\n",
      "[1, 5, 5, 4, 3, 7, 5, 6, 1, 6]\n",
      "[5, 1, 4, 5, 7, 3, 6, 5, 6, 1]\n"
     ]
    }
   ],
   "source": [
    "#Array69\n",
    "from random import randint\n",
    "n = int(input(\"n = \"))\n",
    "a = [randint(1,9) for i in range(n)]\n",
    "print(a)\n",
    "for i in range(0,n-1,2):\n",
    "    a[i],a[i+1] = a[i+1],a[i]\n",
    "print(a)"
   ]
  },
  {
   "cell_type": "code",
   "execution_count": 8,
   "id": "044e3e7e",
   "metadata": {},
   "outputs": [
    {
     "name": "stdout",
     "output_type": "stream",
     "text": [
      "n = 10\n",
      "[4, 1, 7, 5, 3, 6, 4, 1, 6, 7]\n",
      "[6, 4, 1, 6, 7, 4, 1, 7, 5, 3]\n"
     ]
    }
   ],
   "source": [
    "#Array70\n",
    "from random import randint\n",
    "n = int(input(\"n = \"))\n",
    "a = [randint(1,9) for i in range(n)]\n",
    "print(a)\n",
    "a[:n//2],a[n//2:] = a[n//2:],a[:n//2]\n",
    "print(a)"
   ]
  },
  {
   "cell_type": "code",
   "execution_count": 17,
   "id": "4d7d9ab5",
   "metadata": {},
   "outputs": [
    {
     "name": "stdout",
     "output_type": "stream",
     "text": [
      "n = 11\n",
      "[5, 1, 4, 9, 7, 8, 4, 7, 5, 8, 4]\n",
      "[4, 8, 5, 7, 4, 8, 7, 9, 4, 1, 5]\n",
      "n = 11\n",
      "[9, 7, 1, 8, 7, 3, 8, 6, 7, 6, 3]\n",
      "[3, 6, 7, 6, 8, 3, 7, 8, 1, 7, 9]\n"
     ]
    }
   ],
   "source": [
    "#Array71 1-usul\n",
    "from random import randint\n",
    "n = int(input(\"n = \"))\n",
    "a = [randint(1,9) for i in range(n)]\n",
    "print(a)\n",
    "a.reverse()\n",
    "print(a)\n",
    "\n",
    "#Array71 2-usul\n",
    "from random import randint\n",
    "n = int(input(\"n = \"))\n",
    "a = [randint(1,9) for i in range(n)]\n",
    "print(a)\n",
    "for i in range(n//2):\n",
    "    a[i],a[n-i-1] = a[n-i-1],a[i]\n",
    "print(a)"
   ]
  },
  {
   "cell_type": "code",
   "execution_count": 40,
   "id": "cb02070d",
   "metadata": {},
   "outputs": [
    {
     "name": "stdout",
     "output_type": "stream",
     "text": [
      "n = 12\n",
      "k = 2\n",
      "h = 8\n",
      "[8, 8, 6, 4, 4, 9, 1, 4, 2, 3, 6, 9]\n",
      "[8, 8, 2, 4, 1, 9, 4, 4, 6, 3, 6, 9]\n"
     ]
    }
   ],
   "source": [
    "#Array72\n",
    "from random import randint\n",
    "n = int(input(\"n = \"))\n",
    "k = int(input(\"k = \"))\n",
    "h = int(input(\"h = \"))\n",
    "a = [randint(1,9) for i in range(n)]   \n",
    "print(a)\n",
    "\n",
    "d = h - k\n",
    "for _ in range((d+1)//2):\n",
    "    a[k],a[k+d] = a[k+d],a[k]\n",
    "    d -= 2\n",
    "    k += 1\n",
    "print(a)"
   ]
  },
  {
   "cell_type": "code",
   "execution_count": 14,
   "id": "bdd346dc",
   "metadata": {},
   "outputs": [
    {
     "name": "stdout",
     "output_type": "stream",
     "text": [
      "n = 12\n",
      "k = 2\n",
      "h = 7\n",
      "[4, 2, 6, 8, 3, 5, 1, 1, 8, 9, 4, 5]\n",
      "[4, 2, 6, 1, 3, 5, 8, 1, 8, 9, 4, 5]\n"
     ]
    }
   ],
   "source": [
    "#Array73 \n",
    "from random import randint\n",
    "n = int(input(\"n = \"))\n",
    "k = int(input(\"k = \"))\n",
    "h = int(input(\"h = \"))\n",
    "a = [randint(1,9) for i in range(n)]   \n",
    "print(a)\n",
    "\n",
    "while k<h:\n",
    "    k += 1; h -= 1 \n",
    "    a[k],a[h] = a[h],a[k]\n",
    "    \n",
    "print(a)"
   ]
  },
  {
   "cell_type": "code",
   "execution_count": 34,
   "id": "3173d3b8",
   "metadata": {},
   "outputs": [
    {
     "name": "stdout",
     "output_type": "stream",
     "text": [
      "n = 6\n",
      "a = 5\n",
      "a = 6\n",
      "a = 2\n",
      "a = 3\n",
      "a = 8\n",
      "a = 12\n",
      "[5, 6, 2, 3, 8, 12]\n",
      "[5, 6, 2, 0, 0, 12]\n"
     ]
    }
   ],
   "source": [
    "#Array74\n",
    "from random import randint\n",
    "n = int(input(\"n = \"))\n",
    "a = [int(input(\"a = \")) for i in range(n)]\n",
    "print(a)\n",
    "kottasi = max(a)\n",
    "kichigi = min(a)\n",
    "for i in range(n):\n",
    "    if a.index(kichigi)<i<a.index(kottasi):\n",
    "        a[i] = 0\n",
    "print(a)"
   ]
  },
  {
   "cell_type": "code",
   "execution_count": 15,
   "id": "11998622",
   "metadata": {},
   "outputs": [
    {
     "name": "stdout",
     "output_type": "stream",
     "text": [
      "[1, -18, -14, 19, 20, -3, -2]\n",
      "1\n",
      "4\n",
      "[1, 20, 19, -14, -18, -3, -2]\n"
     ]
    }
   ],
   "source": [
    "#Array75 1-usul\n",
    "a = [5,-1,7,1,2,0,6,4,9,3,12,8,10] \n",
    "index1 = a.index(max(a))\n",
    "index2 = a.index(min(a))\n",
    "\n",
    "if index1>index2:\n",
    "    index1,index2=index2,index1\n",
    "d = index2-index1\n",
    "\n",
    "for _ in range((d+1)//2):\n",
    "    a[index1],a[index1+d] = a[index1+d],a[index1]\n",
    "    d -= 2\n",
    "    index1 += 1\n",
    "print(a)\n",
    "\n",
    "# Array 75 2-usul\n",
    "from random import randint\n",
    "a = list(set([randint(-20,20) for i in range(1,10)]))\n",
    "print(a)\n",
    "mi = a.index(min(a))\n",
    "print(mi)\n",
    "ma = a.index(max(a))\n",
    "print(ma)\n",
    "t = (1 if mi<ma else -1)\n",
    "a[mi:ma+t:t] = list(reversed(a[mi:ma+t:t]))\n",
    "print(a)"
   ]
  },
  {
   "cell_type": "code",
   "execution_count": 40,
   "id": "5d1b9b21",
   "metadata": {},
   "outputs": [
    {
     "name": "stdout",
     "output_type": "stream",
     "text": [
      "n = 10\n",
      "[8, 8, 2, 9, 2, 2, 8, 4, 8, 4]\n",
      "[8, 8, 2, 0, 2, 2, 0, 4, 0, 4]\n"
     ]
    }
   ],
   "source": [
    "#Array76\n",
    "from random import randint\n",
    "n = int(input(\"n = \"))\n",
    "a = [randint(1,9) for i in range(n)]    \n",
    "print(a)\n",
    "for i in range(1,n-1):\n",
    "    if a[i-1]<a[i]>a[i+1]:\n",
    "        a[i] = 0\n",
    "print(a)"
   ]
  },
  {
   "cell_type": "code",
   "execution_count": 18,
   "id": "7544cb75",
   "metadata": {},
   "outputs": [
    {
     "name": "stdout",
     "output_type": "stream",
     "text": [
      "n = 10\n",
      "[1, 4, 4, 8, 6, 4, 1, 7, 4, 7]\n",
      "[1, 4, 4, 8, 6, 4, 1, 7, 16, 7]\n"
     ]
    }
   ],
   "source": [
    "#Array77\n",
    "from random import randint\n",
    "n = int(input(\"n = \"))\n",
    "a = [randint(1,9) for i in range(n)]    \n",
    "print(a)\n",
    "x = a[0]\n",
    "for i in range(1,n-1):\n",
    "    if x>a[i]<a[i+1]:\n",
    "        x = a[i]\n",
    "        a[i] = a[i] ** 2\n",
    "        continue\n",
    "    x = a[i]\n",
    "print(a)"
   ]
  },
  {
   "cell_type": "code",
   "execution_count": 56,
   "id": "d6d41e09",
   "metadata": {},
   "outputs": [
    {
     "name": "stdout",
     "output_type": "stream",
     "text": [
      "n = 10\n",
      "[9, 7, 7, 2, 7, 4, 4, 5, 2, 2]\n",
      "[8.0, 7.0, 4.5, 4.5, 5.5, 4.0, 4.5, 3.5, 2.0, 5.0]\n"
     ]
    }
   ],
   "source": [
    "#Array78\n",
    "from random import randint\n",
    "n = int(input(\"n = \"))\n",
    "a = [randint(1,9) for i in range(n)]    \n",
    "print(a)\n",
    "for i in range(n):\n",
    "    if i==n-1:\n",
    "        a[i] = (a[i]+a[0])/2\n",
    "    else:\n",
    "        a[i] = (a[i]+a[i+1])/2\n",
    "print(a)"
   ]
  },
  {
   "cell_type": "code",
   "execution_count": 19,
   "id": "b56a7261",
   "metadata": {},
   "outputs": [
    {
     "name": "stdout",
     "output_type": "stream",
     "text": [
      "n = 10\n",
      "[9, 2, 1, 4, 4, 7, 8, 8, 9, 8]\n",
      "[0, 9, 2, 1, 4, 4, 7, 8, 8, 9]\n",
      "n = 10\n",
      "[2, 7, 4, 1, 3, 4, 2, 4, 1, 6]\n",
      "[0, 2, 7, 4, 1, 3, 4, 2, 4, 1]\n"
     ]
    }
   ],
   "source": [
    "#Array79 1-usul\n",
    "from random import randint\n",
    "n = int(input(\"n = \"))\n",
    "a = [randint(1,9) for i in range(n)]    \n",
    "print(a)\n",
    "for i in range(n-1,-1,-1):\n",
    "    a[i] = a[i-1]\n",
    "a[0] = 0\n",
    "print(a)\n",
    "\n",
    "#Array79 2-usul\n",
    "from random import randint\n",
    "n = int(input(\"n = \"))\n",
    "a = [randint(1,9) for i in range(n)]    \n",
    "print(a)\n",
    "a = [0] + a[:-1]\n",
    "print(a)"
   ]
  },
  {
   "cell_type": "code",
   "execution_count": 69,
   "id": "8b4a0b0a",
   "metadata": {
    "scrolled": true
   },
   "outputs": [
    {
     "name": "stdout",
     "output_type": "stream",
     "text": [
      "n = 10\n",
      "[9, 5, 4, 3, 4, 3, 9, 6, 2, 1]\n",
      "[5, 4, 3, 4, 3, 9, 6, 2, 1, 0]\n"
     ]
    }
   ],
   "source": [
    "#Array80\n",
    "from random import randint\n",
    "n = int(input(\"n = \"))\n",
    "a = [randint(1,9) for i in range(n)]    \n",
    "print(a)\n",
    "for i in range(n-1):\n",
    "    a[i] = a[i+1]\n",
    "a[-1] = 0\n",
    "print(a)"
   ]
  },
  {
   "cell_type": "code",
   "execution_count": 13,
   "id": "296a8200",
   "metadata": {},
   "outputs": [
    {
     "name": "stdout",
     "output_type": "stream",
     "text": [
      "n = 10\n",
      "k = 4\n",
      "[9, 2, 1, 2, 7, 3, 8, 4, 1, 2]\n",
      "[0, 0, 0, 0, 9, 2, 1, 2, 7, 3]\n"
     ]
    }
   ],
   "source": [
    "#Array81\n",
    "from random import randint\n",
    "n = int(input(\"n = \"))\n",
    "k = int(input(\"k = \"))\n",
    "a = [randint(1,9) for i in range(n)]    \n",
    "print(a)\n",
    "for i in range(n-1,-1,-1):\n",
    "    a[i] = a[i-k]\n",
    "for i in range(k):\n",
    "    a[i] = 0\n",
    "print(a)"
   ]
  },
  {
   "cell_type": "code",
   "execution_count": 11,
   "id": "cd803ff2",
   "metadata": {},
   "outputs": [
    {
     "name": "stdout",
     "output_type": "stream",
     "text": [
      "n = 10\n",
      "k = 3\n",
      "[9, 2, 4, 1, 4, 3, 5, 5, 8, 2]\n",
      "[1, 4, 3, 5, 5, 8, 2, 0, 0, 0]\n"
     ]
    }
   ],
   "source": [
    "#Array82\n",
    "from random import randint\n",
    "n = int(input(\"n = \"))\n",
    "k = int(input(\"k = \"))\n",
    "a = [randint(1,9) for i in range(n)]    \n",
    "print(a)\n",
    "x = 0\n",
    "for i in range(k,n):\n",
    "    a[x] = a[i]\n",
    "    x += 1\n",
    "for j in range(n-k,n):\n",
    "    a[j] = 0\n",
    "print(a)"
   ]
  },
  {
   "cell_type": "code",
   "execution_count": 21,
   "id": "29d7812a",
   "metadata": {},
   "outputs": [
    {
     "name": "stdout",
     "output_type": "stream",
     "text": [
      "n = 10\n",
      "[8, 4, 3, 3, 9, 3, 5, 9, 3, 6]\n",
      "[6, 8, 4, 3, 3, 9, 3, 5, 9, 3]\n",
      "n = 10\n",
      "[1, 6, 9, 4, 3, 1, 7, 7, 5, 4]\n",
      "[4, 1, 6, 9, 4, 3, 1, 7, 7, 5]\n",
      "n = 10\n",
      "[8, 4, 6, 6, 7, 7, 7, 7, 2, 2]\n",
      "[2, 8, 4, 6, 6, 7, 7, 7, 7, 2]\n"
     ]
    }
   ],
   "source": [
    "#Array83 1-usul\n",
    "from random import randint\n",
    "n = int(input(\"n = \"))\n",
    "a = [randint(1,9) for i in range(n)]    \n",
    "print(a)\n",
    "k = a[-1]\n",
    "for i in range(n-1,-1,-1):\n",
    "    a[i] = a[i-1]\n",
    "a[0] = k\n",
    "print(a)\n",
    "\n",
    "#Array83 2-usul\n",
    "from random import randint\n",
    "n = int(input(\"n = \"))\n",
    "a = [randint(1,9) for i in range(n)]    \n",
    "print(a)\n",
    "a = [a[-1]] + a[:-1]\n",
    "print(a)\n",
    "\n",
    "#Array83 3-usul\n",
    "from random import randint\n",
    "n = int(input(\"n = \"))\n",
    "a = [randint(1,9) for i in range(n)]    \n",
    "print(a)\n",
    "a = a[-1:-2:-1] + a[:-1]\n",
    "print(a)"
   ]
  },
  {
   "cell_type": "code",
   "execution_count": 75,
   "id": "43757e8a",
   "metadata": {},
   "outputs": [
    {
     "name": "stdout",
     "output_type": "stream",
     "text": [
      "n = 10\n",
      "[7, 8, 3, 6, 8, 6, 1, 2, 3, 8]\n",
      "[8, 3, 6, 8, 6, 1, 2, 3, 8, 7]\n"
     ]
    }
   ],
   "source": [
    "#Array84\n",
    "from random import randint\n",
    "n = int(input(\"n = \"))\n",
    "a = [randint(1,9) for i in range(n)]    \n",
    "print(a)\n",
    "k = a[0]\n",
    "for i in range(n-1):\n",
    "    a[i] = a[i+1]\n",
    "a[-1] = k\n",
    "print(a)"
   ]
  },
  {
   "cell_type": "code",
   "execution_count": 64,
   "id": "46818ea7",
   "metadata": {},
   "outputs": [
    {
     "name": "stdout",
     "output_type": "stream",
     "text": [
      "n = 10\n",
      "k = 4\n",
      "[1, 9, 3, 7, 7, 7, 7, 5, 1, 3]\n",
      "[7, 5, 1, 3, 1, 9, 3, 7, 7, 7]\n",
      "[3, 1, 5, 7]\n"
     ]
    }
   ],
   "source": [
    "#Array85\n",
    "from random import randint\n",
    "n = int(input(\"n = \"))\n",
    "k = int(input(\"k = \"))\n",
    "a = [randint(1,9) for i in range(n)]    \n",
    "print(a)\n",
    "m = 0\n",
    "b = a[:-5:-1]\n",
    "for i in range(n-1,-1,-1):\n",
    "    a[i] = a[i-k]\n",
    "for i in range(k-1,-1,-1):\n",
    "    a[m] = b[i]\n",
    "    m+=1\n",
    "print(a)"
   ]
  },
  {
   "cell_type": "code",
   "execution_count": 5,
   "id": "c61d4980",
   "metadata": {},
   "outputs": [
    {
     "name": "stdout",
     "output_type": "stream",
     "text": [
      "n = 10\n",
      "k = 4\n",
      "[5, 2, 6, 5, 6, 6, 1, 4, 1, 6]\n",
      "[6, 6, 1, 4, 1, 6, 5, 2, 6, 5]\n",
      "n = 10\n",
      "k = 4\n",
      "[3, 7, 6, 8, 2, 4, 5, 5, 9, 2]\n",
      "[2, 4, 5, 5, 9, 2, 3, 7, 6, 8]\n"
     ]
    }
   ],
   "source": [
    "#Array86 1-usul\n",
    "from random import randint\n",
    "n = int(input(\"n = \"))\n",
    "k = int(input(\"k = \"))\n",
    "a = [randint(1,9) for i in range(n)]    \n",
    "print(a)\n",
    "b = a[:4]\n",
    "x = 0\n",
    "y = 0\n",
    "for i in range(k,n):\n",
    "    a[x] = a[i]\n",
    "    x += 1\n",
    "for j in range(n-k,n):\n",
    "    a[j] = b[y]\n",
    "    y += 1\n",
    "print(a)\n",
    "\n",
    "#Array86 2-usul\n",
    "from random import randint\n",
    "n = int(input(\"n = \"))\n",
    "k = int(input(\"k = \"))\n",
    "a = [randint(1,9) for i in range(n)]    \n",
    "print(a)\n",
    "a = a[k:] + a[:k]\n",
    "print(a)"
   ]
  },
  {
   "cell_type": "code",
   "execution_count": 87,
   "id": "6051a40a",
   "metadata": {},
   "outputs": [
    {
     "name": "stdout",
     "output_type": "stream",
     "text": [
      "[3, 5, 8, 9, 12, 20, 21, 22, 34, 90]\n"
     ]
    }
   ],
   "source": [
    "#Array87\n",
    "a = [21,3,5,8,9,12,20,22,34,90]\n",
    "for i in range(1,len(a)-1):\n",
    "    if a[i]<a[0]<a[i+1]:\n",
    "        a.insert(i,a.pop(0))\n",
    "print(a)"
   ]
  },
  {
   "cell_type": "code",
   "execution_count": 105,
   "id": "5194db16",
   "metadata": {},
   "outputs": [
    {
     "name": "stdout",
     "output_type": "stream",
     "text": [
      "[3, 5, 8, 9, 12, 13, 15, 20, 22, 34, 90]\n"
     ]
    }
   ],
   "source": [
    "#Array88\n",
    "a = [3,5,8,9,12,13,20,22,34,90,15]\n",
    "for i in range(len(a)-1):\n",
    "    if a[i]<a[-1]<a[i+1]:\n",
    "        a.insert(i+1,a.pop(-1))\n",
    "print(a)"
   ]
  },
  {
   "cell_type": "code",
   "execution_count": 36,
   "id": "fdcc9825",
   "metadata": {},
   "outputs": [
    {
     "name": "stdout",
     "output_type": "stream",
     "text": [
      "[5, 8, 9, 12, 13, 20, 22, 34, 90, 100]\n"
     ]
    }
   ],
   "source": [
    "#Array89 \n",
    "a = [5,8,9,12,13,20,100,22,34,90]\n",
    "for i in range(1,len(a)-1):\n",
    "    if (a[i-1]>a[i]<a[i+1] or a[i-1]<a[i]>a[i+1]) and (a[i-1]<a[i+1]):\n",
    "        k = a.pop(i)\n",
    "        break\n",
    "for i in range(len(a)-1):\n",
    "    if a[i]<k<a[i+1]:\n",
    "        print(k)\n",
    "        a.insert(i+1,k)\n",
    "        break\n",
    "else:\n",
    "    if a[-1]<k:\n",
    "        a.append(k)\n",
    "    else:\n",
    "        a.insert(0,k)\n",
    "print(a)"
   ]
  },
  {
   "cell_type": "markdown",
   "id": "938db4ef",
   "metadata": {},
   "source": [
    "### 5.Massivga element qo'shish va o'chirish"
   ]
  },
  {
   "cell_type": "code",
   "execution_count": 174,
   "id": "0d166021",
   "metadata": {},
   "outputs": [
    {
     "name": "stdout",
     "output_type": "stream",
     "text": [
      "n = 10\n",
      "k = 3\n",
      "[3, 6, 8, 2, 7, 1, 7, 6, 2, 7]\n",
      "[3, 6, 8, 7, 1, 7, 6, 2, 7]\n"
     ]
    }
   ],
   "source": [
    "#Array90\n",
    "from random import randint\n",
    "n = int(input(\"n = \"))\n",
    "k = int(input('k = '))\n",
    "a = [randint(1,9) for i in range(n)]    \n",
    "print(a)\n",
    "del a[k]\n",
    "print(a)"
   ]
  },
  {
   "cell_type": "code",
   "execution_count": 11,
   "id": "79773a2a",
   "metadata": {},
   "outputs": [
    {
     "name": "stdout",
     "output_type": "stream",
     "text": [
      "n = 10\n",
      "k = 2\n",
      "m = 6\n",
      "[2, 6, 5, 6, 3, 7, 5, 2, 7, 7]\n",
      "[2, 6, 5, 2, 7, 7]\n"
     ]
    }
   ],
   "source": [
    "#Array91\n",
    "from random import randint\n",
    "n = int(input(\"n = \"))\n",
    "k = int(input('k = '))\n",
    "m = int(input('m = '))\n",
    "a = [randint(1,9) for i in range(n)]    \n",
    "print(a)\n",
    "for _ in range(k,m):\n",
    "    a.remove(a[k])\n",
    "print(a)"
   ]
  },
  {
   "cell_type": "code",
   "execution_count": 18,
   "id": "8532173f",
   "metadata": {},
   "outputs": [
    {
     "name": "stdout",
     "output_type": "stream",
     "text": [
      "n = 10\n",
      "[4, 5, 8, 6, 7, 8, 2, 8, 5, 6]\n",
      "7 ta\n",
      "[4, 8, 6, 8, 2, 8, 6]\n"
     ]
    }
   ],
   "source": [
    "#Array92\n",
    "from random import randint\n",
    "n = int(input(\"n = \"))\n",
    "a = [randint(1,9) for i in range(n)]    \n",
    "print(a)\n",
    "i = 0\n",
    "while i < len(a): \n",
    "    if a[i]%2==1:\n",
    "        del a[i]\n",
    "    else:\n",
    "        i += 1\n",
    "print(len(a),\"ta\")\n",
    "print(a)"
   ]
  },
  {
   "cell_type": "code",
   "execution_count": 2,
   "id": "da62dd10",
   "metadata": {},
   "outputs": [
    {
     "name": "stdout",
     "output_type": "stream",
     "text": [
      "n = 10\n",
      "[9, 2, 1, 7, 4, 6, 9, 3, 1, 1]\n",
      "5 ta\n",
      "[2, 7, 6, 3, 1]\n",
      "n = 10\n",
      "[8, 1, 2, 7, 6, 6, 2, 8, 3, 4]\n",
      "5 ta\n",
      "[1, 7, 6, 8, 4]\n"
     ]
    }
   ],
   "source": [
    "#Array93 1-usul\n",
    "from random import randint\n",
    "n = int(input(\"n = \"))\n",
    "a = [randint(1,9) for i in range(n)]    \n",
    "print(a)\n",
    "i = 0\n",
    "while i < len(a):\n",
    "    del a[i]\n",
    "    i += 1\n",
    "print(len(a),\"ta\")\n",
    "print(a)\n",
    "\n",
    "#Array93 2-usul\n",
    "from random import randint\n",
    "n = int(input(\"n = \"))\n",
    "a = [randint(1,9) for i in range(n)]    \n",
    "print(a)\n",
    "del a[::2]\n",
    "print(len(a),\"ta\")\n",
    "print(a)"
   ]
  },
  {
   "cell_type": "code",
   "execution_count": 3,
   "id": "6d16d6c0",
   "metadata": {},
   "outputs": [
    {
     "name": "stdout",
     "output_type": "stream",
     "text": [
      "n = 10\n",
      "[9, 1, 5, 9, 6, 2, 6, 6, 4, 7]\n",
      "5 ta\n",
      "[9, 5, 6, 6, 4]\n",
      "n = 10\n",
      "[6, 5, 3, 3, 6, 5, 4, 3, 2, 2]\n",
      "5 ta\n",
      "[6, 3, 6, 4, 2]\n"
     ]
    }
   ],
   "source": [
    "#Array94 1-usul\n",
    "from random import randint\n",
    "n = int(input(\"n = \"))\n",
    "a = [randint(1,9) for i in range(n)]    \n",
    "print(a)\n",
    "i = 1\n",
    "while i < len(a):\n",
    "    del a[i]\n",
    "    i += 1\n",
    "print(len(a),\"ta\")\n",
    "print(a)\n",
    "\n",
    "#Array94 2-usul\n",
    "from random import randint\n",
    "n = int(input(\"n = \"))\n",
    "a = [randint(1,9) for i in range(n)]    \n",
    "print(a)\n",
    "del a[1::2]\n",
    "print(len(a),\"ta\")\n",
    "print(a)"
   ]
  },
  {
   "cell_type": "code",
   "execution_count": 8,
   "id": "f1190146",
   "metadata": {},
   "outputs": [
    {
     "name": "stdout",
     "output_type": "stream",
     "text": [
      "n = 10\n",
      "[9, 1, 5, 6, 2, 8, 8, 2, 3, 4]\n",
      "9 ta\n",
      "[9, 1, 5, 6, 2, 8, 2, 3, 4]\n"
     ]
    }
   ],
   "source": [
    "#Array95\n",
    "from random import randint\n",
    "n = int(input(\"n = \"))\n",
    "a = [randint(1,9) for i in range(n)]    \n",
    "print(a)\n",
    "i = 0\n",
    "while i < len(a)-1:\n",
    "    if a[i]==a[i+1]:\n",
    "        del a[i]\n",
    "    else:\n",
    "        i += 1\n",
    "print(len(a),\"ta\")\n",
    "print(a)"
   ]
  },
  {
   "cell_type": "code",
   "execution_count": 9,
   "id": "8d2961ef",
   "metadata": {},
   "outputs": [
    {
     "name": "stdout",
     "output_type": "stream",
     "text": [
      "n = 10\n",
      "[2, 5, 1, 5, 1, 9, 3, 4, 9, 9]\n",
      "[2, 5, 1, 9, 3, 4]\n"
     ]
    }
   ],
   "source": [
    "#Array96\n",
    "from random import randint\n",
    "n = int(input(\"n = \"))\n",
    "a = [randint(1,9) for i in range(n)]\n",
    "print(a)\n",
    "i = 0\n",
    "while i<len(a):\n",
    "    if a.count(a[i])>1:\n",
    "        x = a[i]\n",
    "        for _ in range(a.count(a[i])):\n",
    "            a.remove(x)\n",
    "        a.insert(i,x)\n",
    "    i += 1\n",
    "print(a)"
   ]
  },
  {
   "cell_type": "code",
   "execution_count": 21,
   "id": "3990a6f3",
   "metadata": {},
   "outputs": [
    {
     "name": "stdout",
     "output_type": "stream",
     "text": [
      "n = 10\n",
      "[8, 8, 1, 6, 2, 5, 3, 8, 3, 6]\n",
      "[1, 2, 5, 8, 3, 6]\n"
     ]
    }
   ],
   "source": [
    "#Array97\n",
    "from random import randint\n",
    "n = int(input(\"n = \"))\n",
    "a = [randint(1,9) for i in range(n)]\n",
    "print(a)\n",
    "i = 0\n",
    "while i<len(a):\n",
    "    if a.count(a[i])>1:\n",
    "        x = a[i]\n",
    "        for _ in range(a.count(a[i])-1):\n",
    "            a.remove(x)\n",
    "    i += 1\n",
    "print(a)"
   ]
  },
  {
   "cell_type": "code",
   "execution_count": 26,
   "id": "e860b96e",
   "metadata": {},
   "outputs": [
    {
     "name": "stdout",
     "output_type": "stream",
     "text": [
      "n = 10\n",
      "[1, 4, 6, 9, 6, 4, 9, 6, 1, 6]\n",
      "soni 4 ta\n",
      "[6, 6, 6, 6]\n"
     ]
    }
   ],
   "source": [
    "#Array98\n",
    "from random import randint\n",
    "n = int(input(\"n = \"))\n",
    "a = [randint(1,9) for i in range(n)]\n",
    "print(a)\n",
    "i = 0\n",
    "while i<len(a):\n",
    "    if a.count(a[i])<3:\n",
    "        x = a[i]\n",
    "        for _ in range(a.count(a[i])):\n",
    "            a.remove(x)\n",
    "    else:\n",
    "        i += 1\n",
    "print(\"soni\",len(a),'ta')\n",
    "print(a)"
   ]
  },
  {
   "cell_type": "code",
   "execution_count": 28,
   "id": "0dbff059",
   "metadata": {},
   "outputs": [
    {
     "name": "stdout",
     "output_type": "stream",
     "text": [
      "n = 10\n",
      "[9, 9, 6, 6, 8, 8, 5, 9, 2, 3]\n",
      "soni 7 ta\n",
      "[6, 6, 8, 8, 5, 2, 3]\n"
     ]
    }
   ],
   "source": [
    "#Array99\n",
    "from random import randint\n",
    "n = int(input(\"n = \"))\n",
    "a = [randint(1,9) for i in range(n)]\n",
    "print(a)\n",
    "i = 0\n",
    "while i<len(a):\n",
    "    if a.count(a[i])>2:\n",
    "        x = a[i]\n",
    "        for _ in range(a.count(a[i])):\n",
    "            a.remove(x)\n",
    "    else:\n",
    "        i += 1\n",
    "print(\"soni\",len(a),'ta')\n",
    "print(a)"
   ]
  },
  {
   "cell_type": "code",
   "execution_count": 31,
   "id": "7175034e",
   "metadata": {},
   "outputs": [
    {
     "name": "stdout",
     "output_type": "stream",
     "text": [
      "n = 10\n",
      "[5, 1, 1, 7, 8, 6, 7, 9, 9, 4]\n",
      "soni 4 ta\n",
      "[5, 8, 6, 4]\n"
     ]
    }
   ],
   "source": [
    "#Array100\n",
    "from random import randint\n",
    "n = int(input(\"n = \"))\n",
    "a = [randint(1,9) for i in range(n)]\n",
    "print(a)\n",
    "i = 0\n",
    "while i<len(a):\n",
    "    if a.count(a[i])==2:\n",
    "        x = a[i]\n",
    "        for _ in range(a.count(a[i])):\n",
    "            a.remove(x)\n",
    "    else:\n",
    "        i += 1\n",
    "print(\"soni\",len(a),'ta')\n",
    "print(a)"
   ]
  },
  {
   "cell_type": "code",
   "execution_count": 33,
   "id": "36b02a92",
   "metadata": {},
   "outputs": [
    {
     "name": "stdout",
     "output_type": "stream",
     "text": [
      "n = 12\n",
      "k = 5\n",
      "[8, 8, 6, 5, 4, 7, 9, 3, 6, 4, 1, 5]\n",
      "[8, 8, 6, 5, 0, 4, 7, 9, 3, 6, 4, 1, 5]\n"
     ]
    }
   ],
   "source": [
    "#Array101\n",
    "from random import randint\n",
    "n = int(input(\"n = \"))\n",
    "k = int(input(\"k = \"))\n",
    "a = [randint(1,9) for i in range(n)]\n",
    "print(a)\n",
    "a.insert(k-1,0)\n",
    "print(a)   "
   ]
  },
  {
   "cell_type": "code",
   "execution_count": 34,
   "id": "f225a76c",
   "metadata": {},
   "outputs": [
    {
     "name": "stdout",
     "output_type": "stream",
     "text": [
      "n = 10\n",
      "k = 6\n",
      "[2, 4, 3, 5, 1, 9, 1, 2, 4, 7]\n",
      "[2, 4, 3, 5, 1, 9, 1, 0, 2, 4, 7]\n"
     ]
    }
   ],
   "source": [
    "#Array102\n",
    "from random import randint\n",
    "n = int(input(\"n = \"))\n",
    "k = int(input(\"k = \"))\n",
    "a = [randint(1,9) for i in range(n)]\n",
    "print(a)\n",
    "a.insert(k+1,0)\n",
    "print(a)  "
   ]
  },
  {
   "cell_type": "code",
   "execution_count": 40,
   "id": "2add9d5b",
   "metadata": {},
   "outputs": [
    {
     "name": "stdout",
     "output_type": "stream",
     "text": [
      "n = 12\n",
      "[3, 3, 2, 7, 6, 5, 1, 1, 6, 3, 5, 9]\n",
      "[3, 3, 2, 7, 6, 5, 0, 1, 1, 6, 3, 5, 9, 0]\n"
     ]
    }
   ],
   "source": [
    "#Array103\n",
    "from random import randint\n",
    "n = int(input(\"n = \"))\n",
    "a = [randint(1,9) for i in range(n)]\n",
    "print(a)\n",
    "a.insert(a.index(min(a)),0)\n",
    "a.insert(a.index(max(a))+1,0)\n",
    "print(a)  "
   ]
  },
  {
   "cell_type": "code",
   "execution_count": 19,
   "id": "1217345d",
   "metadata": {},
   "outputs": [
    {
     "name": "stdout",
     "output_type": "stream",
     "text": [
      "n = 10\n",
      "k = 2\n",
      "m = 3\n",
      "[5, 4, 4, 1, 8, 1, 6, 4, 6, 2]\n",
      "[5, 4, 4, 1, 8, 1, 6, 4, 6, 0, 0, 0, 2]\n"
     ]
    }
   ],
   "source": [
    "#Array104\n",
    "from random import randint\n",
    "n = int(input(\"n = \"))\n",
    "k = int(input(\"k = \"))\n",
    "m = int(input(\"m = \"))\n",
    "a = [randint(1,9) for i in range(n)]\n",
    "print(a)\n",
    "i = 0\n",
    "while i<len(a):\n",
    "    if a[i]==k:\n",
    "        for j in range(m):\n",
    "            a.insert(i,0)\n",
    "        i+=m\n",
    "    i += 1\n",
    "print(a)"
   ]
  },
  {
   "cell_type": "code",
   "execution_count": 45,
   "id": "ffa9c510",
   "metadata": {
    "scrolled": true
   },
   "outputs": [
    {
     "name": "stdout",
     "output_type": "stream",
     "text": [
      "n = 10\n",
      "k = 2\n",
      "m = 5\n",
      "[3, 9, 4, 3, 7, 7, 1, 9, 8, 7]\n",
      "[3, 9, 4, 0, 0, 0, 0, 0, 3, 7, 7, 1, 9, 8, 7]\n"
     ]
    }
   ],
   "source": [
    "#Array105\n",
    "from random import randint\n",
    "n = int(input(\"n = \"))\n",
    "k = int(input(\"k = \"))\n",
    "m = int(input(\"m = \"))\n",
    "a = [randint(1,9) for i in range(n)]\n",
    "print(a)\n",
    "for i in range(m):\n",
    "    a.insert(k+1,0)\n",
    "print(a)"
   ]
  },
  {
   "cell_type": "code",
   "execution_count": 49,
   "id": "cda57694",
   "metadata": {},
   "outputs": [
    {
     "name": "stdout",
     "output_type": "stream",
     "text": [
      "n = 12\n",
      "[6, 5, 1, 6, 4, 7, 1, 3, 2, 1, 6, 4]\n",
      "[6, 5, 1, 6, 4, 7, 1, 3, 2, 1, 6, 4, 6, 1, 4, 1, 2, 6]\n"
     ]
    }
   ],
   "source": [
    "#Array106\n",
    "from random import randint\n",
    "n = int(input(\"n = \"))\n",
    "a = [randint(1,9) for i in range(n)]\n",
    "print(a)\n",
    "for i in range(0,len(a),2):\n",
    "    a.append(a[i])\n",
    "print(a)"
   ]
  },
  {
   "cell_type": "code",
   "execution_count": 50,
   "id": "fa7925d8",
   "metadata": {},
   "outputs": [
    {
     "name": "stdout",
     "output_type": "stream",
     "text": [
      "n = 10\n",
      "[4, 6, 7, 4, 7, 1, 2, 7, 9, 3]\n",
      "[4, 6, 7, 4, 7, 1, 2, 7, 9, 3, 6, 6, 4, 4, 1, 1, 7, 7, 3, 3]\n"
     ]
    }
   ],
   "source": [
    "#Array107\n",
    "from random import randint\n",
    "n = int(input(\"n = \"))\n",
    "a = [randint(1,9) for i in range(n)]\n",
    "print(a)\n",
    "for i in range(1,len(a),2):\n",
    "    a.append(a[i])\n",
    "    a.append(a[i])\n",
    "print(a)"
   ]
  },
  {
   "cell_type": "code",
   "execution_count": 68,
   "id": "8b901a08",
   "metadata": {},
   "outputs": [
    {
     "name": "stdout",
     "output_type": "stream",
     "text": [
      "n = 10\n",
      "[5, 4, -3, -5, 3, 0, -1, 4, -3, 8]\n",
      "[0, 5, 0, 4, -3, -5, 0, 3, 0, -1, 0, 4, -3, 0, 8]\n"
     ]
    }
   ],
   "source": [
    "#Array108\n",
    "from random import randint\n",
    "n = int(input(\"n = \"))\n",
    "a = [randint(-6,9) for i in range(n)]  \n",
    "print(a)\n",
    "i = 0\n",
    "while i<len(a):\n",
    "    if a[i]>0:\n",
    "        a.insert(i,0)\n",
    "        i += 2\n",
    "    else:\n",
    "        i += 1\n",
    "print(a)"
   ]
  },
  {
   "cell_type": "code",
   "execution_count": 65,
   "id": "47509562",
   "metadata": {},
   "outputs": [
    {
     "name": "stdout",
     "output_type": "stream",
     "text": [
      "n = 10\n",
      "[6, 5, -1, 9, 5, 5, -2, -1, 7, -6]\n",
      "[6, 5, -1, 0, 9, 5, 5, -2, 0, -1, 0, 7, -6, 0]\n"
     ]
    }
   ],
   "source": [
    "#Array109\n",
    "from random import randint\n",
    "n = int(input(\"n = \"))\n",
    "a = [randint(-6,9) for i in range(n)] \n",
    "print(a)\n",
    "i = 0\n",
    "while i<len(a):\n",
    "    if a[i]<0:\n",
    "        a.insert(i+1,0)\n",
    "    i += 1\n",
    "print(a)"
   ]
  },
  {
   "cell_type": "code",
   "execution_count": 69,
   "id": "3f93f9c9",
   "metadata": {},
   "outputs": [
    {
     "name": "stdout",
     "output_type": "stream",
     "text": [
      "n = 10\n",
      "[5, 8, 7, 5, 7, 1, 1, 7, 4, 4]\n",
      "[5, 8, 7, 5, 7, 1, 1, 7, 4, 4, 8, 4, 4]\n"
     ]
    }
   ],
   "source": [
    "#Array110\n",
    "from random import randint\n",
    "n = int(input(\"n = \"))\n",
    "a = [randint(1,9) for i in range(n)]\n",
    "print(a)\n",
    "for i in range(len(a)):\n",
    "    if a[i]%2==0:\n",
    "        a.append(a[i])\n",
    "print(a)"
   ]
  },
  {
   "cell_type": "code",
   "execution_count": 70,
   "id": "cb302b48",
   "metadata": {},
   "outputs": [
    {
     "name": "stdout",
     "output_type": "stream",
     "text": [
      "n = 10\n",
      "[9, 3, 8, 8, 2, 2, 5, 9, 3, 1]\n",
      "[9, 3, 8, 8, 2, 2, 5, 9, 3, 1, 9, 9, 3, 3, 5, 5, 9, 9, 3, 3, 1, 1]\n"
     ]
    }
   ],
   "source": [
    "#Array111\n",
    "from random import randint\n",
    "n = int(input(\"n = \"))\n",
    "a = [randint(1,9) for i in range(n)]\n",
    "print(a)\n",
    "for i in range(len(a)):\n",
    "    if a[i]%2==1:\n",
    "        a.append(a[i])\n",
    "        a.append(a[i])\n",
    "print(a)"
   ]
  },
  {
   "cell_type": "markdown",
   "id": "7a8ceb6c",
   "metadata": {},
   "source": [
    "### 6.Massivni saralash"
   ]
  },
  {
   "cell_type": "code",
   "execution_count": 21,
   "id": "14fd3f67",
   "metadata": {},
   "outputs": [
    {
     "name": "stdout",
     "output_type": "stream",
     "text": [
      "n = 10\n",
      "[7, 4, 5, 4, 6, 1, 9, 1, 1, 5]\n",
      "[1, 1, 1, 4, 4, 5, 5, 6, 7, 9]\n",
      "n = 10\n",
      "[7, 8, 9, 1, 1, 9, 5, 2, 5, 5]\n",
      "[1, 1, 2, 5, 5, 5, 7, 8, 9, 9]\n"
     ]
    }
   ],
   "source": [
    "#Array112 (Pufaksimon saralash) 1-usul\n",
    "from random import randint\n",
    "n = int(input(\"n = \"))\n",
    "a = [randint(1,9) for i in range(n)]\n",
    "print(a)\n",
    "for _ in range(n):\n",
    "    for i in range(n-1):\n",
    "        if a[i]>a[i+1]:\n",
    "            a[i],a[i+1] = a[i+1],a[i]\n",
    "print(a)\n",
    "\n",
    "#Array112 (Pufaksimon saralash) 2-usul\n",
    "from random import randint\n",
    "n = int(input(\"n = \"))\n",
    "a = [randint(1,9) for i in range(n)]\n",
    "print(a)\n",
    "for i in range(n-1):\n",
    "    for j in range(n-1-i):\n",
    "        if a[j]>a[j+1]:\n",
    "            a[j],a[j+1] = a[j+1],a[j]\n",
    "print(a)"
   ]
  },
  {
   "cell_type": "code",
   "execution_count": 26,
   "id": "67e2bd4a",
   "metadata": {},
   "outputs": [
    {
     "name": "stdout",
     "output_type": "stream",
     "text": [
      "n = 10\n",
      "[-1, 5, -2, 0, 4, -4, -2, 4, -4, -4]\n",
      "[-4, -4, -4, -2, -2, -1, 0, 4, 4, 5]\n"
     ]
    }
   ],
   "source": [
    "#Array113 Oddiy tanlash(selection sort)\n",
    "from random import randint\n",
    "n = int(input(\"n = \"))\n",
    "a = [randint(-5,5) for i in range(n)]  \n",
    "print(a)\n",
    "for i in range(n):\n",
    "    mini = a[i]\n",
    "    index = i\n",
    "    for j in range(i+1,n):\n",
    "        if mini>a[j]:\n",
    "            mini = a[j]\n",
    "            index = j\n",
    "    a[i],a[index] = a[index],a[i]\n",
    "print(a)"
   ]
  },
  {
   "cell_type": "code",
   "execution_count": 54,
   "id": "14c24667",
   "metadata": {},
   "outputs": [
    {
     "name": "stdout",
     "output_type": "stream",
     "text": [
      "n = 15\n",
      "[1, -3, -2, 5, 2, 2, -3, -2, 3, -1, 0, -2, -5, 3, 0]\n",
      "[-5, -3, -3, -2, -2, -2, -1, 0, 0, 1, 2, 2, 3, 3, 5]\n"
     ]
    }
   ],
   "source": [
    "#Array114 Oddiy qo'shish(insertion sort)\n",
    "from random import randint\n",
    "n = int(input(\"n = \"))\n",
    "a = [randint(-5,5) for i in range(n)]  \n",
    "print(a)\n",
    "for i in range(n):\n",
    "    for j in range(n):\n",
    "        if a[i]<a[j]:\n",
    "            a.insert(j,a.pop(i))\n",
    "print(a)"
   ]
  },
  {
   "cell_type": "code",
   "execution_count": 1,
   "id": "e874a711",
   "metadata": {},
   "outputs": [
    {
     "name": "stdout",
     "output_type": "stream",
     "text": [
      "n = 10\n",
      "[6, 9, 8, 8, 9, 6, 3, 5, 8, 2]\n",
      "[0, 1, 2, 3, 4, 5, 6, 7, 8, 9]\n",
      "[9, 6, 7, 0, 5, 2, 3, 8, 1, 4]\n",
      "[6, 9, 8, 8, 9, 6, 3, 5, 8, 2]\n"
     ]
    }
   ],
   "source": [
    "#Array115 1-usul\n",
    "from random import randint\n",
    "n = int(input(\"n = \"))\n",
    "a = [randint(-5,10) for i in range(n)]\n",
    "b = a.copy()\n",
    "print(a)\n",
    "index = list(range(n))\n",
    "for _ in range(n):\n",
    "    for i in range(n-1):\n",
    "        if b[i]>b[i+1]:\n",
    "            b[i],b[i+1] = b[i+1],b[i]\n",
    "            index[i],index[i+1] = index[i+1],index[i]\n",
    "print(a)\n",
    "print(index)\n",
    "\n",
    "#Array115 2-usul\n",
    "from random import randint\n",
    "n = int(input(\"n = \"))\n",
    "a = [randint(1,9) for i in range(n)]\n",
    "print(a)\n",
    "b = [i for i in range(n)]\n",
    "print(b)\n",
    "for i in range(1,n):\n",
    "    for j in range(0,n-i):\n",
    "        if a[b[j]]>a[b[j+1]]:\n",
    "            b[j],b[j+1] = b[j+1],b[j]     \n",
    "print(b)\n",
    "print(a)"
   ]
  },
  {
   "cell_type": "markdown",
   "id": "38359cb8",
   "metadata": {},
   "source": [
    "### 7.Butun sonlar seriyasi"
   ]
  },
  {
   "cell_type": "code",
   "execution_count": 32,
   "id": "f498a872",
   "metadata": {},
   "outputs": [
    {
     "name": "stdout",
     "output_type": "stream",
     "text": [
      "n = 10\n",
      "[1, 1, 2, 0, 1, 1, 0, 0, 0, 2]\n",
      "B = [2, 1, 1, 2, 3, 1]\n",
      "C = [1, 2, 0, 1, 0, 2]\n"
     ]
    }
   ],
   "source": [
    "#Array116\n",
    "from random import randint\n",
    "n = int(input(\"n = \"))\n",
    "a = [randint(0,2) for i in range(n)]\n",
    "print(a)\n",
    "\n",
    "b = [] #Seriyalar soni\n",
    "c = [] #Seriyani tashkil qilgan elementlar\n",
    "x = a[0]\n",
    "\n",
    "b.append(1)\n",
    "c.append(x)\n",
    "\n",
    "k = 0\n",
    "for i in range(1,n):\n",
    "    if a[i]==x:\n",
    "        b[k] += 1\n",
    "    else:\n",
    "        x = a[i]\n",
    "        b.append(1)\n",
    "        c.append(x)\n",
    "        k += 1\n",
    "\n",
    "print(\"B =\",b)\n",
    "print(\"C =\",c)"
   ]
  },
  {
   "cell_type": "code",
   "execution_count": 10,
   "id": "fea47a42",
   "metadata": {},
   "outputs": [
    {
     "name": "stdout",
     "output_type": "stream",
     "text": [
      "n = 5\n",
      "[1, 2, 2, 5, 1]\n",
      "[0, 1, 0, 2, 2, 0, 5, 0, 1]\n"
     ]
    }
   ],
   "source": [
    "#Array117\n",
    "from random import randint\n",
    "n = int(input(\"n = \"))\n",
    "a = [randint(1,5) for i in range(n)]\n",
    "print(a)\n",
    "a.insert(0,0)\n",
    "i = 1\n",
    "while i<len(a)-1:\n",
    "    if a[i]!=a[i+1]:\n",
    "        a.insert(i+1,0)\n",
    "        i += 1\n",
    "    i += 1\n",
    "print(a)"
   ]
  },
  {
   "cell_type": "code",
   "execution_count": 15,
   "id": "3efb4f2a",
   "metadata": {},
   "outputs": [
    {
     "name": "stdout",
     "output_type": "stream",
     "text": [
      "n = 10\n",
      "[4, 1, 1, 4, 2, 1, 4, 2, 4, 4]\n",
      "[4, 0, 1, 1, 0, 4, 0, 2, 0, 1, 0, 4, 0, 2, 0, 4, 4, 0]\n"
     ]
    }
   ],
   "source": [
    "#Array118\n",
    "from random import randint\n",
    "n = int(input(\"n = \"))\n",
    "a = [randint(1,5) for i in range(n)]\n",
    "print(a)\n",
    "i = 0\n",
    "while i<len(a)-1:\n",
    "    if a[i]!=a[i+1]:\n",
    "        a.insert(i+1,0)\n",
    "        i += 1\n",
    "    i += 1\n",
    "a.append(0)\n",
    "print(a)"
   ]
  },
  {
   "cell_type": "code",
   "execution_count": 18,
   "id": "bd2292e4",
   "metadata": {},
   "outputs": [
    {
     "name": "stdout",
     "output_type": "stream",
     "text": [
      "n = 5\n",
      "[5, 1, 3, 5, 2]\n",
      "[5, 5, 1, 1, 3, 3, 5, 5, 2, 2]\n"
     ]
    }
   ],
   "source": [
    "#Array119\n",
    "from random import randint\n",
    "n = int(input(\"n = \"))\n",
    "a = [randint(1,5) for i in range(n)]\n",
    "print(a)\n",
    "i = 0\n",
    "while i<len(a)-1:\n",
    "    if a[i]!=a[i+1]:\n",
    "        a.insert(i+1,a[i])\n",
    "        i += 1\n",
    "    i += 1\n",
    "a.append(a[i])\n",
    "print(a)"
   ]
  },
  {
   "cell_type": "code",
   "execution_count": 39,
   "id": "e24d06dc",
   "metadata": {},
   "outputs": [
    {
     "name": "stdout",
     "output_type": "stream",
     "text": [
      "n = 10\n",
      "[4, 3, 3, 1, 4, 2, 5, 5, 5, 1]\n",
      "[3, 5, 5]\n"
     ]
    }
   ],
   "source": [
    "#Array120 \n",
    "from random import randint\n",
    "n = int(input(\"n = \"))\n",
    "a = [randint(1,5) for i in range(n)]\n",
    "print(a)\n",
    "i = 0\n",
    "while i<len(a)-1:\n",
    "    if a[i]!=a[i+1]:\n",
    "        a.pop(i)\n",
    "        continue\n",
    "    i += 1\n",
    "a.pop()\n",
    "print(a)"
   ]
  },
  {
   "cell_type": "code",
   "execution_count": 23,
   "id": "3555bd95",
   "metadata": {},
   "outputs": [
    {
     "name": "stdout",
     "output_type": "stream",
     "text": [
      "n = 10\n",
      "k = 2\n",
      "[2, 2, 5, 1, 1, 2, 3, 1, 3, 2]\n",
      "[2, 2, 5, 5, 1, 1, 2, 3, 1, 3, 2]\n",
      "n = 10\n",
      "k = 2\n",
      "[4, 5, 5, 4, 5, 4, 3, 5, 5, 3]\n",
      "[4, 5, 5, 5, 5, 4, 5, 4, 3, 5, 5, 3]\n"
     ]
    }
   ],
   "source": [
    "#Array121 1-usul\n",
    "from random import randint\n",
    "n = int(input(\"n = \"))\n",
    "k = int(input(\"k = \"))\n",
    "a = [randint(1,5) for i in range(n)]\n",
    "print(a)\n",
    "i = 0\n",
    "seriya = 1\n",
    "sanoq = 1\n",
    "while i<len(a)-1:\n",
    "    if a[i]!=a[i+1]:\n",
    "        seriya += 1\n",
    "        if seriya==k+1:\n",
    "            for _ in range(sanoq):\n",
    "                a.insert(i,a[i])\n",
    "            break\n",
    "        sanoq = 1\n",
    "    elif a[i]==a[i+1]:\n",
    "        sanoq += 1 \n",
    "    i += 1\n",
    "print(a)\n",
    "\n",
    "#Array121 2-usul\n",
    "from random import randint\n",
    "n = int(input(\"n = \"))\n",
    "k = int(input(\"k = \"))\n",
    "a = [randint(3,5) for i in range(n)]\n",
    "print(a)\n",
    "\n",
    "x = a[0]\n",
    "b = [x] #seriya qiymati\n",
    "c = [1] #seriyalar soni\n",
    "h = 0\n",
    "for i in range(1,n):\n",
    "    if a[i]==x:\n",
    "        c[h] += 1\n",
    "    else:\n",
    "        x = a[i]\n",
    "        b.append(x)\n",
    "        c.append(1)\n",
    "        h += 1\n",
    "c[k-1] *= 2\n",
    "a.clear()\n",
    "for i in range(len(c)):\n",
    "    for j in range(c[i]):\n",
    "        a.append(b[i])\n",
    "print(a)"
   ]
  },
  {
   "cell_type": "code",
   "execution_count": 18,
   "id": "877b15c6",
   "metadata": {},
   "outputs": [
    {
     "name": "stdout",
     "output_type": "stream",
     "text": [
      "n = 10\n",
      "k = 4\n",
      "[2, 1, 1, 3, 1, 4, 5, 5, 3, 2]\n",
      "[2, 1, 1, 3, 4, 5, 5, 3, 2]\n",
      "n = 10\n",
      "k = 4\n",
      "[4, 4, 5, 4, 3, 4, 5, 5, 4, 5]\n",
      "[4, 4, 5, 4, 4, 5, 5, 4, 5]\n"
     ]
    }
   ],
   "source": [
    "#Array122 1-usul\n",
    "from random import randint\n",
    "n = int(input(\"n = \"))\n",
    "k = int(input(\"k = \"))\n",
    "a = [randint(1,5) for i in range(n)]\n",
    "print(a)\n",
    "i = 0\n",
    "seriya = 1\n",
    "sanoq = 1\n",
    "index = 0\n",
    "while i<len(a)-1:\n",
    "    if a[i]!=a[i+1]:\n",
    "        seriya += 1\n",
    "        if seriya==k+1:\n",
    "            for _ in range(sanoq):\n",
    "                del a[index]\n",
    "            break\n",
    "        index = i+1\n",
    "        sanoq = 1\n",
    "    elif a[i]==a[i+1]:\n",
    "        sanoq += 1 \n",
    "    i += 1\n",
    "    \n",
    "if a[-1]==a[-2] and seriya == k:\n",
    "    for _ in range(sanoq):\n",
    "        del a[index]\n",
    "print(a)\n",
    "\n",
    "#Array122 2-usul\n",
    "from random import randint\n",
    "n = int(input(\"n = \"))\n",
    "k = int(input(\"k = \"))\n",
    "a = [randint(3,5) for i in range(n)]\n",
    "print(a)\n",
    "\n",
    "x = a[0]\n",
    "b = [x] #seriya qiymati\n",
    "c = [1] #seriyalar soni\n",
    "h = 0\n",
    "for i in range(1,n):\n",
    "    if a[i]==x:\n",
    "        c[h] += 1\n",
    "    else:\n",
    "        x = a[i]\n",
    "        b.append(x)\n",
    "        c.append(1)\n",
    "        h += 1\n",
    "del b[k-1]\n",
    "del c[k-1]\n",
    "a.clear()\n",
    "for i in range(len(c)):\n",
    "    for j in range(c[i]):\n",
    "        a.append(b[i])\n",
    "print(a)"
   ]
  },
  {
   "cell_type": "code",
   "execution_count": 17,
   "id": "935938e0",
   "metadata": {},
   "outputs": [
    {
     "name": "stdout",
     "output_type": "stream",
     "text": [
      "n=10\n",
      "k=5\n",
      "[1, 1, 1, 3, 1, 3, 1, 3, 2, 3]\n",
      "[1, 3, 1, 3, 1, 1, 1, 3, 2, 3]\n",
      "n = 10\n",
      "k = 5\n",
      "[5, 5, 4, 3, 3, 5, 4, 4, 5, 5]\n",
      "[4, 4, 4, 3, 3, 5, 5, 5, 5, 5]\n"
     ]
    }
   ],
   "source": [
    "#Array123 1-usul\n",
    "n = int(input('n='))\n",
    "k = int(input('k='))\n",
    "a = [randint(1,3) for i in range(n)]\n",
    "print(a)\n",
    "k-=1\n",
    "flag = True\n",
    "son = a[0]\n",
    "i = 0\n",
    "while i<len(a):\n",
    "    if a[i]!=son:\n",
    "        son = a[i]\n",
    "        if flag:\n",
    "            bir_massiv = a[:i]\n",
    "            bir_oxiri = i\n",
    "            flag = False\n",
    "        k -= 1\n",
    "    if k==0:\n",
    "        k_boshi = i\n",
    "        while a[i] == son:\n",
    "            k_oxiri = i\n",
    "            i += 1\n",
    "            if i>len(a)-1:\n",
    "                break\n",
    "        k_massiv = a[k_boshi:k_oxiri+1]\n",
    "        \n",
    "        del a[k_boshi:k_oxiri+1]\n",
    "        for i in range(len(bir_massiv)):\n",
    "            a.insert(k_boshi,bir_massiv[i])\n",
    "        \n",
    "        del a[:bir_oxiri]\n",
    "        for i in range(len(k_massiv)):\n",
    "            a.insert(0,k_massiv[i])\n",
    "        break\n",
    "    i += 1\n",
    "print(a)\n",
    "\n",
    "#Array123 2-usul\n",
    "from random import randint\n",
    "n = int(input(\"n = \"))\n",
    "k = int(input(\"k = \"))\n",
    "a = [randint(3,5) for i in range(n)]\n",
    "print(a)\n",
    "\n",
    "x = a[0]\n",
    "b = [x] #seriya qiymati\n",
    "c = [1] #seriyalar soni\n",
    "h = 0\n",
    "for i in range(1,n):\n",
    "    if a[i]==x:\n",
    "        c[h] += 1\n",
    "    else:\n",
    "        x = a[i]\n",
    "        b.append(x)\n",
    "        c.append(1)\n",
    "        h += 1\n",
    "b[k-1],b[0] = b[0],b[k-1]\n",
    "c[k-1],c[0] = c[0],c[k-1]\n",
    "a.clear()\n",
    "for i in range(len(c)):\n",
    "    for j in range(c[i]):\n",
    "        a.append(b[i])\n",
    "print(a)"
   ]
  },
  {
   "cell_type": "code",
   "execution_count": 16,
   "id": "d4deb943",
   "metadata": {},
   "outputs": [
    {
     "name": "stdout",
     "output_type": "stream",
     "text": [
      "n = 10\n",
      "k = 2\n",
      "[5, 3, 3, 5, 3, 5, 5, 3, 4, 3]\n",
      "[5, 3, 5, 3, 5, 5, 3, 4, 3, 3]\n",
      "n = 10\n",
      "k = 2\n",
      "[4, 3, 3, 3, 3, 3, 5, 3, 4, 5]\n",
      "[4, 5, 5, 3, 4, 3, 3, 3, 3, 3]\n"
     ]
    }
   ],
   "source": [
    "#Array124 1-usul\n",
    "from random import randint\n",
    "n = int(input(\"n = \"))\n",
    "k = int(input(\"k = \"))\n",
    "a = [randint(3,5) for i in range(n)]\n",
    "print(a)\n",
    "\n",
    "x = a[0]\n",
    "b = [x] #seriya qiymati\n",
    "c = [1] #seriyalar soni\n",
    "h = 0\n",
    "for i in range(1,n):\n",
    "    if a[i]==x:\n",
    "        c[h] += 1\n",
    "    else:\n",
    "        x = a[i]\n",
    "        b.append(x)\n",
    "        c.append(1)\n",
    "        h += 1\n",
    "a.clear()\n",
    "if k<len(c):\n",
    "    for j in range(len(c)-1):\n",
    "        if j!=k-1:\n",
    "            for _ in range(c[j]):\n",
    "                a.append(b[j])\n",
    "else:\n",
    "    for j in range(len(c)):\n",
    "        if j!=k-1:\n",
    "            for _ in range(c[j]):\n",
    "                a.append(b[j])\n",
    "if k<len(c):\n",
    "    for _ in range(c[k-1]):\n",
    "        a.append(b[k-1])\n",
    "    for _ in range(c[-1]):\n",
    "        a.insert(sum(c[:k-1]),b[-1])\n",
    "print(a)\n",
    "\n",
    "#Array124 2-usul\n",
    "from random import randint\n",
    "n = int(input(\"n = \"))\n",
    "k = int(input(\"k = \"))\n",
    "a = [randint(3,5) for i in range(n)]\n",
    "print(a)\n",
    "\n",
    "x = a[0]\n",
    "b = [x] #seriya qiymati\n",
    "c = [1] #seriyalar soni\n",
    "h = 0\n",
    "for i in range(1,n):\n",
    "    if a[i]==x:\n",
    "        c[h] += 1\n",
    "    else:\n",
    "        x = a[i]\n",
    "        b.append(x)\n",
    "        c.append(1)\n",
    "        h += 1\n",
    "b[k-1],b[-1] = b[-1],b[k-1]\n",
    "c[k-1],c[-1] = c[-1],c[k-1]\n",
    "a.clear()\n",
    "for i in range(len(c)):\n",
    "    for j in range(c[i]):\n",
    "        a.append(b[i])\n",
    "print(a)"
   ]
  },
  {
   "cell_type": "code",
   "execution_count": 21,
   "id": "6dd2991e",
   "metadata": {},
   "outputs": [
    {
     "name": "stdout",
     "output_type": "stream",
     "text": [
      "n=15\n",
      "k=3\n",
      "[1, 2, 3, 3, 3, 2, 2, 2, 1, 1, 3, 2, 1, 1, 1]\n",
      "[0, 0, 3, 3, 3, 2, 2, 2, 0, 0, 0, 1, 1, 1]\n"
     ]
    }
   ],
   "source": [
    "#Array125\n",
    "from random import randint\n",
    "n = int(input('n='))\n",
    "k = int(input('k='))\n",
    "a = [randint(1,3) for i in range(n)]\n",
    "print(a)\n",
    "x = a[0]\n",
    "b = [x] #seriya qiymati\n",
    "c = [1] #seriya uzunligi\n",
    "m = 0\n",
    "for i in range(1,len(a)):\n",
    "    if x==a[i]:\n",
    "        c[m] += 1\n",
    "    else:\n",
    "        x = a[i]\n",
    "        b.append(x)\n",
    "        c.append(1)\n",
    "        m += 1\n",
    "a.clear()\n",
    "for i in range(len(b)):\n",
    "    if c[i] < k:\n",
    "        a.append(0)\n",
    "    else:\n",
    "        for _ in range(c[i]):\n",
    "            a.append(b[i])  \n",
    "print(a)"
   ]
  },
  {
   "cell_type": "code",
   "execution_count": 23,
   "id": "2fb92c2c",
   "metadata": {},
   "outputs": [
    {
     "name": "stdout",
     "output_type": "stream",
     "text": [
      "n=15\n",
      "k=2\n",
      "[2, 1, 3, 2, 1, 3, 2, 3, 1, 1, 3, 2, 2, 1, 2]\n",
      "[2, 1, 3, 2, 1, 3, 2, 3, 0, 3, 0, 1, 2]\n"
     ]
    }
   ],
   "source": [
    "#Array126\n",
    "from random import randint\n",
    "n = int(input('n='))\n",
    "k = int(input('k='))\n",
    "a = [randint(1,3) for i in range(n)]\n",
    "print(a)\n",
    "x = a[0]\n",
    "b = [x] #seriya qiymati\n",
    "c = [1] #seriya uzunligi\n",
    "m = 0\n",
    "for i in range(1,len(a)):\n",
    "    if x==a[i]:\n",
    "        c[m] += 1\n",
    "    else:\n",
    "        x = a[i]\n",
    "        b.append(x)\n",
    "        c.append(1)\n",
    "        m += 1\n",
    "a.clear()\n",
    "for i in range(len(b)):\n",
    "    if c[i] == k:\n",
    "        a.append(0)\n",
    "    else:\n",
    "        for _ in range(c[i]):\n",
    "            a.append(b[i])  \n",
    "print(a)"
   ]
  },
  {
   "cell_type": "code",
   "execution_count": 28,
   "id": "c0593794",
   "metadata": {},
   "outputs": [
    {
     "name": "stdout",
     "output_type": "stream",
     "text": [
      "n=15\n",
      "k=2\n",
      "[3, 3, 3, 3, 3, 3, 3, 3, 1, 3, 2, 1, 1, 1, 2]\n",
      "[0, 1, 3, 2, 0, 2]\n"
     ]
    }
   ],
   "source": [
    "#Array127\n",
    "from random import randint\n",
    "n = int(input('n='))\n",
    "k = int(input('k='))\n",
    "a = [randint(1,3) for i in range(n)]\n",
    "print(a)\n",
    "x = a[0]\n",
    "b = [x] #seriya qiymati\n",
    "c = [1] #seriya uzunligi\n",
    "m = 0\n",
    "for i in range(1,len(a)):\n",
    "    if x==a[i]:\n",
    "        c[m] += 1\n",
    "    else:\n",
    "        x = a[i]\n",
    "        b.append(x)\n",
    "        c.append(1)\n",
    "        m += 1\n",
    "a.clear()\n",
    "for i in range(len(b)):\n",
    "    if c[i] > k:\n",
    "        a.append(0)\n",
    "    else:\n",
    "        for _ in range(c[i]):\n",
    "            a.append(b[i])  \n",
    "print(a)"
   ]
  },
  {
   "cell_type": "code",
   "execution_count": 15,
   "id": "905e7676",
   "metadata": {},
   "outputs": [
    {
     "name": "stdout",
     "output_type": "stream",
     "text": [
      "n=10\n",
      "[3, 1, 1, 3, 3, 3, 3, 3, 2, 3]\n",
      "[3, 1, 1, 3, 3, 3, 3, 3, 3, 2, 3]\n",
      "n = 10\n",
      "[3, 5, 4, 5, 3, 3, 5, 5, 4, 5]\n",
      "[3, 5, 5, 4, 5, 3, 3, 5, 5, 4, 5]\n"
     ]
    }
   ],
   "source": [
    "#Array128 1-usul\n",
    "from random import randint\n",
    "n = int(input('n='))\n",
    "a = [randint(1,3) for i in range(n)]\n",
    "print(a)\n",
    "x = a[0]\n",
    "b = [x] #seriya qiymati\n",
    "c = [1] #seriya uzunligi\n",
    "m = 0\n",
    "for i in range(1,len(a)):\n",
    "    if x==a[i]:\n",
    "        c[m] += 1\n",
    "    else:\n",
    "        x = a[i]\n",
    "        b.append(x)\n",
    "        c.append(1)\n",
    "        m += 1\n",
    "maxi = max(c)\n",
    "index = 1\n",
    "for i in range(len(c)):\n",
    "    if c[i] == maxi:\n",
    "        a.insert(index-1,b[i])\n",
    "        break\n",
    "    else:\n",
    "        index += c[i]\n",
    "print(a)\n",
    "\n",
    "#Array128 2-usul\n",
    "from random import randint\n",
    "n = int(input(\"n = \"))\n",
    "a = [randint(3,5) for i in range(n)]\n",
    "print(a)\n",
    "\n",
    "x = a[0]\n",
    "b = [x] #seriya qiymati\n",
    "c = [1] #seriyalar soni\n",
    "h = 0\n",
    "for i in range(1,n):\n",
    "    if a[i]==x:\n",
    "        c[h] += 1\n",
    "    else:\n",
    "        x = a[i]\n",
    "        b.append(x)\n",
    "        c.append(1)\n",
    "        h += 1\n",
    "maxi = b.index(max(b))\n",
    "c[maxi] += 1\n",
    "\n",
    "a.clear()\n",
    "for i in range(len(c)):\n",
    "    for j in range(c[i]):\n",
    "        a.append(b[i])\n",
    "print(a)"
   ]
  },
  {
   "cell_type": "code",
   "execution_count": 14,
   "id": "9c14768b",
   "metadata": {},
   "outputs": [
    {
     "name": "stdout",
     "output_type": "stream",
     "text": [
      "n=10\n",
      "[2, 3, 1, 3, 3, 2, 3, 3, 1, 2]\n",
      "[2, 3, 1, 3, 3, 2, 3, 3, 3, 1, 2]\n",
      "n = 10\n",
      "[5, 3, 5, 4, 5, 3, 3, 5, 5, 4]\n",
      "[5, 3, 5, 4, 5, 3, 3, 5, 5, 5, 4]\n"
     ]
    }
   ],
   "source": [
    "#Array129 1-usul\n",
    "from random import randint\n",
    "n = int(input('n='))\n",
    "a = [randint(1,3) for i in range(n)]\n",
    "print(a)\n",
    "x = a[0]\n",
    "b = [x] #seriya qiymati\n",
    "c = [1] #seriya uzunligi\n",
    "m = 0\n",
    "for i in range(1,len(a)):\n",
    "    if x==a[i]:\n",
    "        c[m] += 1\n",
    "    else:\n",
    "        x = a[i]\n",
    "        b.append(x)\n",
    "        c.append(1)\n",
    "        m += 1\n",
    "maxi = max(c)\n",
    "s = 0\n",
    "for i in range(len(c)):\n",
    "    if maxi==c[i]:\n",
    "        index = i\n",
    "for i in range(len(c)):\n",
    "    if index==i:\n",
    "        break\n",
    "    else:\n",
    "        s+=c[i]\n",
    "a.insert(s,b[index])\n",
    "print(a)\n",
    "\n",
    "#Array129 2-usul\n",
    "from random import randint\n",
    "n = int(input(\"n = \"))\n",
    "a = [randint(3,5) for i in range(n)]\n",
    "print(a)\n",
    "\n",
    "x = a[0]\n",
    "b = [x] #seriya qiymati\n",
    "c = [1] #seriyalar soni\n",
    "h = 0\n",
    "for i in range(1,n):\n",
    "    if a[i]==x:\n",
    "        c[h] += 1\n",
    "    else:\n",
    "        x = a[i]\n",
    "        b.append(x)\n",
    "        c.append(1)\n",
    "        h += 1\n",
    "maxi = max(b)\n",
    "for i in range(len(b)):\n",
    "    if maxi==b[i]:\n",
    "        index = i\n",
    "c[index] += 1\n",
    "a.clear()\n",
    "for i in range(len(c)):\n",
    "    for j in range(c[i]):\n",
    "        a.append(b[i])\n",
    "print(a)"
   ]
  },
  {
   "cell_type": "code",
   "execution_count": 43,
   "id": "a7b731c8",
   "metadata": {},
   "outputs": [
    {
     "name": "stdout",
     "output_type": "stream",
     "text": [
      "n=10\n",
      "[2, 2, 2, 3, 2, 2, 1, 2, 2, 1]\n",
      "[2, 2, 2, 2, 3, 3, 2, 2, 2, 1, 1, 2, 2, 2, 1, 1]\n"
     ]
    }
   ],
   "source": [
    "#Array130\n",
    "from random import randint\n",
    "n = int(input('n='))\n",
    "a = [randint(1,3) for i in range(n)]\n",
    "print(a)\n",
    "x = a[0]\n",
    "b = [x] #seriya qiymati\n",
    "c = [1] #seriya uzunligi\n",
    "m = 0\n",
    "for i in range(1,len(a)):\n",
    "    if x==a[i]:\n",
    "        c[m] += 1\n",
    "    else:\n",
    "        x = a[i]\n",
    "        b.append(x)\n",
    "        c.append(1)\n",
    "        m += 1\n",
    "a.clear()\n",
    "for i in range(len(b)):\n",
    "    for _ in range(c[i]+1):\n",
    "            a.append(b[i])  \n",
    "print(a)"
   ]
  },
  {
   "cell_type": "markdown",
   "id": "ec2cb95c",
   "metadata": {},
   "source": [
    "### 8.Tekislikda nuqtalar to'plami"
   ]
  },
  {
   "cell_type": "code",
   "execution_count": 96,
   "id": "c19a00d4",
   "metadata": {},
   "outputs": [
    {
     "name": "stdout",
     "output_type": "stream",
     "text": [
      "n = 5\n",
      "[5, 1, 3, 2, 5, 4, 1, 5, 4, 5]\n",
      "1.0 6 7\n"
     ]
    }
   ],
   "source": [
    "#Array131\n",
    "from random import randint\n",
    "n = int(input(\"n = \"))\n",
    "a = [randint(1,5) for i in range(n*2)]\n",
    "# Massiv x va y lardan iborat\n",
    "# Ya'ni a[0]-> x ,a[1]-> y ,a[2]->x ...  h-k\n",
    "b = [2,5]\n",
    "print(a)\n",
    "for i in range(0,2*n,2):\n",
    "    x = ((a[i]-b[0])**2 + (a[i+1]-b[1])**2)**0.5\n",
    "    if i==0:\n",
    "        d = x\n",
    "        index1 = i\n",
    "        index2 = i+1\n",
    "    elif d > x:\n",
    "        d = x\n",
    "        index1 = i\n",
    "        index2 = i+1\n",
    "print(d,index1,index2)"
   ]
  },
  {
   "cell_type": "code",
   "execution_count": 102,
   "id": "90b50591",
   "metadata": {},
   "outputs": [
    {
     "name": "stdout",
     "output_type": "stream",
     "text": [
      "n = 5\n",
      "[3, 2, -6, 3, -3, 0, 0, 0, -5, 3]\n",
      "6.708203932499369 2 3\n"
     ]
    }
   ],
   "source": [
    "#Array132\n",
    "from random import randint\n",
    "n = int(input(\"n = \"))\n",
    "a = [randint(-6,6) for i in range(n*2)]\n",
    "# Massiv x va y lardan iborat\n",
    "# Ya'ni a[0]-> x ,a[1]-> y ,a[2]->x ...  h-k\n",
    "print(a)\n",
    "flag = True\n",
    "index1 = 0\n",
    "index2 = 0\n",
    "for i in range(0,2*n,2):\n",
    "    x = ((a[i]-0)**2 + (a[i+1]-0)**2)**0.5\n",
    "    if a[i]<0 and a[i+1]>0 and flag:\n",
    "        d = x\n",
    "        index1 = i\n",
    "        index2 = i+1\n",
    "        flag = False\n",
    "    elif a[i]<0 and a[i+1]>0 and d<x:\n",
    "        d = x\n",
    "        index1 = i\n",
    "        index2 = i+1\n",
    "if index1 or index2:\n",
    "    print(d,index1,index2)\n",
    "else:\n",
    "    print(index1,index2)"
   ]
  },
  {
   "cell_type": "code",
   "execution_count": 103,
   "id": "285b764e",
   "metadata": {},
   "outputs": [
    {
     "name": "stdout",
     "output_type": "stream",
     "text": [
      "n = 5\n",
      "[6, 3, -3, -1, 4, 4, 2, -2, 3, -3]\n",
      "6.708203932499369 0 1\n"
     ]
    }
   ],
   "source": [
    "#Array133\n",
    "from random import randint\n",
    "n = int(input(\"n = \"))\n",
    "a = [randint(-6,6) for i in range(n*2)]\n",
    "# Massiv x va y lardan iborat\n",
    "# Ya'ni a[0]-> x ,a[1]-> y ,a[2]->x ...  h-k\n",
    "print(a)\n",
    "flag = True\n",
    "index1 = 0\n",
    "index2 = 0\n",
    "for i in range(0,2*n,2):\n",
    "    x = ((a[i]-0)**2 + (a[i+1]-0)**2)**0.5\n",
    "    if ((a[i]<0 and a[i+1]<0) or (a[i]>0 and a[i+1]>0)) and flag:\n",
    "        d = x\n",
    "        index1 = i\n",
    "        index2 = i+1\n",
    "        flag = False\n",
    "    elif ((a[i]<0 and a[i+1]<0) or (a[i]>0 and a[i+1]>0)) and d<x:\n",
    "        d = x\n",
    "        index1 = i\n",
    "        index2 = i+1\n",
    "if index1 or index2:\n",
    "    print(d,index1,index2)\n",
    "else:\n",
    "    print(index1,index2)"
   ]
  },
  {
   "cell_type": "code",
   "execution_count": 114,
   "id": "dbe4c1a9",
   "metadata": {},
   "outputs": [
    {
     "name": "stdout",
     "output_type": "stream",
     "text": [
      "n = 5\n",
      "[4, -2, 2, 4, 0, 6, 5, 0, -2, 2]\n",
      "Masofa: 7.810249675906654\n",
      "\n",
      "x1 = 0 \n",
      "x2 = 6 \n",
      "x3 = 5 \n",
      "x4 = 0\n"
     ]
    }
   ],
   "source": [
    "#Array134\n",
    "from random import randint\n",
    "n = int(input(\"n = \"))\n",
    "a = [randint(-2,6) for i in range(n*2)]\n",
    "# Massiv x va y lardan iborat\n",
    "# Ya'ni a[0]-> x ,a[1]-> y ,a[2]->x ...  h-k\n",
    "print(a)\n",
    "for i in range(0,2*(n-1),2):\n",
    "    x = ((a[i]-a[i+2])**2 + (a[i+1]-a[i+3])**2)**0.5\n",
    "    if i==0:\n",
    "        d = x\n",
    "        index1 = i\n",
    "    elif d<x:\n",
    "        d = x\n",
    "        index = i\n",
    "print(\"Masofa:\",d)\n",
    "print(\"\\nx1 =\",a[index],\"\\nx2 =\",a[index+1],\"\\nx3 =\",a[index+2],\"\\nx4 =\",a[index+3])"
   ]
  },
  {
   "cell_type": "code",
   "execution_count": 137,
   "id": "19874578",
   "metadata": {},
   "outputs": [
    {
     "name": "stdout",
     "output_type": "stream",
     "text": [
      "N1 = 5\n",
      "N2 = 8\n",
      "[0, 4, 6, 4, 0, 3, 3, 4, -1, 3]\n",
      "[5, 0, 0, 3, 4, 1, 3, 2, 6, 1, -1, 5, 2, 1, 1, 5]\n",
      "orasidagi masofa 1.0\n",
      "qiymatlari: 0 4 0 3\n",
      "orasidagi masofa 3.0\n",
      "qiymatlari: 6 4 6 1\n",
      "orasidagi masofa 0.0\n",
      "qiymatlari: 0 3 0 3\n",
      "orasidagi masofa 2.0\n",
      "qiymatlari: 3 4 3 2\n",
      "orasidagi masofa 1.0\n",
      "qiymatlari: -1 3 0 3\n"
     ]
    }
   ],
   "source": [
    "#Array135\n",
    "from random import randint\n",
    "n1 = int(input(\"N1 = \"))\n",
    "n2 = int(input(\"N2 = \"))\n",
    "a = [randint(-2,6) for i in range(n1*2)]\n",
    "b = [randint(-2,6) for i in range(n2*2)]\n",
    "# Massiv x va y lardan iborat\n",
    "# Ya'ni a[0]-> x ,a[1]-> y ,a[2]->x ...  h-k b massiv ham shu tartibda\n",
    "print(a)\n",
    "print(b)\n",
    "for i in range(0,2*n1,2):\n",
    "    d = 0\n",
    "    for j in range(0,2*n2,2):\n",
    "        x = ((a[i]-b[j])**2 + (a[i+1]-b[j+1])**2)**0.5\n",
    "        if j == 0:\n",
    "            d = x\n",
    "            index1 = i\n",
    "            index2 = j\n",
    "        elif d > x:\n",
    "            d = x\n",
    "            index1 = i\n",
    "            index2 = j\n",
    "    print(\"orasidagi masofa\",d)\n",
    "    print(\"qiymatlari:\",a[index1],a[index1+1],b[index2],b[index2+1])"
   ]
  },
  {
   "cell_type": "code",
   "execution_count": 54,
   "id": "6336fb5c",
   "metadata": {},
   "outputs": [
    {
     "name": "stdout",
     "output_type": "stream",
     "text": [
      "n = 5\n",
      "[-1, 3, 3, 6, 4, 5, 6, 6, 5, 2]\n",
      "12.197724007175768 4 5\n"
     ]
    }
   ],
   "source": [
    "#Array136\n",
    "from random import randint\n",
    "n = int(input(\"n = \"))\n",
    "a = [randint(-2,6) for i in range(n*2)]\n",
    "# Massiv x va y lardan iborat\n",
    "# Ya'ni a[0]-> x ,a[1]-> y ,a[2]->x ...  h-k\n",
    "print(a)\n",
    "flag = True\n",
    "for i in range(0,2*n,2):\n",
    "    s = 0\n",
    "    for j in range(0,2*n,2):\n",
    "        if i != j:\n",
    "            s += ((a[i]-a[j])**2 + (a[i+1]-a[j+1])**2)**0.5\n",
    "    if flag:\n",
    "        k = s\n",
    "        index = i\n",
    "        flag = False\n",
    "    elif k > s:\n",
    "        k = s\n",
    "        index = i\n",
    "print(k,index,index+1)   "
   ]
  },
  {
   "cell_type": "code",
   "execution_count": 11,
   "id": "005d84bb",
   "metadata": {},
   "outputs": [
    {
     "name": "stdout",
     "output_type": "stream",
     "text": [
      "n = 6\n",
      "[2, -2, 6, -2, 6, 5, -2, -2, 1, 2, 5, 3]\n",
      "Perimetr = 25.63014581273465\n",
      "2 3 4 5 6 7\n"
     ]
    }
   ],
   "source": [
    "#Array137\n",
    "from random import randint\n",
    "n = int(input(\"n = \"))\n",
    "a = [randint(-2,6) for i in range(n*2)]\n",
    "# Massiv x va y lardan iborat\n",
    "# Ya'ni a[0]-> x ,a[1]-> y ,a[2]-> x ...  h-k\n",
    "print(a)\n",
    "flag = True\n",
    "for i in range(0,2*n,2):\n",
    "    for j in range(0,2*n,2):\n",
    "        for k in range(0,2*n,2):\n",
    "            if i != j and j != k and i!=k:\n",
    "                x = ((a[i]-a[j])**2 + (a[i+1]-a[j+1])**2)**0.5\n",
    "                y = ((a[i]-a[k])**2 + (a[i+1]-a[k+1])**2)**0.5 \n",
    "                z = ((a[j]-a[k])**2 + (a[j+1]-a[k+1])**2)**0.5 \n",
    "                m = x + y + z\n",
    "                if flag:\n",
    "                    p = m\n",
    "                    index1 = i\n",
    "                    index2 = j\n",
    "                    index3 = k\n",
    "                    flag = False\n",
    "                elif p < m:\n",
    "                    p = m\n",
    "                    index1 = i\n",
    "                    index2 = j\n",
    "                    index3 = k\n",
    "print(\"Perimetr =\",p)\n",
    "print(index1,index1+1,index2,index2+1,index3,index3+1) "
   ]
  },
  {
   "cell_type": "code",
   "execution_count": 8,
   "id": "30c36b02",
   "metadata": {},
   "outputs": [
    {
     "name": "stdout",
     "output_type": "stream",
     "text": [
      "n = 6\n",
      "[5, -2, -2, 6, 6, 2]\n",
      "[4, 2, 2, 2, 0, 0]\n",
      "Perimetr = 8.359173603117451\n",
      "Indexlari: 0 3 4\n"
     ]
    }
   ],
   "source": [
    "#Array138\n",
    "from random import randint\n",
    "n = int(input(\"n = \"))\n",
    "x = [randint(-2,6) for i in range(n)]\n",
    "y = [randint(-2,6) for i in range(n)]\n",
    "print(x)\n",
    "print(y)\n",
    "flag = True\n",
    "for i in range(n):\n",
    "    for j in range(n):\n",
    "        for k in range(n):\n",
    "            if i!=j and j!=k and i!=k:\n",
    "                a = ((x[i]-x[j])**2 + (y[i]-y[j])**2)**0.5\n",
    "                b = ((x[i]-x[k])**2 + (y[i]-y[k])**2)**0.5 \n",
    "                c = ((x[j]-x[k])**2 + (y[j]-y[k])**2)**0.5 \n",
    "                m = a + b + c\n",
    "                if flag:\n",
    "                    p = m\n",
    "                    index1 = i\n",
    "                    index2 = j\n",
    "                    index3 = k\n",
    "                    flag = False\n",
    "                elif p > m:\n",
    "                    p = m\n",
    "                    index1 = i\n",
    "                    index2 = j\n",
    "                    index3 = k\n",
    "print(\"Perimetr =\",p)\n",
    "print(\"Indexlari:\",index1,index2,index3) "
   ]
  },
  {
   "cell_type": "code",
   "execution_count": 8,
   "id": "1c5cc8c3",
   "metadata": {},
   "outputs": [
    {
     "name": "stdout",
     "output_type": "stream",
     "text": [
      "n = 10\n",
      "[1, -5, -5, 4, 8, 5, 5, -2, 0, 10, -4, -6, 1, 9, 8, -4, 2, -1, -10, -8]\n",
      "[-5, 4, -4, -6, 0, 10, 1, -5, 1, 9, 5, -2, 8, 5, 8, -4, 2, -1, -10, -8]\n"
     ]
    }
   ],
   "source": [
    "#Array139\n",
    "from random import randint\n",
    "n = int(input(\"n = \"))\n",
    "a = [randint(-10,10) for i in range(2*n)]\n",
    "# Massiv x va y lardan iborat\n",
    "# Ya'ni a[0]-> x ,a[1]-> y ,a[2]->x ...  h-k\n",
    "print(a)\n",
    "for j in range(2*n):\n",
    "    for i in range(0,n+2,2):\n",
    "        if (a[i]>a[i+2]) or (a[i]==a[i+2] and a[i+1]>a[i+3]):\n",
    "            a[i],a[i+1],a[i+2],a[i+3] = a[i+2],a[i+3],a[i],a[i+1]\n",
    "print(a)"
   ]
  },
  {
   "cell_type": "code",
   "execution_count": 20,
   "id": "f117585b",
   "metadata": {},
   "outputs": [
    {
     "name": "stdout",
     "output_type": "stream",
     "text": [
      "n = 10\n",
      "[-10, -1, -10, -6, 4, 9, -9, 6, 5, 10, 0, 10, 7, 3, 6, -9, 2, 4, -1, 6]\n",
      "[5, 10, 4, 9, 7, 3, 0, 10, -9, 6, -10, -1, -10, -6, 6, -9, 2, 4, -1, 6]\n"
     ]
    }
   ],
   "source": [
    "#Array140\n",
    "from random import randint\n",
    "n = int(input(\"n = \"))\n",
    "a = [randint(-10,10) for i in range(2*n)]\n",
    "# Massiv x va y lardan iborat\n",
    "# Ya'ni a[0]-> x ,a[1]-> y ,a[2]->x ...  h-k\n",
    "print(a)\n",
    "for _ in range(2*n):\n",
    "    for i in range(0,n+2,2):\n",
    "        x1,y1 = a[i],a[i+1]\n",
    "        x2,y2 = a[i+2],a[i+3]\n",
    "        if (x1+y1 < x2+y2 or x1+y1 == x2+y2) and x1 < x2:\n",
    "             a[i],a[i+1],a[i+2],a[i+3] = a[i+2],a[i+3],a[i],a[i+1]\n",
    "print(a)"
   ]
  }
 ],
 "metadata": {
  "kernelspec": {
   "display_name": "Python 3 (ipykernel)",
   "language": "python",
   "name": "python3"
  },
  "language_info": {
   "codemirror_mode": {
    "name": "ipython",
    "version": 3
   },
   "file_extension": ".py",
   "mimetype": "text/x-python",
   "name": "python",
   "nbconvert_exporter": "python",
   "pygments_lexer": "ipython3",
   "version": "3.10.3"
  }
 },
 "nbformat": 4,
 "nbformat_minor": 5
}
