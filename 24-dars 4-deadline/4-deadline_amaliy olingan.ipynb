{
 "cells": [
  {
   "cell_type": "markdown",
   "id": "66b888ae",
   "metadata": {},
   "source": [
    "# 02/08/2022\n",
    "\n",
    "# Sotivoldiyev Farruxbek\n",
    "\n",
    "# 4 - nazorat ishi"
   ]
  },
  {
   "cell_type": "markdown",
   "id": "103defb7",
   "metadata": {},
   "source": [
    "Imtihon - 4\n",
    "\n",
    "Imtihon 2 soat davom etadi:\n",
    "10:10-12:10\n",
    "\n",
    "1️⃣ +,- belgilar va sonlardan iborat satr berilgan, shu satrning matematik yechimini topuvchi dastur tuzing.\n",
    "Masalan:  15+8+4-85 = -58 Natijasi chiqsin, e'tibor bering bu ifoda satrda berilgan\n",
    "\n",
    "2️⃣ Matn berilgan, matnda polindrom so'zlar sonini chiqaruvchi dastur tuzing. Iltimos hajmi katta matn kiritib tekshirib ko'ring.\n",
    "\n",
    "3️⃣ Fayllar bilan ishlash. \n",
    "1. Fayl nomini kiriting.\n",
    "2. Pathda shunday fayl bormi tekshiring, agar bor bo'lsa fayl nomini boshqatdan kiritish talab qilinsin, yo'q bo'lsa keyingi boshqichga o'ting\n",
    "3. Faylga O'zbekiston haqida ma'lumot yozing va faylni yoping.\n",
    "4. Faylni ochib ichidan eng katta so'zni o'chirib qaytadan faylni yoping.\n",
    "\n",
    "4️⃣ Pathda tayyor fayldan ma'lumot o'qing va ma'lumot ichidan boshi va oxiri \"A\" yoki \"a\" bilan ifodalangan so'zlarni topib o'chiring, keyin faylni yoping.\n",
    "\n",
    "5️⃣ Studentlar ma'lumotlari keltirilgan fayl hosil qiling. \n",
    "1. FIO\n",
    "2. Student ID\n",
    "3. Fakulteti\n",
    "4. Bahosi\n",
    "5. Viloyati\n",
    "\n",
    "Shu ma'lumotlardan iborat fayl hosil qilinsin va quyidagi funksiyalardan iborat dastur tuzing,\n",
    "\n",
    "1. FIO ga qarab studentni topuvchi funksiya\n",
    "2. Student ID ga qarab studentni topuvchi funksiya\n",
    "3. Fakultetga qarab studentlarni chiqarib beruvchi funksiya\n",
    "4. Bahosiga qarab studentlarni chiqarib beruvchi funksiya\n",
    "5. Vilayatga qarab studentlarni chiqarib beruvchi funksiya.\n",
    "\n",
    "E'tibor bering, Fayl yaratish ham kod bilan amalga ochirilsin.\n"
   ]
  },
  {
   "cell_type": "code",
   "execution_count": 73,
   "id": "29a3800e",
   "metadata": {},
   "outputs": [
    {
     "name": "stdout",
     "output_type": "stream",
     "text": [
      "Satr kiriting:-99-89+45-55\n",
      "Javob: -198\n"
     ]
    }
   ],
   "source": [
    "# 1-masala\n",
    "import re\n",
    "satr = input(\"Satr kiriting:\")\n",
    "s = 0\n",
    "sonlar = list(map(int, re.findall(r\"[+-]?\\d+\",satr)))\n",
    "for i in sonlar:\n",
    "    s += i\n",
    "print(\"Javob:\",s)"
   ]
  },
  {
   "cell_type": "code",
   "execution_count": 74,
   "id": "0ec25073",
   "metadata": {},
   "outputs": [
    {
     "name": "stdout",
     "output_type": "stream",
     "text": [
      "matn kiriting: salom kiyik nmn qalesan hello world gagag\n",
      "Polindrom so'zlar soni: 3\n"
     ]
    }
   ],
   "source": [
    "# 2-masala\n",
    "words = input(\"matn kiriting: \")\n",
    "\n",
    "word = words.split()\n",
    "polindrom = 0\n",
    "\n",
    "for i in range(len(word)):\n",
    "    if word[i]==word[i][::-1]:\n",
    "        polindrom += 1\n",
    "\n",
    "print(\"Polindrom so'zlar soni:\",polindrom)"
   ]
  },
  {
   "cell_type": "code",
   "execution_count": 26,
   "id": "eb97aeaa",
   "metadata": {},
   "outputs": [
    {
     "name": "stdout",
     "output_type": "stream",
     "text": [
      "salom qallesan,uydagilar yaxshimi.Nima gaplar Ra'no uqishlar,ishlar yaxshimi\n",
      "salom qallesan, yaxshimi.Nima gaplar Ra'no uqishlar,ishlar yaxshimi\n"
     ]
    }
   ],
   "source": [
    "# 3-masala\n",
    "import re\n",
    "satr = input()\n",
    "\n",
    "try:\n",
    "    x = open(\"salom.txt\",\"r+\")\n",
    "    \n",
    "except:\n",
    "    x = open(\"salom.txt\",\"x+\")\n",
    "    \n",
    "finally:\n",
    "    x.write(satr)\n",
    "    x.close()\n",
    "    \n",
    "    x = open(\"salom.txt\")\n",
    "    words = x.read()\n",
    "    sozlar = ((words.replace(\".\",\" \")).replace(\",\",\" \")).split()\n",
    "    maxi = sozlar[0]\n",
    "    for i in sozlar:\n",
    "        if len(maxi)<len(i):\n",
    "            maxi = i\n",
    "    index = words.index(maxi)\n",
    "    new_words = words[:index] + words[index+len(maxi):] \n",
    "    x.close()\n",
    "    \n",
    "    x = open(\"salom.txt\",\"w\")\n",
    "    x.write(new_words)\n",
    "    x.close()\n",
    "print(new_words)"
   ]
  },
  {
   "cell_type": "code",
   "execution_count": 93,
   "id": "aa83dc92",
   "metadata": {},
   "outputs": [
    {
     "name": "stdout",
     "output_type": "stream",
     "text": [
      "salom ,  yaxshimi\n",
      "Vaalaykum . Men yaxshiman.\n"
     ]
    }
   ],
   "source": [
    "# 4-masala\n",
    "import re\n",
    "flag = True\n",
    "with open(\"salom.txt\") as f:\n",
    "    words = f.read()\n",
    "    words2 = []\n",
    "    sozlar = ((words.replace(\".\",\" \")).replace(\",\",\" \")).split()\n",
    "    for i in sozlar:\n",
    "        if re.match(r\"((?:A|a)[A-Za-z]+|[A-Za-z]+(?:A|a)$)\",i):\n",
    "                words2.append(i)\n",
    "    for j in words2:\n",
    "        if flag:\n",
    "            index1 = words.index(j)\n",
    "            new_words = words[:index1] + words[index1+len(j):] \n",
    "            flag = False\n",
    "            continue\n",
    "        index2 = new_words.index(j)\n",
    "        new_words = new_words[:index2] + new_words[index2+len(j):] \n",
    "        \n",
    "with open(\"salom.txt\",\"w\") as f:\n",
    "    f.write(new_words)\n",
    "    \n",
    "print(new_words)"
   ]
  },
  {
   "cell_type": "code",
   "execution_count": 107,
   "id": "ab607a99",
   "metadata": {},
   "outputs": [
    {
     "name": "stdout",
     "output_type": "stream",
     "text": [
      "Sadriddin\n",
      "3\n",
      "2\n"
     ]
    }
   ],
   "source": [
    "# 5-masala\n",
    "ism = input()\n",
    "baxo = input()\n",
    "\n",
    "with open(\"talabalar.txt\") as f:\n",
    "    talabalar_info = f.readlines()\n",
    "    talabalar_soni = 0\n",
    "    for i in range(1,len(talabalar_info)):\n",
    "        talaba = talabalar_info[i].split(\"|\")\n",
    "        if talaba[1].strip()==ism and talaba[3].strip()==baxo:\n",
    "            talabalar_soni += 1\n",
    "print(talabalar_soni)"
   ]
  }
 ],
 "metadata": {
  "kernelspec": {
   "display_name": "Python 3 (ipykernel)",
   "language": "python",
   "name": "python3"
  },
  "language_info": {
   "codemirror_mode": {
    "name": "ipython",
    "version": 3
   },
   "file_extension": ".py",
   "mimetype": "text/x-python",
   "name": "python",
   "nbconvert_exporter": "python",
   "pygments_lexer": "ipython3",
   "version": "3.9.8"
  }
 },
 "nbformat": 4,
 "nbformat_minor": 5
}
