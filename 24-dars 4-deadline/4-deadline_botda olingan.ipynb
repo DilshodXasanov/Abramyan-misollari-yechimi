{
 "cells": [
  {
   "cell_type": "markdown",
   "id": "bb1c2004",
   "metadata": {},
   "source": [
    "# 10/08/2022\n",
    "\n",
    "# Sotivoldiyev Farruxbek\n",
    "\n",
    "# 4 - nazorat ishi Botda olingan"
   ]
  },
  {
   "cell_type": "markdown",
   "id": "25cb45a9",
   "metadata": {},
   "source": [
    "Imtihon - 4\n",
    "\n",
    "Imtihon 2 soat davom etadi:\n",
    "10:10-12:10\n",
    "\n",
    "1️⃣\n",
    "* Regex: Kiritilgan sanani tekshiruvchi regex tuzing, \n",
    "* kabisa va kabisa emasligi inobotga olinsin.\n",
    "* Kiruvchi format kun-oy-yil ko'rinishida bo'ladi.\n",
    "\n",
    "* Kirishda satr kiritiladi, chiqishda agar shunday sana\n",
    "* mavjud bo'lsa, 1 aks holda 0 chiqariladi.\n",
    "\n",
    "* (Juda muhim eslatma, input kiritishlarda va print \n",
    "* chiqarishlarda hech qanday so'z ishlatilmaydi, \n",
    "* faqat kiruvchi qiymatlar yoki natijalar chiqishi kerak. \n",
    "* Quyidagi misollarga qarang!)\n",
    "\n",
    "* Masalan,\n",
    "* Kirishda                                      \n",
    "* 12-12-2012            \n",
    "* 32-12-2021             \n",
    "* Chiqishda\n",
    "* 1\n",
    "* 0\n",
    "\n",
    "2️⃣\n",
    "* Regex: O'zbekiston telefon raqamlarini tekshiruvchi regex tuzing.\n",
    "* Kiruvchi format +(998)97 007-07-07 ko'rinishida bo'ladi(chiziqchalar bilan).\n",
    "\n",
    "* Kirishda satr kiritiladi, chiqishda agar shunday nomer\n",
    "* mavjud bo'lsa, 1 aks holda 0 chiqariladi.\n",
    "\n",
    "* (Juda muhim eslatma, input kiritishlarda va print \n",
    "* chiqarishlarda hech qanday so'z ishlatilmaydi, \n",
    "* faqat kiruvchi qiymatlar yoki natijalar chiqishi kerak. \n",
    "* Quyidagi misollarga qarang!)\n",
    "\n",
    "* Masalan,\n",
    "* Kirishda                                      \n",
    "* +(998)91 460-95-50         \n",
    "* +(998)91460-95-50         \n",
    "* +(998)90 007 07 07         \n",
    "* Chiqishda\n",
    "* 1\n",
    "* 0\n",
    "* 0\n",
    "\n",
    "3️⃣ \n",
    "\n",
    "* Person nomli class yarating. U atribut sifatida name va age\n",
    "* satr sifatidagi so'zlarni olsin. class ga myfunc nomli funksiya\n",
    "* tuzing. U \"Hello my name is {self.name}\" gapini qaytarsin.\n",
    "\n",
    "* Kirishda 2 ta qatorda satr kiritiladi, name va age uchun.\n",
    "* Chiqishda yuqoridagi gap mos name uchun myfunc funksiyasi natijasi\n",
    "* print orqali chiqariladi. Diqqat, print class ichida ishlatilmaydi!\n",
    "\n",
    "* (Juda muhim eslatma, input kiritishlarda va print \n",
    "* chiqarishlarda hech qanday so'z ishlatilmaydi, \n",
    "* faqat kiruvchi qiymatlar yoki natijalar chiqishi kerak. \n",
    "* Quyidagi misollarga qarang!)\n",
    "\n",
    "* Masalan,\n",
    "* Kirishda                                      \n",
    "* Shaxboz         \n",
    "* 21                  \n",
    "* Chiqishda\n",
    "* Hello my name is Shaxboz\n",
    "\n",
    "4️⃣\n",
    "\n",
    "* nxn o'lchamli matritsa berilgan, \n",
    "* matritsani 90 gradusga o'ngga buruvchi dastur yarating.\n",
    "\n",
    "* Kirishda n matritsa o'lchami kiritiladi va keyingi nxn \n",
    "* qatorda matritsa elementlari. Chiqishda matritsa\n",
    "* elementlari  n ta qatorda probel bilan ajratilgan holatda chiqariladi.\n",
    "\n",
    "\n",
    "* (Juda muhim eslatma, input kiritishlarda va print \n",
    "* chiqarishlarda hech qanday so'z ishlatilmaydi, \n",
    "* faqat kiruvchi qiymatlar yoki natijalar chiqishi kerak. \n",
    "* Quyidagi misollarga qarang!)\n",
    "\n",
    "* Masalan,\n",
    "* Kirishda                                      \n",
    "* 3\n",
    "* 1\n",
    "* 2\n",
    "* 3\n",
    "* 4\n",
    "* 5\n",
    "* 6\n",
    "* 7\n",
    "* 8\n",
    "* 9                   \n",
    "* Chiqishda\n",
    "* 7 4 1\n",
    "* 8 5 2\n",
    "* 9 6 3\n",
    "\n",
    "5️⃣\n",
    "* Triangle nomli class yarating. U o'ziga 3 ta atribut olsin.\n",
    "* Bu atributlar tekislikdagi nuqta ko'rinishida bo'lsin.\n",
    "* Ular yordamida uchlari class atributlari bo'lgan uchburchak yuzasi topilsin.\n",
    "* Agar uchlari bu nuqtalarda bo'lgan uchburchak mavjud bo'lmasa, 0 chiqariladi.\n",
    "\n",
    "* Kirishda 6 ta haqiqiy son, mos ravishda 1-nuqta, 2-nuqta va 3-nuqta koordinatalari.\n",
    "* Chiqishda uchlari shu nuqtalarda bo'lgan uchburchak yuzasini 2 birlikkacha yaxlitlab\n",
    "* chiqariladi. Agar bunday uchburchak mavjud bo'lmasa 0 chiqariladi.\n",
    "\n",
    "\n",
    "* (Juda muhim eslatma, input kiritishlarda va print \n",
    "* chiqarishlarda hech qanday so'z ishlatilmaydi, \n",
    "* faqat kiruvchi qiymatlar yoki natijalar chiqishi kerak. \n",
    "* Quyidagi misollarga qarang!)\n",
    "\n",
    "* Masalan,\n",
    "* Kirishda                                      \n",
    "* 1\n",
    "* 2\n",
    "* 5\n",
    "* 6\n",
    "* 4\n",
    "* 4                  \n",
    "* Chiqishda\n",
    "* 2.0"
   ]
  },
  {
   "cell_type": "code",
   "execution_count": 2,
   "id": "952ff982",
   "metadata": {},
   "outputs": [
    {
     "name": "stdout",
     "output_type": "stream",
     "text": [
      "12-12-2012\n",
      "1\n"
     ]
    }
   ],
   "source": [
    "# 1\n",
    "from re import match\n",
    "sana = input()\n",
    "if match(r\"(((0?[1-9]|[12][0-9]|30|31)-(0?[13578]|10|12)-((?:19|20)[0-9]|2100))|((0?[1-9]|[12][0-9]|30)-(0?[469]|11)-((?:19|20)[0-9]|2100))|((0?[1-9]|[12][0-9])-0?2-(?:19|20)(?:[13579][26]|[02468][048])$)|((0?[1-9]|[12][0-8]|19)-0?2-((?:19|20)[0-9]|2100)))\",sana):\n",
    "    print(1)\n",
    "else:\n",
    "    print(0)"
   ]
  },
  {
   "cell_type": "code",
   "execution_count": 3,
   "id": "1c63fb29",
   "metadata": {},
   "outputs": [
    {
     "name": "stdout",
     "output_type": "stream",
     "text": [
      "+(998)91 460-95-50\n",
      "1\n"
     ]
    }
   ],
   "source": [
    "# 2\n",
    "import re\n",
    "raqam = input().strip()\n",
    "if re.match(r\"\\+\\(998\\)(33|88|90|91|93|94|95|97|98|99) \\d{3}-\\d{2}-\\d{2}$\",raqam):\n",
    "    print(1)\n",
    "else:\n",
    "    print(0)"
   ]
  },
  {
   "cell_type": "code",
   "execution_count": 4,
   "id": "13b69183",
   "metadata": {},
   "outputs": [
    {
     "name": "stdout",
     "output_type": "stream",
     "text": [
      "Shaxboz\n",
      "21\n",
      "Hello my name is Shaxboz\n"
     ]
    }
   ],
   "source": [
    "# 3\n",
    "class Person:\n",
    "    def __init__(self,name,age):\n",
    "        self.name = name\n",
    "        self.age = age\n",
    "\n",
    "    def myfunk(self):\n",
    "        return f\"Hello my name is {self.name}\"\n",
    "\n",
    "ism = input()\n",
    "yosh = input()\n",
    "farrux = Person(ism,yosh)\n",
    "print(farrux.myfunk())"
   ]
  },
  {
   "cell_type": "code",
   "execution_count": 5,
   "id": "99d39e35",
   "metadata": {},
   "outputs": [
    {
     "name": "stdout",
     "output_type": "stream",
     "text": [
      "3\n",
      "1\n",
      "2\n",
      "3\n",
      "4\n",
      "5\n",
      "6\n",
      "7\n",
      "8\n",
      "9\n",
      "7 4 1\n",
      "8 5 2\n",
      "9 6 3\n"
     ]
    }
   ],
   "source": [
    "# 4\n",
    "n = int(input())\n",
    "\n",
    "matrix = [[int(input()) for i in range(n)] for _ in range(n)] \n",
    "matrix = [[matrix[i][j] for i in range(n-1,-1,-1)] for j in range(n)]\n",
    "\n",
    "for k in matrix:\n",
    "    print(*k)"
   ]
  },
  {
   "cell_type": "code",
   "execution_count": 6,
   "id": "bf5f2a37",
   "metadata": {},
   "outputs": [
    {
     "name": "stdout",
     "output_type": "stream",
     "text": [
      "1\n",
      "2\n",
      "5\n",
      "6\n",
      "4\n",
      "4\n",
      "2.0\n"
     ]
    }
   ],
   "source": [
    "# 5\n",
    "class Triangle:\n",
    "    def __init__(self,x,y,z):\n",
    "        self.x1 = x[0]\n",
    "        self.y1 = x[1]\n",
    "        self.x2 = y[0]\n",
    "        self.y2 = y[1]\n",
    "        self.x3 = z[0]\n",
    "        self.y3 = z[1]\n",
    "\n",
    "    def xisobla(self):\n",
    "        a = ((self.x1-self.x2)**2 + (self.y1-self.y2)**2)**(0.5)\n",
    "        b = ((self.x1-self.x3)**2 + (self.y1-self.y3)**2)**(0.5)\n",
    "        c = ((self.x3-self.x2)**2 + (self.y3-self.y2)**2)**(0.5) \n",
    "        if (a+b)>c>abs(a-b):\n",
    "            p = (a+b+c)/2\n",
    "            s = (p*(p-a)*(p-b)*(p-c))**(0.5)\n",
    "            return round(s,2)\n",
    "        else:\n",
    "            return 0\n",
    "            \n",
    "x = [float(input()) for _ in range(2)]\n",
    "y = [float(input()) for _ in range(2)]\n",
    "z = [float(input()) for _ in range(2)]\n",
    "\n",
    "x = Triangle(x,y,z)\n",
    "print(x.xisobla())\n"
   ]
  }
 ],
 "metadata": {
  "kernelspec": {
   "display_name": "Python 3 (ipykernel)",
   "language": "python",
   "name": "python3"
  },
  "language_info": {
   "codemirror_mode": {
    "name": "ipython",
    "version": 3
   },
   "file_extension": ".py",
   "mimetype": "text/x-python",
   "name": "python",
   "nbconvert_exporter": "python",
   "pygments_lexer": "ipython3",
   "version": "3.9.8"
  }
 },
 "nbformat": 4,
 "nbformat_minor": 5
}
