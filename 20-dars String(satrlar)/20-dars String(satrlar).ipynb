{
 "cells": [
  {
   "cell_type": "markdown",
   "id": "9d88037b",
   "metadata": {},
   "source": [
    "# 22/05/2022\n",
    "\n",
    "# Python asoslari\n",
    "\n",
    "# 20-dars : Satrlarga oid masalalar\n",
    "\n",
    "# Muallif: Farrux Sotivoldiyev"
   ]
  },
  {
   "cell_type": "markdown",
   "id": "181af2fe",
   "metadata": {},
   "source": [
    "### ASCII kodi\n",
    "\n",
    "* Raqamlar (48 : 57)\n",
    "* Katta lotin harflari (65 : 90)\n",
    "* Kichik lotin harflari (97 : 122)\n",
    "* Katta krill harflari (1040 : 1071) -> \"Ё\" = 1025\n",
    "* Kichik krill harflari (1072 : 1103) -> \"ё\" = 1105\n"
   ]
  },
  {
   "cell_type": "markdown",
   "id": "2fca06f2",
   "metadata": {},
   "source": [
    "### 1.Standart funksiyalar orqali satrlarni qayta ishlash.Qidiruv va almashtirish."
   ]
  },
  {
   "cell_type": "code",
   "execution_count": 67,
   "id": "0a72ba57",
   "metadata": {},
   "outputs": [
    {
     "name": "stdout",
     "output_type": "stream",
     "text": [
      "n = 9\n",
      "Satr kiriting: salom\n",
      "....salom\n"
     ]
    }
   ],
   "source": [
    "# String26\n",
    "n  = int(input(\"n = \"))\n",
    "satr = input(\"Satr kiriting: \")\n",
    "\n",
    "x = len(satr)\n",
    "if x > n:\n",
    "    satr = satr[x-n:]\n",
    "elif x < n:\n",
    "    satr = \".\" * (n-x) + satr[:]\n",
    "print(satr)"
   ]
  },
  {
   "cell_type": "code",
   "execution_count": 73,
   "id": "d0e71e9a",
   "metadata": {},
   "outputs": [
    {
     "name": "stdout",
     "output_type": "stream",
     "text": [
      "n1 = 5\n",
      "n2 = 3\n",
      "Satr1 ni kiriting: hammaga\n",
      "Satr2 ni kiriting: salomlar\n",
      "hammalar\n"
     ]
    }
   ],
   "source": [
    "# String27\n",
    "n1  = int(input(\"n1 = \"))\n",
    "n2  = int(input(\"n2 = \"))\n",
    "s1 = input(\"Satr1 ni kiriting: \")\n",
    "s2 = input(\"Satr2 ni kiriting: \")\n",
    "\n",
    "s = s1[:n1] + s2[len(s2)-n2:]\n",
    "print(s)"
   ]
  },
  {
   "cell_type": "code",
   "execution_count": 25,
   "id": "31a24414",
   "metadata": {},
   "outputs": [
    {
     "name": "stdout",
     "output_type": "stream",
     "text": [
      "Belgi kiriting: a\n",
      "Satr ni kiriting: Salom Farruxbek\n",
      "Saalom Faarruxbek\n"
     ]
    }
   ],
   "source": [
    "# String28\n",
    "c = input(\"Belgi kiriting: \")\n",
    "s = input(\"Satr ni kiriting: \")\n",
    "\n",
    "s = s.replace(c,2*c)\n",
    "print(s)"
   ]
  },
  {
   "cell_type": "code",
   "execution_count": 27,
   "id": "4516cb1c",
   "metadata": {},
   "outputs": [
    {
     "name": "stdout",
     "output_type": "stream",
     "text": [
      "Belgi kiriting: l\n",
      "Satr1 ni kiriting: salom\n",
      "Satr2 ni kiriting: aaa\n",
      "saaaalom\n"
     ]
    }
   ],
   "source": [
    "# String29\n",
    "c = input(\"Belgi kiriting: \")\n",
    "s1 = input(\"Satr1 ni kiriting: \")\n",
    "s2 = input(\"Satr2 ni kiriting: \")\n",
    "\n",
    "s = ''\n",
    "for i in s1:\n",
    "    if c==i:\n",
    "        s += s2\n",
    "    s += i\n",
    "print(s)"
   ]
  },
  {
   "cell_type": "code",
   "execution_count": 28,
   "id": "8d41d248",
   "metadata": {},
   "outputs": [
    {
     "name": "stdout",
     "output_type": "stream",
     "text": [
      "Belgi kiriting: l\n",
      "Satr1 ni kiriting: salom\n",
      "Satr2 ni kiriting: ooo\n",
      "saloooom\n"
     ]
    }
   ],
   "source": [
    "# String30\n",
    "c = input(\"Belgi kiriting: \")\n",
    "s1 = input(\"Satr1 ni kiriting: \")\n",
    "s2 = input(\"Satr2 ni kiriting: \")\n",
    "\n",
    "s = ''\n",
    "for i in s1:\n",
    "    s += i\n",
    "    if c==i:\n",
    "        s += s2\n",
    "print(s)"
   ]
  },
  {
   "cell_type": "code",
   "execution_count": 2,
   "id": "56dbf90d",
   "metadata": {},
   "outputs": [
    {
     "name": "stdout",
     "output_type": "stream",
     "text": [
      "Belgi kiriting: s\n",
      "Satr1 ni kiriting: assalomu salom\n",
      "Satr2 ni kiriting: 9999\n",
      "as9999s9999alomu s9999alom\n"
     ]
    }
   ],
   "source": [
    "# String30\n",
    "c = input(\"Belgi kiriting: \")\n",
    "s1 = input(\"Satr1 ni kiriting: \")\n",
    "s2 = input(\"Satr2 ni kiriting: \")\n",
    "\n",
    "s = s1.replace(c,c+s2)\n",
    "print(s)"
   ]
  },
  {
   "cell_type": "code",
   "execution_count": 46,
   "id": "ef59263f",
   "metadata": {},
   "outputs": [
    {
     "name": "stdout",
     "output_type": "stream",
     "text": [
      "Satr1 ni kiriting: salom\n",
      "Satr2 ni kiriting: lom\n",
      "True\n"
     ]
    }
   ],
   "source": [
    "# String31\n",
    "s1 = input(\"Satr1 ni kiriting: \")\n",
    "s2 = input(\"Satr2 ni kiriting: \")\n",
    "\n",
    "print(True if s1.find(s2)>=0 else False)"
   ]
  },
  {
   "cell_type": "code",
   "execution_count": 47,
   "id": "e33a8b0a",
   "metadata": {},
   "outputs": [
    {
     "name": "stdout",
     "output_type": "stream",
     "text": [
      "Satr1 ni kiriting: salomlar\n",
      "Satr2 ni kiriting: l\n",
      "2\n"
     ]
    }
   ],
   "source": [
    "# String32\n",
    "s1 = input(\"Satr1 ni kiriting: \")\n",
    "s2 = input(\"Satr2 ni kiriting: \")\n",
    "\n",
    "print(s1.count(s2))"
   ]
  },
  {
   "cell_type": "code",
   "execution_count": 56,
   "id": "460386b4",
   "metadata": {},
   "outputs": [
    {
     "name": "stdout",
     "output_type": "stream",
     "text": [
      "Satr1 ni kiriting: salolaruu\n",
      "Satr2 ni kiriting: l\n",
      "saolaruu\n"
     ]
    }
   ],
   "source": [
    "# String33\n",
    "s1 = input(\"Satr1 ni kiriting: \")\n",
    "s2 = input(\"Satr2 ni kiriting: \")\n",
    "\n",
    "if 0 <= s1.find(s2):\n",
    "    print(s1[:s1.find(s2)]+s1[s1.find(s2)+1:])\n",
    "else:\n",
    "    print(s1)"
   ]
  },
  {
   "cell_type": "code",
   "execution_count": 61,
   "id": "d2ae1853",
   "metadata": {},
   "outputs": [
    {
     "name": "stdout",
     "output_type": "stream",
     "text": [
      "Satr1 ni kiriting: salomcha\n",
      "Satr2 ni kiriting: a\n",
      "salomch\n"
     ]
    }
   ],
   "source": [
    "# String34\n",
    "s1 = input(\"Satr1 ni kiriting: \")\n",
    "s2 = input(\"Satr2 ni kiriting: \")\n",
    "\n",
    "for i in range(len(s1)-1,-1,-1):\n",
    "    if s2==s1[i]:\n",
    "        print(s1[:i]+s1[i+1:])\n",
    "        break\n",
    "else:print(s1)"
   ]
  },
  {
   "cell_type": "code",
   "execution_count": 64,
   "id": "ecdec26e",
   "metadata": {},
   "outputs": [
    {
     "name": "stdout",
     "output_type": "stream",
     "text": [
      "Satr1 ni kiriting: salomlar\n",
      "Satr2 ni kiriting: l\n",
      "saomar\n"
     ]
    }
   ],
   "source": [
    "# String35\n",
    "s1 = input(\"Satr1 ni kiriting: \")\n",
    "s2 = input(\"Satr2 ni kiriting: \")\n",
    "\n",
    "s = ''\n",
    "for i in s1:\n",
    "    if s2==i:\n",
    "        continue\n",
    "    s += i\n",
    "print(s)"
   ]
  },
  {
   "cell_type": "code",
   "execution_count": 5,
   "id": "65faf52a",
   "metadata": {},
   "outputs": [
    {
     "name": "stdout",
     "output_type": "stream",
     "text": [
      "Satr1 ni kiriting: salomlar lom-lumchilar\n",
      "Satr2 ni kiriting: lom\n",
      "Satr3 ni kiriting: 9999\n",
      "sa9999lar lom-lumchilar\n"
     ]
    }
   ],
   "source": [
    "# String36\n",
    "s1 = input(\"Satr1 ni kiriting: \")\n",
    "s2 = input(\"Satr2 ni kiriting: \")\n",
    "s3 = input(\"Satr3 ni kiriting: \")\n",
    "\n",
    "print(s1.replace(s2,s3,1))"
   ]
  },
  {
   "cell_type": "code",
   "execution_count": 2,
   "id": "62ac34e2",
   "metadata": {},
   "outputs": [
    {
     "name": "stdout",
     "output_type": "stream",
     "text": [
      "Satr1 ni kiriting: salomsalom qalesizaaaaa\n",
      "Satr2 ni kiriting: salom\n",
      "Satr3 ni kiriting: valekum\n",
      "salomvalekum qalesizaaaaa\n"
     ]
    }
   ],
   "source": [
    "# String37\n",
    "s1 = input(\"Satr1 ni kiriting: \")\n",
    "s2 = input(\"Satr2 ni kiriting: \")  \n",
    "s3 = input(\"Satr3 ni kiriting: \")\n",
    "print(s1[::-1].replace(s2[::-1],s3[::-1],1)[::-1])"
   ]
  },
  {
   "cell_type": "code",
   "execution_count": 93,
   "id": "c9b0ef68",
   "metadata": {},
   "outputs": [
    {
     "name": "stdout",
     "output_type": "stream",
     "text": [
      "Satr kiriting: salom qale yuribsan jigar\n",
      "q a l e 3\n",
      "5\n",
      "10\n"
     ]
    }
   ],
   "source": [
    "# String39\n",
    "s = input(\"Satr kiriting: \")\n",
    "\n",
    "probel = s.count(\" \")\n",
    "if probel>1:\n",
    "    index1 = s.index(\" \")\n",
    "    for i in range(len(s)):\n",
    "        if index1!=i and s[i]==\" \":\n",
    "            index2 = i\n",
    "            break\n",
    "    for i in range(index1+1,index2):\n",
    "        print(s[i],end=\" \")\n",
    "        \n",
    "else: print(\"\") "
   ]
  },
  {
   "cell_type": "code",
   "execution_count": 94,
   "id": "4d90f5bd",
   "metadata": {},
   "outputs": [
    {
     "name": "stdout",
     "output_type": "stream",
     "text": [
      "Satr kiriting: salom qale yuribsan jigar\n",
      "q a l e   y u r i b s a n "
     ]
    }
   ],
   "source": [
    "# String40\n",
    "s = input(\"Satr kiriting: \")\n",
    "\n",
    "probel = s.count(\" \")\n",
    "if probel>1:\n",
    "    index1 = s.index(\" \")\n",
    "    for i in range(len(s)):\n",
    "        if index1!=i and s[i]==\" \":\n",
    "            index2 = i\n",
    "    for i in range(index1+1,index2):\n",
    "        print(s[i],end=\" \")\n",
    "        \n",
    "else: print(\"\") "
   ]
  },
  {
   "cell_type": "markdown",
   "id": "c17233a6",
   "metadata": {},
   "source": [
    "### 2.Satrdagi so'zlarni o'zgartirish  va taxlil qilish."
   ]
  },
  {
   "cell_type": "code",
   "execution_count": 5,
   "id": "e6fcb67e",
   "metadata": {},
   "outputs": [
    {
     "name": "stdout",
     "output_type": "stream",
     "text": [
      "Satr kiriting: salom qale yuripsan tinchlikmi\n",
      "4\n"
     ]
    }
   ],
   "source": [
    "# String41\n",
    "s = input(\"Satr kiriting: \")\n",
    "print(len(s.split()))"
   ]
  },
  {
   "cell_type": "code",
   "execution_count": 11,
   "id": "7b3c67af",
   "metadata": {},
   "outputs": [
    {
     "name": "stdout",
     "output_type": "stream",
     "text": [
      "Satr kiriting: kiyik va ko'ylak\n",
      "2\n"
     ]
    }
   ],
   "source": [
    "# String42\n",
    "s = input(\"Satr kiriting: \").upper()\n",
    "\n",
    "a = s.split()\n",
    "k = 0\n",
    "for i in a:\n",
    "    if i[0]==i[-1]:\n",
    "        k += 1\n",
    "print(k)"
   ]
  },
  {
   "cell_type": "code",
   "execution_count": 13,
   "id": "37b73193",
   "metadata": {},
   "outputs": [
    {
     "name": "stdout",
     "output_type": "stream",
     "text": [
      "Satr kiriting: salom qale yuripsiz\n",
      "2\n"
     ]
    }
   ],
   "source": [
    "# String43\n",
    "s = input(\"Satr kiriting: \").upper()\n",
    "\n",
    "a = s.split()\n",
    "k = 0\n",
    "for i in a:\n",
    "    for j in range(len(i)):\n",
    "        if i[j]==\"A\":\n",
    "            k += 1\n",
    "            break\n",
    "print(k)"
   ]
  },
  {
   "cell_type": "code",
   "execution_count": 17,
   "id": "33418ca7",
   "metadata": {},
   "outputs": [
    {
     "name": "stdout",
     "output_type": "stream",
     "text": [
      "Satr kiriting: sarala va taxla asarlarni\n",
      "2\n"
     ]
    }
   ],
   "source": [
    "# String44\n",
    "s = input(\"Satr kiriting: \").upper()\n",
    "\n",
    "a = s.split()\n",
    "s = 0\n",
    "for i in a:\n",
    "    k = 0\n",
    "    for j in range(len(i)):\n",
    "        if i[j]==\"A\":\n",
    "            k += 1\n",
    "    if k==3:\n",
    "        s += 1\n",
    "print(s)"
   ]
  },
  {
   "cell_type": "code",
   "execution_count": 21,
   "id": "6801207c",
   "metadata": {},
   "outputs": [
    {
     "name": "stdout",
     "output_type": "stream",
     "text": [
      "Satr kiriting: salom qale yuripsiz\n",
      "4\n"
     ]
    }
   ],
   "source": [
    "# String45\n",
    "s = input(\"Satr kiriting: \").lower()\n",
    "\n",
    "a = s.split()\n",
    "maxi = len(a[0])\n",
    "for i in a:\n",
    "    if len(i)<maxi:\n",
    "        maxi = len(i)\n",
    "print(maxi)"
   ]
  },
  {
   "cell_type": "code",
   "execution_count": 22,
   "id": "c6fe2ae9",
   "metadata": {},
   "outputs": [
    {
     "name": "stdout",
     "output_type": "stream",
     "text": [
      "Satr kiriting: salom qale yuripsiz\n",
      "8\n"
     ]
    }
   ],
   "source": [
    "# String46\n",
    "s = input(\"Satr kiriting: \").lower()\n",
    "\n",
    "a = s.split()\n",
    "maxi = len(a[0])\n",
    "for i in a:\n",
    "    if len(i)>maxi:\n",
    "        maxi = len(i)\n",
    "print(maxi)"
   ]
  },
  {
   "cell_type": "code",
   "execution_count": 23,
   "id": "4709b11c",
   "metadata": {},
   "outputs": [
    {
     "name": "stdout",
     "output_type": "stream",
     "text": [
      "Satr kiriting: salom qale yuripsiz\n",
      "salom.qale.yuripsiz\n"
     ]
    }
   ],
   "source": [
    "# String47\n",
    "s = input(\"Satr kiriting: \").lower()\n",
    "print(s.replace(\" \",\".\"))"
   ]
  },
  {
   "cell_type": "code",
   "execution_count": 47,
   "id": "cba5e358",
   "metadata": {},
   "outputs": [
    {
     "name": "stdout",
     "output_type": "stream",
     "text": [
      "Satr kiriting: minimum va maximumini toping\n",
      "mini.u. va maxi.u.ini toping \n"
     ]
    }
   ],
   "source": [
    "# String48\n",
    "s = input(\"Satr kiriting: \").lower()\n",
    "\n",
    "a = s.split()\n",
    "k = ''\n",
    "for i in a:\n",
    "    s = i[0]\n",
    "    for j in range(1,len(i)):\n",
    "        if i[0]==i[j]:\n",
    "            s += \".\"\n",
    "        else:\n",
    "            s += i[j]\n",
    "    k += s + \" \"\n",
    "print(k)"
   ]
  },
  {
   "cell_type": "code",
   "execution_count": 7,
   "id": "603d43a5",
   "metadata": {},
   "outputs": [
    {
     "name": "stdout",
     "output_type": "stream",
     "text": [
      "Satr kiriting: maximum va minimumini toping\n",
      ".axi.um va m.n.mum.ni toping \n"
     ]
    }
   ],
   "source": [
    "# String49\n",
    "s = input(\"Satr kiriting: \").lower()\n",
    "\n",
    "a = s.split()\n",
    "k = ''\n",
    "for i in a:\n",
    "    s = \"\"\n",
    "    for j in range(len(i)):\n",
    "        if i[-1]==i[j] and j!=len(i)-1:\n",
    "            s += \".\"\n",
    "        else:\n",
    "            s += i[j]\n",
    "    k += s + \" \"\n",
    "print(k)"
   ]
  },
  {
   "cell_type": "code",
   "execution_count": 8,
   "id": "115a1dae",
   "metadata": {},
   "outputs": [
    {
     "name": "stdout",
     "output_type": "stream",
     "text": [
      "Satr kiriting: salom     qale  yuripsiz     aaa\n",
      "aaa yuripsiz qale salom\n"
     ]
    }
   ],
   "source": [
    "# String50\n",
    "s = input(\"Satr kiriting: \").lower()\n",
    "\n",
    "a = s.split()[::-1]\n",
    "s = ' '.join(a)\n",
    "print(s)"
   ]
  },
  {
   "cell_type": "code",
   "execution_count": 11,
   "id": "794e3cd6",
   "metadata": {},
   "outputs": [
    {
     "name": "stdout",
     "output_type": "stream",
     "text": [
      "Satr kiriting: salom       qale      yuripsiz\n",
      "QALE SALOM YURIPSIZ\n"
     ]
    }
   ],
   "source": [
    "# String51\n",
    "s = input(\"Satr kiriting: \").upper()\n",
    "\n",
    "print(\" \".join(sorted(s.split())))"
   ]
  },
  {
   "cell_type": "code",
   "execution_count": 5,
   "id": "54846032",
   "metadata": {},
   "outputs": [
    {
     "name": "stdout",
     "output_type": "stream",
     "text": [
      "Satr kiriting: salom qalesan ukam\n",
      "Salom Qalesan Ukam \n"
     ]
    }
   ],
   "source": [
    "# String52\n",
    "s = input(\"Satr kiriting: \").lower()\n",
    "\n",
    "a = s.split()\n",
    "s = ''\n",
    "for i in a:\n",
    "    s += i.capitalize() + \" \"\n",
    "print(s)"
   ]
  },
  {
   "cell_type": "code",
   "execution_count": 1,
   "id": "41ea721b",
   "metadata": {},
   "outputs": [
    {
     "name": "stdout",
     "output_type": "stream",
     "text": [
      "Satr kiriting: salom.Qalesan - Ra'no,tuzukmisan?\n",
      "5\n"
     ]
    }
   ],
   "source": [
    "# String53\n",
    "s = input(\"Satr kiriting: \")\n",
    "\n",
    "#  34:\"  33:!  39:'  40:(  41:)  46:.  63:?  45:-  44:,  59:;\n",
    "tinish_belgilari = [33,34,39,40,41,44,45,46,59,63,]\n",
    "k = 0\n",
    "for i in range(len(s)):\n",
    "    x = ord(s[i])\n",
    "    if x in tinish_belgilari:\n",
    "        k += 1\n",
    "print(k)"
   ]
  },
  {
   "cell_type": "code",
   "execution_count": 56,
   "id": "2a18eb92",
   "metadata": {},
   "outputs": [
    {
     "name": "stdout",
     "output_type": "stream",
     "text": [
      "Satr kiriting: Salom QALEsan yuriPsanmIIII\n",
      "10\n"
     ]
    }
   ],
   "source": [
    "# String54\n",
    "s = input(\"Satr kiriting: \")\n",
    "\n",
    "k = 0\n",
    "for i in range(len(s)):\n",
    "    if \"A\" <= s[i] <= \"Z\":\n",
    "        k += 1\n",
    "print(k)"
   ]
  },
  {
   "cell_type": "code",
   "execution_count": 62,
   "id": "175705bc",
   "metadata": {},
   "outputs": [
    {
     "name": "stdout",
     "output_type": "stream",
     "text": [
      "Satr kiriting: salom qale yurdi\n",
      "salom\n"
     ]
    }
   ],
   "source": [
    "# String55\n",
    "s = input(\"Satr kiriting: \")\n",
    "\n",
    "a = s.split()\n",
    "x = len(a[0])\n",
    "soz = a[0]\n",
    "for i in a:\n",
    "    if x < len(i):\n",
    "        x = len(i)\n",
    "        soz = i\n",
    "print(soz)"
   ]
  },
  {
   "cell_type": "code",
   "execution_count": 64,
   "id": "1e080360",
   "metadata": {},
   "outputs": [
    {
     "name": "stdout",
     "output_type": "stream",
     "text": [
      "Satr kiriting: salom qalee yurdik birga\n",
      "birga\n"
     ]
    }
   ],
   "source": [
    "# String56\n",
    "s = input(\"Satr kiriting: \")\n",
    "\n",
    "a = s.split()\n",
    "x = len(a[-1])\n",
    "soz = a[-1]\n",
    "for i in a:\n",
    "    if x > len(i):\n",
    "        x = len(i)\n",
    "        soz = i\n",
    "print(soz)"
   ]
  },
  {
   "cell_type": "code",
   "execution_count": 65,
   "id": "4f2d55a3",
   "metadata": {},
   "outputs": [
    {
     "name": "stdout",
     "output_type": "stream",
     "text": [
      "Satr kiriting: salom    qale     yuripsan ukam\n",
      "salom qale yuripsan ukam \n"
     ]
    }
   ],
   "source": [
    "# String57\n",
    "s = input(\"Satr kiriting: \")\n",
    "\n",
    "a = s.split()\n",
    "s = ''\n",
    "for i in a:\n",
    "    s += i + \" \"\n",
    "print(s)"
   ]
  },
  {
   "cell_type": "markdown",
   "id": "e72f1ebe",
   "metadata": {},
   "source": [
    "### 3.Satrlarni qayta ishlashga oid qo'shimcha masalalar."
   ]
  },
  {
   "cell_type": "code",
   "execution_count": 80,
   "id": "b5425192",
   "metadata": {},
   "outputs": [
    {
     "name": "stdout",
     "output_type": "stream",
     "text": [
      "Satr kiriting: D:\\Qudrat_c++\\Books\\My_book.exe\n",
      "My_book\n"
     ]
    }
   ],
   "source": [
    "# String58\n",
    "s = input(\"Satr kiriting: \")\n",
    "\n",
    "a = s.split('\\\\')\n",
    "print(a[-1][:a[-1].index(\".\")])"
   ]
  },
  {
   "cell_type": "code",
   "execution_count": 83,
   "id": "010425e2",
   "metadata": {},
   "outputs": [
    {
     "name": "stdout",
     "output_type": "stream",
     "text": [
      "Satr kiriting: D:\\Qudrat_c++\\Books\\My_book.exe\n",
      "exe\n"
     ]
    }
   ],
   "source": [
    "# String59\n",
    "s = input(\"Satr kiriting: \")\n",
    "\n",
    "a = s.split('\\\\')\n",
    "print(a[-1][a[-1].index(\".\")+1:])"
   ]
  },
  {
   "cell_type": "code",
   "execution_count": 14,
   "id": "36fd0acd",
   "metadata": {},
   "outputs": [
    {
     "name": "stdout",
     "output_type": "stream",
     "text": [
      "Satr kiriting: D:\\Qudrat_c++\\Books\\My_book.exe\n",
      "Qudrat_c++\n"
     ]
    }
   ],
   "source": [
    "# String60\n",
    "s = input(\"Satr kiriting: \")\n",
    "\n",
    "a = s.split('\\\\')\n",
    "if a[1].count(\".\")!=1 and 1 in list(range(len(a))):     \n",
    "    print(a[1])\n",
    "else:\n",
    "    print(\"\\\\\")"
   ]
  },
  {
   "cell_type": "code",
   "execution_count": 17,
   "id": "638660bd",
   "metadata": {},
   "outputs": [
    {
     "name": "stdout",
     "output_type": "stream",
     "text": [
      "Satr kiriting: D:\\Qudrat_c++\\Books\\My_book.exe\n",
      "Books\n"
     ]
    }
   ],
   "source": [
    "# String61\n",
    "s = input(\"Satr kiriting: \")\n",
    "\n",
    "a = s.split('\\\\')\n",
    "if a[1].count(\".\")!=1 and 2 in list(range(len(a))):     \n",
    "    print(a[2])\n",
    "else:\n",
    "    print(\"\\\\\")"
   ]
  },
  {
   "cell_type": "code",
   "execution_count": 15,
   "id": "e44acad3",
   "metadata": {},
   "outputs": [
    {
     "name": "stdout",
     "output_type": "stream",
     "text": [
      "Satr kiriting: salom Qale YURIPsiz\n",
      "tbmpn Rbmf ZVSJQtja\n"
     ]
    }
   ],
   "source": [
    "# String62\n",
    "satr = input(\"Satr kiriting: \")\n",
    "s = ''\n",
    "for i in satr:\n",
    "    if \"A\" <= i < \"Z\":\n",
    "        s += chr(ord(i)+1)\n",
    "    elif i == \"Z\":\n",
    "        s += \"A\"\n",
    "        \n",
    "    elif \"a\" <= i < \"z\":\n",
    "        s += chr(ord(i)+1)\n",
    "    elif i == \"z\":\n",
    "        s += \"a\"\n",
    "        \n",
    "    else:\n",
    "        s += i\n",
    "print(s)"
   ]
  },
  {
   "cell_type": "code",
   "execution_count": 19,
   "id": "7bb31c05",
   "metadata": {},
   "outputs": [
    {
     "name": "stdout",
     "output_type": "stream",
     "text": [
      "Satr kiriting: Eng GULLAGAN, yoshlik CHog'imda.Sen ochilding KO'NGIL BOG'IMDA.!!!\n",
      "k = 9\n",
      "Nwp PDUUJPJW, hxbqurt LQxp'rvmj.Bnw xlqrumrwp TX'WPRU KXP'RVMJ.!!!\n",
      "Satr kiriting: Eng GULLAGAN, yoshlik CHog'imda.Sen ochilding KO'NGIL BOG'IMDA.!!!\n",
      "k = 9\n",
      "Nwp PDUUJPJW, hxbqurt LQxp'rvmj.Bnw xlqrumrwp TX'WPRU KXP'RVMJ.!!!\n"
     ]
    }
   ],
   "source": [
    "# String63 1-usul\n",
    "satr = input(\"Satr kiriting: \")\n",
    "\n",
    "k = int(input(\"k = \"))\n",
    "s = ''\n",
    "\n",
    "for i in satr:\n",
    "    if \"A\" <= i <= \"Z\":\n",
    "        x = ord(i) + k\n",
    "        if x > 90:\n",
    "            x -= 26\n",
    "        s += chr(x)\n",
    "        \n",
    "    elif \"a\" <= i <= \"z\":\n",
    "        x = ord(i) + k\n",
    "        if x > 122:\n",
    "            x -= 26 \n",
    "        s += chr(x)\n",
    "        \n",
    "    else:\n",
    "        s += i\n",
    "print(s)  \n",
    "\n",
    "# String63 2-usul\n",
    "satr = input(\"Satr kiriting: \")\n",
    "\n",
    "k = int(input(\"k = \"))\n",
    "s = ''\n",
    "for i in satr:\n",
    "    if i.islower():\n",
    "        s += chr((ord(i)+k-97)%26+97)\n",
    "    elif i.isupper():\n",
    "        s += chr((ord(i)+k-65)%26+65)\n",
    "    else:\n",
    "        s += i\n",
    "print(s)"
   ]
  },
  {
   "cell_type": "code",
   "execution_count": 36,
   "id": "cce130d4",
   "metadata": {},
   "outputs": [
    {
     "name": "stdout",
     "output_type": "stream",
     "text": [
      "Satr kiriting: Nwp PDUUJPJW, hxbqurt LQxp'rvmj.Bnw xlqrumrwp TX'WPRU KXP'RVMJ.!!!\n",
      "k = 9\n",
      "Eng GULLAGAN, yoshlik CHog'imda.Sen ochilding KO'NGIL BOG'IMDA.!!!\n"
     ]
    }
   ],
   "source": [
    "# String64\n",
    "satr = input(\"Satr kiriting: \")\n",
    "\n",
    "k = int(input(\"k = \"))\n",
    "s = ''\n",
    "\n",
    "for i in satr:\n",
    "    if \"A\" <= i <= \"Z\":\n",
    "        x = ord(i) - k\n",
    "        if x < 65:\n",
    "            x += 26          \n",
    "        s += chr(x)\n",
    "        \n",
    "    elif \"a\" <= i <= \"z\":\n",
    "        x = ord(i) - k\n",
    "        if x < 97:\n",
    "            x += 26    \n",
    "        s += chr(x)\n",
    "        \n",
    "    else:\n",
    "        s += i\n",
    "print(s)  "
   ]
  },
  {
   "cell_type": "code",
   "execution_count": 42,
   "id": "179d5ddb",
   "metadata": {},
   "outputs": [
    {
     "name": "stdout",
     "output_type": "stream",
     "text": [
      "Satr kiriting: Nwp PDUUJPJW, hxbqurt LQxp'rvmj.Bnw xlqrumrwp TX'WPRU KXP'RVMJ.!!!\n",
      "Birinchi belgini kiriting: E\n",
      "Eng GULLAGAN, yoshlik CHog'imda.Sen ochilding KO'NGIL BOG'IMDA.!!!\n"
     ]
    }
   ],
   "source": [
    "# String65\n",
    "satr = input(\"Satr kiriting: \")\n",
    "\n",
    "belgi = input(\"Birinchi belgini kiriting: \")\n",
    "s = ''\n",
    "flag = True\n",
    "\n",
    "for i in satr:\n",
    "    if \"A\" <= i <= \"Z\":\n",
    "        if flag:\n",
    "            k = ord(i)-ord(belgi)\n",
    "            flag = False\n",
    "        x = ord(i) - k\n",
    "        if x < 65:\n",
    "            x += 26          \n",
    "        s += chr(x)\n",
    "        \n",
    "    elif \"a\" <= i <= \"z\":\n",
    "        if flag:\n",
    "            k = ord(i)-ord(belgi)\n",
    "            flag = False\n",
    "        x = ord(i) - k\n",
    "        if x < 97:\n",
    "            x += 26    \n",
    "        s += chr(x)\n",
    "        \n",
    "    else:\n",
    "        s += i\n",
    "print(s)  "
   ]
  },
  {
   "cell_type": "code",
   "execution_count": 54,
   "id": "bdb7fe56",
   "metadata": {},
   "outputs": [
    {
     "name": "stdout",
     "output_type": "stream",
     "text": [
      "Satr kiriting: programma\n",
      "pormamagr\n"
     ]
    }
   ],
   "source": [
    "# String66\n",
    "satr = input(\"Satr kiriting: \")\n",
    "k = []\n",
    "for i in satr:\n",
    "    k.append(i)\n",
    "if len(satr)%2==0:\n",
    "    s = k[::2]+k[::-2]\n",
    "else:\n",
    "    s = k[::2] + k[len(k)-2::-2]\n",
    "s = \"\".join(s)\n",
    "print(s)"
   ]
  },
  {
   "cell_type": "code",
   "execution_count": 55,
   "id": "b789593c",
   "metadata": {},
   "outputs": [
    {
     "name": "stdout",
     "output_type": "stream",
     "text": [
      "Satr kiriting: pormamagr\n",
      "programma\n"
     ]
    }
   ],
   "source": [
    "# String67\n",
    "satr = input(\"Satr kiriting: \")\n",
    "boshi = 0\n",
    "oxiri = len(satr)-1\n",
    "s = ''\n",
    "while boshi <= oxiri:\n",
    "    \n",
    "    if boshi == oxiri:\n",
    "        s += satr[boshi]\n",
    "    else:\n",
    "        s += satr[boshi] + satr[oxiri]\n",
    "        \n",
    "    boshi += 1\n",
    "    oxiri -= 1\n",
    "    \n",
    "print(s)"
   ]
  },
  {
   "cell_type": "code",
   "execution_count": 12,
   "id": "f3541e00",
   "metadata": {},
   "outputs": [
    {
     "name": "stdout",
     "output_type": "stream",
     "text": [
      "Satr kiriting: a234bc4d0005ehgjka\n",
      "g\n"
     ]
    }
   ],
   "source": [
    "# String68\n",
    "satr = input(\"Satr kiriting: \")\n",
    "harflar = []\n",
    "for i in satr:\n",
    "    if \"a\"<=i<=\"z\":\n",
    "        harflar.append(i)\n",
    "\n",
    "for i in range(len(harflar)-1):\n",
    "    if harflar[i]<harflar[i+1]:\n",
    "        continue\n",
    "    print(harflar[i+1])\n",
    "    break\n",
    "else:\n",
    "    print(0)"
   ]
  },
  {
   "cell_type": "code",
   "execution_count": 2,
   "id": "f8bd6eae",
   "metadata": {},
   "outputs": [
    {
     "name": "stdout",
     "output_type": "stream",
     "text": [
      "Satr kiriting: (salom)(qaalesan )(jinni( tinchlimi)\n",
      "-1\n"
     ]
    }
   ],
   "source": [
    "# String69\n",
    "satr = input(\"Satr kiriting: \")\n",
    "qavslar = []\n",
    "for i in satr:\n",
    "    if i == \"(\" or i == \")\":\n",
    "        qavslar.append(i)\n",
    "if len(qavslar)%2!=0:\n",
    "    print(-1)\n",
    "else:\n",
    "    for i in range(0,len(qavslar),2):\n",
    "        if qavslar[i]<qavslar[i+1]:\n",
    "            continue\n",
    "            \n",
    "        elif qavslar[i]==qavslar[i+1]:\n",
    "            if qavslar[i]==\")\": print(f\"{i+1}-qavs xato qo'yilgan\")\n",
    "            else: print(f\"{i+2}-qavs xato qo'yilgan\")\n",
    "            break\n",
    "            \n",
    "        print(f\"{i+1}-qavs xato qo'yilgan\")\n",
    "        break\n",
    "        \n",
    "    else:\n",
    "        print(0)"
   ]
  }
 ],
 "metadata": {
  "kernelspec": {
   "display_name": "Python 3 (ipykernel)",
   "language": "python",
   "name": "python3"
  },
  "language_info": {
   "codemirror_mode": {
    "name": "ipython",
    "version": 3
   },
   "file_extension": ".py",
   "mimetype": "text/x-python",
   "name": "python",
   "nbconvert_exporter": "python",
   "pygments_lexer": "ipython3",
   "version": "3.9.8"
  }
 },
 "nbformat": 4,
 "nbformat_minor": 5
}
