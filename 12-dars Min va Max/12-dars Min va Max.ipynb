{
 "cells": [
  {
   "cell_type": "markdown",
   "id": "d3c57185",
   "metadata": {},
   "source": [
    "# 18/03/2022\n",
    "\n",
    "# Python asoslari\n",
    "\n",
    "# 12-dars: Min va Max lar bilan ishlash\n",
    "\n",
    "# Muallif: Farrux Sotivoldiyev"
   ]
  },
  {
   "cell_type": "code",
   "execution_count": 1,
   "id": "efb4a6c7",
   "metadata": {},
   "outputs": [
    {
     "name": "stdout",
     "output_type": "stream",
     "text": [
      "N = 9\n",
      "n1 = 5\n",
      "n2 = 4\n",
      "n3 = -3\n",
      "n4 = 0\n",
      "n5 = 8\n",
      "n6 = 7\n",
      "n7 = -12\n",
      "n8 = 789\n",
      "n9 = 12\n",
      "maxi = 789 \n",
      "mini = -12\n"
     ]
    }
   ],
   "source": [
    "#1\n",
    "n = int(input(\"N = \"))\n",
    "\n",
    "flag = True\n",
    "for i in range(1,n+1):\n",
    "    n = int(input(f\"n{i} = \"))\n",
    "    if flag:\n",
    "        maxi = n\n",
    "        mini = n\n",
    "        flag = False\n",
    "    if n > maxi:\n",
    "        maxi = n\n",
    "    if n < mini:\n",
    "        mini = n\n",
    "print(f\"maxi = {maxi} \\nmini = {mini}\")"
   ]
  },
  {
   "cell_type": "code",
   "execution_count": 3,
   "id": "72fae4ef",
   "metadata": {},
   "outputs": [
    {
     "name": "stdout",
     "output_type": "stream",
     "text": [
      "N = 4\n",
      "a = 2\n",
      "b = 1\n",
      "a = 5\n",
      "b = 6\n",
      "a = 8\n",
      "b = 2\n",
      "a = 4\n",
      "b = 3\n",
      "Yuza: 2\n"
     ]
    }
   ],
   "source": [
    "#2\n",
    "n = int(input(\"N = \"))\n",
    "\n",
    "flag = True\n",
    "for _ in range(n):\n",
    "    a = int(input(\"a = \"))\n",
    "    b = int(input(\"b = \"))\n",
    "    if flag:\n",
    "        mini = a*b\n",
    "        flag = False\n",
    "    if mini > a*b:\n",
    "        min = a*b\n",
    "print(\"Yuza:\",mini)\n",
    "    "
   ]
  },
  {
   "cell_type": "code",
   "execution_count": 5,
   "id": "da4871b7",
   "metadata": {},
   "outputs": [
    {
     "name": "stdout",
     "output_type": "stream",
     "text": [
      "N = 3\n",
      "a = 4\n",
      "b = 5\n",
      "a = 2\n",
      "b = 3\n",
      "a = 1\n",
      "b = 2\n",
      "Perimetr: 18\n"
     ]
    }
   ],
   "source": [
    "#3\n",
    "N = int(input(\"N = \"))\n",
    "\n",
    "for _ in range(N):\n",
    "    a = int(input(\"a = \"))\n",
    "    b = int(input(\"b = \"))\n",
    "    if flag:\n",
    "        maxi = 2*(a+b)\n",
    "        flag = False\n",
    "    if maxi < 2*(a+b):\n",
    "        maxi = 2*(a+b)\n",
    "print(\"Perimetr:\",maxi)"
   ]
  },
  {
   "cell_type": "code",
   "execution_count": 9,
   "id": "0b3d7f7e",
   "metadata": {},
   "outputs": [
    {
     "name": "stdout",
     "output_type": "stream",
     "text": [
      "N = 6\n",
      "n1 = -5\n",
      "n2 = 0\n",
      "n3 = -9\n",
      "n4 = 5\n",
      "n5 = 6\n",
      "n6 = 4\n",
      "Min = -9 \n",
      "Nomeri: 3\n"
     ]
    }
   ],
   "source": [
    "#4\n",
    "N = int(input(\"N = \"))\n",
    "\n",
    "k = 0\n",
    "flag = True\n",
    "for i in range(1,N+1):\n",
    "    n = int(input(f\"n{i} = \"))\n",
    "    if flag:\n",
    "        mini = n\n",
    "        flag = False\n",
    "    if mini > n:\n",
    "        mini = n\n",
    "        k = i \n",
    "print(\"Min =\",mini,\"\\nNomeri:\",k)"
   ]
  },
  {
   "cell_type": "code",
   "execution_count": 10,
   "id": "58af5efd",
   "metadata": {},
   "outputs": [
    {
     "name": "stdout",
     "output_type": "stream",
     "text": [
      "N = 3\n",
      "m1 = 9\n",
      "v1 = 4\n",
      "m2 = 9\n",
      "v2 = 2\n",
      "m3 = 9\n",
      "v3 = 3\n",
      "massa: 9 \n",
      "hajm: 2 \n",
      "Max = 4.5\n"
     ]
    }
   ],
   "source": [
    "#5\n",
    "N = int(input(\"N = \"))\n",
    "\n",
    "flag = True\n",
    "for i in range(1,N+1):\n",
    "    m = int(input(f\"m{i} = \"))\n",
    "    v = int(input(f\"v{i} = \"))\n",
    "    if flag:\n",
    "        maxi = m/v\n",
    "        flag = False\n",
    "    if maxi < m/v:\n",
    "        maxi = m/v\n",
    "        massa = m\n",
    "        hajm = v\n",
    "print(\"massa:\",massa,\"\\nhajm:\",hajm,\"\\nMax =\",maxi)"
   ]
  },
  {
   "cell_type": "code",
   "execution_count": 2,
   "id": "d6ec1dd4",
   "metadata": {},
   "outputs": [
    {
     "name": "stdout",
     "output_type": "stream",
     "text": [
      "n = 8\n",
      "k1 = 2\n",
      "k2 = -6\n",
      "k3 = 1\n",
      "k4 = -9\n",
      "k5 = 45\n",
      "k6 = -1\n",
      "k7 = 45\n",
      "k8 = -9\n",
      "4 7\n"
     ]
    }
   ],
   "source": [
    "#6\n",
    "# masalan: 2 -6 1 -9 45 -1 45 -9\n",
    "# birinchi uchragan eng kichigi: -9 indeksi: 4\n",
    "# oxirigi uchragan eng kattasi: 45 indeksi: 7\n",
    "\n",
    "n = int(input(\"n = \"))\n",
    "\n",
    "flag = True\n",
    "\n",
    "for i in range(1,n+1):\n",
    "    k = int(input(f\"k{i} = \"))\n",
    "    if flag:\n",
    "        maxi = k\n",
    "        mini = k\n",
    "        flag = False\n",
    "    if k >= maxi:\n",
    "        maxi = k\n",
    "        sanoq1 = i\n",
    "    elif k < mini:\n",
    "        mini = k\n",
    "        sanoq2 = i\n",
    "        \n",
    "print(sanoq2,sanoq1)"
   ]
  },
  {
   "cell_type": "code",
   "execution_count": 8,
   "id": "b8880448",
   "metadata": {},
   "outputs": [
    {
     "name": "stdout",
     "output_type": "stream",
     "text": [
      "n = 8\n",
      "k1 = 2\n",
      "k2 = -6\n",
      "k3 = 1\n",
      "k4 = -9\n",
      "k5 = 45\n",
      "k6 = -1\n",
      "k7 = 45\n",
      "k8 = -9\n",
      "5 8\n"
     ]
    }
   ],
   "source": [
    "#7\n",
    "# 8 ta masalan: 2 -6 1 -9 45 -1 45 -9\n",
    "# oxirigi uchragan eng kichigi: -9 indeksi: 8\n",
    "# birinchi uchragan eng kattasi: 45 indeksi: 5\n",
    "\n",
    "n = int(input(\"n = \"))\n",
    "\n",
    "flag = True\n",
    "\n",
    "for i in range(1,n+1):\n",
    "    k = int(input(f\"k{i} = \"))\n",
    "    if flag:\n",
    "        maxi = k\n",
    "        mini = k\n",
    "        flag = False\n",
    "    if k > maxi:\n",
    "        maxi = k\n",
    "        sanoq_maxi = i\n",
    "    if k <= mini:\n",
    "        mini = k\n",
    "        sanoq_mini = i\n",
    "        \n",
    "print(sanoq_maxi,sanoq_mini)"
   ]
  },
  {
   "cell_type": "code",
   "execution_count": 9,
   "id": "456d2b14",
   "metadata": {},
   "outputs": [
    {
     "name": "stdout",
     "output_type": "stream",
     "text": [
      "n = 8\n",
      "k1 = 2\n",
      "k2 = -6\n",
      "k3 = 1\n",
      "k4 = -9\n",
      "k5 = 45\n",
      "k6 = -1\n",
      "k7 = 45\n",
      "k8 = -9\n",
      "4 8\n"
     ]
    }
   ],
   "source": [
    "#8\n",
    "# 8 ta masalan: 2 -6 1 -9 45 -1 45 -9\n",
    "# oxirigi uchragan eng kichigi: -9 indeksi: 8\n",
    "# birinchi uchragan eng kichigi: -9 indeksi: 4\n",
    "\n",
    "n = int(input(\"n = \"))\n",
    "\n",
    "flag = True\n",
    "\n",
    "for i in range(1,n+1):\n",
    "    k = int(input(f\"k{i} = \"))\n",
    "    if flag:\n",
    "        mini = k\n",
    "        flag = False\n",
    "        \n",
    "    if k <= mini:\n",
    "        sanoq_oxir = i\n",
    "        \n",
    "    if k < mini:\n",
    "        mini = k\n",
    "        sanoq_bir = i\n",
    "print(sanoq_bir,sanoq_oxir)"
   ]
  },
  {
   "cell_type": "code",
   "execution_count": 10,
   "id": "f0930ec8",
   "metadata": {},
   "outputs": [
    {
     "name": "stdout",
     "output_type": "stream",
     "text": [
      "n = 8\n",
      "k1 = 2\n",
      "k2 = -6\n",
      "k3 = 1\n",
      "k4 = -9\n",
      "k5 = 45\n",
      "k6 = -1\n",
      "k7 = 45\n",
      "k8 = -9\n",
      "5 7\n"
     ]
    }
   ],
   "source": [
    "#9     \n",
    "# 8 ta masalan: 2 -6 1 -9 45 -1 45 -9\n",
    "# oxirigi uchragan eng kattasi: 45    indeksi: 7\n",
    "# birinchi uchragan eng kattasi: 45   indeksi: 5\n",
    "\n",
    "n = int(input(\"n = \"))\n",
    "\n",
    "flag = True\n",
    "\n",
    "for i in range(1,n+1):\n",
    "    k = int(input(f\"k{i} = \"))\n",
    "    if flag:\n",
    "        maxi = k\n",
    "        flag = False\n",
    "        \n",
    "    if k >= maxi:\n",
    "        sanoq_oxir = i\n",
    "        \n",
    "    if k > maxi:\n",
    "        maxi = k\n",
    "        sanoq_bir = i\n",
    "        \n",
    "print(sanoq_bir,sanoq_oxir)"
   ]
  },
  {
   "cell_type": "code",
   "execution_count": 12,
   "id": "14909fb3",
   "metadata": {
    "scrolled": true
   },
   "outputs": [
    {
     "name": "stdout",
     "output_type": "stream",
     "text": [
      "n = 8\n",
      "k1 = 2\n",
      "k2 = -6\n",
      "k3 = 1\n",
      "k4 = -9\n",
      "k5 = 45\n",
      "k6 = -1\n",
      "k7 = 45\n",
      "k8 = -9\n",
      "Ekstremallar: 45 -9\n",
      "Birinchi Ekstremal tartibi: 4\n"
     ]
    }
   ],
   "source": [
    "#10   \n",
    "# 8 ta masalan: 2 -6 1 -9 45 -1 45 -9\n",
    "# birinchi uchragan ekstremal: -9    indeksi: 4\n",
    "\n",
    "n = int(input(\"n = \"))\n",
    "\n",
    "flag = True\n",
    "\n",
    "for i in range(1,n+1):\n",
    "    k = int(input(f\"k{i} = \"))\n",
    "    if flag:\n",
    "        maxi = k\n",
    "        mini = k\n",
    "        flag = False \n",
    "        \n",
    "    if k > maxi:\n",
    "        maxi = k\n",
    "        sanoq1 = i\n",
    "        \n",
    "    if k < mini:\n",
    "        mini = k\n",
    "        sanoq2 = i\n",
    "print(\"Ekstremallar:\",maxi,mini)\n",
    "if sanoq1 > sanoq2:\n",
    "    print(\"Birinchi Ekstremal tartibi:\",sanoq2)\n",
    "else:\n",
    "    print(\"Birinchi Ekstremal tartibi:\",sanoq1)"
   ]
  },
  {
   "cell_type": "code",
   "execution_count": 15,
   "id": "315b7129",
   "metadata": {},
   "outputs": [
    {
     "name": "stdout",
     "output_type": "stream",
     "text": [
      "n = 8\n",
      "k1 = 2\n",
      "k2 = -6\n",
      "k3 = 1\n",
      "k4 = -9\n",
      "k5 = 45\n",
      "k6 = -1\n",
      "k7 = 45\n",
      "k8 = -9\n",
      "Ekstremallar: 45 -9\n",
      "Oxirgi Ekstremal tartibi: 8\n"
     ]
    }
   ],
   "source": [
    "#11\n",
    "# 8 ta masalan: 2 -6 1 -9 45 -1 45 -9\n",
    "# oxirigi uchragan ekstremal: -9    indeksi: 8\n",
    "\n",
    "n = int(input(\"n = \"))\n",
    "\n",
    "flag = True\n",
    "\n",
    "for i in range(1,n+1):\n",
    "    k = int(input(f\"k{i} = \"))\n",
    "    if flag:\n",
    "        maxi = k\n",
    "        mini = k\n",
    "        flag = False\n",
    "        \n",
    "    if k >= maxi:\n",
    "        maxi = k\n",
    "        sanoq1 = i\n",
    "        \n",
    "    if k <= mini:\n",
    "        mini = k\n",
    "        sanoq2 = i\n",
    "print(\"Ekstremallar:\",maxi,mini)\n",
    "if sanoq1 < sanoq2:\n",
    "    print(\"Oxirgi Ekstremal tartibi:\",sanoq2)\n",
    "else:\n",
    "    print(\"Oxirgi Ekstremal tartibi:\",sanoq1)"
   ]
  },
  {
   "cell_type": "code",
   "execution_count": 17,
   "id": "8909acba",
   "metadata": {},
   "outputs": [
    {
     "name": "stdout",
     "output_type": "stream",
     "text": [
      "n = 6\n",
      "k1 = -5\n",
      "k2 = 4\n",
      "k3 = 0\n",
      "k4 = 2\n",
      "k5 = 1\n",
      "k6 = -45\n",
      "1\n"
     ]
    }
   ],
   "source": [
    "#12\n",
    "n = int(input(\"n = \"))\n",
    "\n",
    "musbat = 0\n",
    "flag = True\n",
    "for i in range(1,n+1):\n",
    "    k = int(input(f\"k{i} = \")) \n",
    "    if flag and k > 0:\n",
    "        musbat = k\n",
    "        flag = False\n",
    "    if k > 0 and k < musbat:\n",
    "        musbat = k\n",
    "print(musbat)"
   ]
  },
  {
   "cell_type": "code",
   "execution_count": 19,
   "id": "aa556dab",
   "metadata": {},
   "outputs": [
    {
     "name": "stdout",
     "output_type": "stream",
     "text": [
      "n = 6\n",
      "k1 = 5\n",
      "k2 = 3\n",
      "k3 = 7\n",
      "k4 = 9\n",
      "k5 = 7\n",
      "k6 = 9\n",
      "4\n"
     ]
    }
   ],
   "source": [
    "#13\n",
    "n = int(input(\"n = \"))\n",
    "\n",
    "flag = True\n",
    "\n",
    "for i in range(1,n+1):\n",
    "    k = int(input(f\"k{i} = \"))\n",
    "    if flag and k%2==1:\n",
    "        toq = k\n",
    "        sanoq = i                    \n",
    "        flag = False\n",
    "    if k%2==1 and toq < k:\n",
    "        toq = k\n",
    "        sanoq = i\n",
    "print(sanoq)"
   ]
  },
  {
   "cell_type": "code",
   "execution_count": 22,
   "id": "449ccec4",
   "metadata": {},
   "outputs": [
    {
     "name": "stdout",
     "output_type": "stream",
     "text": [
      "B = 89\n",
      "k1 = 2\n",
      "k2 = 5\n",
      "k3 = 5\n",
      "k4 = 44\n",
      "k5 = 4\n",
      "k6 = 6\n",
      "k7 = 8\n",
      "k8 = 79\n",
      "k9 = 12\n",
      "k10 = 45\n",
      "00\n"
     ]
    }
   ],
   "source": [
    "#14\n",
    "b = int(input(\"B = \"))\n",
    "\n",
    "flag = True\n",
    "sanoq = 0\n",
    "for i in range(1,11):\n",
    "    k = int(input(f\"k{i} = \"))\n",
    "    if k > b and flag:\n",
    "        katta = k\n",
    "        sanoq = i\n",
    "        flag = False\n",
    "    if k > b and katta > k:\n",
    "        katta = k\n",
    "        sanoq = i\n",
    "if sanoq:\n",
    "    print(sanoq)\n",
    "else:\n",
    "    print(\"00\")"
   ]
  },
  {
   "cell_type": "code",
   "execution_count": 23,
   "id": "fb09f8ee",
   "metadata": {},
   "outputs": [
    {
     "name": "stdout",
     "output_type": "stream",
     "text": [
      "B = 4\n",
      "C = 25\n",
      "b < k < c\n",
      "k1 = 5\n",
      "k2 = 89\n",
      "k3 = 26\n",
      "k4 = 24\n",
      "k5 = 45\n",
      "k6 = 78\n",
      "k7 = 16\n",
      "k8 = 20\n",
      "k9 = 22\n",
      "k10 = 29\n",
      "4\n"
     ]
    }
   ],
   "source": [
    "#15\n",
    "b = int(input(\"B = \"))\n",
    "c = int(input(\"C = \"))\n",
    "\n",
    "flag = True\n",
    "sanoq = 0\n",
    "for i in range(1,11):\n",
    "    k = int(input(f\"k{i} = \"))\n",
    "    if b < k < c and flag:\n",
    "        son = k\n",
    "        sanoq = i\n",
    "        flag = False\n",
    "    if b < k < c and son < k:\n",
    "        son = k\n",
    "        sanoq = i\n",
    "if sanoq:\n",
    "    print(sanoq)\n",
    "else:\n",
    "    print(\"00\")"
   ]
  },
  {
   "cell_type": "code",
   "execution_count": 31,
   "id": "5a68c9eb",
   "metadata": {},
   "outputs": [
    {
     "name": "stdout",
     "output_type": "stream",
     "text": [
      "n = 9\n",
      "k1 = 5\n",
      "k2 = 56\n",
      "k3 = -5\n",
      "k4 = -9\n",
      "k5 = 20\n",
      "k6 = -3\n",
      "k7 = -9\n",
      "k8 = 0\n",
      "k9 = 1\n",
      "3\n"
     ]
    }
   ],
   "source": [
    "#16\n",
    "n = int(input(\"n = \"))\n",
    "\n",
    "flag = True\n",
    "sanoq = 0\n",
    "for i in range(1,n+1):\n",
    "    k = int(input(f\"k{i} = \"))\n",
    "    if flag:\n",
    "        mini = k\n",
    "        flag = False\n",
    "    if mini>k:\n",
    "        mini = k\n",
    "        sanoq = i\n",
    "if sanoq:\n",
    "    print(sanoq-1)\n",
    "else:\n",
    "    print(sanoq)"
   ]
  },
  {
   "cell_type": "code",
   "execution_count": 35,
   "id": "7306d4ad",
   "metadata": {},
   "outputs": [
    {
     "name": "stdout",
     "output_type": "stream",
     "text": [
      "n = 10\n",
      "k1 = 45\n",
      "k2 = 12\n",
      "k3 = -9\n",
      "k4 = 5\n",
      "k5 = -3\n",
      "k6 = 0\n",
      "k7 = 45\n",
      "k8 = 8\n",
      "k9 = 13\n",
      "k10 = 0\n",
      "3\n"
     ]
    }
   ],
   "source": [
    "#17\n",
    "n = int(input(\"n = \"))\n",
    "\n",
    "sanoq = 1\n",
    "flag = True\n",
    "\n",
    "for i in range(1,n+1):\n",
    "    k = int(input(f\"k{i} = \"))\n",
    "    if flag:\n",
    "        maxi = k\n",
    "        flag = False\n",
    "    if maxi<=k:\n",
    "        maxi = k\n",
    "        sanoq = i\n",
    "print(n-sanoq)"
   ]
  },
  {
   "cell_type": "code",
   "execution_count": 40,
   "id": "751304f6",
   "metadata": {},
   "outputs": [
    {
     "name": "stdout",
     "output_type": "stream",
     "text": [
      "n = 9\n",
      "k1 = 4\n",
      "k2 = 9\n",
      "k3 = 78\n",
      "k4 = 2\n",
      "k5 = -6\n",
      "k6 = 5\n",
      "k7 = 5\n",
      "k8 = 9\n",
      "k9 = 20\n",
      "0\n"
     ]
    }
   ],
   "source": [
    "#18\n",
    "n = int(input(\"n = \"))\n",
    "\n",
    "flag = True\n",
    "oxir = 0\n",
    "bir = 0\n",
    "\n",
    "for i in range(1,n+1):\n",
    "    k = int(input(f\"k{i} = \"))\n",
    "    if flag:\n",
    "        max_oxir = k\n",
    "        max_bir = k\n",
    "        bir = i\n",
    "        oxir = i\n",
    "        flag = False\n",
    "        \n",
    "    if max_oxir <= k:\n",
    "        max_oxir = k\n",
    "        oxir = i\n",
    "        \n",
    "    if max_bir < k:\n",
    "        max_bir = k\n",
    "        bir = i\n",
    "if oxir==bir:\n",
    "    print(\"0\")\n",
    "else:\n",
    "    print(oxir-bir-1)"
   ]
  },
  {
   "cell_type": "code",
   "execution_count": 10,
   "id": "d5e0259d",
   "metadata": {},
   "outputs": [
    {
     "name": "stdout",
     "output_type": "stream",
     "text": [
      "n = 10\n",
      "k = -2\n",
      "k = 4\n",
      "k = 8\n",
      "k = 0\n",
      "k = -6\n",
      "k = -2\n",
      "k = -6\n",
      "k = 3\n",
      "k = -6\n",
      "k = -4\n",
      "3\n"
     ]
    }
   ],
   "source": [
    "#19\n",
    "# 8 ta masalan:-2 4 8 0 -6 2 -6 3 -6 -4\n",
    "# eng kichik elementlar soni : 3 ta\n",
    "\n",
    "n = int(input(\"n = \"))\n",
    "\n",
    "sanoq = 1\n",
    "flag = True\n",
    "\n",
    "for i in range(1,n+1):\n",
    "    k = int(input(\"k = \"))\n",
    "    if flag:\n",
    "        mini = k\n",
    "        flag = False\n",
    "    elif mini==k:\n",
    "        sanoq += 1\n",
    "        \n",
    "    if mini>k:\n",
    "        mini = k\n",
    "        sanoq=1\n",
    "print(sanoq)"
   ]
  },
  {
   "cell_type": "code",
   "execution_count": 214,
   "id": "c06692de",
   "metadata": {},
   "outputs": [
    {
     "name": "stdout",
     "output_type": "stream",
     "text": [
      "n = 3\n",
      "k1 = 1\n",
      "k2 = 1\n",
      "k3 = 1\n",
      "3\n"
     ]
    }
   ],
   "source": [
    "#20\n",
    "# 10 ta masalan:-2 4 8 0 -6 2 -6 8 -6 -4\n",
    "# ekstremallari soni : 3ta(-6) + 2ta(8) = 5\n",
    "\n",
    "n = int(input(\"n = \"))\n",
    "\n",
    "flag = True\n",
    "for i in range(1,n+1):\n",
    "    k = int(input(f\"k{i} = \"))\n",
    "    if flag:\n",
    "        maxi = k\n",
    "        mini = k\n",
    "        sana_min = 0\n",
    "        sana_max = 0\n",
    "        flag = False\n",
    "    \n",
    "    if maxi < k:\n",
    "        maxi = k\n",
    "        sana_max = 1\n",
    "    elif k==maxi:\n",
    "        sana_max += 1\n",
    "        \n",
    "    if mini > k:\n",
    "        mini = k\n",
    "        sana_min = 1\n",
    "    elif k==mini:\n",
    "        sana_min += 1\n",
    "if mini==maxi:\n",
    "    print(sana_min)\n",
    "else:\n",
    "    print(sana_max + sana_min)    "
   ]
  },
  {
   "cell_type": "code",
   "execution_count": 8,
   "id": "0407f9ee",
   "metadata": {},
   "outputs": [
    {
     "name": "stdout",
     "output_type": "stream",
     "text": [
      "n = 10\n",
      "k1 = 1\n",
      "k2 = 5\n",
      "k3 = 7\n",
      "k4 = 8\n",
      "k5 = 6\n",
      "k6 = 1\n",
      "k7 = 8\n",
      "k8 = 5\n",
      "k9 = 1\n",
      "k10 = 8\n",
      "7.333333333333333\n"
     ]
    }
   ],
   "source": [
    "#21\n",
    "\n",
    "n = int(input(\"n = \"))\n",
    "\n",
    "flag = True\n",
    "s = 0\n",
    "x = 1\n",
    "y = 1\n",
    "for i in range(1,n+1):\n",
    "    k = int(input(f\"k{i} = \"))\n",
    "    s += k\n",
    "    if flag:\n",
    "        maxi = k\n",
    "        mini = k\n",
    "        flag = False\n",
    "        \n",
    "    if maxi < k:\n",
    "        maxi = k\n",
    "        x = 1\n",
    "    elif maxi==k:\n",
    "        x += 1\n",
    "    \n",
    "    if mini > k:\n",
    "        mini = k\n",
    "        y = 1\n",
    "    elif mini==k:\n",
    "        y += 1\n",
    "print((s - mini*y - maxi*x)/(n-x-y))"
   ]
  },
  {
   "cell_type": "code",
   "execution_count": 71,
   "id": "1197b2ac",
   "metadata": {},
   "outputs": [
    {
     "name": "stdout",
     "output_type": "stream",
     "text": [
      "n = 10\n",
      "k1 = 4\n",
      "k2 = 1\n",
      "k3 = 0\n",
      "k4 = -6\n",
      "k5 = 3\n",
      "k6 = 5\n",
      "k7 = 7\n",
      "k8 = -3\n",
      "k9 = 10\n",
      "k10 = 5\n",
      "-6 -3\n"
     ]
    }
   ],
   "source": [
    "#22\n",
    "n = int(input(\"n = \"))\n",
    "                                \n",
    "x = int(input(\"k1 = \"))\n",
    "y = int(input(\"k2 = \"))\n",
    "\n",
    "if x<y:\n",
    "    mini1 = x\n",
    "    mini2 = y\n",
    "else:\n",
    "    mini1 = y\n",
    "    mini2 = x\n",
    "    \n",
    "for i in range(3,n+1):\n",
    "    k = int(input(f\"k{i} = \"))\n",
    "    if mini1<k<mini2:\n",
    "        mini2 = k\n",
    "    if k<mini1:\n",
    "        mini2 = mini1\n",
    "        mini1 = k\n",
    "print(mini1,mini2)"
   ]
  },
  {
   "cell_type": "code",
   "execution_count": 219,
   "id": "02105372",
   "metadata": {},
   "outputs": [
    {
     "name": "stdout",
     "output_type": "stream",
     "text": [
      "n = 8\n",
      "k1 = 4\n",
      "k2 = 9\n",
      "k3 = 2\n",
      "k4 = 3\n",
      "k5 = 7\n",
      "k6 = 6\n",
      "k7 = 5\n",
      "k8 = 1\n",
      "6 7 9\n"
     ]
    }
   ],
   "source": [
    "#23 1-usul\n",
    "n = int(input(\"n = \"))\n",
    "                                \n",
    "x = int(input(\"k1 = \"))\n",
    "y = int(input(\"k2 = \"))\n",
    "z = int(input(\"k3 = \"))\n",
    "\n",
    "if x<y<z:\n",
    "    maxi1 = x\n",
    "    maxi2 = y\n",
    "    maxi3 = z\n",
    "elif x<z<y:\n",
    "    maxi1 = x\n",
    "    maxi2 = z\n",
    "    maxi3 = y\n",
    "elif z<x<y:\n",
    "    maxi1 = z\n",
    "    maxi2 = x\n",
    "    maxi3 = y\n",
    "elif y<z<x:\n",
    "    maxi1 = y\n",
    "    maxi2 = z\n",
    "    maxi3 = x\n",
    "elif y<x<z:\n",
    "    maxi1 = y\n",
    "    maxi2 = x\n",
    "    maxi3 = z\n",
    "elif z<y<x:\n",
    "    maxi1 = z\n",
    "    maxi2 = y\n",
    "    maxi3 = x\n",
    "for i in range(4,n+1):\n",
    "    k = int(input(f\"k{i} = \"))\n",
    "    if maxi1 < k < maxi2:\n",
    "        maxi1 = k\n",
    "    if maxi2 < k < maxi3:\n",
    "        maxi1 = maxi2\n",
    "        maxi2 = k\n",
    "    if maxi3 < k:\n",
    "        maxi1 = maxi2\n",
    "        maxi2 = maxi3\n",
    "        maxi3 = k\n",
    "print(maxi1,maxi2,maxi3)"
   ]
  },
  {
   "cell_type": "code",
   "execution_count": 224,
   "id": "5bbf0088",
   "metadata": {},
   "outputs": [
    {
     "name": "stdout",
     "output_type": "stream",
     "text": [
      "n = 5\n",
      "a1 = 5\n",
      "a2 = 8\n",
      "a3 = 0\n",
      "a4 = 2\n",
      "a5 = 9\n",
      "9 8 5\n"
     ]
    }
   ],
   "source": [
    "#23 2-usul\n",
    "n = int(input(\"n = \"))\n",
    "\n",
    "maxi1 = int(input(\"a1 = \"))\n",
    "maxi2 = int(input(\"a2 = \"))\n",
    "maxi3 = int(input(\"a3 = \"))\n",
    "\n",
    "if maxi1<=maxi2:\n",
    "    maxi1,maxi2 = maxi2,maxi1\n",
    "if maxi1<=maxi3:\n",
    "    maxi1,maxi3 = maxi3,maxi1\n",
    "if maxi2<=maxi3:\n",
    "    maxi2,maxi3 = maxi3,maxi2\n",
    "    \n",
    "for i in range(4,n+1):\n",
    "    a = int(input(f\"a{i} = \"))\n",
    "    if a>maxi1:\n",
    "        maxi3 = maxi2\n",
    "        maxi2 = maxi1\n",
    "        maxi1 = a\n",
    "    elif maxi1>=a and a>maxi2:\n",
    "        maxi3 = maxi2\n",
    "        maxi2 = a\n",
    "    elif a<= maxi2 and a>maxi3:\n",
    "        maxi3 = a\n",
    "print(maxi1,maxi2,maxi3)\n"
   ]
  },
  {
   "cell_type": "code",
   "execution_count": 226,
   "id": "5db2e005",
   "metadata": {},
   "outputs": [
    {
     "name": "stdout",
     "output_type": "stream",
     "text": [
      "n = 10\n",
      "k1 = 5\n",
      "k2 = 8\n",
      "k3 = 2\n",
      "k4 = 9\n",
      "k5 = 3\n",
      "k6 = 1\n",
      "k7 = 5\n",
      "k8 = 6\n",
      "k9 = 4\n",
      "k10 = 5\n",
      "13\n"
     ]
    }
   ],
   "source": [
    "#24\n",
    "n = int(input(\"n = \"))\n",
    "\n",
    "flag = True\n",
    "m =  int(input(\"k1 = \"))\n",
    "for i in range(2,n+1):\n",
    "    k = int(input(f\"k{i} = \"))\n",
    "    if flag:\n",
    "        s = m + k\n",
    "        flag = False\n",
    "    if m + k > s:\n",
    "        s = m + k\n",
    "    m = k\n",
    "        \n",
    "print(s)"
   ]
  },
  {
   "cell_type": "code",
   "execution_count": 225,
   "id": "089aaee7",
   "metadata": {},
   "outputs": [
    {
     "name": "stdout",
     "output_type": "stream",
     "text": [
      "n = 12\n",
      "k1 = 4\n",
      "k2 = 5\n",
      "k3 = 6\n",
      "k4 = 7\n",
      "k5 = 8\n",
      "k6 = 9\n",
      "k7 = 10\n",
      "k8 = 11\n",
      "k9 = 2\n",
      "k10 = 9\n",
      "k11 = 2\n",
      "k12 = 3\n",
      "Javob: 6 \n",
      " 11 12\n"
     ]
    }
   ],
   "source": [
    "#25\n",
    "n = int(input(\"n = \"))\n",
    "\n",
    "flag = True\n",
    "m = int(input(\"k1 = \"))\n",
    "for i in range(2,n+1):\n",
    "    k = int(input(f\"k{i} = \"))\n",
    "    if flag:\n",
    "        s = m * k\n",
    "        birinchi = 1\n",
    "        ikkinchi = 2\n",
    "        flag = False\n",
    "    if m * k < s:\n",
    "        s = m * k\n",
    "        birinchi = i-1\n",
    "        ikkinchi = i\n",
    "    m = k\n",
    "        \n",
    "print(\"Javob:\",s,\"\\n\",birinchi,ikkinchi)"
   ]
  },
  {
   "cell_type": "code",
   "execution_count": 238,
   "id": "9bc10e1d",
   "metadata": {},
   "outputs": [
    {
     "name": "stdout",
     "output_type": "stream",
     "text": [
      "n = 5\n",
      "k1 = 1\n",
      "k2 = 1\n",
      "k3 = 1\n",
      "k4 = 2\n",
      "k5 = 2\n",
      "2\n"
     ]
    }
   ],
   "source": [
    "#26 1-usul\n",
    "n = int(input(\"n = \"))\n",
    "indeks = 0\n",
    "sanoq = 0\n",
    "s = 0\n",
    "for i in range(1,n+1):\n",
    "    k = int(input(f\"k{i} = \"))\n",
    "    if k%2==0:   \n",
    "        indeks = i\n",
    "        sanoq += 1\n",
    "        if sanoq > s:\n",
    "            s = sanoq\n",
    "    else:\n",
    "        sanoq = 0\n",
    "        indeks = i\n",
    "print(s)"
   ]
  },
  {
   "cell_type": "code",
   "execution_count": 239,
   "id": "7bc7905e",
   "metadata": {},
   "outputs": [
    {
     "name": "stdout",
     "output_type": "stream",
     "text": [
      "n = 5\n",
      "k1 = 1\n",
      "k2 = 1\n",
      "k3 = 1\n",
      "k4 = 2\n",
      "k5 = 2\n",
      "2\n"
     ]
    }
   ],
   "source": [
    "#26 2-usul\n",
    "\n",
    "n = int(input(\"n = \"))\n",
    "s = 0\n",
    "maxi_s = 0\n",
    "x = True\n",
    "for i in range(1,n+1):\n",
    "    k = int(input(f\"k{i} = \"))  \n",
    "    if k%2==0:\n",
    "        s += 1\n",
    "    else:\n",
    "        s = 0\n",
    "    if maxi_s<s:\n",
    "        maxi_s = s\n",
    "if maxi_s==0:\n",
    "    print(\"juft son yo'q\")\n",
    "else:\n",
    "    print(maxi_s)"
   ]
  },
  {
   "cell_type": "code",
   "execution_count": 96,
   "id": "5507ccc3",
   "metadata": {},
   "outputs": [
    {
     "name": "stdout",
     "output_type": "stream",
     "text": [
      "n = 15\n",
      "k1 = 2\n",
      "k2 = 2\n",
      "k3 = 8\n",
      "k4 = 8\n",
      "k5 = 5\n",
      "k6 = 5\n",
      "k7 = 5\n",
      "k8 = 9\n",
      "k9 = 6\n",
      "k10 = 6\n",
      "k11 = 6\n",
      "k12 = 6\n",
      "k13 = 6\n",
      "k14 = 2\n",
      "k15 = 2\n",
      "5 ta element \n",
      "birinchisining indeksi 9\n"
     ]
    }
   ],
   "source": [
    "#27\n",
    "n = int(input(\"n = \"))\n",
    "\n",
    "sanoq = 1\n",
    "s = 0\n",
    "indeks = 1\n",
    "m = int(input(\"k1 = \"))\n",
    "for i in range(2,n+1):\n",
    "    k = int(input(f\"k{i} = \"))\n",
    "    if m == k and indeks ==i-1 :\n",
    "        indeks = i\n",
    "        m = k\n",
    "        sanoq += 1\n",
    "        if sanoq > s:\n",
    "            s = sanoq\n",
    "            index = i\n",
    "    if m!=k:\n",
    "        m = k\n",
    "        sanoq = 1\n",
    "        indeks = i\n",
    "print(s,\"ta element\",\"\\nbirinchisining indeksi\",index-s+1)"
   ]
  },
  {
   "cell_type": "code",
   "execution_count": 233,
   "id": "3fe185f9",
   "metadata": {},
   "outputs": [
    {
     "name": "stdout",
     "output_type": "stream",
     "text": [
      "n = 5\n",
      "k1 = 1\n",
      "k2 = 1\n",
      "k3 = 1\n",
      "k4 = 0\n",
      "k5 = 0\n",
      "3 1\n"
     ]
    }
   ],
   "source": [
    "#28\n",
    "n = int(input(\"n = \"))\n",
    "\n",
    "index = 0\n",
    "sanoq = 0\n",
    "s = 0\n",
    "for i in range(1,n+1):\n",
    "    k = int(input(f\"k{i} = \"))\n",
    "    if k==1:\n",
    "        index = i\n",
    "        sanoq += 1\n",
    "        if sanoq>s:\n",
    "            s = sanoq\n",
    "            nomer = index\n",
    "    else:\n",
    "        sanoq = 0\n",
    "        index = i\n",
    "if s:\n",
    "    print(s,nomer-s+1)\n",
    "else:\n",
    "    print(0)"
   ]
  },
  {
   "cell_type": "code",
   "execution_count": 1,
   "id": "48c092af",
   "metadata": {},
   "outputs": [
    {
     "name": "stdout",
     "output_type": "stream",
     "text": [
      "n = 6\n",
      "k1 = 1\n",
      "k2 = 1\n",
      "k3 = 0\n",
      "k4 = 1\n",
      "k5 = 0\n",
      "k6 = 0\n",
      "2\n"
     ]
    }
   ],
   "source": [
    "#29\n",
    "n = int(input(\"n = \"))\n",
    "\n",
    "flag = True\n",
    "for i in range(1,n+1):\n",
    "    k = int(input(f\"k{i} = \"))\n",
    "    if flag:\n",
    "        m = k\n",
    "        sanoq = 1\n",
    "        s = 1\n",
    "        flag = False\n",
    "    elif m >= k:\n",
    "        if m > k:\n",
    "            sanoq = 1\n",
    "            s = 1\n",
    "            m = k\n",
    "        elif m == k:\n",
    "            sanoq += 1\n",
    "            m = k\n",
    "            if sanoq>s:\n",
    "                s = sanoq\n",
    "    else:\n",
    "        sanoq = 0\n",
    "print(s)"
   ]
  },
  {
   "cell_type": "code",
   "execution_count": 2,
   "id": "20b929ba",
   "metadata": {},
   "outputs": [
    {
     "name": "stdout",
     "output_type": "stream",
     "text": [
      "n = 8\n",
      "k1 = 9\n",
      "k2 = 9\n",
      "k3 = 5\n",
      "k4 = 9\n",
      "k5 = 9\n",
      "k6 = 9\n",
      "k7 = 6\n",
      "k8 = 9\n",
      "Maximumi = 9\n",
      "Minimum soni = 1 ta\n"
     ]
    }
   ],
   "source": [
    "#30\n",
    "n = int(input(\"n = \"))\n",
    "\n",
    "flag = True\n",
    "sanoq  = 1\n",
    "for i in range(1,n+1):\n",
    "    k = int(input(f\"k{i} = \"))\n",
    "    if i == 1:\n",
    "        maxi = k\n",
    "        continue\n",
    "\n",
    "    if maxi == k:\n",
    "        sanoq += 1\n",
    "    elif maxi < k:\n",
    "        sanoq = 1\n",
    "        s = 1\n",
    "        maxi = k\n",
    "        flag = True\n",
    "    else:\n",
    "        if flag == True:\n",
    "            s = sanoq\n",
    "            flag = False\n",
    "        elif sanoq != 0 and sanoq < s:\n",
    "            s = sanoq\n",
    "        sanoq = 0\n",
    "    if n == i:\n",
    "            if flag == True:\n",
    "                s = sanoq\n",
    "            elif sanoq != 0 and sanoq < s:\n",
    "                s = sanoq\n",
    "print(f\"Maximumi = {maxi}\\nMinimum soni = {s} ta\")\n"
   ]
  }
 ],
 "metadata": {
  "kernelspec": {
   "display_name": "Python 3 (ipykernel)",
   "language": "python",
   "name": "python3"
  },
  "language_info": {
   "codemirror_mode": {
    "name": "ipython",
    "version": 3
   },
   "file_extension": ".py",
   "mimetype": "text/x-python",
   "name": "python",
   "nbconvert_exporter": "python",
   "pygments_lexer": "ipython3",
   "version": "3.10.3"
  }
 },
 "nbformat": 4,
 "nbformat_minor": 5
}
