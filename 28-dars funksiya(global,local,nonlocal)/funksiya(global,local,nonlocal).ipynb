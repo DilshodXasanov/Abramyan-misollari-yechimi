{
 "cells": [
  {
   "cell_type": "markdown",
   "id": "3ac12d27",
   "metadata": {},
   "source": [
    "# 21/09/2022\n",
    "\n",
    "# Python asoslari\n",
    "\n",
    "# 28-dars : funksiya(global,local,nonlocal)\n",
    "\n",
    "# Muallif: Farrux Sotivoldiyev"
   ]
  },
  {
   "cell_type": "markdown",
   "id": "84aaf55e",
   "metadata": {},
   "source": [
    "# Lokal"
   ]
  },
  {
   "cell_type": "code",
   "execution_count": 48,
   "id": "ababc660",
   "metadata": {},
   "outputs": [
    {
     "name": "stdout",
     "output_type": "stream",
     "text": [
      "55\n",
      "0\n"
     ]
    }
   ],
   "source": [
    "n = 0\n",
    "def local():\n",
    "    p = 0\n",
    "    for i in range(11):\n",
    "        p += i\n",
    "    print(p)\n",
    "local()\n",
    "print(n)"
   ]
  },
  {
   "cell_type": "code",
   "execution_count": 125,
   "id": "461ea17b",
   "metadata": {},
   "outputs": [
    {
     "ename": "NameError",
     "evalue": "name 'p' is not defined",
     "output_type": "error",
     "traceback": [
      "\u001b[1;31m---------------------------------------------------------------------------\u001b[0m",
      "\u001b[1;31mNameError\u001b[0m                                 Traceback (most recent call last)",
      "Input \u001b[1;32mIn [125]\u001b[0m, in \u001b[0;36m<cell line: 2>\u001b[1;34m()\u001b[0m\n\u001b[0;32m      1\u001b[0m \u001b[38;5;66;03m# local p ni tashqaridan chaaqirib bo'lmaydi\u001b[39;00m\n\u001b[1;32m----> 2\u001b[0m \u001b[38;5;28mprint\u001b[39m(\u001b[43mp\u001b[49m)\n",
      "\u001b[1;31mNameError\u001b[0m: name 'p' is not defined"
     ]
    }
   ],
   "source": [
    "# local p ni tashqaridan chaaqirib bo'lmaydi\n",
    "print(p)"
   ]
  },
  {
   "cell_type": "markdown",
   "id": "aaa0b677",
   "metadata": {},
   "source": [
    "# Global"
   ]
  },
  {
   "cell_type": "code",
   "execution_count": 43,
   "id": "382f4123",
   "metadata": {},
   "outputs": [
    {
     "name": "stdout",
     "output_type": "stream",
     "text": [
      "55\n",
      "55\n"
     ]
    }
   ],
   "source": [
    "n = 0\n",
    "def glob():\n",
    "    global n\n",
    "    for i in range(11):\n",
    "        n += i\n",
    "    print(n)\n",
    "glob()\n",
    "print(n)"
   ]
  },
  {
   "cell_type": "code",
   "execution_count": 44,
   "id": "6451726a",
   "metadata": {},
   "outputs": [
    {
     "name": "stdout",
     "output_type": "stream",
     "text": [
      "55\n"
     ]
    }
   ],
   "source": [
    "print(n)"
   ]
  },
  {
   "cell_type": "markdown",
   "id": "1ef69e5f",
   "metadata": {},
   "source": [
    "# nonlocal"
   ]
  },
  {
   "cell_type": "code",
   "execution_count": 4,
   "id": "58b98eed",
   "metadata": {},
   "outputs": [
    {
     "data": {
      "text/plain": [
       "9"
      ]
     },
     "execution_count": 4,
     "metadata": {},
     "output_type": "execute_result"
    }
   ],
   "source": [
    "def nonloc():\n",
    "    k = 3\n",
    "    def nonloc2():\n",
    "        nonlocal k\n",
    "        k = 9\n",
    "    nonloc2()\n",
    "    return k\n",
    "\n",
    "nonloc()"
   ]
  },
  {
   "cell_type": "markdown",
   "id": "7ff688a1",
   "metadata": {},
   "source": [
    "# Funksiya qo'shimcha\n"
   ]
  },
  {
   "cell_type": "code",
   "execution_count": 80,
   "id": "7608123a",
   "metadata": {},
   "outputs": [
    {
     "name": "stdout",
     "output_type": "stream",
     "text": [
      "SALOM\n",
      "ALIK\n"
     ]
    }
   ],
   "source": [
    "def katta(satr):\n",
    "    return satr.upper()\n",
    "\n",
    "kichik,qale = katta,katta\n",
    "\n",
    "print(kichik(\"Salom\"))\n",
    "print(qale(\"Alik\"))"
   ]
  },
  {
   "cell_type": "code",
   "execution_count": 81,
   "id": "a5bbaa63",
   "metadata": {},
   "outputs": [
    {
     "name": "stdout",
     "output_type": "stream",
     "text": [
      "1 (2, 3, 4, 5)\n"
     ]
    }
   ],
   "source": [
    "def bir(a,*b):\n",
    "    print(a,b)\n",
    "bir(1,2,3,4,5)"
   ]
  },
  {
   "cell_type": "code",
   "execution_count": 88,
   "id": "eb4585ef",
   "metadata": {},
   "outputs": [
    {
     "name": "stdout",
     "output_type": "stream",
     "text": [
      "1 {'o': 3, 'j': 2, 'v': 8, 'k': 9}\n"
     ]
    }
   ],
   "source": [
    "def bir(a,**b):\n",
    "    print(a,b)\n",
    "bir(a=1,o=3,j=2,v=8,k=9)"
   ]
  },
  {
   "cell_type": "code",
   "execution_count": 89,
   "id": "33860846",
   "metadata": {},
   "outputs": [
    {
     "name": "stdout",
     "output_type": "stream",
     "text": [
      "1 (2, 44, 5, 65) {'o': 3, 'j': 2, 'v': 8, 'k': 9}\n"
     ]
    }
   ],
   "source": [
    "def bir(a,*b,**c):\n",
    "    print(a,b,c)\n",
    "bir(1,2,44,5,65,o=3,j=2,v=8,k=9)"
   ]
  },
  {
   "cell_type": "code",
   "execution_count": 8,
   "id": "5192477d",
   "metadata": {},
   "outputs": [
    {
     "name": "stdout",
     "output_type": "stream",
     "text": [
      "1818868371968\n",
      "[10101010101, 2, 3, 4, 5, 6, 7, 8]\n",
      "1818868371968\n",
      "[10101010101, 2, 3, 4, 5, 6, 7, 8]\n",
      "1818868371968\n"
     ]
    }
   ],
   "source": [
    "x = [1,2,3,4,5]\n",
    "print(id(x))\n",
    "def massiv(x):\n",
    "    x[0] = 10101010101\n",
    "    x += [6,7,8]\n",
    "    print(x)\n",
    "    print(id(x))\n",
    "massiv(x)\n",
    "print(x)\n",
    "print(id(x))"
   ]
  },
  {
   "cell_type": "code",
   "execution_count": 9,
   "id": "64cd9308",
   "metadata": {},
   "outputs": [
    {
     "name": "stdout",
     "output_type": "stream",
     "text": [
      "1818868191168\n",
      "[10101010101, 2, 3, 4, 5, 6, 7, 8]\n",
      "1818868197632\n",
      "[10101010101, 2, 3, 4, 5]\n",
      "1818868191168\n"
     ]
    }
   ],
   "source": [
    "x = [1,2,3,4,5]\n",
    "print(id(x))\n",
    "def massiv(x):\n",
    "    x[0] = 10101010101\n",
    "    x = x + [6,7,8]\n",
    "    print(x)\n",
    "    print(id(x))\n",
    "massiv(x)\n",
    "print(x)\n",
    "print(id(x))"
   ]
  },
  {
   "cell_type": "markdown",
   "id": "63032d54",
   "metadata": {},
   "source": [
    "# Yield orqali"
   ]
  },
  {
   "cell_type": "code",
   "execution_count": 25,
   "id": "0d79d7bd",
   "metadata": {},
   "outputs": [],
   "source": [
    "def yield_orqali(n):\n",
    "    for i in range(n):\n",
    "        yield i\n",
    "        \n",
    "x = yield_orqali(5)"
   ]
  },
  {
   "cell_type": "code",
   "execution_count": 26,
   "id": "a1c1022d",
   "metadata": {},
   "outputs": [
    {
     "name": "stdout",
     "output_type": "stream",
     "text": [
      "0\n",
      "1\n",
      "2\n",
      "3\n",
      "4\n"
     ]
    }
   ],
   "source": [
    "for i in x:\n",
    "    print(i)"
   ]
  },
  {
   "cell_type": "markdown",
   "id": "abf8d323",
   "metadata": {},
   "source": [
    "# Return orqali"
   ]
  },
  {
   "cell_type": "code",
   "execution_count": 20,
   "id": "d98b881b",
   "metadata": {},
   "outputs": [],
   "source": [
    "def return_orqali(n):\n",
    "    for i in range(n):\n",
    "        return i\n",
    "x = return_orqali(5)"
   ]
  },
  {
   "cell_type": "code",
   "execution_count": 21,
   "id": "a3255e8b",
   "metadata": {},
   "outputs": [
    {
     "name": "stdout",
     "output_type": "stream",
     "text": [
      "0\n"
     ]
    }
   ],
   "source": [
    "print(x)"
   ]
  },
  {
   "cell_type": "code",
   "execution_count": 63,
   "id": "b814c203",
   "metadata": {},
   "outputs": [
    {
     "data": {
      "text/plain": [
       "['__doc__',\n",
       " '__loader__',\n",
       " '__name__',\n",
       " '__package__',\n",
       " '__spec__',\n",
       " 'acos',\n",
       " 'acosh',\n",
       " 'asin',\n",
       " 'asinh',\n",
       " 'atan',\n",
       " 'atan2',\n",
       " 'atanh',\n",
       " 'ceil',\n",
       " 'comb',\n",
       " 'copysign',\n",
       " 'cos',\n",
       " 'cosh',\n",
       " 'degrees',\n",
       " 'dist',\n",
       " 'e',\n",
       " 'erf',\n",
       " 'erfc',\n",
       " 'exp',\n",
       " 'expm1',\n",
       " 'fabs',\n",
       " 'factorial',\n",
       " 'floor',\n",
       " 'fmod',\n",
       " 'frexp',\n",
       " 'fsum',\n",
       " 'gamma',\n",
       " 'gcd',\n",
       " 'hypot',\n",
       " 'inf',\n",
       " 'isclose',\n",
       " 'isfinite',\n",
       " 'isinf',\n",
       " 'isnan',\n",
       " 'isqrt',\n",
       " 'lcm',\n",
       " 'ldexp',\n",
       " 'lgamma',\n",
       " 'log',\n",
       " 'log10',\n",
       " 'log1p',\n",
       " 'log2',\n",
       " 'modf',\n",
       " 'nan',\n",
       " 'nextafter',\n",
       " 'perm',\n",
       " 'pi',\n",
       " 'pow',\n",
       " 'prod',\n",
       " 'radians',\n",
       " 'remainder',\n",
       " 'sin',\n",
       " 'sinh',\n",
       " 'sqrt',\n",
       " 'tan',\n",
       " 'tanh',\n",
       " 'tau',\n",
       " 'trunc',\n",
       " 'ulp']"
      ]
     },
     "execution_count": 63,
     "metadata": {},
     "output_type": "execute_result"
    }
   ],
   "source": [
    "import math\n",
    "dir(math)"
   ]
  }
 ],
 "metadata": {
  "kernelspec": {
   "display_name": "Python 3 (ipykernel)",
   "language": "python",
   "name": "python3"
  },
  "language_info": {
   "codemirror_mode": {
    "name": "ipython",
    "version": 3
   },
   "file_extension": ".py",
   "mimetype": "text/x-python",
   "name": "python",
   "nbconvert_exporter": "python",
   "pygments_lexer": "ipython3",
   "version": "3.9.8"
  }
 },
 "nbformat": 4,
 "nbformat_minor": 5
}
