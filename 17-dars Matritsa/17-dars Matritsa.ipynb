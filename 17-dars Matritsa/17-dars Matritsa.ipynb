{
 "cells": [
  {
   "cell_type": "markdown",
   "id": "f814cc78",
   "metadata": {},
   "source": [
    "# 12/05/2022\n",
    "\n",
    "# Python asoslari\n",
    "\n",
    "# 17-dars : Matritsa bilan ishlash\n",
    "\n",
    "# Muallif: Farrux Sotivoldiyev"
   ]
  },
  {
   "cell_type": "markdown",
   "id": "baa1fc37",
   "metadata": {},
   "source": [
    "## 67 - 100 gacha 👇🤏 "
   ]
  },
  {
   "cell_type": "code",
   "execution_count": 3,
   "id": "3f0b67e4",
   "metadata": {},
   "outputs": [
    {
     "name": "stdout",
     "output_type": "stream",
     "text": [
      "m = 5\n",
      "n = 4\n",
      "9 4 0 4\n",
      "5 5 1 7\n",
      "2 0 7 0\n",
      "8 8 6 9\n",
      "4 4 7 0\n",
      "\n",
      "4 0 4\n",
      "5 1 7\n",
      "0 7 0\n",
      "8 6 9\n",
      "4 7 0\n"
     ]
    }
   ],
   "source": [
    "# Matrix67\n",
    "from random import randint\n",
    "m = int(input(\"m = \"))\n",
    "n = int(input(\"n = \"))\n",
    "matrix = [[randint(-1,9) for i in range(n)] for _ in range(m)]\n",
    "for i in matrix:\n",
    "    print(*i)\n",
    "print()\n",
    "\n",
    "i = 0\n",
    "while i<n:\n",
    "    k = 0\n",
    "    for j in range(m):\n",
    "        if matrix[j][i]>0:\n",
    "            k += 1\n",
    "    if k==m:\n",
    "        for l in matrix:\n",
    "            del l[i]\n",
    "        n -= 1\n",
    "    else:\n",
    "        i += 1\n",
    "        \n",
    "for i in matrix:\n",
    "    print(*i)"
   ]
  },
  {
   "cell_type": "code",
   "execution_count": 4,
   "id": "f0b051c9",
   "metadata": {},
   "outputs": [
    {
     "name": "stdout",
     "output_type": "stream",
     "text": [
      "m = 5\n",
      "n = 5\n",
      "9 4 6 7 5\n",
      "8 4 6 2 9\n",
      "9 5 8 6 5\n",
      "7 7 8 8 1\n",
      "6 8 2 9 1\n",
      "\n",
      "k = 3\n",
      "9 4 6 7 5\n",
      "8 4 6 2 9\n",
      "9 5 8 6 5\n",
      "0 0 0 0 0\n",
      "7 7 8 8 1\n",
      "6 8 2 9 1\n"
     ]
    }
   ],
   "source": [
    "# Matrix68\n",
    "from random import randint\n",
    "m = int(input(\"m = \"))\n",
    "n = int(input(\"n = \"))\n",
    "matrix = [[randint(1,9) for i in range(n)] for _ in range(m)]\n",
    "for i in matrix:\n",
    "    print(*i)\n",
    "print()\n",
    "\n",
    "k = int(input(\"k = \"))\n",
    "temp = [0 for _ in range(n)]\n",
    "for i in range(m):\n",
    "    if i==k:\n",
    "        matrix.insert(i,temp)\n",
    "        break\n",
    "        \n",
    "for i in matrix:\n",
    "    print(*i)"
   ]
  },
  {
   "cell_type": "code",
   "execution_count": 6,
   "id": "336d3554",
   "metadata": {},
   "outputs": [
    {
     "name": "stdout",
     "output_type": "stream",
     "text": [
      "m = 3\n",
      "n = 5\n",
      "1 3 1 6 7\n",
      "1 9 2 1 9\n",
      "1 2 3 6 1\n",
      "\n",
      "k = 2\n",
      "1 3 1 1 6 7\n",
      "1 9 2 1 1 9\n",
      "1 2 3 1 6 1\n"
     ]
    }
   ],
   "source": [
    "# Matrix69\n",
    "from random import randint\n",
    "m = int(input(\"m = \"))\n",
    "n = int(input(\"n = \"))\n",
    "matrix = [[randint(1,9) for i in range(n)] for _ in range(m)]\n",
    "for i in matrix:\n",
    "    print(*i)\n",
    "print()\n",
    "\n",
    "k = int(input(\"k = \"))\n",
    "for i in range(n):\n",
    "    if i==k:\n",
    "        for j in range(m):\n",
    "            matrix[j].insert(i+1,1)\n",
    "        break\n",
    "        \n",
    "for i in matrix:\n",
    "    print(*i)"
   ]
  },
  {
   "cell_type": "code",
   "execution_count": 7,
   "id": "7a1b476c",
   "metadata": {},
   "outputs": [
    {
     "name": "stdout",
     "output_type": "stream",
     "text": [
      "m = 5\n",
      "n = 4\n",
      "7 3 4 7\n",
      "6 6 1 3\n",
      "5 4 2 8\n",
      "5 2 7 1\n",
      "7 3 5 9\n",
      "\n",
      "7 3 4 7\n",
      "6 6 1 3\n",
      "5 4 2 8\n",
      "5 2 7 1\n",
      "7 3 5 9\n",
      "7 3 5 9\n"
     ]
    }
   ],
   "source": [
    "# Matrix70\n",
    "from random import randint\n",
    "m = int(input(\"m = \"))\n",
    "n = int(input(\"n = \"))\n",
    "matrix = [[randint(1,9) for i in range(n)] for _ in range(m)]\n",
    "for i in matrix:\n",
    "    print(*i)\n",
    "print()\n",
    "\n",
    "for i in range(m):\n",
    "    if i==0:\n",
    "        maxi = max(matrix[i])\n",
    "        index = i\n",
    "    elif maxi<max(matrix[i]):\n",
    "        maxi = max(matrix[i])\n",
    "        index = i\n",
    "temp = matrix[index].copy()\n",
    "matrix.insert(index,temp)\n",
    "       \n",
    "for i in matrix:\n",
    "    print(*i)"
   ]
  },
  {
   "cell_type": "code",
   "execution_count": 10,
   "id": "adf9c5eb",
   "metadata": {},
   "outputs": [
    {
     "name": "stdout",
     "output_type": "stream",
     "text": [
      "m = 5\n",
      "n = 4\n",
      "5 7 4 4\n",
      "2 4 7 7\n",
      "7 4 6 1\n",
      "3 4 9 3\n",
      "8 7 7 1\n",
      "\n",
      "5 7 4 4 4\n",
      "2 4 7 7 7\n",
      "7 4 6 1 1\n",
      "3 4 9 3 3\n",
      "8 7 7 1 1\n"
     ]
    }
   ],
   "source": [
    "# Matrix71\n",
    "from random import randint\n",
    "m = int(input(\"m = \"))\n",
    "n = int(input(\"n = \"))\n",
    "matrix = [[randint(1,9) for i in range(n)] for _ in range(m)]\n",
    "for i in matrix:\n",
    "    print(*i)\n",
    "print()\n",
    "\n",
    "mini = matrix[0][0]\n",
    "index = 0\n",
    "for i in range(n):\n",
    "    for j in range(m):\n",
    "        if mini>matrix[j][i]:\n",
    "            mini = matrix[j][i]\n",
    "            index = i\n",
    "for i in range(m):\n",
    "    matrix[i].insert(index+1,matrix[i][index])\n",
    "       \n",
    "for i in matrix:\n",
    "    print(*i)"
   ]
  },
  {
   "cell_type": "code",
   "execution_count": 11,
   "id": "6ceb3729",
   "metadata": {},
   "outputs": [
    {
     "name": "stdout",
     "output_type": "stream",
     "text": [
      "m = 5\n",
      "n = 4\n",
      "5 9 2 4\n",
      "3 -1 5 -1\n",
      "9 2 9 3\n",
      "-2 -2 6 -2\n",
      "-1 6 9 9\n",
      "\n",
      "5 9 1 2 4\n",
      "3 -1 1 5 -1\n",
      "9 2 1 9 3\n",
      "-2 -2 1 6 -2\n",
      "-1 6 1 9 9\n"
     ]
    }
   ],
   "source": [
    "# Matrix72\n",
    "from random import randint\n",
    "m = int(input(\"m = \"))\n",
    "n = int(input(\"n = \"))\n",
    "matrix = [[randint(-2,9) for i in range(n)] for _ in range(m)]\n",
    "for i in matrix:\n",
    "    print(*i)\n",
    "print()\n",
    "\n",
    "for i in range(n):\n",
    "    k = 0\n",
    "    for j in range(m):\n",
    "        if matrix[j][i]>0:\n",
    "            k += 1\n",
    "    if k==m:\n",
    "        for k in range(m):\n",
    "            matrix[k].insert(i,1)\n",
    "        break\n",
    "        \n",
    "for i in matrix:\n",
    "    print(*i)"
   ]
  },
  {
   "cell_type": "code",
   "execution_count": 19,
   "id": "791e97ad",
   "metadata": {},
   "outputs": [
    {
     "name": "stdout",
     "output_type": "stream",
     "text": [
      "m = 4\n",
      "n = 5\n",
      "-1 -3 -5 -7 1\n",
      "-1 0 1 -4 -6\n",
      "0 -1 -5 -3 -7\n",
      "-2 -1 -8 -3 -6\n",
      "\n",
      "-1 -3 -5 -7 0 1\n",
      "-1 0 1 -4 0 -6\n",
      "0 -1 -5 -3 0 -7\n",
      "-2 -1 -8 -3 0 -6\n"
     ]
    }
   ],
   "source": [
    "# Matrix73\n",
    "from random import randint\n",
    "m = int(input(\"m = \"))\n",
    "n = int(input(\"n = \"))\n",
    "matrix = [[randint(-9,2) for i in range(n)] for _ in range(m)]\n",
    "for i in matrix:\n",
    "    print(*i)\n",
    "print()\n",
    "\n",
    "index = -1\n",
    "for i in range(n):\n",
    "    k = 0\n",
    "    for j in range(m):\n",
    "        if matrix[j][i]<0:\n",
    "            k += 1\n",
    "    if k==m:\n",
    "        index = i\n",
    "if index!=-1:\n",
    "    for k in range(m):\n",
    "        matrix[k].insert(index+1,0)\n",
    "    \n",
    "for i in matrix:\n",
    "    print(*i)"
   ]
  },
  {
   "cell_type": "code",
   "execution_count": 1,
   "id": "5c2a8b61",
   "metadata": {},
   "outputs": [
    {
     "name": "stdout",
     "output_type": "stream",
     "text": [
      "m = 5\n",
      "n = 4\n",
      "1 5 2 7\n",
      "8 8 1 9\n",
      "2 5 4 1\n",
      "7 5 5 3\n",
      "4 9 9 7\n",
      "\n",
      "0 5 2 7\n",
      "8 8 0 9\n",
      "0 5 4 0\n",
      "7 5 5 3\n",
      "0 9 9 7\n"
     ]
    }
   ],
   "source": [
    "# Matrix74\n",
    "from random import randint\n",
    "m = int(input(\"m = \"))\n",
    "n = int(input(\"n = \"))\n",
    "matrix = [[randint(1,9) for _ in range(n)]  for _ in range(m)]\n",
    "for i in matrix:\n",
    "    print(*i)\n",
    "print()\n",
    "\n",
    "def circle_max(m,n,matrix):\n",
    "    maxi = max(matrix[0])\n",
    "    for i in range(1,m):\n",
    "        if max(matrix[i]) > maxi:\n",
    "            maxi = max(matrix[i])\n",
    "\n",
    "    for i in range(m):\n",
    "        matrix[i].insert(0,maxi)\n",
    "        matrix[i].append(maxi)\n",
    "\n",
    "    temp = [maxi for _ in range(n+2)]\n",
    "    matrix.insert(0,temp)\n",
    "    matrix.append(temp)\n",
    "    return matrix\n",
    "\n",
    "def lok_min(m,n,matrix):\n",
    "    matrix = circle_max(m,n,matrix)\n",
    "    index = []\n",
    "    for i in range(1,m+1):\n",
    "        for j in range(1,n+1):\n",
    "            if matrix[i][j-1]>matrix[i][j]<matrix[i][j+1] and matrix[i-1][j]>matrix[i][j]<matrix[i+1][j]:\n",
    "                index.append(i)\n",
    "                index.append(j)\n",
    "    for i in range(0,len(index),2):\n",
    "        matrix[index[i]][index[i+1]] = 0\n",
    "    return matrix\n",
    "    \n",
    "def asliga_qaytar(m,n,matrix):\n",
    "    matrix = lok_min(m,n,matrix)\n",
    "    del matrix[0]\n",
    "    del matrix[-1]\n",
    "    for i in range(m):\n",
    "        del matrix[i][0]\n",
    "        del matrix[i][-1]\n",
    "    return matrix\n",
    "\n",
    "for i in asliga_qaytar(m,n,matrix):\n",
    "    print(*i)"
   ]
  },
  {
   "cell_type": "code",
   "execution_count": 6,
   "id": "038fc338",
   "metadata": {},
   "outputs": [
    {
     "name": "stdout",
     "output_type": "stream",
     "text": [
      "m = 5\n",
      "n = 4\n",
      "6 5 9 9\n",
      "4 6 2 4\n",
      "8 4 5 1\n",
      "7 4 7 5\n",
      "9 4 8 4\n",
      "\n",
      "0 5 9 9\n",
      "4 0 2 4\n",
      "0 4 5 1\n",
      "7 4 7 5\n",
      "0 4 0 4\n"
     ]
    }
   ],
   "source": [
    "# Matrix75\n",
    "from random import randint\n",
    "m = int(input(\"m = \"))\n",
    "n = int(input(\"n = \"))\n",
    "matrix = [[randint(1,9) for _ in range(n)]  for _ in range(m)]\n",
    "for i in matrix:\n",
    "    print(*i)\n",
    "print()\n",
    "\n",
    "def circle_min(m,n,matrix):\n",
    "    mini = min(matrix[0])\n",
    "    for i in range(1,m):\n",
    "        if min(matrix[i]) < mini:\n",
    "            mini = min(matrix[i])\n",
    "\n",
    "    for i in range(m):\n",
    "        matrix[i].insert(0,mini)\n",
    "        matrix[i].append(mini)\n",
    "\n",
    "    temp = [mini for _ in range(n+2)]\n",
    "    matrix.insert(0,temp)\n",
    "    matrix.append(temp)\n",
    "    return matrix\n",
    "\n",
    "def lok_max(m,n,matrix):\n",
    "    matrix = circle_min(m,n,matrix)\n",
    "    index = []\n",
    "    for i in range(1,m+1):\n",
    "        for j in range(1,n+1):\n",
    "            if matrix[i][j-1]<matrix[i][j]>matrix[i][j+1] and matrix[i-1][j]<matrix[i][j]>matrix[i+1][j]:\n",
    "                index.append(i)\n",
    "                index.append(j)\n",
    "    for i in range(0,len(index),2):\n",
    "        matrix[index[i]][index[i+1]] = 0\n",
    "    return matrix\n",
    "\n",
    "def asliga_qaytar(m,n,matrix):\n",
    "    matrix = lok_max(m,n,matrix)\n",
    "    del matrix[0]\n",
    "    del matrix[-1]\n",
    "    for i in range(m):\n",
    "        del matrix[i][0]\n",
    "        del matrix[i][-1]\n",
    "    return matrix\n",
    "\n",
    "for i in asliga_qaytar(m,n,matrix):\n",
    "    print(*i)"
   ]
  },
  {
   "cell_type": "code",
   "execution_count": 21,
   "id": "b25d5016",
   "metadata": {},
   "outputs": [
    {
     "name": "stdout",
     "output_type": "stream",
     "text": [
      "m = 5\n",
      "n = 4\n",
      "9 1 9 9\n",
      "9 -1 9 5\n",
      "-2 7 3 7\n",
      "3 8 -1 7\n",
      "1 9 9 8\n",
      "\n",
      "-2 7 3 7\n",
      "1 9 9 8\n",
      "3 8 -1 7\n",
      "9 1 9 9\n",
      "9 -1 9 5\n"
     ]
    }
   ],
   "source": [
    "# Matrix76\n",
    "from random import randint\n",
    "m = int(input(\"m = \"))\n",
    "n = int(input(\"n = \"))\n",
    "matrix = [[randint(-2,9) for i in range(n)] for _ in range(m)]\n",
    "for i in matrix:\n",
    "    print(*i)\n",
    "print()\n",
    "\n",
    "for _ in range(m):\n",
    "    for j in range(m-1):\n",
    "        if matrix[j][0]>matrix[j+1][0]:\n",
    "            matrix[j],matrix[j+1] = matrix[j+1],matrix[j]\n",
    "        \n",
    "for i in matrix:\n",
    "    print(*i)"
   ]
  },
  {
   "cell_type": "code",
   "execution_count": 28,
   "id": "5f3bf914",
   "metadata": {},
   "outputs": [
    {
     "name": "stdout",
     "output_type": "stream",
     "text": [
      "m = 5\n",
      "n = 4\n",
      "2 1 -1 5\n",
      "8 9 6 -2\n",
      "0 7 0 0\n",
      "7 0 5 -1\n",
      "4 -1 -1 7\n",
      "\n",
      "5 2 1 -1\n",
      "-2 8 9 6\n",
      "0 0 7 0\n",
      "-1 7 0 5\n",
      "7 4 -1 -1\n"
     ]
    }
   ],
   "source": [
    "# Matrix77\n",
    "from random import randint\n",
    "m = int(input(\"m = \"))\n",
    "n = int(input(\"n = \"))\n",
    "matrix = [[randint(-2,9) for i in range(n)] for _ in range(m)]\n",
    "for i in matrix:\n",
    "    print(*i)\n",
    "print()\n",
    "\n",
    "for _ in range(n):\n",
    "    for j in range(n-1):\n",
    "        if matrix[-1][j]<matrix[-1][j+1]:\n",
    "            for k in range(m):\n",
    "                matrix[k][j],matrix[k][j+1] = matrix[k][j+1],matrix[k][j]\n",
    "        \n",
    "for i in matrix:\n",
    "    print(*i)"
   ]
  },
  {
   "cell_type": "code",
   "execution_count": 37,
   "id": "442fe8e5",
   "metadata": {},
   "outputs": [
    {
     "name": "stdout",
     "output_type": "stream",
     "text": [
      "m = 5\n",
      "n = 4\n",
      "-4 -3 5 0\n",
      "5 -3 0 9\n",
      "8 2 0 2\n",
      "0 2 9 2\n",
      "9 8 1 -3\n",
      "\n",
      "8 2 0 2\n",
      "0 2 9 2\n",
      "5 -3 0 9\n",
      "9 8 1 -3\n",
      "-4 -3 5 0\n"
     ]
    }
   ],
   "source": [
    "# Matrix78\n",
    "from random import randint\n",
    "m = int(input(\"m = \"))\n",
    "n = int(input(\"n = \"))\n",
    "matrix = [[randint(-5,9) for i in range(n)] for _ in range(m)]\n",
    "for i in matrix:\n",
    "    print(*i)\n",
    "print()\n",
    "\n",
    "for _ in range(m):\n",
    "    for i in range(m-1):\n",
    "        if min(matrix[i])<min(matrix[i+1]):\n",
    "            matrix[i],matrix[i+1] = matrix[i+1],matrix[i]\n",
    "        \n",
    "for i in matrix:\n",
    "    print(*i)"
   ]
  },
  {
   "cell_type": "code",
   "execution_count": 30,
   "id": "c738773b",
   "metadata": {},
   "outputs": [
    {
     "name": "stdout",
     "output_type": "stream",
     "text": [
      "m = 5\n",
      "n = 4\n",
      "-2 9 3 8\n",
      "0 4 7 -2\n",
      "-1 0 5 4\n",
      "9 2 7 3\n",
      "1 9 7 3\n",
      "\n",
      "3 8 -2 9\n",
      "7 -2 0 4\n",
      "5 4 -1 0\n",
      "7 3 9 2\n",
      "7 3 1 9\n"
     ]
    }
   ],
   "source": [
    "# Matrix79\n",
    "from random import randint\n",
    "m = int(input(\"m = \"))\n",
    "n = int(input(\"n = \"))\n",
    "matrix = [[randint(-2,9) for i in range(n)] for _ in range(m)]\n",
    "for i in matrix:\n",
    "    print(*i)\n",
    "print()\n",
    "\n",
    "for _ in range(n):\n",
    "    for i in range(n-1):\n",
    "        maxi1 = matrix[0][i]\n",
    "        maxi2 = matrix[0][i+1]\n",
    "        for k in range(1,m):\n",
    "            if maxi1<matrix[k][i]:\n",
    "                maxi1 = matrix[k][i]\n",
    "        for k in range(1,m):\n",
    "            if maxi2<matrix[k][i+1]:\n",
    "                maxi2 = matrix[k][i+1]\n",
    "        if maxi1>maxi2:\n",
    "            for k in range(m):\n",
    "                matrix[k][i],matrix[k][i+1] = matrix[k][i+1],matrix[k][i]\n",
    "        \n",
    "for i in matrix:\n",
    "    print(*i)"
   ]
  },
  {
   "cell_type": "markdown",
   "id": "60c9074b",
   "metadata": {},
   "source": [
    "### 4.Kvadrat matritsaning diagonallari"
   ]
  },
  {
   "cell_type": "code",
   "execution_count": 35,
   "id": "12fd818c",
   "metadata": {},
   "outputs": [
    {
     "name": "stdout",
     "output_type": "stream",
     "text": [
      "m = 4\n",
      "5 6 3 4\n",
      "1 6 4 3\n",
      "3 9 3 3\n",
      "8 7 9 9\n",
      "23\n"
     ]
    }
   ],
   "source": [
    "# Matrix80\n",
    "from random import randint\n",
    "m = int(input(\"m = \"))\n",
    "matrix = [[randint(1,9) for i in range(m)] for _ in range(m)]\n",
    "for i in matrix:\n",
    "    print(*i)\n",
    "\n",
    "s = 0\n",
    "for i in range(m):\n",
    "    for j in range(m):\n",
    "        if i-j==0:\n",
    "            s += matrix[i][j]\n",
    "print(s)"
   ]
  },
  {
   "cell_type": "code",
   "execution_count": 8,
   "id": "e2b20f16",
   "metadata": {},
   "outputs": [
    {
     "name": "stdout",
     "output_type": "stream",
     "text": [
      "m = 4\n",
      "1 8 4 8\n",
      "2 9 9 9\n",
      "1 8 5 9\n",
      "7 4 1 9\n",
      "32\n"
     ]
    }
   ],
   "source": [
    "# Matrix81\n",
    "from random import randint\n",
    "m = int(input(\"m = \"))\n",
    "matrix = [[randint(1,9) for i in range(m)] for _ in range(m)]\n",
    "for i in matrix:\n",
    "    print(*i)\n",
    "\n",
    "s = 0\n",
    "for i in range(m):\n",
    "    for j in range(m):\n",
    "        if i+j==m-1:\n",
    "            s += matrix[i][j]\n",
    "print(s)"
   ]
  },
  {
   "cell_type": "code",
   "execution_count": 54,
   "id": "8ed7002d",
   "metadata": {},
   "outputs": [
    {
     "name": "stdout",
     "output_type": "stream",
     "text": [
      "m = 5\n",
      "8 2 7 3 8\n",
      "9 7 6 4 7\n",
      "4 5 6 6 4\n",
      "3 4 2 9 5\n",
      "6 9 1 9 4\n",
      "8\n",
      "10\n",
      "15\n",
      "19\n",
      "25\n",
      "9\n",
      "12\n",
      "6\n"
     ]
    }
   ],
   "source": [
    "# Matrix82 # Asosiy dioganalga nisbatan\n",
    "from random import randint\n",
    "m = int(input(\"m = \"))\n",
    "matrix = [[randint(1,9) for i in range(m)] for _ in range(m)]\n",
    "for i in matrix:\n",
    "    print(*i)\n",
    "\n",
    "x = m-1  \n",
    "for k in range((m-1)*2):\n",
    "    s = 0\n",
    "    y = 0\n",
    "    if m-1==k:\n",
    "        x = 1\n",
    "    if m-1>k:\n",
    "        for i in range(x,m):\n",
    "            s += matrix[y][i]\n",
    "            y+=1\n",
    "            \n",
    "        x -= 1\n",
    "    else:\n",
    "        for i in range(x,m):\n",
    "            s += matrix[i][y]\n",
    "            y+=1\n",
    "        x += 1\n",
    "    print(s) "
   ]
  },
  {
   "cell_type": "code",
   "execution_count": 64,
   "id": "5bd61d3f",
   "metadata": {},
   "outputs": [
    {
     "name": "stdout",
     "output_type": "stream",
     "text": [
      "m = 4\n",
      "9 7 6 9\n",
      "1 4 8 4\n",
      "2 3 6 5\n",
      "8 6 6 6\n",
      "9\n",
      "8\n",
      "12\n",
      "16\n",
      "11\n",
      "6\n"
     ]
    }
   ],
   "source": [
    "# Matrix83 # Yordamchi dioganalga nisbatan\n",
    "from random import randint\n",
    "m = int(input(\"m = \"))\n",
    "matrix = [[randint(1,9) for i in range(m)] for _ in range(m)]\n",
    "for i in matrix:\n",
    "    print(*i)\n",
    "\n",
    "x = 0\n",
    "for _ in range((m-1)*2):\n",
    "    s = 0\n",
    "    if m-1==_:\n",
    "        x = 1\n",
    "    if m-1>_:\n",
    "        y = 0\n",
    "        for i in range(x,-1,-1):\n",
    "            s += matrix[y][i]\n",
    "            y+=1\n",
    "        x += 1\n",
    "    else:\n",
    "        y = m-1\n",
    "        for i in range(x,m):\n",
    "            s += matrix[i][y]\n",
    "            y-=1\n",
    "        x += 1\n",
    "    print(s) "
   ]
  },
  {
   "cell_type": "code",
   "execution_count": 68,
   "id": "27dc64b6",
   "metadata": {},
   "outputs": [
    {
     "name": "stdout",
     "output_type": "stream",
     "text": [
      "m = 4\n",
      "1 5 3 6\n",
      "5 8 2 3\n",
      "5 6 6 4\n",
      "6 5 5 8\n",
      "6.0\n",
      "3.0\n",
      "3.6666666666666665\n",
      "5.333333333333333\n",
      "5.0\n",
      "6.0\n"
     ]
    }
   ],
   "source": [
    "# Matrix84 \n",
    "from random import randint\n",
    "m = int(input(\"m = \"))\n",
    "matrix = [[randint(1,9) for i in range(m)] for _ in range(m)]\n",
    "for i in matrix:\n",
    "    print(*i)\n",
    "\n",
    "x = m-1  \n",
    "for k in range((m-1)*2):\n",
    "    s = 0\n",
    "    y = 0\n",
    "    if m-1==k:\n",
    "        x = 1\n",
    "    if m-1>k:\n",
    "        for i in range(x,m):\n",
    "            s += matrix[y][i]\n",
    "            y+=1\n",
    "            \n",
    "        x -= 1\n",
    "    else:\n",
    "        for i in range(x,m):\n",
    "            s += matrix[i][y]\n",
    "            y+=1\n",
    "        x += 1\n",
    "    print(s/(y)) "
   ]
  },
  {
   "cell_type": "code",
   "execution_count": 91,
   "id": "e58ef25a",
   "metadata": {},
   "outputs": [
    {
     "name": "stdout",
     "output_type": "stream",
     "text": [
      "m = 4\n",
      "2 2 3 2\n",
      "3 2 1 6\n",
      "1 5 2 3\n",
      "3 8 2 1\n",
      "2.0\n",
      "2.5\n",
      "2.0\n",
      "5.333333333333333\n",
      "2.5\n",
      "1.0\n"
     ]
    }
   ],
   "source": [
    "# Matrix85\n",
    "from random import randint\n",
    "m = int(input(\"m = \"))\n",
    "matrix = [[randint(1,9) for i in range(m)] for _ in range(m)]\n",
    "for i in matrix:\n",
    "    print(*i)\n",
    "\n",
    "x = 0\n",
    "for _ in range((m-1)*2):\n",
    "    s = 0\n",
    "    if m-1==_:\n",
    "        x = 1\n",
    "    if m-1>_:\n",
    "        y = 0\n",
    "        for i in range(x,-1,-1):\n",
    "            s += matrix[y][i]\n",
    "            y+=1\n",
    "        print(s/y)\n",
    "        x += 1\n",
    "    else:\n",
    "        y = m\n",
    "        for i in range(x,m):\n",
    "            y-=1\n",
    "            s += matrix[i][y]\n",
    "        print(s/(abs(i-y)+1))\n",
    "        x += 1"
   ]
  },
  {
   "cell_type": "code",
   "execution_count": 133,
   "id": "624dd5c8",
   "metadata": {},
   "outputs": [
    {
     "name": "stdout",
     "output_type": "stream",
     "text": [
      "m = 4\n",
      "2 8 8 6\n",
      "4 9 9 3\n",
      "6 4 4 8\n",
      "1 3 6 5\n",
      "6\n",
      "3\n",
      "8\n",
      "4\n",
      "3\n",
      "1\n"
     ]
    }
   ],
   "source": [
    "# Matrix86\n",
    "from random import randint\n",
    "m = int(input(\"m = \"))\n",
    "matrix = [[randint(1,9) for i in range(m)] for _ in range(m)]\n",
    "for i in matrix:\n",
    "    print(*i)\n",
    "\n",
    "x = m-1  \n",
    "for k in range((m-1)*2):\n",
    "    s = 0\n",
    "    y = 0\n",
    "    if m-1==k:\n",
    "        x = 1\n",
    "    if m-1>k:\n",
    "        for i in range(x,m):\n",
    "            if y==0:\n",
    "                mini = matrix[y][i]\n",
    "            elif mini>matrix[y][i]:\n",
    "                mini = matrix[y][i]\n",
    "            y+=1\n",
    "        x -= 1\n",
    "    else:\n",
    "        for i in range(x,m):\n",
    "            if y==0:\n",
    "                mini = matrix[i][y]\n",
    "            elif mini>matrix[i][y]:\n",
    "                mini = matrix[i][y]\n",
    "            y+=1\n",
    "        x += 1\n",
    "    print(mini) "
   ]
  },
  {
   "cell_type": "code",
   "execution_count": 135,
   "id": "fa0f96d2",
   "metadata": {},
   "outputs": [
    {
     "name": "stdout",
     "output_type": "stream",
     "text": [
      "m = 4\n",
      "6 5 6 3\n",
      "6 1 8 7\n",
      "4 9 5 1\n",
      "4 3 5 8\n",
      "6\n",
      "6\n",
      "6\n",
      "7\n",
      "5\n",
      "8\n"
     ]
    }
   ],
   "source": [
    "# Matrix87\n",
    "from random import randint\n",
    "m = int(input(\"m = \"))\n",
    "matrix = [[randint(1,9) for i in range(m)] for _ in range(m)]\n",
    "for i in matrix:\n",
    "    print(*i)\n",
    "\n",
    "x = 0\n",
    "for _ in range((m-1)*2):\n",
    "    s = 0\n",
    "    if m-1==_:\n",
    "        x = 1\n",
    "    if m-1>_:\n",
    "        y = 0\n",
    "        for i in range(x,-1,-1):\n",
    "            if y==0:\n",
    "                maxi = matrix[y][i]\n",
    "            elif maxi<matrix[y][i]:\n",
    "                maxi = matrix[y][i]\n",
    "            y+=1\n",
    "        x += 1\n",
    "    else:\n",
    "        y = m-1\n",
    "        for i in range(x,m):\n",
    "            if y==m-1:\n",
    "                maxi = matrix[i][y]\n",
    "            elif maxi<matrix[i][y]:\n",
    "                maxi = matrix[i][y]\n",
    "            y-=1\n",
    "        x += 1\n",
    "    print(maxi) "
   ]
  },
  {
   "cell_type": "code",
   "execution_count": 16,
   "id": "e138ffd1",
   "metadata": {},
   "outputs": [
    {
     "name": "stdout",
     "output_type": "stream",
     "text": [
      "m = 4\n",
      "9 9 7 1\n",
      "8 9 9 5\n",
      "3 3 6 7\n",
      "8 9 2 6\n",
      "\n",
      "0 9 7 1\n",
      "0 0 9 5\n",
      "0 0 0 7\n",
      "0 0 0 0\n"
     ]
    }
   ],
   "source": [
    "# Matrix88\n",
    "from random import randint\n",
    "m = int(input(\"m = \"))\n",
    "matrix = [[randint(1,9) for i in range(m)] for _ in range(m)]\n",
    "for i in matrix:\n",
    "    print(*i)\n",
    "print()  \n",
    "\n",
    "for i in range(m):\n",
    "    for j in range(i+1):\n",
    "        matrix[i][j] = 0\n",
    "    \n",
    "for i in matrix:\n",
    "    print(*i)"
   ]
  },
  {
   "cell_type": "code",
   "execution_count": 19,
   "id": "4f315a27",
   "metadata": {},
   "outputs": [
    {
     "name": "stdout",
     "output_type": "stream",
     "text": [
      "m = 4\n",
      "9 4 3 6\n",
      "4 3 9 2\n",
      "4 9 2 6\n",
      "6 2 3 1\n",
      "\n",
      "0 0 0 0\n",
      "0 0 0 2\n",
      "0 0 2 6\n",
      "0 2 3 1\n"
     ]
    }
   ],
   "source": [
    "# Matrix89\n",
    "from random import randint\n",
    "m = int(input(\"m = \"))\n",
    "matrix = [[randint(1,9) for i in range(m)] for _ in range(m)]\n",
    "for i in matrix:\n",
    "    print(*i)\n",
    "print()  \n",
    "\n",
    "for i in range(m):\n",
    "    for j in range(m-i):\n",
    "        matrix[i][j] = 0\n",
    "    \n",
    "for i in matrix:\n",
    "    print(*i)"
   ]
  },
  {
   "cell_type": "code",
   "execution_count": 22,
   "id": "39da5141",
   "metadata": {},
   "outputs": [
    {
     "name": "stdout",
     "output_type": "stream",
     "text": [
      "m = 3\n",
      "8 5 4\n",
      "5 5 9\n",
      "2 7 5\n",
      "\n",
      "8 5 0\n",
      "5 0 0\n",
      "0 0 0\n"
     ]
    }
   ],
   "source": [
    "# Matrix90\n",
    "from random import randint\n",
    "m = int(input(\"m = \"))\n",
    "matrix = [[randint(1,9) for i in range(m)] for _ in range(m)]\n",
    "for i in matrix:\n",
    "    print(*i)\n",
    "print()  \n",
    "\n",
    "for i in range(m):\n",
    "    for j in range(m-1,m-i-2,-1):\n",
    "        matrix[i][j] = 0\n",
    "    \n",
    "for i in matrix:\n",
    "    print(*i)"
   ]
  },
  {
   "cell_type": "code",
   "execution_count": 29,
   "id": "8ab3959e",
   "metadata": {},
   "outputs": [
    {
     "name": "stdout",
     "output_type": "stream",
     "text": [
      "m = 4\n",
      "7 3 6 1\n",
      "3 9 3 5\n",
      "5 7 5 2\n",
      "1 8 8 8\n",
      "\n",
      "0 0 0 0\n",
      "3 0 0 0\n",
      "5 7 0 0\n",
      "1 8 8 0\n"
     ]
    }
   ],
   "source": [
    "# Matrix91\n",
    "from random import randint\n",
    "m = int(input(\"m = \"))\n",
    "matrix = [[randint(1,9) for i in range(m)] for _ in range(m)]\n",
    "for i in matrix:\n",
    "    print(*i)\n",
    "print()  \n",
    "\n",
    "for i in range(m):\n",
    "    for j in range(m-1,(i-1),-1):\n",
    "        matrix[i][j] = 0\n",
    "    \n",
    "for i in matrix:\n",
    "    print(*i)"
   ]
  },
  {
   "cell_type": "code",
   "execution_count": 59,
   "id": "9c0437f3",
   "metadata": {},
   "outputs": [
    {
     "name": "stdout",
     "output_type": "stream",
     "text": [
      "m = 5\n",
      "6 3 7 1 7\n",
      "7 5 2 4 1\n",
      "3 9 6 7 6\n",
      "6 5 4 9 8\n",
      "7 4 2 9 5\n",
      "\n",
      "0 0 0 0 0\n",
      "7 0 0 0 1\n",
      "3 9 0 7 6\n",
      "6 5 4 9 8\n",
      "7 4 2 9 5\n"
     ]
    }
   ],
   "source": [
    "# Matrix92\n",
    "from random import randint\n",
    "m = int(input(\"m = \"))\n",
    "matrix = [[randint(1,9) for i in range(m)] for _ in range(m)]\n",
    "for i in matrix:\n",
    "    print(*i)\n",
    "print()\n",
    "\n",
    "for i in range((m%2!=0)+m//2):\n",
    "    for j in range(i,m-i):\n",
    "            matrix[i][j]=0\n",
    "            \n",
    "for i in matrix:\n",
    "    print(*i)"
   ]
  },
  {
   "cell_type": "code",
   "execution_count": 60,
   "id": "efd88c40",
   "metadata": {},
   "outputs": [
    {
     "name": "stdout",
     "output_type": "stream",
     "text": [
      "m = 5\n",
      "2 3 9 8 5\n",
      "6 9 5 3 8\n",
      "7 5 8 9 1\n",
      "9 3 7 9 7\n",
      "3 9 6 4 5\n",
      "\n",
      "2 3 9 8 0\n",
      "6 9 5 0 0\n",
      "7 5 0 0 0\n",
      "9 3 7 0 0\n",
      "3 9 6 4 0\n"
     ]
    }
   ],
   "source": [
    "# Matrix93\n",
    "from random import randint\n",
    "m = int(input(\"m = \"))\n",
    "matrix = [[randint(1,9) for i in range(m)] for _ in range(m)]\n",
    "for i in matrix:\n",
    "    print(*i)\n",
    "print()\n",
    "\n",
    "for i in range(m-1,(m%2!=0)+m//2-2,-1):\n",
    "    for j in range(m-i-1,i+1):\n",
    "            matrix[j][i]=0\n",
    "            \n",
    "for i in matrix:\n",
    "    print(*i)"
   ]
  },
  {
   "cell_type": "code",
   "execution_count": 61,
   "id": "4b40e95f",
   "metadata": {},
   "outputs": [
    {
     "name": "stdout",
     "output_type": "stream",
     "text": [
      "m = 5\n",
      "3 4 2 3 4\n",
      "9 1 6 9 5\n",
      "3 4 5 9 5\n",
      "2 7 3 4 3\n",
      "6 2 9 7 3\n",
      "\n",
      "0 4 2 3 4\n",
      "0 0 6 9 5\n",
      "0 0 0 9 5\n",
      "0 0 3 4 3\n",
      "0 2 9 7 3\n"
     ]
    }
   ],
   "source": [
    "# Matrix94\n",
    "from random import randint\n",
    "m = int(input(\"m = \"))\n",
    "matrix = [[randint(1,9) for i in range(m)] for _ in range(m)]\n",
    "for i in matrix:\n",
    "    print(*i)\n",
    "print()\n",
    "\n",
    "for i in range((m%2!=0)+m//2):\n",
    "    for j in range(i,m-i):\n",
    "            matrix[j][i]=0\n",
    "            \n",
    "for i in matrix:\n",
    "    print(*i)"
   ]
  },
  {
   "cell_type": "code",
   "execution_count": 62,
   "id": "12602005",
   "metadata": {},
   "outputs": [
    {
     "name": "stdout",
     "output_type": "stream",
     "text": [
      "m = 5\n",
      "4 8 5 2 2\n",
      "2 6 4 7 8\n",
      "1 7 2 7 8\n",
      "4 1 2 7 9\n",
      "3 6 6 3 6\n",
      "\n",
      "4 8 5 2 2\n",
      "2 6 4 7 8\n",
      "1 7 0 7 8\n",
      "4 0 0 0 9\n",
      "0 0 0 0 0\n"
     ]
    }
   ],
   "source": [
    "# Matrix95\n",
    "from random import randint\n",
    "m = int(input(\"m = \"))\n",
    "matrix = [[randint(1,9) for i in range(m)] for _ in range(m)]\n",
    "for i in matrix:\n",
    "    print(*i)\n",
    "print()\n",
    "\n",
    "for i in range(m-1,(m%2!=0)+m//2-2,-1):\n",
    "    for j in range(m-i-1,i+1):\n",
    "            matrix[i][j]=0\n",
    "            \n",
    "for i in matrix:\n",
    "    print(*i)"
   ]
  },
  {
   "cell_type": "code",
   "execution_count": 66,
   "id": "98455860",
   "metadata": {},
   "outputs": [
    {
     "name": "stdout",
     "output_type": "stream",
     "text": [
      "m = 4\n",
      "4 4 5 4\n",
      "3 5 7 5\n",
      "4 9 8 8\n",
      "9 7 6 8\n",
      "\n",
      "4 3 4 9\n",
      "4 5 9 7\n",
      "5 7 8 6\n",
      "4 5 8 8\n"
     ]
    }
   ],
   "source": [
    "# Matrix96\n",
    "from random import randint\n",
    "m = int(input(\"m = \"))\n",
    "matrix = [[randint(1,9) for i in range(m)] for _ in range(m)]\n",
    "for i in matrix:\n",
    "    print(*i)\n",
    "print()\n",
    "\n",
    "for i in range(m-1):\n",
    "    for j in range(i+1,m):\n",
    "            matrix[i][j],matrix[j][i]=matrix[j][i],matrix[i][j]\n",
    "            \n",
    "for i in matrix:\n",
    "    print(*i)"
   ]
  },
  {
   "cell_type": "code",
   "execution_count": 71,
   "id": "28403e32",
   "metadata": {},
   "outputs": [
    {
     "name": "stdout",
     "output_type": "stream",
     "text": [
      "m = 4\n",
      "7 4 7 1\n",
      "5 7 7 7\n",
      "2 3 5 8\n",
      "6 6 2 2\n",
      "\n",
      "2 8 7 1\n",
      "2 5 7 7\n",
      "6 3 7 4\n",
      "6 2 5 7\n"
     ]
    }
   ],
   "source": [
    "# Matrix97\n",
    "from random import randint\n",
    "m = int(input(\"m = \"))\n",
    "matrix = [[randint(1,9) for i in range(m)] for _ in range(m)]\n",
    "for i in matrix:\n",
    "    print(*i)\n",
    "print()\n",
    "\n",
    "for i in range(m-1):\n",
    "    for j in range(m-i-1):\n",
    "            matrix[i][j],matrix[m-j-1][m-i-1]=matrix[m-j-1][m-i-1],matrix[i][j]\n",
    "            \n",
    "for i in matrix:\n",
    "    print(*i)"
   ]
  },
  {
   "cell_type": "code",
   "execution_count": 41,
   "id": "a3fe309e",
   "metadata": {},
   "outputs": [
    {
     "name": "stdout",
     "output_type": "stream",
     "text": [
      "m = 5\n",
      "8 4 8 6 9\n",
      "2 7 2 5 2\n",
      "2 5 2 7 6\n",
      "8 9 3 8 6\n",
      "8 5 6 1 8\n",
      "\n",
      "\n",
      "8 1 6 5 8\n",
      "6 8 3 9 8\n",
      "6 7 2 5 2\n",
      "2 5 2 7 2\n",
      "9 6 8 4 8\n"
     ]
    }
   ],
   "source": [
    "# Matrix98 1-usul\n",
    "from random import randint\n",
    "m = int(input(\"m = \"))\n",
    "matrix = [[randint(1,9) for i in range(m)] for _ in range(m)]\n",
    "for i in matrix:\n",
    "    print(*i)\n",
    "print()\n",
    "\n",
    "for i in range((m%2!=0)+m//2):\n",
    "    x = (m%2!=0)+m//2                  #bundan maqsad oxirgi sikldagi birhilliklardan qochish\n",
    "    for j in range((i==m-x)*(-x)+m):\n",
    "        matrix[i][j],matrix[m-i-1][m-j-1]=matrix[m-i-1][m-j-1],matrix[i][j]     \n",
    "print()\n",
    "for k in matrix:\n",
    "    print(*k)\n",
    "    \n",
    "# Matrix98 2-usul\n",
    "from random import randint\n",
    "m = int(input(\"m = \"))\n",
    "matrix = [[randint(1,9) for i in range(m)] for _ in range(m)]\n",
    "for i in matrix:\n",
    "    print(*i)\n",
    "print()\n",
    "\n",
    "matrix.reverse()\n",
    "for i in range(m):\n",
    "    matrix[i].reverse()\n",
    "    \n",
    "print()\n",
    "for k in matrix:\n",
    "    print(*k)\n",
    "    \n",
    "# Matrix98 3-usul\n",
    "from random import randint\n",
    "m = int(input(\"m = \"))\n",
    "matrix = [[randint(1,9) for i in range(m)] for _ in range(m)]\n",
    "for i in matrix:\n",
    "    print(*i)\n",
    "print()\n",
    "    \n",
    "matrix = [[matrix[i][j] for j in range(m-1,-1,-1)] for i in range(m-1,-1,-1)]\n",
    "\n",
    "for k in matrix:\n",
    "    print(*k)"
   ]
  },
  {
   "cell_type": "code",
   "execution_count": 72,
   "id": "06d4b204",
   "metadata": {},
   "outputs": [
    {
     "name": "stdout",
     "output_type": "stream",
     "text": [
      "m = 3\n",
      "2 2 9\n",
      "7 3 7\n",
      "4 5 7\n",
      "\n",
      "7 7 9\n",
      "5 3 2\n",
      "4 7 2\n"
     ]
    }
   ],
   "source": [
    "# Matrix99 \n",
    "from random import randint\n",
    "m = int(input(\"m = \"))\n",
    "matrix = [[randint(1,9) for i in range(m)] for _ in range(m)]\n",
    "for i in matrix:\n",
    "    print(*i)\n",
    "print()\n",
    "    \n",
    "matrix = [[matrix[i][j] for i in range(m)] for j in range(m-1,-1,-1)]\n",
    "\n",
    "for k in matrix:\n",
    "    print(*k)"
   ]
  },
  {
   "cell_type": "code",
   "execution_count": 1,
   "id": "7bca6322",
   "metadata": {},
   "outputs": [
    {
     "name": "stdout",
     "output_type": "stream",
     "text": [
      "m = 5\n",
      "9 3 2 1 5\n",
      "2 3 1 5 7\n",
      "6 8 4 7 2\n",
      "5 1 7 5 5\n",
      "4 5 4 6 6\n",
      "\n",
      "4 5 6 2 9\n",
      "5 1 8 3 3\n",
      "4 7 4 1 2\n",
      "6 5 7 5 1\n",
      "6 5 2 7 5\n"
     ]
    }
   ],
   "source": [
    "# Matrix100 \n",
    "from random import randint\n",
    "m = int(input(\"m = \"))\n",
    "matrix = [[randint(1,9) for i in range(m)] for _ in range(m)]\n",
    "for i in matrix:\n",
    "    print(*i)\n",
    "print()\n",
    "    \n",
    "matrix = [[matrix[i][j] for i in range(m-1,-1,-1)] for j in range(m)]\n",
    "\n",
    "for k in matrix:\n",
    "    print(*k)"
   ]
  },
  {
   "cell_type": "code",
   "execution_count": 3,
   "id": "2d92fb57",
   "metadata": {},
   "outputs": [],
   "source": [
    "# 74-75 ishlash kerak"
   ]
  }
 ],
 "metadata": {
  "kernelspec": {
   "display_name": "Python 3 (ipykernel)",
   "language": "python",
   "name": "python3"
  },
  "language_info": {
   "codemirror_mode": {
    "name": "ipython",
    "version": 3
   },
   "file_extension": ".py",
   "mimetype": "text/x-python",
   "name": "python",
   "nbconvert_exporter": "python",
   "pygments_lexer": "ipython3",
   "version": "3.9.8"
  },
  "widgets": {
   "application/vnd.jupyter.widget-state+json": {
    "state": {},
    "version_major": 2,
    "version_minor": 0
   }
  }
 },
 "nbformat": 4,
 "nbformat_minor": 5
}
