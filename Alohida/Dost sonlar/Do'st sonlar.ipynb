{
 "cells": [
  {
   "cell_type": "markdown",
   "id": "6bd4d6ac",
   "metadata": {},
   "source": [
    "# 25/02/2022\n",
    "\n",
    "# Python asoslari\n",
    "\n",
    "# Qo'shimcha: Do'st sonlar \n",
    "\n",
    "# Muallif: Farrux Sotivoldiyev"
   ]
  },
  {
   "cell_type": "code",
   "execution_count": null,
   "id": "7687f0c9",
   "metadata": {},
   "outputs": [],
   "source": [
    "# Kiritilgan sonni do'stini topib beruvchi dastur\n",
    "\n",
    "# 220 va 284\n",
    "# 1184 va 1210\n",
    "# 2620 va 2924\n",
    "# 5020 va 5564\n",
    "# 6232 va 6368                                            \n",
    "# 10744 va 10856\n",
    "# 12285 va 14595\n",
    "# 17296 va 18416\n",
    "\n",
    "n = int(input(\"son = \"))\n",
    "\n",
    "s = 0\n",
    "for i in range(1,n):\n",
    "    if n%i==0:\n",
    "        s += i \n",
    "y = 0\n",
    "for j in range(1,s):\n",
    "        if s%j==0:\n",
    "            y += j\n",
    "if n==y:\n",
    "    print(\"Do'st sonlar\",y,s)\n",
    "else:\n",
    "    print(\"Do'st jufti yo'q\")"
   ]
  },
  {
   "cell_type": "code",
   "execution_count": 31,
   "id": "8c5bd190",
   "metadata": {},
   "outputs": [
    {
     "name": "stdout",
     "output_type": "stream",
     "text": [
      "n = 8760\n",
      "220 284\n",
      "1184 1210\n",
      "2620 2924\n",
      "5020 5564\n",
      "6232 6368\n",
      "Dastur tugadi\n"
     ]
    }
   ],
   "source": [
    "# Kiritilgan n sonigacha bo'lgan do'st sonlarni topib beruvchi dastur\n",
    "\n",
    "# 220 va 284\n",
    "# 1184 va 1210\n",
    "# 2620 va 2924\n",
    "# 5020 va 5564\n",
    "# 6232 va 6368                                            \n",
    "# 10744 va 10856\n",
    "# 12285 va 14595\n",
    "# 17296 va 18416\n",
    "\n",
    "n = int(input(\"n = \"))\n",
    "\n",
    "i = 220\n",
    "while True:\n",
    "#     print(i,end=\" \")\n",
    "    if i > n:\n",
    "        break\n",
    "    s = 0 \n",
    "    for j in range(1,int(i/2)+1):\n",
    "        if i%j == 0:\n",
    "            s += j\n",
    "            \n",
    "    h = 0\n",
    "    for k in range(1,int(s/2)+1):\n",
    "        if s%k == 0:\n",
    "            h += k\n",
    "            \n",
    "    if i == h and i != s and i < s:\n",
    "        print(i,s)\n",
    "        i = s + 500 \n",
    "    else:\n",
    "        i += 1\n",
    "if n < 220:\n",
    "    print(\"Do'st sonlar yo'q\")\n",
    "print(\"Dastur tugadi\")"
   ]
  },
  {
   "cell_type": "code",
   "execution_count": null,
   "id": "e5872142",
   "metadata": {},
   "outputs": [],
   "source": []
  },
  {
   "cell_type": "code",
   "execution_count": null,
   "id": "5dc198b2",
   "metadata": {},
   "outputs": [],
   "source": []
  }
 ],
 "metadata": {
  "kernelspec": {
   "display_name": "Python 3 (ipykernel)",
   "language": "python",
   "name": "python3"
  },
  "language_info": {
   "codemirror_mode": {
    "name": "ipython",
    "version": 3
   },
   "file_extension": ".py",
   "mimetype": "text/x-python",
   "name": "python",
   "nbconvert_exporter": "python",
   "pygments_lexer": "ipython3",
   "version": "3.10.2"
  }
 },
 "nbformat": 4,
 "nbformat_minor": 5
}
