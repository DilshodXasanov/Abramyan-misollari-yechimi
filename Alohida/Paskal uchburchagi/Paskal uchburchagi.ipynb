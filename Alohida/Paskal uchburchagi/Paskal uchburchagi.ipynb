{
 "cells": [
  {
   "cell_type": "markdown",
   "id": "a4a9e5f2",
   "metadata": {},
   "source": [
    "# 01/03/2022\n",
    "\n",
    "# Python asoslari\n",
    "\n",
    "# Qo'shimcha: Paskal uchburchagi\n",
    "\n",
    "# Muallif: Farrux Sotivoldiyev"
   ]
  },
  {
   "cell_type": "code",
   "execution_count": 1,
   "id": "465c5c59",
   "metadata": {},
   "outputs": [
    {
     "name": "stdout",
     "output_type": "stream",
     "text": [
      "n = 5\n",
      "     1 \n",
      "    1 1 \n",
      "   1 2 1 \n",
      "  1 3 3 1 \n",
      " 1 4 6 4 1 \n"
     ]
    }
   ],
   "source": [
    "# paskal uchburchagi\n",
    "n = int(input(\"n = \"))\n",
    "for i in range(n):\n",
    "    for j in range(n-i):\n",
    "        print(' ',end=\"\")\n",
    "    for j in range(i+1):\n",
    "        if j==0:\n",
    "            c = 1\n",
    "        else:\n",
    "            c = c*(i+1-j)//j\n",
    "        print(c,end=\" \")\n",
    "    print()\n",
    "    "
   ]
  }
 ],
 "metadata": {
  "kernelspec": {
   "display_name": "Python 3 (ipykernel)",
   "language": "python",
   "name": "python3"
  },
  "language_info": {
   "codemirror_mode": {
    "name": "ipython",
    "version": 3
   },
   "file_extension": ".py",
   "mimetype": "text/x-python",
   "name": "python",
   "nbconvert_exporter": "python",
   "pygments_lexer": "ipython3",
   "version": "3.10.2"
  }
 },
 "nbformat": 4,
 "nbformat_minor": 5
}
