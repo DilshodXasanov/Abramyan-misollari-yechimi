{
 "cells": [
  {
   "cell_type": "markdown",
   "id": "bc3a50e5",
   "metadata": {},
   "source": [
    "# 18/09/2022\n",
    "\n",
    "# Python asoslari\n",
    "\n",
    "# 27-dars : assert,try,except,else,finally\n",
    "\n",
    "# Muallif: Farrux Sotivoldiyev"
   ]
  },
  {
   "cell_type": "code",
   "execution_count": 6,
   "id": "13b0fcaa",
   "metadata": {},
   "outputs": [
    {
     "name": "stdout",
     "output_type": "stream",
     "text": [
      "Salom Farruxbek.Sizning yoshingiz 20 da\n"
     ]
    }
   ],
   "source": [
    "def yosh(ism,x):\n",
    "    assert x>0,\"Yosh manfiy ham 0 ham bo'lmaydi bo'lmaydi\"\n",
    "    return f\"Salom {ism}.Sizning yoshingiz {x} da\"\n",
    "print(yosh(\"Farruxbek\",20))"
   ]
  },
  {
   "cell_type": "code",
   "execution_count": 1,
   "id": "41a76d1b",
   "metadata": {},
   "outputs": [
    {
     "name": "stdout",
     "output_type": "stream",
     "text": [
      "x = 0\n",
      "Aniqlanmagan\n",
      "finally ishladi\n"
     ]
    }
   ],
   "source": [
    "x = int(input(\"x = \"))\n",
    "try:\n",
    "    print(1/x)\n",
    "except:\n",
    "    print(\"Aniqlanmagan\")\n",
    "else:\n",
    "    print(\"else ishladi\")\n",
    "finally:\n",
    "    print(\"finally ishladi\")\n",
    "    \n"
   ]
  },
  {
   "cell_type": "code",
   "execution_count": 50,
   "id": "2be9aa17",
   "metadata": {},
   "outputs": [
    {
     "name": "stdout",
     "output_type": "stream",
     "text": [
      "qalesan\n",
      "\n",
      "salomlar\n",
      "salomlarqfeaerhsgnfhnfhgnfngd\n",
      "salomlarqfeaerhsgnfhnfhgnfngd\n",
      "salomlarqfeaerhsgnfhnfhgnfngd\n",
      "salomlarqfeaerhsgnfhnfhgnfngd\n",
      "salomlarqfeaerhsgnfhnfhgnfngd\n",
      "qalesan\n",
      "qalesan\n",
      "qalesan\n",
      "qalesan\n",
      "qalesan\n",
      "qalesan\n",
      "\n"
     ]
    }
   ],
   "source": [
    "try:\n",
    "    f = open(\"tryexcept_test.txt\",\"r+\")\n",
    "except:\n",
    "    f = open(\"tryexcept_test.txt\",\"x+\")\n",
    "finally:\n",
    "    print(f.read())\n",
    "    f.write(\"qalesan\\n\")\n",
    "    f.close()"
   ]
  }
 ],
 "metadata": {
  "kernelspec": {
   "display_name": "Python 3 (ipykernel)",
   "language": "python",
   "name": "python3"
  },
  "language_info": {
   "codemirror_mode": {
    "name": "ipython",
    "version": 3
   },
   "file_extension": ".py",
   "mimetype": "text/x-python",
   "name": "python",
   "nbconvert_exporter": "python",
   "pygments_lexer": "ipython3",
   "version": "3.9.8"
  }
 },
 "nbformat": 4,
 "nbformat_minor": 5
}
