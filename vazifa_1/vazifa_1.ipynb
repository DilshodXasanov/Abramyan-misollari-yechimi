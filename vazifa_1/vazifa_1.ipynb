{
 "cells": [
  {
   "cell_type": "markdown",
   "id": "a92210c3",
   "metadata": {},
   "source": [
    "# 12/02/2022\n",
    "\n",
    "# Python asoslari\n",
    "\n",
    "# 1-vazifa: shart va tanlash operatori misollari \n",
    "\n",
    "# Muallif: Farrux Sotivoldiyev\n"
   ]
  },
  {
   "cell_type": "code",
   "execution_count": null,
   "id": "b6500a6b",
   "metadata": {},
   "outputs": [],
   "source": [
    "# Vazifa 1\n",
    "# kun,oy va yil kiritiladi kabisa yili va oddiy yil ekanini ham nazarga olib keyingi kunni chiqarsin\n",
    "d = int(input(\"day = \"))\n",
    "m = int(input(\"month = \"))\n",
    "y = int(input(\"year = \"))\n",
    "\n",
    "#kabisa yilini tekshirish\n",
    "if y%4==0:\n",
    "    kabisa=True\n",
    "if y%100==0 and y%400!=0:\n",
    "    kabisa=False\n",
    "    \n",
    "#kun/oy/yilni joylashtirish  \n",
    "if (d==31 and (m==1 or m==3 or m==5 or m==7 or m==8 or m==10)) or (d==30 and (m==4 or m==6 or m==9 or m==11)):\n",
    "    print(f\"{1}/{m+1}/{y}\")\n",
    "elif d==31 and m==12:\n",
    "    print(f\"{1}/{1}/{y+1}\")\n",
    "elif m==2 and kabisa and d==29:\n",
    "    print(f\"{1}/{m+1}/{y}\")\n",
    "elif m==2 and d==28 and not kabisa:\n",
    "    print(f\"{1}/{m+1}/{y}\")\n",
    "else:\n",
    "    print(f\"{d+1}/{m}/{y}\")"
   ]
  },
  {
   "cell_type": "code",
   "execution_count": null,
   "id": "5276cff8",
   "metadata": {},
   "outputs": [],
   "source": [
    "# Vazifa 2\n",
    "# 999 000 000 gacha sonni so'zda ifodalash\n",
    "\n",
    "a = int(input(\"son kiriting: \"))\n",
    "\n",
    "yuzmln = a//10**8\n",
    "onmln = a%10**8//10**7\n",
    "mln = a%10**7//10**6\n",
    "yuzming = a%10**6//10**5\n",
    "onming = a%10**5//10**4\n",
    "ming = a%10**4//10**3\n",
    "yuz = a%10**3//10**2\n",
    "on = a%10**2//10\n",
    "bir = a%10\n",
    "\n",
    "yuzlik = [\"\",\"biryuz\",\"ikkiyuz\",\"uchyuz\",\"to'rtyuz\",\"beshyuz\",\"oltiyuz\",\"yettiyuz\",\"sakkizyuz\",\"to'qqizyuz\"]\n",
    "onlik = [\"\",\"o'n\",\"yigirma\",\"o'ttiz\",\"qirq\",\"ellik\",\"oltmish\",\"yetmish\",\"sakson\",\"to'qson\",\"yuz\"]\n",
    "birlik = [\"\",\"bir\",\"ikki\",\"uch\",\"to'rt\",\"besh\",\"olti\",\"yetti\",\"sakkiz\",\"to'qqiz\",\"o'n\"]\n",
    "\n",
    "uzunlik = len(str(a))\n",
    "\n",
    "if uzunlik==9:\n",
    "    if yuzmln or onmln or mln:\n",
    "        print(f\"{yuzlik[yuzmln]} {onlik[onmln]} {birlik[mln]} million \",end=' ')\n",
    "    if yuzming or onming or ming:\n",
    "        print(f\"{yuzlik[yuzming]} {onlik[onming]} {birlik[ming]} ming \",end=' ')      \n",
    "elif uzunlik==8:\n",
    "    if onmln or mln:\n",
    "        print(f\"{onlik[onmln]} {birlik[mln]} million \",end=' ')\n",
    "    if yuzming or onming or ming:\n",
    "        print(f\"{yuzlik[yuzming]} {onlik[onming]} {birlik[ming]} ming \",end=' ')      \n",
    "elif uzunlik==7:\n",
    "    if mln:\n",
    "        print(f\"{birlik[mln]} million \",end=' ')\n",
    "    if yuzming or onming or ming:\n",
    "        print(f\"{yuzlik[yuzming]} {onlik[onming]} {birlik[ming]} ming \",end=' ') \n",
    "elif uzunlik==6:\n",
    "    if yuzming or onming or ming:\n",
    "        print(f\"{yuzlik[yuzming]} {onlik[onming]} {birlik[ming]} ming \",end=' ')      \n",
    "elif uzunlik==5:\n",
    "    if onming or ming:\n",
    "        print(f\"{onlik[onming]} {birlik[ming]} ming \",end=' ')  \n",
    "elif uzunlik==4:\n",
    "    if ming:\n",
    "        print(f\"{birlik[ming]} ming \",end=' ') \n",
    "\n",
    "print(f\"{yuzlik[yuz]} {onlik[on]} {birlik[bir]}\")"
   ]
  }
 ],
 "metadata": {
  "kernelspec": {
   "display_name": "Python 3 (ipykernel)",
   "language": "python",
   "name": "python3"
  },
  "language_info": {
   "codemirror_mode": {
    "name": "ipython",
    "version": 3
   },
   "file_extension": ".py",
   "mimetype": "text/x-python",
   "name": "python",
   "nbconvert_exporter": "python",
   "pygments_lexer": "ipython3",
   "version": "3.9.8"
  }
 },
 "nbformat": 4,
 "nbformat_minor": 5
}
