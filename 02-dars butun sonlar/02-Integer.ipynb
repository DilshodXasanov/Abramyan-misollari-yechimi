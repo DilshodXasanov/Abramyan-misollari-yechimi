{
 "cells": [
  {
   "cell_type": "markdown",
   "id": "52e8cd3b",
   "metadata": {},
   "source": [
    "# 11/02/2022\n",
    "\n",
    "# Python asoslari\n",
    "\n",
    "# 2-dars: Butun sonlar. Qoldiqli va butun bo'lish\n",
    "\n",
    "# Muallif: Farrux Sotivoldiyev"
   ]
  },
  {
   "cell_type": "code",
   "execution_count": 1,
   "id": "7009c7f3",
   "metadata": {},
   "outputs": [
    {
     "name": "stdout",
     "output_type": "stream",
     "text": [
      "L = 1045\n",
      "1045 sm => 10 m 45 sm\n"
     ]
    }
   ],
   "source": [
    "#integer1\n",
    "L = int(input(\"L = \"))\n",
    "\n",
    "print(L,\"sm =>\",L//100,\"m\",L%100,\"sm\")"
   ]
  },
  {
   "cell_type": "code",
   "execution_count": 4,
   "id": "6a62c92b",
   "metadata": {},
   "outputs": [
    {
     "name": "stdout",
     "output_type": "stream",
     "text": [
      "M = 1235\n",
      "1235 kg => 1 t 235 kg\n"
     ]
    }
   ],
   "source": [
    "#integer2\n",
    "M = int(input(\"M = \"))\n",
    "\n",
    "print(M,\"kg =>\",M//1000,\"t\",M%1000,\"kg\")"
   ]
  },
  {
   "cell_type": "code",
   "execution_count": 5,
   "id": "290344c9",
   "metadata": {},
   "outputs": [
    {
     "name": "stdout",
     "output_type": "stream",
     "text": [
      "Bayt = 1098\n",
      "1098 bayt => 1 Kb 74 bayt\n"
     ]
    }
   ],
   "source": [
    "#integer3\n",
    "B = int(input(\"Bayt = \"))\n",
    "\n",
    "print(B,\"bayt =>\",B//1024,\"Kb\",B%1024,\"bayt\")"
   ]
  },
  {
   "cell_type": "code",
   "execution_count": 6,
   "id": "171709bd",
   "metadata": {},
   "outputs": [
    {
     "name": "stdout",
     "output_type": "stream",
     "text": [
      "A = 12\n",
      "B = 5\n",
      "2 marta joylashtirish mumkin\n"
     ]
    }
   ],
   "source": [
    "#integer4\n",
    "A = int(input(\"A = \"))\n",
    "B = int(input(\"B = \"))\n",
    "\n",
    "print(A//B,\"marta joylashtirish mumkin\")"
   ]
  },
  {
   "cell_type": "code",
   "execution_count": 9,
   "id": "d821b84f",
   "metadata": {},
   "outputs": [
    {
     "name": "stdout",
     "output_type": "stream",
     "text": [
      "A = 15\n",
      "B = 6\n",
      "2 marta joylashtirish mumkin \n",
      "Joylashmagan qismi: 3\n"
     ]
    }
   ],
   "source": [
    "#integer5\n",
    "A = int(input(\"A = \"))\n",
    "B = int(input(\"B = \"))\n",
    "\n",
    "print(A//B,\"marta joylashtirish mumkin\",\"\\nJoylashmagan qismi:\",A%B)"
   ]
  },
  {
   "cell_type": "code",
   "execution_count": 11,
   "id": "6e9611e5",
   "metadata": {},
   "outputs": [
    {
     "name": "stdout",
     "output_type": "stream",
     "text": [
      "A = 67\n",
      "6 \t 7\n"
     ]
    }
   ],
   "source": [
    "#integer6\n",
    "A = int(input(\"A = \"))\n",
    "\n",
    "print(A//10,\"\\t\",A%10)"
   ]
  },
  {
   "cell_type": "code",
   "execution_count": 12,
   "id": "e8df9dd3",
   "metadata": {},
   "outputs": [
    {
     "name": "stdout",
     "output_type": "stream",
     "text": [
      "A = 35\n",
      "8\n"
     ]
    }
   ],
   "source": [
    "#integer7\n",
    "A = int(input(\"A = \"))\n",
    "\n",
    "print(A//10 + A%10)"
   ]
  },
  {
   "cell_type": "code",
   "execution_count": 14,
   "id": "a4241d62",
   "metadata": {},
   "outputs": [
    {
     "name": "stdout",
     "output_type": "stream",
     "text": [
      "A = 72\n",
      "27\n"
     ]
    }
   ],
   "source": [
    "#integer8\n",
    "A = int(input(\"A = \"))\n",
    "\n",
    "print(A//10 + (A%10)*10)"
   ]
  },
  {
   "cell_type": "code",
   "execution_count": 16,
   "id": "b32f69df",
   "metadata": {},
   "outputs": [
    {
     "name": "stdout",
     "output_type": "stream",
     "text": [
      "A = 864\n",
      "8\n"
     ]
    }
   ],
   "source": [
    "#integer9\n",
    "A = int(input(\"A = \"))\n",
    "\n",
    "print(A//100)"
   ]
  },
  {
   "cell_type": "code",
   "execution_count": 20,
   "id": "10ce020e",
   "metadata": {},
   "outputs": [
    {
     "name": "stdout",
     "output_type": "stream",
     "text": [
      "A = 456\n",
      "6 \t 5\n"
     ]
    }
   ],
   "source": [
    "#integer10\n",
    "A = int(input(\"A = \"))\n",
    "\n",
    "print(A%100%10,\"\\t\",A%100//10)"
   ]
  },
  {
   "cell_type": "code",
   "execution_count": 24,
   "id": "6fdd2117",
   "metadata": {},
   "outputs": [
    {
     "name": "stdout",
     "output_type": "stream",
     "text": [
      "A = 823\n",
      "13\n"
     ]
    }
   ],
   "source": [
    "#integer11\n",
    "A = int(input(\"A = \"))\n",
    "\n",
    "print(A%10 + A%100//10 + A//100)"
   ]
  },
  {
   "cell_type": "code",
   "execution_count": 28,
   "id": "a9028557",
   "metadata": {},
   "outputs": [
    {
     "name": "stdout",
     "output_type": "stream",
     "text": [
      "A = 789\n",
      "987\n"
     ]
    }
   ],
   "source": [
    "#integer12\n",
    "A = int(input(\"A = \"))\n",
    "\n",
    "print((A%10)*100 + (A%100//10)*10 + A//100)"
   ]
  },
  {
   "cell_type": "code",
   "execution_count": 30,
   "id": "1895a0ee",
   "metadata": {},
   "outputs": [
    {
     "name": "stdout",
     "output_type": "stream",
     "text": [
      "A = 456\n",
      "564\n"
     ]
    }
   ],
   "source": [
    "#integer13\n",
    "A = int(input(\"A = \"))\n",
    "\n",
    "print((A%10)*10 + (A%100//10)*100 + (A//100))"
   ]
  },
  {
   "cell_type": "code",
   "execution_count": 31,
   "id": "3b3041ab",
   "metadata": {},
   "outputs": [
    {
     "name": "stdout",
     "output_type": "stream",
     "text": [
      "A = 456\n",
      "645\n"
     ]
    }
   ],
   "source": [
    "#integer14\n",
    "A = int(input(\"A = \"))\n",
    "\n",
    "print((A%10)*100 + (A%100//10) + (A//100)*10)"
   ]
  },
  {
   "cell_type": "code",
   "execution_count": 32,
   "id": "8bf5cfca",
   "metadata": {},
   "outputs": [
    {
     "name": "stdout",
     "output_type": "stream",
     "text": [
      "A = 123\n",
      "213\n"
     ]
    }
   ],
   "source": [
    "#integer15\n",
    "A = int(input(\"A = \"))\n",
    "\n",
    "print((A%10) + (A%100//10)*100 + (A//100)*10)"
   ]
  },
  {
   "cell_type": "code",
   "execution_count": 33,
   "id": "9ce17aa8",
   "metadata": {},
   "outputs": [
    {
     "name": "stdout",
     "output_type": "stream",
     "text": [
      "A = 123\n",
      "132\n"
     ]
    }
   ],
   "source": [
    "#integer16\n",
    "A = int(input(\"A = \"))\n",
    "\n",
    "print((A%10)*10 + (A%100//10) + (A//100)*100)"
   ]
  },
  {
   "cell_type": "code",
   "execution_count": 35,
   "id": "19f70d70",
   "metadata": {},
   "outputs": [
    {
     "name": "stdout",
     "output_type": "stream",
     "text": [
      "A = 456879234\n",
      "2\n"
     ]
    }
   ],
   "source": [
    "#integer17\n",
    "A = int(input(\"A = \"))\n",
    "\n",
    "print(A%1000//100)"
   ]
  },
  {
   "cell_type": "code",
   "execution_count": 36,
   "id": "39f15dbe",
   "metadata": {},
   "outputs": [
    {
     "name": "stdout",
     "output_type": "stream",
     "text": [
      "A = 456879234\n",
      "9\n"
     ]
    }
   ],
   "source": [
    "#integer18\n",
    "A = int(input(\"A = \"))\n",
    "\n",
    "print(A%10000//1000)"
   ]
  },
  {
   "cell_type": "code",
   "execution_count": 42,
   "id": "3b876cbd",
   "metadata": {},
   "outputs": [
    {
     "name": "stdout",
     "output_type": "stream",
     "text": [
      "N = 3645\n",
      "60 min o'tdi\n"
     ]
    }
   ],
   "source": [
    "#integer19\n",
    "N = int(input(\"N = \"))\n",
    "\n",
    "print(N//60,\"min o'tdi\")"
   ]
  },
  {
   "cell_type": "code",
   "execution_count": 46,
   "id": "fa663a20",
   "metadata": {},
   "outputs": [
    {
     "name": "stdout",
     "output_type": "stream",
     "text": [
      "N = 3745\n",
      "1 soat o'tdi\n"
     ]
    }
   ],
   "source": [
    "#integer20\n",
    "N = int(input(\"N = \"))\n",
    "\n",
    "print(N//3600,\"soat o'tdi\")"
   ]
  },
  {
   "cell_type": "code",
   "execution_count": 43,
   "id": "e50a1831",
   "metadata": {},
   "outputs": [
    {
     "name": "stdout",
     "output_type": "stream",
     "text": [
      "N = 3645\n",
      "3645 sekund => 60 min 45 sek\n"
     ]
    }
   ],
   "source": [
    "#integer21\n",
    "N = int(input(\"N = \"))\n",
    "\n",
    "print(N,\"sekund =>\",N//60,\"min\",N%60,\"sek\")"
   ]
  },
  {
   "cell_type": "code",
   "execution_count": 44,
   "id": "8d4d6311",
   "metadata": {},
   "outputs": [
    {
     "name": "stdout",
     "output_type": "stream",
     "text": [
      "N = 3645\n",
      "1 soat 45 sek o'tdi\n"
     ]
    }
   ],
   "source": [
    "#integer22\n",
    "N = int(input(\"N = \"))\n",
    "\n",
    "print(N//3600,\"soat\",N%60,\"sek o'tdi\")"
   ]
  },
  {
   "cell_type": "code",
   "execution_count": 45,
   "id": "dee02628",
   "metadata": {},
   "outputs": [
    {
     "name": "stdout",
     "output_type": "stream",
     "text": [
      "N = 3745\n",
      "3745 sekund => 1 soat 2 min 25 sek\n"
     ]
    }
   ],
   "source": [
    "#integer23\n",
    "N = int(input(\"N = \"))\n",
    "\n",
    "print(N,\"sekund =>\",N//3600,\"soat\",N%3600//60,\"min\",N%60,\"sek\")"
   ]
  },
  {
   "cell_type": "code",
   "execution_count": 50,
   "id": "19e99d0b",
   "metadata": {},
   "outputs": [
    {
     "name": "stdout",
     "output_type": "stream",
     "text": [
      "\n",
      "0-yakshanba\n",
      "1-dushanba\n",
      "2-seshanba\n",
      "3-chorshanba\n",
      "4-payshanba\n",
      "5-juma\n",
      "6-shanba\n",
      "\n",
      "kun = 12\n",
      "5 - hafta kuni\n"
     ]
    }
   ],
   "source": [
    "#integer24\n",
    "print(\"\"\"\n",
    "0-yakshanba\n",
    "1-dushanba\n",
    "2-seshanba\n",
    "3-chorshanba\n",
    "4-payshanba\n",
    "5-juma\n",
    "6-shanba\n",
    "\"\"\")\n",
    "\n",
    "kun = int(input(\"kun = \"))\n",
    "\n",
    "print(kun%7,\"- hafta kuni\")"
   ]
  },
  {
   "cell_type": "code",
   "execution_count": 51,
   "id": "8d90b7b5",
   "metadata": {},
   "outputs": [
    {
     "name": "stdout",
     "output_type": "stream",
     "text": [
      "\n",
      "0-yakshanba\n",
      "1-dushanba\n",
      "2-seshanba\n",
      "3-chorshanba\n",
      "4-payshanba\n",
      "5-juma\n",
      "6-shanba\n",
      "\n",
      "kun = 1\n",
      "4 - hafta kuni\n"
     ]
    }
   ],
   "source": [
    "#integer25\n",
    "print(\"\"\"\n",
    "0-yakshanba\n",
    "1-dushanba\n",
    "2-seshanba\n",
    "3-chorshanba\n",
    "4-payshanba\n",
    "5-juma\n",
    "6-shanba\n",
    "\"\"\")\n",
    "\n",
    "kun = int(input(\"kun = \"))\n",
    "\n",
    "print((kun+3)%7,\"- hafta kuni\")"
   ]
  },
  {
   "cell_type": "code",
   "execution_count": 3,
   "id": "edff426b",
   "metadata": {},
   "outputs": [
    {
     "name": "stdout",
     "output_type": "stream",
     "text": [
      "\n",
      "1-dushanba\n",
      "2-seshanba\n",
      "3-chorshanba\n",
      "4-payshanba\n",
      "5-juma\n",
      "6-shanba\n",
      "7-yakshanba\n",
      "\n",
      "kun = 7\n",
      "1 - hafta kuni\n"
     ]
    }
   ],
   "source": [
    "#integer26\n",
    "print(\"\"\"\n",
    "1-dushanba\n",
    "2-seshanba\n",
    "3-chorshanba\n",
    "4-payshanba\n",
    "5-juma\n",
    "6-shanba\n",
    "7-yakshanba\n",
    "\"\"\")\n",
    "\n",
    "kun = int(input(\"kun = \"))\n",
    "\n",
    "print((kun)%7+1,\"- hafta kuni\")"
   ]
  },
  {
   "cell_type": "code",
   "execution_count": 13,
   "id": "c2daa885",
   "metadata": {},
   "outputs": [
    {
     "name": "stdout",
     "output_type": "stream",
     "text": [
      "\n",
      "1-dushanba\n",
      "2-seshanba\n",
      "3-chorshanba\n",
      "4-payshanba\n",
      "5-juma\n",
      "6-shanba\n",
      "7-yakshanba\n",
      "\n",
      "kun = 9\n",
      "1 - hafta kuni\n"
     ]
    }
   ],
   "source": [
    "#integer27\n",
    "print(\"\"\"\n",
    "1-dushanba\n",
    "2-seshanba\n",
    "3-chorshanba\n",
    "4-payshanba\n",
    "5-juma\n",
    "6-shanba\n",
    "7-yakshanba\n",
    "\"\"\")\n",
    "\n",
    "kun = int(input(\"kun = \"))\n",
    "\n",
    "print((kun+5)%7+1,\"- hafta kuni\")"
   ]
  },
  {
   "cell_type": "code",
   "execution_count": 15,
   "id": "f413a7b9",
   "metadata": {},
   "outputs": [
    {
     "name": "stdout",
     "output_type": "stream",
     "text": [
      "\n",
      "1-dushanba\n",
      "2-seshanba                                    \n",
      "3-chorshanba\n",
      "4-payshanba\n",
      "5-juma\n",
      "6-shanba\n",
      "7-yakshanba\n",
      "\n",
      "kerakli kun = 16\n",
      "N-hafta kuni = 7\n",
      "1 - kerakli hafta kuni\n"
     ]
    }
   ],
   "source": [
    "#integer28                            \n",
    "print(\"\"\"\n",
    "1-dushanba\n",
    "2-seshanba                                    \n",
    "3-chorshanba\n",
    "4-payshanba\n",
    "5-juma\n",
    "6-shanba\n",
    "7-yakshanba\n",
    "\"\"\")\n",
    "\n",
    "kun = int(input(\"kerakli kun = \"))\n",
    "N = int(input(\"N-hafta kuni = \")) #-> 1-kun shu hafta kunidan boshlanadi\n",
    "\n",
    "print((kun%7+N-2)%7+1,\"- kerakli hafta kuni\")"
   ]
  },
  {
   "cell_type": "code",
   "execution_count": 117,
   "id": "cd1fdc7f",
   "metadata": {},
   "outputs": [
    {
     "name": "stdout",
     "output_type": "stream",
     "text": [
      "A = 7\n",
      "B = 3\n",
      "C = 2\n",
      "3 ta joylashadi Ya'ni 12 m^2 \n",
      "Qolgan qismi: 9 m^2\n"
     ]
    }
   ],
   "source": [
    "#integer29\n",
    "A = int(input(\"A = \"))\n",
    "B = int(input(\"B = \"))\n",
    "C = int(input(\"C = \"))\n",
    "\n",
    "joylashish = (A//C) * (B//C)\n",
    "Qolgan_qismi = A*B - (C**2 * joylashish)\n",
    "\n",
    "print(joylashish,\"ta joylashadi Ya'ni\",(C**2 * joylashish),\"m^2\",\"\\nQolgan qismi:\",Qolgan_qismi,\"m^2\")"
   ]
  },
  {
   "cell_type": "code",
   "execution_count": 122,
   "id": "555c9692",
   "metadata": {},
   "outputs": [
    {
     "name": "stdout",
     "output_type": "stream",
     "text": [
      "Yil = 1901\n",
      "1901 yil => 20 asr\n"
     ]
    }
   ],
   "source": [
    "#integer30\n",
    "yil = int(input(\"Yil = \"))\n",
    "\n",
    "asr = (yil//100)+1\n",
    "\n",
    "print(yil,\"yil =>\",asr,\"asr\")"
   ]
  },
  {
   "cell_type": "markdown",
   "id": "75641400",
   "metadata": {},
   "source": [
    "# Qo'shimcha\n"
   ]
  },
  {
   "cell_type": "code",
   "execution_count": 18,
   "id": "ebcae918",
   "metadata": {},
   "outputs": [
    {
     "name": "stdout",
     "output_type": "stream",
     "text": [
      "Sekundlarni kiriting: 64979120\n",
      "2 -yil\n",
      " 1 -oy\n",
      " 2 -kun\n",
      " 1 -soat\n",
      " 45 -minut\n",
      " 20 -sekund\n"
     ]
    }
   ],
   "source": [
    "# Hozirgi kungacha bolgan sekundlar kiritilsa yil,oy,kun,soat\n",
    "# minut,sekund larga bo'lish\n",
    "\n",
    "n = int(input(\"Sekundlarni kiriting: \"))\n",
    "\n",
    "yil = n//(360*24*3600)\n",
    "oy = n%(360*24*3600)//(30*24*3600)\n",
    "kun = n%(30*24*3600)//(24*3600)\n",
    "soat = n%(24*3600)//3600\n",
    "minut = n%(24*3600)%3600//60\n",
    "sekund = n%(24*3600)%60\n",
    "\n",
    "print( yil,'-yil\\n',oy,'-oy\\n',kun,'-kun\\n',soat,'-soat\\n',minut,'-minut\\n',sekund,'-sekund')\n"
   ]
  },
  {
   "cell_type": "code",
   "execution_count": 20,
   "id": "2b36dd62",
   "metadata": {},
   "outputs": [
    {
     "name": "stdout",
     "output_type": "stream",
     "text": [
      "\n",
      "1-dushanba\n",
      "2-seshanba                                    \n",
      "3-chorshanba\n",
      "4-payshanba\n",
      "5-juma\n",
      "6-shanba\n",
      "7-yakshanba\n",
      "\n",
      "kun = 2\n",
      "hafta kuni = 5\n",
      "kerakli kun = 12\n",
      "haftaning 1 - kuniga to'g'ri keladi\n"
     ]
    }
   ],
   "source": [
    "# kun kiritiladi(k) va u qaysi hafta kuniga to'g'ri kelishi ham \n",
    "# kiritiladi(h) keyin kerakli kun(m) kiritilsa u qaysi hafta kuniga(kun)\n",
    "# to'g'ri kelishini topish kerak.\n",
    "\n",
    "print(\"\"\"\n",
    "1-dushanba\n",
    "2-seshanba                                    \n",
    "3-chorshanba\n",
    "4-payshanba\n",
    "5-juma\n",
    "6-shanba\n",
    "7-yakshanba\n",
    "\"\"\")\n",
    "k = int(input(\"kun = \"))\n",
    "h = int(input(\"hafta kuni = \"))\n",
    "m = int(input(\"kerakli kun = \"))\n",
    "kun = (m+(h-1-k%7))%7+1\n",
    "print(\"haftaning\",kun,\"- kuniga to'g'ri keladi\")"
   ]
  }
 ],
 "metadata": {
  "kernelspec": {
   "display_name": "Python 3 (ipykernel)",
   "language": "python",
   "name": "python3"
  },
  "language_info": {
   "codemirror_mode": {
    "name": "ipython",
    "version": 3
   },
   "file_extension": ".py",
   "mimetype": "text/x-python",
   "name": "python",
   "nbconvert_exporter": "python",
   "pygments_lexer": "ipython3",
   "version": "3.9.8"
  }
 },
 "nbformat": 4,
 "nbformat_minor": 5
}
