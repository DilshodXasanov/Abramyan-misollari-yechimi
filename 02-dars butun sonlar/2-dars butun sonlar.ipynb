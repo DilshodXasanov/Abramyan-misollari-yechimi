{
 "cells": [
  {
   "cell_type": "markdown",
   "id": "abd6c176",
   "metadata": {},
   "source": [
    "# 11/02/2022\n",
    "\n",
    "# Python asoslari\n",
    "\n",
    "# 2-dars: Butun sonlar. Qoldiqli va butun bo'lish\n",
    "\n",
    "# Muallif: Farrux Sotivoldiyev"
   ]
  },
  {
   "cell_type": "code",
   "execution_count": 2,
   "id": "ccb58536",
   "metadata": {},
   "outputs": [
    {
     "name": "stdout",
     "output_type": "stream",
     "text": [
      "10m 45sm\n"
     ]
    }
   ],
   "source": [
    "#1\n",
    "l = 1045 #sm\n",
    "print(f\"{l//100}m {l%100}sm\")"
   ]
  },
  {
   "cell_type": "code",
   "execution_count": 4,
   "id": "8650b2a0",
   "metadata": {},
   "outputs": [
    {
     "name": "stdout",
     "output_type": "stream",
     "text": [
      "4 tonna 505kg\n"
     ]
    }
   ],
   "source": [
    "#2\n",
    "m = 4505\n",
    "print(f\"{m//1000} tonna {m%1000}kg\")"
   ]
  },
  {
   "cell_type": "code",
   "execution_count": 7,
   "id": "e5fb5429",
   "metadata": {},
   "outputs": [
    {
     "name": "stdout",
     "output_type": "stream",
     "text": [
      "2kb 10 bayt\n"
     ]
    }
   ],
   "source": [
    "#3\n",
    "bayt = 2058\n",
    "print(f\"{bayt//1024}kb {bayt%1024} bayt\")"
   ]
  },
  {
   "cell_type": "code",
   "execution_count": 9,
   "id": "ace08967",
   "metadata": {},
   "outputs": [
    {
     "name": "stdout",
     "output_type": "stream",
     "text": [
      "6 ta joylashtirish mumkin\n"
     ]
    }
   ],
   "source": [
    "#4\n",
    "a = 25\n",
    "b = 4\n",
    "print(f\"{a//b} ta joylashtirish mumkin\")"
   ]
  },
  {
   "cell_type": "code",
   "execution_count": 10,
   "id": "b885872f",
   "metadata": {},
   "outputs": [
    {
     "name": "stdout",
     "output_type": "stream",
     "text": [
      "6-> ta joylashtirish mumkin 3-> joylashmagani\n"
     ]
    }
   ],
   "source": [
    "#5\n",
    "a = 45\n",
    "b = 7\n",
    "print(f\"{a//b}-> ta joylashtirish mumkin {a%b}-> joylashmagani\")"
   ]
  },
  {
   "cell_type": "code",
   "execution_count": 11,
   "id": "803b9aef",
   "metadata": {},
   "outputs": [
    {
     "name": "stdout",
     "output_type": "stream",
     "text": [
      "onlik-> 4 birlik-> 5\n"
     ]
    }
   ],
   "source": [
    "#6\n",
    "a = 45\n",
    "on = a//10\n",
    "bir = a%10\n",
    "print(\"onlik->\",on,\"birlik->\",bir)"
   ]
  },
  {
   "cell_type": "code",
   "execution_count": 12,
   "id": "ac80248f",
   "metadata": {},
   "outputs": [
    {
     "name": "stdout",
     "output_type": "stream",
     "text": [
      "raqamlari yegindisi: 13\n"
     ]
    }
   ],
   "source": [
    "#7\n",
    "son = 67\n",
    "on = son // 10\n",
    "bir = son % 10\n",
    "print(f\"raqamlari yegindisi: {on+bir}\")"
   ]
  },
  {
   "cell_type": "code",
   "execution_count": 14,
   "id": "d1417d61",
   "metadata": {},
   "outputs": [
    {
     "name": "stdout",
     "output_type": "stream",
     "text": [
      "89\n"
     ]
    }
   ],
   "source": [
    "#8\n",
    "son = 98\n",
    "on = son // 10\n",
    "bir = son % 10\n",
    "print(bir*10 + on*1)"
   ]
  },
  {
   "cell_type": "code",
   "execution_count": 15,
   "id": "cff1031b",
   "metadata": {},
   "outputs": [
    {
     "name": "stdout",
     "output_type": "stream",
     "text": [
      "yuzlar->3\n"
     ]
    }
   ],
   "source": [
    "#9\n",
    "son = 329\n",
    "print(f\"yuzlar->{son//100}\")"
   ]
  },
  {
   "cell_type": "code",
   "execution_count": 16,
   "id": "a33e9ad8",
   "metadata": {},
   "outputs": [
    {
     "name": "stdout",
     "output_type": "stream",
     "text": [
      "birlik->6 onlik->5\n"
     ]
    }
   ],
   "source": [
    "#10\n",
    "son = 456\n",
    "print(f\"birlik->{son%10} onlik->{son%100//10}\")"
   ]
  },
  {
   "cell_type": "code",
   "execution_count": 18,
   "id": "4dc15df2",
   "metadata": {},
   "outputs": [
    {
     "name": "stdout",
     "output_type": "stream",
     "text": [
      "raqamlari yegindisi: 22\n"
     ]
    }
   ],
   "source": [
    "#11\n",
    "son = 967\n",
    "yuz =  son//100\n",
    "on = son%100//10\n",
    "bir = son%10\n",
    "print(f\"raqamlari yegindisi: {yuz+on+bir}\")"
   ]
  },
  {
   "cell_type": "code",
   "execution_count": 40,
   "id": "344635c8",
   "metadata": {},
   "outputs": [
    {
     "name": "stdout",
     "output_type": "stream",
     "text": [
      "769\n"
     ]
    }
   ],
   "source": [
    "#12\n",
    "son = 967\n",
    "yuz = son//100\n",
    "on = son %100//10\n",
    "bir = son %10\n",
    "print(f\"{bir*100 + on*10 + yuz*1}\")"
   ]
  },
  {
   "cell_type": "code",
   "execution_count": 21,
   "id": "6bbea8f1",
   "metadata": {},
   "outputs": [
    {
     "name": "stdout",
     "output_type": "stream",
     "text": [
      "357\n"
     ]
    }
   ],
   "source": [
    "#13\n",
    "son = 735\n",
    "yuz = son//100\n",
    "on = son%100//10\n",
    "bir = son%10\n",
    "print(f\"{yuz*1 + on*100 +bir*10}\")"
   ]
  },
  {
   "cell_type": "code",
   "execution_count": 22,
   "id": "98a37c5e",
   "metadata": {},
   "outputs": [
    {
     "name": "stdout",
     "output_type": "stream",
     "text": [
      "796\n"
     ]
    }
   ],
   "source": [
    "#14\n",
    "son = 967\n",
    "yuz = son//100\n",
    "on = son %100//10\n",
    "bir = son %10\n",
    "print(f\"{yuz*10 + on*1 + bir*100}\")"
   ]
  },
  {
   "cell_type": "code",
   "execution_count": 23,
   "id": "20b7b123",
   "metadata": {},
   "outputs": [
    {
     "name": "stdout",
     "output_type": "stream",
     "text": [
      "439\n"
     ]
    }
   ],
   "source": [
    "#15\n",
    "son = 349\n",
    "yuz = son //100\n",
    "on = son%100//10\n",
    "bir = son%10\n",
    "print(f\"{yuz*10 + on*100 + bir*1}\")"
   ]
  },
  {
   "cell_type": "code",
   "execution_count": 24,
   "id": "29cdd205",
   "metadata": {},
   "outputs": [
    {
     "name": "stdout",
     "output_type": "stream",
     "text": [
      "425\n"
     ]
    }
   ],
   "source": [
    "#16\n",
    "son = 452\n",
    "yuz = son //100\n",
    "on = son%100//10\n",
    "bir = son%10\n",
    "print(f\"{yuz*100 + on*1 + bir*10}\")"
   ]
  },
  {
   "cell_type": "code",
   "execution_count": 25,
   "id": "5b080dc6",
   "metadata": {},
   "outputs": [
    {
     "name": "stdout",
     "output_type": "stream",
     "text": [
      "yuz->3\n"
     ]
    }
   ],
   "source": [
    "#17\n",
    "son =2345\n",
    "yuz = son%1000//100\n",
    "print(f\"yuz->{yuz}\")"
   ]
  },
  {
   "cell_type": "code",
   "execution_count": 26,
   "id": "9143430d",
   "metadata": {},
   "outputs": [
    {
     "name": "stdout",
     "output_type": "stream",
     "text": [
      "minglik->4\n"
     ]
    }
   ],
   "source": [
    "#18\n",
    "son = 4782\n",
    "minglik = son//1000\n",
    "print(f\"minglik->{minglik}\")"
   ]
  },
  {
   "cell_type": "code",
   "execution_count": 27,
   "id": "fec874a3",
   "metadata": {},
   "outputs": [
    {
     "name": "stdout",
     "output_type": "stream",
     "text": [
      "minut->72\n"
     ]
    }
   ],
   "source": [
    "#19\n",
    "sekund = 4336\n",
    "minut = sekund//60\n",
    "print(f\"minut->{minut}\")"
   ]
  },
  {
   "cell_type": "code",
   "execution_count": 28,
   "id": "907ebf3c",
   "metadata": {},
   "outputs": [
    {
     "name": "stdout",
     "output_type": "stream",
     "text": [
      "soat->2\n"
     ]
    }
   ],
   "source": [
    "#20\n",
    "sekund =9134\n",
    "soat = sekund//3600\n",
    "print(f\"soat->{soat}\")"
   ]
  },
  {
   "cell_type": "code",
   "execution_count": 29,
   "id": "4b2ce3db",
   "metadata": {},
   "outputs": [
    {
     "name": "stdout",
     "output_type": "stream",
     "text": [
      "minut->237 sekund->25\n"
     ]
    }
   ],
   "source": [
    "#21\n",
    "sekund = 14245\n",
    "minut =  sekund//60\n",
    "sekund = sekund%60\n",
    "print(f\"minut->{minut} sekund->{sekund}\")"
   ]
  },
  {
   "cell_type": "code",
   "execution_count": 30,
   "id": "1f21ffb0",
   "metadata": {},
   "outputs": [
    {
     "name": "stdout",
     "output_type": "stream",
     "text": [
      "soat->9 sekund->35\n"
     ]
    }
   ],
   "source": [
    "#22\n",
    "n = 32435\n",
    "soat = n//3600\n",
    "sekund = n%60\n",
    "print(f\"soat->{soat} sekund->{sekund}\")"
   ]
  },
  {
   "cell_type": "code",
   "execution_count": 31,
   "id": "26fdd911",
   "metadata": {},
   "outputs": [
    {
     "name": "stdout",
     "output_type": "stream",
     "text": [
      "8 soat 9 minut 24 sekund\n"
     ]
    }
   ],
   "source": [
    "#23\n",
    "n = 29364\n",
    "soat = n//3600\n",
    "minut = n%3600//60\n",
    "sekund = n%60\n",
    "print(f\"{soat} soat {minut} minut {sekund} sekund\")"
   ]
  },
  {
   "cell_type": "code",
   "execution_count": 4,
   "id": "7b3b94bc",
   "metadata": {},
   "outputs": [
    {
     "name": "stdout",
     "output_type": "stream",
     "text": [
      "kun = 1\n",
      "0-yakshanba\n",
      "1-dushanba\n",
      "2-seshanba\n",
      "3-chorshanba\n",
      "4-payshanba\n",
      "5-juma\n",
      "6-shanba\n",
      "siz kiritgan kun: 1\n"
     ]
    }
   ],
   "source": [
    "#24\n",
    "k = int(input(\"kun = \"))\n",
    "kun = k%7\n",
    "print(f\"0-yakshanba\\n1-dushanba\\n2-seshanba\\n3-chorshanba\\n4-payshanba\\n5-juma\\n6-shanba\\nsiz kiritgan kun: {kun}\")"
   ]
  },
  {
   "cell_type": "code",
   "execution_count": 2,
   "id": "0fbf8858",
   "metadata": {},
   "outputs": [
    {
     "name": "stdout",
     "output_type": "stream",
     "text": [
      "kun = 1\n",
      "0-yakshanba\n",
      "1-dushanba\n",
      "2-seshanba\n",
      "3-chorshanba\n",
      "4-payshanba\n",
      "5-juma\n",
      "6-shanba\n",
      "siz kiritgan kun: 4\n"
     ]
    }
   ],
   "source": [
    "#25\n",
    "k = int(input(\"kun = \"))\n",
    "kun = (k+3)%7\n",
    "print(f\"0-yakshanba\\n1-dushanba\\n2-seshanba\\n3-chorshanba\\n4-payshanba\\n5-juma\\n6-shanba\\nsiz kiritgan kun: {kun}\")"
   ]
  },
  {
   "cell_type": "code",
   "execution_count": 5,
   "id": "32323724",
   "metadata": {},
   "outputs": [
    {
     "name": "stdout",
     "output_type": "stream",
     "text": [
      "kun = 1\n",
      "1-dushanba\n",
      "2-seshanba\n",
      "3-chorshanba\n",
      "4-payshanba\n",
      "5-juma\n",
      "6-shanba\n",
      "7-yakshanba\n",
      "siz kiritgan kun: 2\n"
     ]
    }
   ],
   "source": [
    "#26\n",
    "k = int(input(\"kun = \"))\n",
    "kun = (k+1)%7\n",
    "print(f\"1-dushanba\\n2-seshanba\\n3-chorshanba\\n4-payshanba\\n5-juma\\n6-shanba\\n7-yakshanba\\nsiz kiritgan kun: {kun}\")"
   ]
  },
  {
   "cell_type": "code",
   "execution_count": 35,
   "id": "5d5eac38",
   "metadata": {},
   "outputs": [
    {
     "name": "stdout",
     "output_type": "stream",
     "text": [
      "kun = 1\n",
      "1-dushanba\n",
      "2-seshanba\n",
      "3-chorshanba\n",
      "4-payshanba\n",
      "5-juma\n",
      "6-shanba\n",
      "7-yakshanba\n",
      "siz kiritgan kun: 7\n"
     ]
    }
   ],
   "source": [
    "#27\n",
    "k = int(input(\"kun = \"))\n",
    "kun = (k+5)%7+1\n",
    "print(f\"1-dushanba\\n2-seshanba\\n3-chorshanba\\n4-payshanba\\n5-juma\\n6-shanba\\n7-yakshanba\\nsiz kiritgan kun: {kun}\")"
   ]
  },
  {
   "cell_type": "code",
   "execution_count": 37,
   "id": "e5e0f37e",
   "metadata": {},
   "outputs": [
    {
     "name": "stdout",
     "output_type": "stream",
     "text": [
      "kun = 1\n",
      "hafta kuni = 2\n",
      "kerakli kun = 9\n",
      "1-dushanba\n",
      "2-seshanba\n",
      "3-chorshanba\n",
      "4-payshanba\n",
      "5-juma\n",
      "6-shanba\n",
      "7-yakshanba\n",
      "siz kiritgan kun: 3\n"
     ]
    }
   ],
   "source": [
    "#28\n",
    "k = int(input(\"kun = \"))\n",
    "h = int(input(\"hafta kuni = \"))\n",
    "m = int(input(\"kerakli kun = \"))\n",
    "kun = (m+(h-1-k%7))%7+1\n",
    "print(f\"1-dushanba\\n2-seshanba\\n3-chorshanba\\n4-payshanba\\n5-juma\\n6-shanba\\n7-yakshanba\\nsiz kiritgan kun: {kun}\")"
   ]
  },
  {
   "cell_type": "code",
   "execution_count": 18,
   "id": "c2ba26e5",
   "metadata": {},
   "outputs": [
    {
     "name": "stdout",
     "output_type": "stream",
     "text": [
      "Joylashtirish mumkin: 4\n",
      "Ortiqchasi: 12\n"
     ]
    }
   ],
   "source": [
    "#29\n",
    "a = 6\n",
    "b = 8\n",
    "c = 3\n",
    "butun = (a//c) * (b//c)\n",
    "qoldiq = a*b - butun*c*c\n",
    "print(f\"Joylashtirish mumkin: {butun}\\nOrtiqchasi: {qoldiq}\")"
   ]
  },
  {
   "cell_type": "code",
   "execution_count": 13,
   "id": "f48c8dfc",
   "metadata": {},
   "outputs": [
    {
     "name": "stdout",
     "output_type": "stream",
     "text": [
      "Yilni kiriting: 2199\n",
      "22 asr 2199-yil\n"
     ]
    }
   ],
   "source": [
    "#30\n",
    "yil = int(input(\"Yilni kiriting: \"))\n",
    "asr = (yil//100) + 1\n",
    "\n",
    "print(f\"{asr} asr {yil}-yil\")\n",
    "\n",
    "#1800-1899 ->19 asr\n",
    "#1900-1999 ->20 asr\n",
    "#2000-2099 ->21 asr\n",
    "#2100-2199 ->22 asr\n",
    "\n",
    "# boshi_oxiri = yil%100//10\n",
    "# if 0<=boshi_oxiri<5:\n",
    "#     print(f\"{asr} asrning boshi {yil}-yil\")\n",
    "# else:\n",
    "#     print(f\"{asr} asrning oxiri {yil}-yil\")\n",
    "    \n",
    "    "
   ]
  },
  {
   "cell_type": "markdown",
   "id": "36c23b4a",
   "metadata": {},
   "source": [
    "# Qo'shimcha\n"
   ]
  },
  {
   "cell_type": "code",
   "execution_count": 39,
   "id": "8d3861e8",
   "metadata": {},
   "outputs": [
    {
     "name": "stdout",
     "output_type": "stream",
     "text": [
      "Sekundlarni kiriting: 64979120\n",
      "2 -yil\n",
      " 1 -oy\n",
      " 2 -kun\n",
      " 1 -soat\n",
      " 45 -minut\n",
      " 20 -sekund\n"
     ]
    }
   ],
   "source": [
    "# Hozirgi kungacha bolgan sekundlar kiritilsa yil,oy,kun,soat,minut,sekund larga bo'lish\n",
    "n = int(input(\"Sekundlarni kiriting: \"))\n",
    "\n",
    "yil = n//(360*24*3600)\n",
    "oy = n%(360*24*3600)//(30*24*3600)\n",
    "kun = n%(30*24*3600)//(24*3600)\n",
    "soat = n%(24*3600)//3600\n",
    "minut = n%(24*3600)%3600//60\n",
    "sekund = n%(24*3600)%60\n",
    "\n",
    "print( yil,'-yil\\n',oy,'-oy\\n',kun,'-kun\\n',soat,'-soat\\n',minut,'-minut\\n',sekund,'-sekund')\n"
   ]
  },
  {
   "cell_type": "code",
   "execution_count": null,
   "id": "05731a8e",
   "metadata": {},
   "outputs": [],
   "source": []
  }
 ],
 "metadata": {
  "kernelspec": {
   "display_name": "Python 3 (ipykernel)",
   "language": "python",
   "name": "python3"
  },
  "language_info": {
   "codemirror_mode": {
    "name": "ipython",
    "version": 3
   },
   "file_extension": ".py",
   "mimetype": "text/x-python",
   "name": "python",
   "nbconvert_exporter": "python",
   "pygments_lexer": "ipython3",
   "version": "3.9.8"
  }
 },
 "nbformat": 4,
 "nbformat_minor": 5
}
