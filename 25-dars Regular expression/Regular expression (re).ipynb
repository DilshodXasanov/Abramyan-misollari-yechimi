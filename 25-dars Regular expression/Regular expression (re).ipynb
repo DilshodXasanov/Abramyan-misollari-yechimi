{
 "cells": [
  {
   "cell_type": "markdown",
   "id": "45781080",
   "metadata": {},
   "source": [
    "# 12/09/2022\n",
    "\n",
    "# Python asoslari\n",
    "\n",
    "# 25-dars : Regular expression\n",
    "\n",
    "# Muallif: Farrux Sotivoldiyev"
   ]
  },
  {
   "cell_type": "markdown",
   "id": "2f9a29ee",
   "metadata": {},
   "source": [
    "## Misollar"
   ]
  },
  {
   "cell_type": "markdown",
   "id": "4be09271",
   "metadata": {},
   "source": [
    "### re.match() - boshidan boshlab tekshiradi."
   ]
  },
  {
   "cell_type": "code",
   "execution_count": 45,
   "id": "08820089",
   "metadata": {},
   "outputs": [
    {
     "name": "stdout",
     "output_type": "stream",
     "text": [
      "Shablon: Farrux Sotivoldiyev\n",
      "Ism va Familyani kiriting: Sherali Vohobov\n",
      "To'g'ri kiritildi  <re.Match object; span=(0, 15), match='Sherali Vohobov'>\n"
     ]
    }
   ],
   "source": [
    "#1\n",
    "import re \n",
    "print(\"Shablon: Farrux Sotivoldiyev\")\n",
    "satr = input(\"Ism va Familyani kiriting: \")\n",
    "\n",
    "if re.match(r\"[A-Z]{1}[a-z']+ [A-Z]{1}[a-z']+\",satr):\n",
    "    print(\"To'g'ri kiritildi \",re.match(r\"[A-Z]{1}[a-z']+ [A-Z]{1}[a-z']+\",satr))\n",
    "else:\n",
    "    print(\"Xato kiritildi \")"
   ]
  },
  {
   "cell_type": "code",
   "execution_count": 44,
   "id": "7a43b724",
   "metadata": {},
   "outputs": [
    {
     "name": "stdout",
     "output_type": "stream",
     "text": [
      "Shablon: +998(01)-001-01-01\n",
      "Tel nomeringizni kiriting: +998(90)-550-52-88\n",
      "To'g'ri kiritildi  <re.Match object; span=(0, 18), match='+998(90)-550-52-88'>\n"
     ]
    }
   ],
   "source": [
    "#2\n",
    "import re \n",
    "print(\"Shablon: +998(01)-001-01-01\")\n",
    "satr = input(\"Tel nomeringizni kiriting: \")\n",
    "\n",
    "if re.match(r\"\\+998\\([0-9]{2}\\)-[0-9]{3}-[0-9]{2}-[0-9]{2}\",satr):\n",
    "    print(\"To'g'ri kiritildi \",re.match(r\"\\+998\\([0-9]{2}\\)-[0-9]{3}-[0-9]{2}-[0-9]{2}\",satr))\n",
    "else:\n",
    "    print(\"Xato kiritildi \")"
   ]
  },
  {
   "cell_type": "code",
   "execution_count": 43,
   "id": "1944ce2c",
   "metadata": {},
   "outputs": [
    {
     "name": "stdout",
     "output_type": "stream",
     "text": [
      "Shablon: H...o\n",
      "Satr: Hello\n",
      "To'g'ri kiritildi  <re.Match object; span=(0, 5), match='Hello'>\n"
     ]
    }
   ],
   "source": [
    "#3\n",
    "import re \n",
    "print(\"Shablon: H...o\")\n",
    "satr = input(\"Satr: \")\n",
    "\n",
    "if re.match(r\"H...o$\",satr):\n",
    "    print(\"To'g'ri kiritildi \",re.match(r\"H...o$\",satr))\n",
    "else:\n",
    "    print(\"Xato kiritildi \")"
   ]
  },
  {
   "cell_type": "markdown",
   "id": "d4306681",
   "metadata": {},
   "source": [
    "### re.search() - hohlagan joydan qidiradi satrda o'sha so'z bo'lsa kifoya. ^ va $ ni qo'shmasligimiz kerak."
   ]
  },
  {
   "cell_type": "code",
   "execution_count": 41,
   "id": "8d425beb",
   "metadata": {},
   "outputs": [
    {
     "name": "stdout",
     "output_type": "stream",
     "text": [
      "Shablon: H...o\n",
      "Satr: sadsabSalom fdjadqale\n",
      "To'g'ri kiritildi  <re.Match object; span=(6, 11), match='Salom'>\n"
     ]
    }
   ],
   "source": [
    "#4\n",
    "import re \n",
    "print(\"Shablon: H...o\")\n",
    "satr = input(\"Satr: \")\n",
    "\n",
    "if re.search(r\"S...m\",satr):\n",
    "    print(\"To'g'ri kiritildi \",re.search(r\"S...m\",satr))\n",
    "else:\n",
    "    print(\"Xato kiritildi \")"
   ]
  },
  {
   "cell_type": "markdown",
   "id": "9e699c52",
   "metadata": {},
   "source": [
    "**` * `** - vazifasi: o'sha belgi 0 ta yoki cheksiz"
   ]
  },
  {
   "cell_type": "code",
   "execution_count": 74,
   "id": "7622f755",
   "metadata": {},
   "outputs": [
    {
     "name": "stdout",
     "output_type": "stream",
     "text": [
      "Satr: Salllommmm\n",
      "To'g'ri kiritildi  <re.Match object; span=(0, 10), match='Salllommmm'>\n"
     ]
    }
   ],
   "source": [
    "satr = input(\"Satr: \")\n",
    "if re.search(r\"Sal*om*\",satr):\n",
    "    print(\"To'g'ri kiritildi \",re.search(r\"Sal*om*\",satr))\n",
    "else:\n",
    "    print(\"Xato kiritildi \")"
   ]
  },
  {
   "cell_type": "markdown",
   "id": "ae39e8da",
   "metadata": {},
   "source": [
    "**` + `** - vazifasi: o'sha belgi 1 ta yoki cheksiz"
   ]
  },
  {
   "cell_type": "code",
   "execution_count": 73,
   "id": "1b715896",
   "metadata": {},
   "outputs": [
    {
     "name": "stdout",
     "output_type": "stream",
     "text": [
      "Satr: Salllommmm\n",
      "To'g'ri kiritildi  <re.Match object; span=(0, 10), match='Salllommmm'>\n"
     ]
    }
   ],
   "source": [
    "satr = input(\"Satr: \")\n",
    "if re.search(r\"Sal+om+\",satr):\n",
    "    print(\"To'g'ri kiritildi \",re.search(r\"Sal*om*\",satr))\n",
    "else:\n",
    "    print(\"Xato kiritildi \")"
   ]
  },
  {
   "cell_type": "markdown",
   "id": "c5393c57",
   "metadata": {},
   "source": [
    "**` ? `** - vazifasi: boshidagi + bor bo'lsa ham yo'q bo'lsa ham ishlayveradi +2134-214"
   ]
  },
  {
   "cell_type": "code",
   "execution_count": 86,
   "id": "97383bfa",
   "metadata": {},
   "outputs": [
    {
     "name": "stdout",
     "output_type": "stream",
     "text": [
      "Satr: +9945-252\n",
      "To'g'ri kiritildi  <re.Match object; span=(0, 9), match='+9945-252'>\n"
     ]
    }
   ],
   "source": [
    "satr = input(\"Satr: \")\n",
    "if re.search(r\"\\+?[0-9]+[\\+-][0-9]+\",satr):\n",
    "    print(\"To'g'ri kiritildi \",re.search(r\"\\+?[0-9]+[\\+-][0-9]+\",satr))\n",
    "else:\n",
    "    print(\"Xato kiritildi \")"
   ]
  },
  {
   "cell_type": "markdown",
   "id": "32f566a0",
   "metadata": {},
   "source": [
    "**` {} `** - vazifasi: Aniq belgilar soni"
   ]
  },
  {
   "cell_type": "code",
   "execution_count": 87,
   "id": "abc94f3a",
   "metadata": {},
   "outputs": [
    {
     "name": "stdout",
     "output_type": "stream",
     "text": [
      "Satr: Sallomm\n",
      "To'g'ri kiritildi  <re.Match object; span=(0, 7), match='Sallomm'>\n"
     ]
    }
   ],
   "source": [
    "satr = input(\"Satr: \")\n",
    "if re.search(r\"Sal{1,2}om{1,2}\",satr):\n",
    "    print(\"To'g'ri kiritildi \",re.search(r\"Sal{1,2}om{1,2}\",satr))\n",
    "else:\n",
    "    print(\"Xato kiritildi \")"
   ]
  },
  {
   "cell_type": "markdown",
   "id": "3e9a4a64",
   "metadata": {},
   "source": [
    "**` () `** - vazifasi: Gruppalash |-bu belgi or ligini () qavs ichida bildiradi "
   ]
  },
  {
   "cell_type": "code",
   "execution_count": 92,
   "id": "7ec50234",
   "metadata": {},
   "outputs": [
    {
     "name": "stdout",
     "output_type": "stream",
     "text": [
      "Satr: Salam\n",
      "To'g'ri kiritildi  <re.Match object; span=(0, 5), match='Salam'>\n"
     ]
    }
   ],
   "source": [
    "satr = input(\"Satr: \")\n",
    "if re.search(r\"Sa{1,2}(lo|la)m{1,2}\",satr):\n",
    "    print(\"To'g'ri kiritildi \",re.search(r\"Sa{1,2}(lo|la|laa)m{1,2}\",satr))\n",
    "else:\n",
    "    print(\"Xato kiritildi \")"
   ]
  },
  {
   "cell_type": "markdown",
   "id": "589b227b",
   "metadata": {},
   "source": [
    "### re.findall() , ?: bu buyruq tashqi regex ga bu gruppa emas degan buyruq beradi"
   ]
  },
  {
   "cell_type": "code",
   "execution_count": 94,
   "id": "69b8a7d2",
   "metadata": {},
   "outputs": [
    {
     "name": "stdout",
     "output_type": "stream",
     "text": [
      "Satr: Salam Salom\n",
      "['Salam', 'Salom']\n"
     ]
    }
   ],
   "source": [
    "satr = input(\"Satr: \")\n",
    "print(re.findall(r\"Sa{1,2}(?:lo|la|laa)m{1,2}\",satr))"
   ]
  },
  {
   "cell_type": "code",
   "execution_count": 42,
   "id": "2f2e0f8a",
   "metadata": {},
   "outputs": [
    {
     "name": "stdout",
     "output_type": "stream",
     "text": [
      "Filename: filename/file_10.txt\n",
      "sonlar va harflar:  ['111111111111', 'sdgdsh', 'salomat', 'zxvbxcvvbd', 'n', 'dsgfhgfhfhf', 'gfh', 'fhdf', 'hjgdjhfd', 'sfdsfg9999fgdshgff', 'fdjj', 'htjnfngfmhm', 'nima', 'gaplar', 'bu', 'jigarlar', 'fgfjhffbdfbcxxjyndbvc', 'tjtyjtyj', 'savd', 'ddsgsvcxvczcsGSDG', 'VVSdwefDSBXCXC', 'RGGFFZFSDGSF', 'GGSGGXCVCC', '2222222222222', 'shsdgdsh', 'saloma', 't', 'zxvbxcvvbd', 'n', 'dsgfhgfhfhf', 'gfh', 'fhdf', 'hjgdjhfd', 'sfdsfg3465fgdshgff', 'fdjj', 'htjnfngfmhm', 'nima', 'gaplar', 'bu', 'jigarlar', 'fg', 'fjhffbdfbcx', 'xjyndbvc', 'tjtyjtyj', 'savd', 'ddsg5353svcxvczcsGS545DG', 'VVSDSBXCXC', 'RGGFFZFSDGSF', 'GGSGGXCVCC', 'sh', 'sdgdsh', 'salomat', 'zxvbxcvvbd', 'n', 'd', 'sgfhgfhfhf', 'gfh', 'fhdf', '5353535', 'hjgdjhfd', 'sfdsfgfg', '463dshgff', 'fdjj', 'htjnfngfmhm', '44444', '444444444444', 'sh', 'sdgdsh', 'salomat', 'zx93987vbxcvvbd', 'n', 'dsgfhgfhfhf', 'gfh', 'fhdf', 'hjgdjhfd', 'sfdsfgfgdshg3939ff', 'fdjj', 'htjnfngfmhm', 'nima', 'gaplar', 'b398939393u', 'jigarl', 'a353535r', 'fgfjhffbdfbcxxjyndbvc', 'tjtyjtyj', 'savd', 'ddsgsvcxvczcsGSDG', 'VVSDS', 'BXCXC', 'RG535353GFFZFSDGSF', 'GGSGGXCVCC']\n",
      "sonlar:  ['111111111111', '9999', '2222222222222', '3465', '5353', '545', '5353535', '463', '44444', '444444444444', '93987', '3939', '398939393', '353535', '535353']\n",
      "harflar:  ['sdgdsh', 'salomat', 'zxvbxcvvbd', 'n', 'dsgfhgfhfhf', 'gfh', 'fhdf', 'hjgdjhfd', 'sfdsfg', 'fgdshgff', 'fdjj', 'htjnfngfmhm', 'nima', 'gaplar', 'bu', 'jigarlar', 'fgfjhffbdfbcxxjyndbvc', 'tjtyjtyj', 'savd', 'ddsgsvcxvczcsGSDG', 'VVSdwefDSBXCXC', 'RGGFFZFSDGSF', 'GGSGGXCVCC', 'shsdgdsh', 'saloma', 't', 'zxvbxcvvbd', 'n', 'dsgfhgfhfhf', 'gfh', 'fhdf', 'hjgdjhfd', 'sfdsfg', 'fgdshgff', 'fdjj', 'htjnfngfmhm', 'nima', 'gaplar', 'bu', 'jigarlar', 'fg', 'fjhffbdfbcx', 'xjyndbvc', 'tjtyjtyj', 'savd', 'ddsg', 'svcxvczcsGS', 'DG', 'VVSDSBXCXC', 'RGGFFZFSDGSF', 'GGSGGXCVCC', 'sh', 'sdgdsh', 'salomat', 'zxvbxcvvbd', 'n', 'd', 'sgfhgfhfhf', 'gfh', 'fhdf', 'hjgdjhfd', 'sfdsfgfg', 'dshgff', 'fdjj', 'htjnfngfmhm', 'sh', 'sdgdsh', 'salomat', 'zx', 'vbxcvvbd', 'n', 'dsgfhgfhfhf', 'gfh', 'fhdf', 'hjgdjhfd', 'sfdsfgfgdshg', 'ff', 'fdjj', 'htjnfngfmhm', 'nima', 'gaplar', 'b', 'u', 'jigarl', 'a', 'r', 'fgfjhffbdfbcxxjyndbvc', 'tjtyjtyj', 'savd', 'ddsgsvcxvczcsGSDG', 'VVSDS', 'BXCXC', 'RG', 'GFFZFSDGSF', 'GGSGGXCVCC']\n"
     ]
    }
   ],
   "source": [
    "# filedan 999 55fef1e5f1 dfdfdf birikmalarni alohida alohida qilish kerak\n",
    "from re import findall\n",
    "with open(input(\"Filename: \")) as f:\n",
    "    data = f.read()\n",
    "    regex1 = findall(r\"[0-9a-zA-z]+\",data)\n",
    "    regex2 = findall(r\"\\d+\",data)\n",
    "    regex3 = findall(r\"[a-zA-z]+\",data)\n",
    "print(\"sonlar va harflar: \",regex1)\n",
    "print(\"sonlar: \",regex2)\n",
    "print(\"harflar: \",regex3)"
   ]
  },
  {
   "cell_type": "markdown",
   "id": "d081051a",
   "metadata": {},
   "source": [
    "###  re.split() - satr yoki faylni biz yozgan so'z yoki belgi bo'yicha split qilib beradi."
   ]
  },
  {
   "cell_type": "code",
   "execution_count": 43,
   "id": "1f1f8fdf",
   "metadata": {},
   "outputs": [
    {
     "name": "stdout",
     "output_type": "stream",
     "text": [
      "Satr: assalomu alaykum yaqinlar sizlarga salom aytaman\n",
      "['as', 'u alaykum yaqinlar sizlarga ', ' aytaman']\n"
     ]
    }
   ],
   "source": [
    "satr = input(\"Satr: \")\n",
    "print(re.split(r\"salom\",satr))"
   ]
  },
  {
   "cell_type": "markdown",
   "id": "8f70583d",
   "metadata": {},
   "source": [
    "### re.compile "
   ]
  },
  {
   "cell_type": "code",
   "execution_count": 44,
   "id": "c5f9bda6",
   "metadata": {},
   "outputs": [
    {
     "name": "stdout",
     "output_type": "stream",
     "text": [
      "Satr: assalomu alaykum yaqinlar sizlarga salom aytaman\n",
      "['as', 'u alaykum yaqinlar sizlarga ', ' aytaman']\n"
     ]
    }
   ],
   "source": [
    "satr = input(\"Satr: \")\n",
    "tekshir = re.compile(r\"salom\")\n",
    "print(tekshir.split(satr))"
   ]
  },
  {
   "cell_type": "markdown",
   "id": "a5784482",
   "metadata": {},
   "source": [
    "### span() - tekshirilayotgan narsa qaysi index oralig'ida ekanligi"
   ]
  },
  {
   "cell_type": "code",
   "execution_count": 46,
   "id": "8fa3aa21",
   "metadata": {},
   "outputs": [
    {
     "name": "stdout",
     "output_type": "stream",
     "text": [
      "Satr: assalomu alaykum yaqinlar sizlarga salom aytaman\n",
      "(2, 7)\n"
     ]
    }
   ],
   "source": [
    "satr = input(\"Satr: \")\n",
    "print(re.search(r\"salom\",satr).span())"
   ]
  },
  {
   "cell_type": "markdown",
   "id": "94952895",
   "metadata": {},
   "source": [
    "### RegEx belgilari"
   ]
  },
  {
   "cell_type": "markdown",
   "id": "1434712e",
   "metadata": {},
   "source": [
    "**` \\A `**"
   ]
  },
  {
   "cell_type": "code",
   "execution_count": 3,
   "id": "efb6e729",
   "metadata": {},
   "outputs": [
    {
     "name": "stdout",
     "output_type": "stream",
     "text": [
      "satr kiriting: Assalomu alaykum\n",
      "<re.Match object; span=(0, 7), match='Assalom'>\n"
     ]
    }
   ],
   "source": [
    "import re\n",
    "satr = input(\"satr kiriting: \")\n",
    "print(re.search(r\"\\AAssalom\",satr))"
   ]
  },
  {
   "cell_type": "markdown",
   "id": "a479befd",
   "metadata": {},
   "source": [
    "**` \\Z `**"
   ]
  },
  {
   "cell_type": "code",
   "execution_count": 9,
   "id": "e0269a28",
   "metadata": {},
   "outputs": [
    {
     "name": "stdout",
     "output_type": "stream",
     "text": [
      "satr kiriting: Valaykum assalom\n",
      "<re.Match object; span=(11, 16), match='salom'>\n"
     ]
    }
   ],
   "source": [
    "import re\n",
    "satr = input(\"satr kiriting: \")\n",
    "print(re.search(r\"salom\\Z\",satr))"
   ]
  },
  {
   "cell_type": "markdown",
   "id": "3df5ec41",
   "metadata": {},
   "source": [
    "**` \\b `**"
   ]
  },
  {
   "cell_type": "code",
   "execution_count": 19,
   "id": "be1a6e2d",
   "metadata": {},
   "outputs": [
    {
     "name": "stdout",
     "output_type": "stream",
     "text": [
      "satr kiriting: salom qalesan\n",
      "<re.Match object; span=(0, 5), match='salom'>\n"
     ]
    }
   ],
   "source": [
    "import re\n",
    "satr = input(\"satr kiriting: \")\n",
    "print(re.search(r\"\\bsalom\\b\",satr))"
   ]
  },
  {
   "cell_type": "markdown",
   "id": "e679af3d",
   "metadata": {},
   "source": [
    "**` \\B `**"
   ]
  },
  {
   "cell_type": "code",
   "execution_count": 25,
   "id": "722a9a8a",
   "metadata": {},
   "outputs": [
    {
     "name": "stdout",
     "output_type": "stream",
     "text": [
      "satr kiriting: valaykumsalomqalesiz\n",
      "<re.Match object; span=(8, 13), match='salom'>\n"
     ]
    }
   ],
   "source": [
    "import re\n",
    "satr = input(\"satr kiriting: \")\n",
    "print(re.search(r\"\\Bsalom\\B\",satr))"
   ]
  },
  {
   "cell_type": "markdown",
   "id": "ad336d4d",
   "metadata": {},
   "source": [
    "**` \\d `**"
   ]
  },
  {
   "cell_type": "code",
   "execution_count": 26,
   "id": "8d5ddcc4",
   "metadata": {},
   "outputs": [
    {
     "name": "stdout",
     "output_type": "stream",
     "text": [
      "satr kiriting: V5ER2  25555  V5V5EVE2V5V5EV0FF5EV5EaDSSAFADF26FAS2F6AS2F323F26S1F15FS 5 5E5VV5E\n",
      "<re.Match object; span=(1, 2), match='5'>\n"
     ]
    }
   ],
   "source": [
    "import re\n",
    "satr = input(\"satr kiriting: \")\n",
    "print(re.search(r\"\\d+\",satr))"
   ]
  },
  {
   "cell_type": "markdown",
   "id": "baa408da",
   "metadata": {},
   "source": [
    "**` \\D `**"
   ]
  },
  {
   "cell_type": "code",
   "execution_count": 27,
   "id": "b38babbb",
   "metadata": {},
   "outputs": [
    {
     "name": "stdout",
     "output_type": "stream",
     "text": [
      "satr kiriting: salom 123 alaykum    999\n",
      "<re.Match object; span=(0, 6), match='salom '>\n"
     ]
    }
   ],
   "source": [
    "import re\n",
    "satr = input(\"satr kiriting: \")\n",
    "print(re.search(r\"\\D+\",satr))"
   ]
  },
  {
   "cell_type": "markdown",
   "id": "f4bb310b",
   "metadata": {},
   "source": [
    "**` \\s `**"
   ]
  },
  {
   "cell_type": "code",
   "execution_count": 34,
   "id": "2249a49d",
   "metadata": {},
   "outputs": [
    {
     "name": "stdout",
     "output_type": "stream",
     "text": [
      "satr kiriting: salom     adda d   a d a d ad \n",
      "<re.Match object; span=(5, 10), match='     '>\n"
     ]
    }
   ],
   "source": [
    "import re\n",
    "satr = input(\"satr kiriting: \")\n",
    "print(re.search(r\"\\s+\",satr))"
   ]
  },
  {
   "cell_type": "markdown",
   "id": "51495c5b",
   "metadata": {},
   "source": [
    "**` \\S `**"
   ]
  },
  {
   "cell_type": "code",
   "execution_count": 36,
   "id": "ce218cb1",
   "metadata": {},
   "outputs": [
    {
     "name": "stdout",
     "output_type": "stream",
     "text": [
      "satr kiriting: salomQalwe!!!%%^&\n",
      "<re.Match object; span=(0, 17), match='salomQalwe!!!%%^&'>\n"
     ]
    }
   ],
   "source": [
    "import re\n",
    "satr = input(\"satr kiriting: \")\n",
    "print(re.search(r\"\\S+\",satr))"
   ]
  },
  {
   "cell_type": "markdown",
   "id": "075f2437",
   "metadata": {},
   "source": [
    "**` \\w `**"
   ]
  },
  {
   "cell_type": "code",
   "execution_count": 38,
   "id": "d3ae3ae6",
   "metadata": {},
   "outputs": [
    {
     "name": "stdout",
     "output_type": "stream",
     "text": [
      "satr kiriting: salom_qale_12131_TUZUKMISAN\n",
      "<re.Match object; span=(0, 27), match='salom_qale_12131_TUZUKMISAN'>\n"
     ]
    }
   ],
   "source": [
    "import re\n",
    "satr = input(\"satr kiriting: \")\n",
    "print(re.search(r\"\\w+\",satr))"
   ]
  },
  {
   "cell_type": "markdown",
   "id": "92d9a39f",
   "metadata": {},
   "source": [
    "**` \\W `**"
   ]
  },
  {
   "cell_type": "code",
   "execution_count": 40,
   "id": "15316e0c",
   "metadata": {},
   "outputs": [
    {
     "name": "stdout",
     "output_type": "stream",
     "text": [
      "satr kiriting: salom! qale 12131 TUZUKMISAN\n",
      "<re.Match object; span=(5, 7), match='! '>\n"
     ]
    }
   ],
   "source": [
    "import re\n",
    "satr = input(\"satr kiriting: \")\n",
    "print(re.search(r\"\\W+\",satr))"
   ]
  },
  {
   "cell_type": "code",
   "execution_count": null,
   "id": "d3945025",
   "metadata": {},
   "outputs": [],
   "source": []
  },
  {
   "cell_type": "markdown",
   "id": "a5e47a8c",
   "metadata": {},
   "source": [
    "## Qo'shimcha."
   ]
  },
  {
   "cell_type": "code",
   "execution_count": 163,
   "id": "73155b3d",
   "metadata": {},
   "outputs": [
    {
     "name": "stdout",
     "output_type": "stream",
     "text": [
      "['85', '130', '59']\n"
     ]
    }
   ],
   "source": [
    "#satrdagi sonlarni topish\n",
    "import re  \n",
    "\n",
    "txt = \"That 85 will 130 be 59 sollars\"\n",
    "\n",
    "#Find all digit characters:\n",
    "\n",
    "x = re.findall(\"\\d+\", txt)\n",
    "print(x)"
   ]
  },
  {
   "cell_type": "code",
   "execution_count": 11,
   "id": "eac05784",
   "metadata": {},
   "outputs": [
    {
     "name": "stdout",
     "output_type": "stream",
     "text": [
      "shablon(dd.mm.yyyy): 29.04.2000\n",
      "Sana to'g'ri kiritildi!\n"
     ]
    }
   ],
   "source": [
    "# (UNIVERSAL) Sananing to'g'ri yoki xatoligini RegEx orqali tekshirish\n",
    "from re import match\n",
    "sana = input(\"shablon(dd.mm.yyyy): \")\n",
    "# 1900 <= year <= 2100\n",
    "#                                    31 kun                                    \\                 30 kun                                    \\                29 kun                                          \\                   28 kun   \n",
    "if match(r\"((([012][1-9]|10|20|30|31)\\.(0[13578]|10|12)\\.((?:19|20)[0-9]|2100))|(([012][1-9]|10|20|30)\\.(0[469]|11)\\.((?:19|20)[0-9]|2100))|(([012][1-9]|10|20)\\.02\\.(?:19|20)(?:[13579][26]|[02468][048])$)|(([0-2][1-8]|10|20|09|19)\\.02\\.((?:19|20)[0-9]|2100)))\",sana):\n",
    "    print(\"Sana to'g'ri kiritildi!\")\n",
    "else:\n",
    "    print(\"Bunday sana yo'q!\")"
   ]
  },
  {
   "cell_type": "code",
   "execution_count": 109,
   "id": "09140df9",
   "metadata": {},
   "outputs": [
    {
     "name": "stdout",
     "output_type": "stream",
     "text": [
      "shablon(AA0000000): AC2196807\n",
      "to'g'ri!\n"
     ]
    }
   ],
   "source": [
    "# ID ni to'g'ri yoki xatoligini tekshirish\n",
    "from re import match\n",
    "\n",
    "satr = input(\"shablon(AA0000000): \")\n",
    "\n",
    "if match(r\"A[A-Z][0-9]{7}$\",satr):\n",
    "    print(\"to'g'ri!\")\n",
    "else:\n",
    "    print(\"Xato!\")"
   ]
  },
  {
   "cell_type": "code",
   "execution_count": 13,
   "id": "3168c346",
   "metadata": {},
   "outputs": [
    {
     "name": "stdout",
     "output_type": "stream",
     "text": [
      "['111111111111', 'sdgdsh', 'salomat', 'zxvbxcvvbd', 'n', 'dsgfhgfhfhf', 'gfh', 'fhdf', 'hjgdjhfd', 'sfdsfg9999fgdshgff', 'fdjj', 'htjnfngfmhm', 'nima', 'gaplar', 'bu', 'jigarlar', 'fgfjhffbdfbcxxjyndbvc', 'tjtyjtyj', 'savd', 'ddsgsvcxvczcsGSDG', 'VVSdwefDSBXCXC', 'RGGFFZFSDGSF', 'GGSGGXCVCC', '2222222222222', 'shsdgdsh', 'saloma', 't', 'zxvbxcvvbd', 'n', 'dsgfhgfhfhf', 'gfh', 'fhdf', 'hjgdjhfd', 'sfdsfg3465fgdshgff', 'fdjj', 'htjnfngfmhm', 'nima', 'gaplar', 'bu', 'jigarlar', 'fg', 'fjhffbdfbcx', 'xjyndbvc', 'tjtyjtyj', 'savd', 'ddsg5353svcxvczcsGS545DG', 'VVSDSBXCXC', 'RGGFFZFSDGSF', 'GGSGGXCVCC', 'sh', 'sdgdsh', 'salomat', 'zxvbxcvvbd', 'n', 'd', 'sgfhgfhfhf', 'gfh', 'fhdf', '5353535', 'hjgdjhfd', 'sfdsfgfg', '463dshgff', 'fdjj', 'htjnfngfmhm', '44444', '444444444444', 'sh', 'sdgdsh', 'salomat', 'zx93987vbxcvvbd', 'n', 'dsgfhgfhfhf', 'gfh', 'fhdf', 'hjgdjhfd', 'sfdsfgfgdshg3939ff', 'fdjj', 'htjnfngfmhm', 'nima', 'gaplar', 'b398939393u', 'jigarl', 'a353535r', 'fgfjhffbdfbcxxjyndbvc', 'tjtyjtyj', 'savd', 'ddsgsvcxvczcsGSDG', 'VVSDS', 'BXCXC', 'RG535353GFFZFSDGSF', 'GGSGGXCVCC']\n"
     ]
    }
   ],
   "source": [
    "# Filedan so'zlarni o'qib alohida kelgan yani bo'shliq bilan ajratilgan so'z yoki belgilarni bitta listga jamlash\n",
    "from re import findall\n",
    "with open(\"Filename/file_10.txt\") as f:\n",
    "    txt = f.read()\n",
    "    file = findall(r\"[a-zA-Z0-9]+\",txt)\n",
    "print(file)\n"
   ]
  }
 ],
 "metadata": {
  "kernelspec": {
   "display_name": "Python 3 (ipykernel)",
   "language": "python",
   "name": "python3"
  },
  "language_info": {
   "codemirror_mode": {
    "name": "ipython",
    "version": 3
   },
   "file_extension": ".py",
   "mimetype": "text/x-python",
   "name": "python",
   "nbconvert_exporter": "python",
   "pygments_lexer": "ipython3",
   "version": "3.9.8"
  }
 },
 "nbformat": 4,
 "nbformat_minor": 5
}
