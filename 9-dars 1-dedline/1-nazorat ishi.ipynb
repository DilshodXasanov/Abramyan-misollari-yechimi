{
 "cells": [
  {
   "cell_type": "markdown",
   "id": "abf3a453",
   "metadata": {},
   "source": [
    "# 23/02/2022\n",
    "# Sotivoldiyev Farruxbek\n",
    "\n",
    "# 1- nazorat ishi"
   ]
  },
  {
   "cell_type": "markdown",
   "id": "400f1415",
   "metadata": {},
   "source": [
    "# Imtihon 2 soat davom etadi:\n",
    "20:30-22:30\n",
    "\n",
    "Kodlar adminga shu vaqt oralig'ida jo'natiladi. Natijalarni Seshanba kuni e'lon qilamiz!\n",
    "\n",
    "1. 4ta son berilgan shu 4ta sonni 5-son qo'shmasdan va boshqa toifa ishlatmasdan, 4tasini qiymatini almashtiruvchi dastur tuzing!\n",
    "\n",
    "2. 4 xonali son berilgan, shu sonlarni teskari tartibda yozuvchi dastur tuzing. While, for, satr ishlatish mumkin emas\n",
    "\n",
    "3. 3ta son berilgan shu 3ta sonning o'rtancha qiymatga ega sonni toping:\n",
    "Masalan: 6, 11, 100 kiritilsa javob 6 chiqishi kerak\n",
    "\n",
    "4. for 23 misolni ishlash kerak\n",
    "\n",
    "5. Nta son berilgan shu Nta sonning ichidan eng kichik musbat sonni topish kerak.\n"
   ]
  },
  {
   "cell_type": "code",
   "execution_count": 1,
   "id": "d1fe709c",
   "metadata": {},
   "outputs": [
    {
     "name": "stdout",
     "output_type": "stream",
     "text": [
      "2 3 4 1 "
     ]
    }
   ],
   "source": [
    "#1-savol\n",
    "\n",
    "a = 1\n",
    "b = 2\n",
    "c = 3\n",
    "d = 4\n",
    "\n",
    "a = a + b + c + d\n",
    "d = a - b - c - d\n",
    "c = a - b - c - d\n",
    "b = a - b - c - d\n",
    "a = a - b - c - d\n",
    "\n",
    "print(a,b,c,d,end = \" \")"
   ]
  },
  {
   "cell_type": "code",
   "execution_count": 2,
   "id": "d3a09e1c",
   "metadata": {},
   "outputs": [
    {
     "name": "stdout",
     "output_type": "stream",
     "text": [
      "3842\n"
     ]
    }
   ],
   "source": [
    "#2-savol\n",
    "\n",
    "a = 2483\n",
    "\n",
    "ming = a // 1000\n",
    "yuz = a % 1000 // 100\n",
    "on = a % 100 // 10\n",
    "bir = a % 10\n",
    "print(bir*1000 + on*100 + yuz*10 + ming*1)"
   ]
  },
  {
   "cell_type": "code",
   "execution_count": 8,
   "id": "06edf97f",
   "metadata": {},
   "outputs": [
    {
     "name": "stdout",
     "output_type": "stream",
     "text": [
      "11\n"
     ]
    }
   ],
   "source": [
    "#3-savol\n",
    "\n",
    "a = 6\n",
    "b = 11\n",
    "c = 100\n",
    "\n",
    "if a > b and a < c:\n",
    "    print(a)\n",
    "elif b > a and b < c:\n",
    "    print(b)\n",
    "else:\n",
    "    print(c)"
   ]
  },
  {
   "cell_type": "code",
   "execution_count": 5,
   "id": "d5fef86c",
   "metadata": {},
   "outputs": [
    {
     "name": "stdout",
     "output_type": "stream",
     "text": [
      "n = 2\n",
      "x = 2\n",
      "summa: 0.9333333333333333\n"
     ]
    }
   ],
   "source": [
    "#4-savol\n",
    "\n",
    "n = int(input(\"n = \"))\n",
    "x = float(input(\"x = \"))\n",
    "\n",
    "p = 1\n",
    "s = x\n",
    "for i in range(1,n+1):\n",
    "    p *= (2*i+1)*2*i\n",
    "    s += ((-1)**i * x**(2*i+1))/p\n",
    "print(\"summa:\",s)"
   ]
  },
  {
   "cell_type": "code",
   "execution_count": 33,
   "id": "7d006882",
   "metadata": {},
   "outputs": [
    {
     "name": "stdout",
     "output_type": "stream",
     "text": [
      "n = 3\n",
      "son1>>>-5\n",
      "son2>>>9\n",
      "son3>>>2\n",
      "2\n"
     ]
    }
   ],
   "source": [
    "#5-savol\n",
    "\n",
    "n = int(input(\"n = \"))\n",
    "\n",
    "min = 'Siz 0 dan katta son kiritmadingiz'\n",
    "flag = True\n",
    "for i in range(1,n+1):\n",
    "    a = int(input(f\"son{i}>>>\"))\n",
    "    if a>0 and flag:\n",
    "        min = a\n",
    "        flag = False\n",
    "    if a > 0 and min > a:\n",
    "            min = a\n",
    "print(min)"
   ]
  }
 ],
 "metadata": {
  "kernelspec": {
   "display_name": "Python 3 (ipykernel)",
   "language": "python",
   "name": "python3"
  },
  "language_info": {
   "codemirror_mode": {
    "name": "ipython",
    "version": 3
   },
   "file_extension": ".py",
   "mimetype": "text/x-python",
   "name": "python",
   "nbconvert_exporter": "python",
   "pygments_lexer": "ipython3",
   "version": "3.10.2"
  }
 },
 "nbformat": 4,
 "nbformat_minor": 5
}
