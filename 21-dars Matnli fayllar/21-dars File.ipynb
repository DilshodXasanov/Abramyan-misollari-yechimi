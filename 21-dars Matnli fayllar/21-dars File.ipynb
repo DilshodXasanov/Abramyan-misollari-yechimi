{
 "cells": [
  {
   "cell_type": "markdown",
   "id": "066daf08",
   "metadata": {},
   "source": [
    "# 20/06/2022\n",
    "\n",
    "# Python asoslari\n",
    "\n",
    "# 21-dars : Matnli fayllarga oid masalalar\n",
    "\n",
    "# Muallif: Farrux Sotivoldiyev"
   ]
  },
  {
   "cell_type": "markdown",
   "id": "5bd01005",
   "metadata": {},
   "source": [
    "### 1.Matn fayllari ustida amallar"
   ]
  },
  {
   "cell_type": "code",
   "execution_count": 1,
   "id": "a0ba404c",
   "metadata": {},
   "outputs": [
    {
     "name": "stdout",
     "output_type": "stream",
     "text": [
      "n = 8\n",
      "k = 6\n",
      "File name: filename\\file_1.txt\n"
     ]
    }
   ],
   "source": [
    "#Text1\n",
    "n = int(input(\"n = \"))\n",
    "k = int(input(\"k = \"))\n",
    "x = open(input(\"File name: \"),\"x\")\n",
    "\n",
    "for i in range(n):\n",
    "    x.write(\"*\" * k + \"\\n\")\n",
    "x.close()"
   ]
  },
  {
   "cell_type": "code",
   "execution_count": 2,
   "id": "76068a45",
   "metadata": {},
   "outputs": [
    {
     "name": "stdout",
     "output_type": "stream",
     "text": [
      "n = 10\n",
      "File name: filename\\file_2.txt\n"
     ]
    }
   ],
   "source": [
    "#Text2\n",
    "n = int(input(\"n = \"))\n",
    "x = open(input(\"File name: \"),\"x\")\n",
    "\n",
    "for i in range(1,n):\n",
    "    for j in range(i):\n",
    "        x.write(chr(97+j))\n",
    "    x.write(\"\\n\")\n",
    "x.close()"
   ]
  },
  {
   "cell_type": "code",
   "execution_count": 3,
   "id": "2e4dc50d",
   "metadata": {},
   "outputs": [
    {
     "name": "stdout",
     "output_type": "stream",
     "text": [
      "n = 6\n",
      "File name: filename\\file_3.txt\n"
     ]
    }
   ],
   "source": [
    "#Text3\n",
    "n = int(input(\"n = \"))\n",
    "x = open(input(\"File name: \"),\"x\")\n",
    "\n",
    "for i in range(n):\n",
    "    for j in range(i+1):\n",
    "        x.write(chr(65+j))\n",
    "    if i != n-1:\n",
    "        x.write('*'*(n-i-1) + \"\\n\")\n",
    "        continue\n",
    "    x.write('*'*(n-i-1))\n",
    "x.close()"
   ]
  },
  {
   "cell_type": "code",
   "execution_count": 4,
   "id": "8a90d3a1",
   "metadata": {},
   "outputs": [
    {
     "name": "stdout",
     "output_type": "stream",
     "text": [
      "File name: filename\\file_3.txt\n",
      "Belgilar: 41 ta\n",
      "Satrlar: 6 ta\n"
     ]
    }
   ],
   "source": [
    "#Text4\n",
    "x = (open(input(\"File name: \"),\"r\"))\n",
    "k = x.read()\n",
    "print(f\"Belgilar: {len(k)} ta\")\n",
    "print(f\"Satrlar: {len(k.split())} ta\")\n",
    "x.close()"
   ]
  },
  {
   "cell_type": "code",
   "execution_count": 5,
   "id": "e7340373",
   "metadata": {},
   "outputs": [
    {
     "name": "stdout",
     "output_type": "stream",
     "text": [
      "Satr kiriting: salom akalar\n",
      "File name: filename\\file_3.txt\n"
     ]
    }
   ],
   "source": [
    "#Text5\n",
    "s = input(\"Satr kiriting: \")\n",
    "x = (open(input(\"File name: \"),\"a\"))\n",
    "x.write(s)\n",
    "x.close()"
   ]
  },
  {
   "cell_type": "code",
   "execution_count": 7,
   "id": "1580245e",
   "metadata": {},
   "outputs": [
    {
     "name": "stdout",
     "output_type": "stream",
     "text": [
      "File name 1: filename\\file_1.txt\n",
      "File name 2: filename\\file_3.txt\n"
     ]
    }
   ],
   "source": [
    "#Text6\n",
    "x = (open(input(\"File name 1: \"),\"a\")) \n",
    "y = (open(input(\"File name 2: \")))\n",
    "x.write(y.read())\n",
    "x.close()\n",
    "y.close()"
   ]
  },
  {
   "cell_type": "code",
   "execution_count": 8,
   "id": "3675eb3d",
   "metadata": {},
   "outputs": [
    {
     "name": "stdout",
     "output_type": "stream",
     "text": [
      "Satr kiriting: hello world\n",
      "File name: filename\\file_1.txt\n"
     ]
    }
   ],
   "source": [
    "#Text7\n",
    "s = input(\"Satr kiriting: \")\n",
    "k = input(\"File name: \")\n",
    "x = (open(k))\n",
    "m = x.read() \n",
    "x.close()\n",
    "\n",
    "x = (open(k,\"w\"))\n",
    "x.write(s + \"\\n\"); x.write(m)\n",
    "x.close()"
   ]
  },
  {
   "cell_type": "code",
   "execution_count": 9,
   "id": "ca45a7fd",
   "metadata": {},
   "outputs": [
    {
     "name": "stdout",
     "output_type": "stream",
     "text": [
      "File name 1: filename\\file_2.txt\n",
      "File name 2: filename\\file_1.txt\n"
     ]
    }
   ],
   "source": [
    "#Text8\n",
    "k = input(\"File name 1: \")\n",
    "a = (open(k))\n",
    "m = a.read() \n",
    "a.close()\n",
    "\n",
    "b = (open(input(\"File name 2: \")))\n",
    "\n",
    "x = (open(k,\"w\"))\n",
    "x.write(b.read() + \"\\n\"); x.write(m)\n",
    "x.close()"
   ]
  },
  {
   "cell_type": "code",
   "execution_count": 16,
   "id": "f3bea58d",
   "metadata": {
    "scrolled": true
   },
   "outputs": [
    {
     "name": "stdout",
     "output_type": "stream",
     "text": [
      "File name: filename\\file_1.txt\n",
      "k = 9\n"
     ]
    }
   ],
   "source": [
    "#Text9\n",
    "f = input(\"File name: \")\n",
    "k = int(input(\"k = \"))\n",
    "\n",
    "x = open(f)\n",
    "y = x.readlines()\n",
    "x.close()\n",
    "\n",
    "if len(y)>k:\n",
    "    y.insert(k,\"\\n\")\n",
    "    \n",
    "x = open(f,\"w\")\n",
    "x.writelines(y)\n",
    "x.close()"
   ]
  },
  {
   "cell_type": "code",
   "execution_count": 17,
   "id": "b6b5006b",
   "metadata": {},
   "outputs": [
    {
     "name": "stdout",
     "output_type": "stream",
     "text": [
      "File name: filename\\file_1.txt\n"
     ]
    }
   ],
   "source": [
    "#Text11\n",
    "f = input(\"File name: \")\n",
    "\n",
    "x = open(f)\n",
    "y = x.readlines()\n",
    "x.close()\n",
    "\n",
    "for i in range(len(y)):\n",
    "    if y[i]==\"\\n\":\n",
    "        y[i] *= 2\n",
    "        \n",
    "    \n",
    "x = open(f,\"w\")\n",
    "x.writelines(y)\n",
    "x.close()"
   ]
  },
  {
   "cell_type": "code",
   "execution_count": 14,
   "id": "41330814",
   "metadata": {},
   "outputs": [
    {
     "name": "stdout",
     "output_type": "stream",
     "text": [
      "File name: filename\\file_1.txt\n",
      "k = 6\n"
     ]
    }
   ],
   "source": [
    "#Text15\n",
    "f = input(\"File name: \")\n",
    "k = int(input(\"k = \"))\n",
    "\n",
    "x = open(f)\n",
    "y = x.readlines()\n",
    "x.close()\n",
    "\n",
    "del y[k-1]\n",
    "    \n",
    "x = open(f,\"w\")\n",
    "x.writelines(y)\n",
    "x.close()"
   ]
  },
  {
   "cell_type": "code",
   "execution_count": 37,
   "id": "b0edc186",
   "metadata": {},
   "outputs": [
    {
     "name": "stdout",
     "output_type": "stream",
     "text": [
      "Filename: filename\\file_4.txt\n"
     ]
    }
   ],
   "source": [
    "#Text16\n",
    "k = input(\"Filename: \")\n",
    "with open(k) as f:\n",
    "    s = f.readlines()\n",
    "    \n",
    "with open(k,\"w\") as f:\n",
    "    for _ in range(s.count(\"\\n\")):\n",
    "        s.remove(\"\\n\")\n",
    "    f.writelines(s)"
   ]
  },
  {
   "cell_type": "code",
   "execution_count": 42,
   "id": "f1581fca",
   "metadata": {},
   "outputs": [
    {
     "name": "stdout",
     "output_type": "stream",
     "text": [
      "Filename 1: filename\\file_5.txt\n",
      "Filename 2: filename\\file_3.txt\n"
     ]
    }
   ],
   "source": [
    "#Text17\n",
    "m = input(\"Filename 1: \")\n",
    "n = input(\"Filename 2: \")\n",
    "with open(m) as f:\n",
    "    s = f.readlines()\n",
    "    \n",
    "with open(n) as f:\n",
    "    k = f.readlines()\n",
    "    \n",
    "with open(m,\"w\") as f:\n",
    "    for i in range(len(s)):\n",
    "        f.writelines(s[i])\n",
    "        if (i+1) < len(k):\n",
    "            f.writelines(k[i+1])"
   ]
  },
  {
   "cell_type": "code",
   "execution_count": 7,
   "id": "16464a19",
   "metadata": {},
   "outputs": [
    {
     "name": "stdout",
     "output_type": "stream",
     "text": [
      "k = 6\n",
      "Filename: filename\\file_22.txt\n"
     ]
    }
   ],
   "source": [
    "#Text18\n",
    "k = int(input(\"k = \"))\n",
    "p = input(\"Filename: \")\n",
    "\n",
    "with open(p) as f:\n",
    "    m = f.readlines()\n",
    "with open(p,\"w\") as f:\n",
    "    for i in range(len(m)):\n",
    "        f.write(m[i][k:])"
   ]
  },
  {
   "cell_type": "code",
   "execution_count": 56,
   "id": "f93fb36e",
   "metadata": {},
   "outputs": [
    {
     "name": "stdout",
     "output_type": "stream",
     "text": [
      "Filename: filename\\file_5.txt\n"
     ]
    }
   ],
   "source": [
    "#Text19\n",
    "with open(input(\"Filename: \"),\"r+\") as f:\n",
    "    r = f.read()\n",
    "    f.seek(0)\n",
    "    f.write(r.swapcase())"
   ]
  },
  {
   "cell_type": "code",
   "execution_count": 68,
   "id": "88f4d75f",
   "metadata": {},
   "outputs": [
    {
     "name": "stdout",
     "output_type": "stream",
     "text": [
      "Filename: filename\\file_6.txt\n"
     ]
    }
   ],
   "source": [
    "#Text20\n",
    "k = input(\"Filename: \")\n",
    "with open(k) as f:\n",
    "    r = \" \".join((f.read()).split())\n",
    "with open(k,\"w\") as f:\n",
    "    f.write(r)"
   ]
  },
  {
   "cell_type": "code",
   "execution_count": 79,
   "id": "0e4cc17e",
   "metadata": {},
   "outputs": [
    {
     "name": "stdout",
     "output_type": "stream",
     "text": [
      "Filename: filename\\file_7.txt\n"
     ]
    }
   ],
   "source": [
    "#Text21\n",
    "k = input(\"Filename: \")\n",
    "with open(k) as f:\n",
    "    r = (f.read()).split()\n",
    "    \n",
    "with open(k,\"w\") as f:\n",
    "    for _ in range(3):\n",
    "        del r[-1]\n",
    "    f.write(\" \".join(r))"
   ]
  },
  {
   "cell_type": "code",
   "execution_count": 91,
   "id": "4b1e1f7e",
   "metadata": {},
   "outputs": [
    {
     "name": "stdout",
     "output_type": "stream",
     "text": [
      "k = 3\n",
      "Filename: filename\\file_7.txt\n"
     ]
    }
   ],
   "source": [
    "#Text22\n",
    "k = int(input(\"k = \"))\n",
    "m = input(\"Filename: \")\n",
    "with open(m) as f:\n",
    "    r = (f.read()).split()\n",
    "    \n",
    "with open(m,\"w\") as f:\n",
    "    for _ in range(3):\n",
    "        del r[-1]\n",
    "    f.write(\" \".join(r))"
   ]
  },
  {
   "cell_type": "code",
   "execution_count": 89,
   "id": "07befe62",
   "metadata": {},
   "outputs": [
    {
     "name": "stdout",
     "output_type": "stream",
     "text": [
      "k = 9\n",
      "Filename: filename\\file_7.txt\n",
      "What file do you create: filename\\file_8.txt\n"
     ]
    }
   ],
   "source": [
    "#Text23\n",
    "k = int(input(\"k = \"))\n",
    "m = input(\"Filename: \")\n",
    "h = input(\"What file do you create: \")\n",
    "with open(m) as f:\n",
    "    r = (f.read()).split()\n",
    "    new_string = []\n",
    "    for _ in range(k):\n",
    "        new_string.append(r.pop(-1))\n",
    "    \n",
    "with open(h,\"x+\") as f:\n",
    "    f.write(\" \".join(new_string))"
   ]
  },
  {
   "cell_type": "markdown",
   "id": "d14ebc6a",
   "metadata": {},
   "source": [
    "### 2.Matnni formatlash va tahlil qilish."
   ]
  },
  {
   "cell_type": "code",
   "execution_count": 24,
   "id": "e4a7d91e",
   "metadata": {},
   "outputs": [
    {
     "name": "stdout",
     "output_type": "stream",
     "text": [
      "Filename: filename\\file_10.txt\n",
      "Matndagi abzaslar soni 10 ta \n"
     ]
    }
   ],
   "source": [
    "#Text24\n",
    "with open(input(\"Filename: \")) as f:  \n",
    "    file = (f.read()).split(\"\\n\\n\")\n",
    "    for i in range(file.count(\"\")):\n",
    "        file.remove(\"\")\n",
    "            \n",
    "print(f\"Matndagi abzaslar soni {len(file)} ta \")"
   ]
  },
  {
   "cell_type": "code",
   "execution_count": 22,
   "id": "2a49e76b",
   "metadata": {},
   "outputs": [
    {
     "name": "stdout",
     "output_type": "stream",
     "text": [
      "k = 3\n",
      "Filename: filename\\file_10.txt\n"
     ]
    }
   ],
   "source": [
    "#Text25\n",
    "k = int(input(\"k = \"))\n",
    "h = input(\"Filename: \")\n",
    "with open(h) as f:\n",
    "    file = (f.read()).split(\"\\n\\n\")\n",
    "    for i in range(file.count(\"\")):\n",
    "        file.remove(\"\")\n",
    "    for i in range(len(file)):\n",
    "        if file[i].startswith(\"\\n\"):\n",
    "            file[i] = file[i][1:]\n",
    "    if len(file)>=k:\n",
    "        file.pop(k-1)\n",
    "with open(h,\"w\") as f:\n",
    "    file_2 = \"\\n\\n\".join(file)\n",
    "    f.write(file_2) "
   ]
  },
  {
   "cell_type": "code",
   "execution_count": 44,
   "id": "d3c0a9ea",
   "metadata": {},
   "outputs": [
    {
     "name": "stdout",
     "output_type": "stream",
     "text": [
      "Filename: filename\\file_10.txt\n",
      "Qizil satr\n"
     ]
    }
   ],
   "source": [
    "#Text26\n",
    "with open(input(\"Filename: \")) as f:  \n",
    "    file = (f.read()).split(\"\\n\\n\")\n",
    "    for i in range(file.count(\"\")):\n",
    "        file.remove(\"\")\n",
    "    for i in range(len(file)):\n",
    "        if file[i].startswith(\"\\n\"):\n",
    "            file[i] = file[i][1:]\n",
    "    qizil_satr = 0\n",
    "    for i in file:\n",
    "        sanoq = 0\n",
    "        for j in range(6):\n",
    "            if i[j]==\" \":\n",
    "                sanoq += 1\n",
    "        if sanoq==5:\n",
    "            qizil_satr += 1\n",
    "if qizil_satr == len(file):\n",
    "    print(\"Qizil satr\")\n",
    "else:\n",
    "    print(f\"Abzaslar soni: {len(file)} ta\")"
   ]
  },
  {
   "cell_type": "code",
   "execution_count": 63,
   "id": "5b3b27ce",
   "metadata": {},
   "outputs": [
    {
     "name": "stdout",
     "output_type": "stream",
     "text": [
      "k = 3\n",
      "Filename: filename\\file_10.txt\n"
     ]
    }
   ],
   "source": [
    "#Text27\n",
    "k = int(input(\"k = \"))\n",
    "file = input(\"Filename: \")\n",
    "with open(file) as f:\n",
    "    mal = (f.read()).split(\"     \")\n",
    "    for i in mal:\n",
    "        if i=='':\n",
    "            mal.remove(i)\n",
    "    if len(mal)>=k:\n",
    "        del mal[k-1]\n",
    "    n = \" \".join(mal)\n",
    "with open(file,\"w\") as f:\n",
    "    f.write(n)"
   ]
  },
  {
   "cell_type": "code",
   "execution_count": 16,
   "id": "bb706232",
   "metadata": {},
   "outputs": [
    {
     "name": "stdout",
     "output_type": "stream",
     "text": [
      "Filename: filename\\file_10.txt\n"
     ]
    }
   ],
   "source": [
    "#Text28\n",
    "file = input(\"Filename: \")\n",
    "with open(file,\"r+\") as f:\n",
    "    k = (f.read()).split(\"     \")\n",
    "    for i in range(len(k)-1):\n",
    "        if k[i]=='':\n",
    "            k.pop(i)\n",
    "    for i in range(1,len(k)+1,2):\n",
    "        k.insert(i,'\\n')\n",
    "    gaplar = \" \".join(k)\n",
    "\n",
    "    f.seek(0)\n",
    "    f.write(gaplar)"
   ]
  },
  {
   "cell_type": "code",
   "execution_count": 48,
   "id": "716349f6",
   "metadata": {},
   "outputs": [
    {
     "name": "stdout",
     "output_type": "stream",
     "text": [
      "Filename: filename\\file_4.txt\n",
      "ABCDEFsalom\n"
     ]
    }
   ],
   "source": [
    "#Text29\n",
    "with open(input(\"Filename: \")) as f:\n",
    "    k = (f.read()).split()\n",
    "    maxi = 1\n",
    "    for i in range(len(k)):\n",
    "        if maxi < len(k[i]):\n",
    "            maxi = len(k[i])\n",
    "            soz = k[i]\n",
    "print(soz)"
   ]
  },
  {
   "cell_type": "code",
   "execution_count": 51,
   "id": "d28a34b1",
   "metadata": {},
   "outputs": [
    {
     "name": "stdout",
     "output_type": "stream",
     "text": [
      "Filename: filename\\file_4.txt\n",
      "hello\n"
     ]
    }
   ],
   "source": [
    "#Text30\n",
    "with open(input(\"Filename: \")) as f:\n",
    "    k = (f.read()).split()\n",
    "    mini = len(k[0])\n",
    "    soz = k[0]\n",
    "    for i in range(1,len(k)):\n",
    "        if mini > len(k[i]):\n",
    "            mini = len(k[i])\n",
    "            soz = k[i]\n",
    "print(soz) if len(soz)>1 else print(\"Bunday so'z yo'q\")"
   ]
  },
  {
   "cell_type": "code",
   "execution_count": 69,
   "id": "81c4e64c",
   "metadata": {},
   "outputs": [
    {
     "name": "stdout",
     "output_type": "stream",
     "text": [
      "k = 5\n",
      "Filename: filename\\file_8.txt\n",
      "What file do you create: filename\\file_10.txt\n"
     ]
    }
   ],
   "source": [
    "#Text31\n",
    "from string import punctuation as p\n",
    "k = int(input(\"k = \"))\n",
    "\n",
    "with open(input(\"Filename: \")) as f:\n",
    "    s = f.read()\n",
    "    m = (s.translate(s.maketrans('','',p))).split()\n",
    "    h = [i for i in m if len(i)>1]\n",
    "    \n",
    "with open(input(\"What file do you create: \"),\"x+\") as f:\n",
    "    if k<=len(h):\n",
    "        f.writelines(\" \".join(h[:k]))"
   ]
  },
  {
   "cell_type": "code",
   "execution_count": 10,
   "id": "d1de9a69",
   "metadata": {},
   "outputs": [
    {
     "name": "stdout",
     "output_type": "stream",
     "text": [
      "Filename: filename\\file_11.txt\n",
      "What file do you create: filename\\file_12.txt\n"
     ]
    }
   ],
   "source": [
    "#Text32\n",
    "from string import punctuation as p\n",
    "k = \"C\"\n",
    "\n",
    "with open(input(\"Filename: \")) as f:\n",
    "    s = f.read()\n",
    "    m = (s.translate(s.maketrans('','',p))).split()\n",
    "    h = [i for i in m if len(i)>1]\n",
    "    \n",
    "with open(input(\"What file do you create: \"),\"x+\") as f:\n",
    "    s = ''\n",
    "    for i in range(len(h)):\n",
    "        if h[i][0]==k or h[i][0]==k.lower():\n",
    "            s += h[i] + \" \"\n",
    "    f.write(s)"
   ]
  },
  {
   "cell_type": "code",
   "execution_count": 11,
   "id": "fa1a1d43",
   "metadata": {},
   "outputs": [
    {
     "name": "stdout",
     "output_type": "stream",
     "text": [
      "Filename: filename\\file_11.txt\n",
      "What file do you create: filename\\file_13.txt\n"
     ]
    }
   ],
   "source": [
    "#Text33\n",
    "from string import punctuation as p\n",
    "k = \"c\"\n",
    "\n",
    "with open(input(\"Filename: \")) as f:\n",
    "    s = f.read()\n",
    "    m = (s.translate(s.maketrans('','',p))).split()\n",
    "    h = [i for i in m if len(i)>1]\n",
    "    \n",
    "with open(input(\"What file do you create: \"),\"x+\") as f:\n",
    "    s = ''\n",
    "    for i in range(len(h)):\n",
    "        if h[i][0]==k or h[i][0]==k.upper():\n",
    "            s += h[i] + \" \"\n",
    "    f.write(s)"
   ]
  },
  {
   "cell_type": "markdown",
   "id": "9e4080de",
   "metadata": {},
   "source": [
    "### 3.Sonli ma'lumotlarga ega bo'lgan matnli fayllar."
   ]
  },
  {
   "cell_type": "code",
   "execution_count": 20,
   "id": "04f00621",
   "metadata": {},
   "outputs": [],
   "source": [
    "#Text40\n",
    "with open(\"filename\\son_16.txt\") as f:\n",
    "    file1 = (f.read()).split(\"\\n\")\n",
    "    \n",
    "with open(\"filename\\son_17.txt\") as f:\n",
    "    file2 = (f.read()).split(\"\\n\")\n",
    "    \n",
    "with open(\"filename\\son_18.txt\",\"x+\") as f:\n",
    "    for i in range(len(file1)):\n",
    "        f.write(111 * \" \")\n",
    "        f.write(\"|\"+file1[i]+\" \"*(28-len(file1[i])-len(file2[i])) + file2[i]+\"|\\n\")"
   ]
  },
  {
   "cell_type": "code",
   "execution_count": 22,
   "id": "bfcafc0d",
   "metadata": {},
   "outputs": [],
   "source": [
    "#Text41\n",
    "with open(\"filename\\son_16.txt\") as f:\n",
    "    file1 = (f.read()).split(\"\\n\")\n",
    "    \n",
    "with open(\"filename\\son_17.txt\") as f:\n",
    "    file2 = (f.read()).split(\"\\n\")\n",
    "    \n",
    "with open(\"filename\\son_19.txt\",\"x+\") as f:\n",
    "    for i in range(len(file1)):\n",
    "        f.write(\"|\"+file1[i]+\" \"*(28-len(file1[i])-len(file2[i])) + file2[i]+\"|\\n\")"
   ]
  },
  {
   "cell_type": "code",
   "execution_count": 46,
   "id": "eb958885",
   "metadata": {},
   "outputs": [
    {
     "name": "stdout",
     "output_type": "stream",
     "text": [
      "N = 30\n",
      "A = 2\n",
      "B = 40\n"
     ]
    }
   ],
   "source": [
    "#Text42\n",
    "from math import sqrt\n",
    "n = int(input(\"N = \"))\n",
    "a = float(input(\"A = \"))\n",
    "b = float(input(\"B = \"))\n",
    "\n",
    "qadamlar = []\n",
    "qadam = abs((b-a)/n)\n",
    "for i in range(n+1):\n",
    "    qadamlar.append(round(a,1))\n",
    "    a += qadam\n",
    "\n",
    "with open(\"filename\\son_20.txt\",\"x+\") as f:\n",
    "    f.write(63*' '+\"No\".center(5)+\"|\"+\"x\".center(10)+\"|\"+\"Ildizda->x\".center(10)+\"|\\n\")\n",
    "    f.write(63*' ' + 28*(\"-\")+\"\\n\")\n",
    "    for i in range(len(qadamlar)):\n",
    "        f.write(63*' ' +(str(i+1)).center(5)+\"|\"+(str(qadamlar[i])).center(10)+\"|\"+(str(round(sqrt(qadamlar[i]),1))).center(10)+\"|\\n\")"
   ]
  },
  {
   "cell_type": "code",
   "execution_count": 57,
   "id": "cf47c4ac",
   "metadata": {},
   "outputs": [
    {
     "name": "stdout",
     "output_type": "stream",
     "text": [
      "N = 30\n",
      "A = 2\n",
      "B = 30\n"
     ]
    }
   ],
   "source": [
    "#Text43\n",
    "from math import sqrt,cos,sin\n",
    "n = int(input(\"N = \"))\n",
    "a = float(input(\"A = \"))\n",
    "b = float(input(\"B = \"))\n",
    "\n",
    "qadamlar = []\n",
    "qadam = abs((b-a)/n)\n",
    "for i in range(n+1):\n",
    "    qadamlar.append(round(a,1))\n",
    "    a += qadam\n",
    "    \n",
    "sinuslar = [round(sin(i),4) for i in qadamlar]\n",
    "cosinuslar = [round(cos(i),4) for i in qadamlar]\n",
    "\n",
    "with open(\"filename\\son_21.txt\",\"x+\") as f:\n",
    "    f.write(f\"{55*' '}{'No'.center(5)}|{'x'.center(10)}|{'sin(x)'.center(10)}|{'cos(x)'.center(10)}|\\n\")\n",
    "    f.write(57*' ' + 37*(\"-\")+\"\\n\")\n",
    "    for i in range(len(qadamlar)):\n",
    "        f.write(55*' ' +(str(i+1)).center(5)+\"|\"+(str(qadamlar[i])).center(10)+\"|\"+(str(sinuslar[i])).center(10)+\"|\"+(str(cosinuslar[i])).center(10)+\"|\\n\")"
   ]
  },
  {
   "cell_type": "code",
   "execution_count": 22,
   "id": "5217efd4",
   "metadata": {},
   "outputs": [
    {
     "name": "stdout",
     "output_type": "stream",
     "text": [
      "Filename: filename\\son_5.txt\n",
      "Soni: 6 ta\n",
      "Yeg'indi: 891\n"
     ]
    }
   ],
   "source": [
    "#Text44\n",
    "with open(input(\"Filename: \")) as f:\n",
    "    sonlar = (f.read()).split()\n",
    "    butun_sonlar = [int(i) for i in sonlar]\n",
    "    print(\"Soni:\",len(sonlar),\"ta\")\n",
    "    print(\"Yeg'indi:\",sum(butun_sonlar))"
   ]
  },
  {
   "cell_type": "code",
   "execution_count": 30,
   "id": "6f7ae03e",
   "metadata": {},
   "outputs": [
    {
     "name": "stdout",
     "output_type": "stream",
     "text": [
      "Filename: filename\\son_5.txt\n",
      "Soni: 3 ta\n",
      "Yeg'indi: 76.4\n"
     ]
    }
   ],
   "source": [
    "#Text45\n",
    "with open(input(\"Filename: \")) as f:\n",
    "    sonlar = (f.read()).split()\n",
    "    haqiqiy_sonlar = [float(i) for i in sonlar if i.count(\".\")==1]\n",
    "    print(\"Soni:\",len(haqiqiy_sonlar),\"ta\")\n",
    "    print(\"Yeg'indi:\",sum(haqiqiy_sonlar))"
   ]
  },
  {
   "cell_type": "code",
   "execution_count": 38,
   "id": "f1fca65f",
   "metadata": {},
   "outputs": [
    {
     "name": "stdout",
     "output_type": "stream",
     "text": [
      "Filename: filename\\son_5.txt\n",
      "New filename: filename\\son_6.txt\n"
     ]
    }
   ],
   "source": [
    "#Text46\n",
    "with open(input(\"Filename: \")) as f:\n",
    "    sonlar = (f.read()).split()\n",
    "    haqiqiy_sonlar = [float(i) for i in sonlar if i.count(\".\")==1]\n",
    "with open(input(\"New filename: \"),\"x\") as f:\n",
    "    f.writelines([str(i)+\"\\n\" for i in haqiqiy_sonlar])"
   ]
  },
  {
   "cell_type": "code",
   "execution_count": 40,
   "id": "be6d1bbe",
   "metadata": {},
   "outputs": [
    {
     "name": "stdout",
     "output_type": "stream",
     "text": [
      "Filename: filename\\son_5.txt\n",
      "Soni: 3 ta\n",
      "Yeg'indi: 817\n"
     ]
    }
   ],
   "source": [
    "#Text47\n",
    "with open(input(\"Filename: \")) as f:\n",
    "    sonlar = (f.read()).split()\n",
    "    butun_sonlar = [int(i) for i in sonlar if i.count(\".\")==0]\n",
    "    print(\"Soni:\",len(butun_sonlar),\"ta\")\n",
    "    print(\"Yeg'indi:\",sum(butun_sonlar))"
   ]
  },
  {
   "cell_type": "code",
   "execution_count": 10,
   "id": "6ac51dde",
   "metadata": {},
   "outputs": [
    {
     "name": "stdout",
     "output_type": "stream",
     "text": [
      "Filename: filename\\son_5.txt\n",
      "New filename: filename\\son_8.txt\n"
     ]
    }
   ],
   "source": [
    "#Text48\n",
    "with open(input(\"Filename: \")) as f:\n",
    "    sonlar = (f.read()).split()\n",
    "    butun_sonlar = [int(i) for i in sonlar if i.count(\".\")==0]\n",
    "    \n",
    "with open(input(\"New filename: \"),\"x\") as f:\n",
    "    f.writelines([str(i)+\"\\n\" for i in butun_sonlar])"
   ]
  },
  {
   "cell_type": "code",
   "execution_count": 12,
   "id": "819a192e",
   "metadata": {},
   "outputs": [
    {
     "name": "stdout",
     "output_type": "stream",
     "text": [
      "Integer Filename: filename\\son_7.txt\n",
      "Filename: filename\\file_22.txt\n"
     ]
    }
   ],
   "source": [
    "#Text49\n",
    "with open(input(\"Integer Filename: \")) as f:\n",
    "    sonlar = [int(i) for i in ((f.read()).split())]\n",
    "\n",
    "\n",
    "with open(input(\"Filename: \"),\"r+\") as f:\n",
    "    satrlar = (f.read()).split(\"\\n\")\n",
    "    f.seek(0)\n",
    "    for i in range(len(satrlar)):\n",
    "        f.write(f\"{satrlar[i]}{sonlar[i]}\\n\")"
   ]
  },
  {
   "cell_type": "code",
   "execution_count": 27,
   "id": "8041abb6",
   "metadata": {},
   "outputs": [
    {
     "name": "stdout",
     "output_type": "stream",
     "text": [
      "Filename: filename\\file_22.txt\n",
      "Text Filename: filename\\file_23.txt\n",
      "Integer Filename: filename\\son_9.txt\n"
     ]
    }
   ],
   "source": [
    "#Text50\n",
    "with open(input(\"Filename: \")) as f:\n",
    "    hammasi = (f.read()).split()\n",
    "    sonlar = [i for i in hammasi if i.count(\".\")==1]\n",
    "    sozlar = [i for i in hammasi if i.isalpha()]\n",
    "\n",
    "with open(input(\"Text Filename: \"),\"x\") as f:\n",
    "    f.write(\" \".join(sozlar))\n",
    "    \n",
    "with open(input(\"Integer Filename: \"),\"x\") as f:\n",
    "    f.write(\" \".join(sonlar))"
   ]
  },
  {
   "cell_type": "code",
   "execution_count": 3,
   "id": "783dff8a",
   "metadata": {},
   "outputs": [
    {
     "name": "stdout",
     "output_type": "stream",
     "text": [
      "Filename: filename\\son_9.txt\n",
      "Float Filename 1: filename\\son_10.txt\n",
      "Float Filename 2: filename\\son_11.txt\n",
      "Float Filename 3: filename\\son_12.txt\n"
     ]
    }
   ],
   "source": [
    "#Text51\n",
    "with open(input(\"Filename: \")) as f:\n",
    "    hammasi = (f.read()).split()\n",
    "    \n",
    "with open(input(\"Float Filename 1: \"),\"x\") as f:\n",
    "    f.write(\"\\n\".join([hammasi[i] for i in range(0,len(hammasi),3)]))\n",
    "    \n",
    "with open(input(\"Float Filename 2: \"),\"x\") as f:\n",
    "    f.write(\"\\n\".join([hammasi[i] for i in range(1,len(hammasi),3)]))\n",
    "    \n",
    "with open(input(\"Float Filename 3: \"),\"x\") as f:\n",
    "    f.write(\"\\n\".join([hammasi[i] for i in range(2,len(hammasi),3)]))"
   ]
  },
  {
   "cell_type": "code",
   "execution_count": 16,
   "id": "cc0967b9",
   "metadata": {},
   "outputs": [
    {
     "name": "stdout",
     "output_type": "stream",
     "text": [
      "Filename: filename\\son_13.txt\n",
      "Integer Filename 1: filename\\son_14.txt\n",
      "Integer Filename 2: filename\\son_15.txt\n",
      "Integer Filename 3: filename\\son_16.txt\n"
     ]
    }
   ],
   "source": [
    "#Text52\n",
    "with open(input(\"Filename: \")) as f:\n",
    "    hammasi = [i for i in ((f.read()).split()) if i!=\"|\"]\n",
    "    butun_sonlar = []\n",
    "    \n",
    "    for i in hammasi:\n",
    "        s = ''\n",
    "        for j in i:\n",
    "            if 48<=ord(j)<=57:\n",
    "                s += j\n",
    "        butun_sonlar.append(int(s))\n",
    "        \n",
    "        file_1 = [];file_2 = [];file_3 = []\n",
    "        for i in range(0,len(butun_sonlar),9):\n",
    "            file_1.append(str(sum(butun_sonlar[i:i+3])))\n",
    "            file_2.append(str(sum(butun_sonlar[i+3:i+6])))\n",
    "            file_3.append(str(sum(butun_sonlar[i+6:i+9])))    \n",
    "\n",
    "with open(input(\"Integer Filename 1: \"),\"x\") as f:\n",
    "    f.write(\"\\n\".join(file_1))\n",
    "    \n",
    "with open(input(\"Integer Filename 2: \"),\"x\") as f:\n",
    "    f.write(\"\\n\".join(file_2))\n",
    "    \n",
    "with open(input(\"Integer Filename 3: \"),\"x\") as f:\n",
    "    f.write(\"\\n\".join(file_3))"
   ]
  },
  {
   "cell_type": "markdown",
   "id": "7e12f9ba",
   "metadata": {},
   "source": [
    "### 4.Matn fayllarni qayta ishlashga oid qo'shimcha masalalar."
   ]
  },
  {
   "cell_type": "code",
   "execution_count": 19,
   "id": "755c72b7",
   "metadata": {},
   "outputs": [
    {
     "name": "stdout",
     "output_type": "stream",
     "text": [
      "Filename: filename\\file_15.txt\n",
      "What file do you create: filename\\file_16.txt\n"
     ]
    }
   ],
   "source": [
    "#Text53\n",
    "from string import punctuation as p\n",
    "with open(input(\"Filename: \")) as f:\n",
    "    k = f.read()\n",
    "    tinish_bel = ''\n",
    "        if k[i] in p:\n",
    "            tinish_bel += k[i]\n",
    "with open(input(\"What file do you create: \"),\"x\") as f:\n",
    "    f.write(tinish_bel)"
   ]
  },
  {
   "cell_type": "code",
   "execution_count": 11,
   "id": "dac530e0",
   "metadata": {},
   "outputs": [
    {
     "name": "stdout",
     "output_type": "stream",
     "text": [
      "Filename 1: filename\\file_15.txt\n",
      "What file do you create: filename\\file_17.txt\n"
     ]
    }
   ],
   "source": [
    "#Text54\n",
    "from string import punctuation as p\n",
    "with open(input(\"Filename 1: \")) as f:\n",
    "    k = f.read()\n",
    "    \n",
    "with open(input(\"What file do you create: \"),\"x\") as f:\n",
    "    belgilar = ''\n",
    "    for i in k:\n",
    "        if (i in p or i==\" \") and i not in belgilar:\n",
    "            belgilar += i\n",
    "    f.write(belgilar)"
   ]
  },
  {
   "cell_type": "code",
   "execution_count": 22,
   "id": "2dce25f5",
   "metadata": {},
   "outputs": [
    {
     "name": "stdout",
     "output_type": "stream",
     "text": [
      "Filename 1: filename\\file_15.txt\n",
      "What file do you create: filename\\file_18.txt\n"
     ]
    }
   ],
   "source": [
    "#Text55\n",
    "from string import punctuation as p\n",
    "with open(input(\"Filename 1: \")) as f:\n",
    "    k = f.read()\n",
    "    \n",
    "with open(input(\"What file do you create: \"),\"x\") as f:\n",
    "    belgilar = []\n",
    "    for i in k:\n",
    "        if (i in p or i==\" \") and i not in belgilar:\n",
    "            belgilar.append(i)\n",
    "    f.write(\"\".join(sorted(belgilar)))"
   ]
  },
  {
   "cell_type": "code",
   "execution_count": 24,
   "id": "d7647d2c",
   "metadata": {},
   "outputs": [
    {
     "name": "stdout",
     "output_type": "stream",
     "text": [
      "Filename 1: filename\\file_15.txt\n",
      "What file do you create: filename\\file_19.txt\n"
     ]
    }
   ],
   "source": [
    "#Text56\n",
    "from string import punctuation as p\n",
    "with open(input(\"Filename 1: \")) as f:\n",
    "    k = f.read()\n",
    "    \n",
    "with open(input(\"What file do you create: \"),\"x\") as f:\n",
    "    belgilar = []\n",
    "    for i in k:\n",
    "        if (i in p or i==\" \") and i not in belgilar:\n",
    "            belgilar.append(i)\n",
    "    f.write(\"\".join(sorted(belgilar,reverse=True)))"
   ]
  },
  {
   "cell_type": "code",
   "execution_count": 35,
   "id": "4779d950",
   "metadata": {},
   "outputs": [
    {
     "name": "stdout",
     "output_type": "stream",
     "text": [
      "Filename 1: filename\\file_20.txt\n",
      "What file do you create: filename\\file_21.txt\n"
     ]
    }
   ],
   "source": [
    "#Text57\n",
    "from string import punctuation as p\n",
    "with open(input(\"Filename 1: \")) as f:\n",
    "    k = f.read()\n",
    "    harflar = {}\n",
    "    for i in k:\n",
    "        if \"a\"<= i <=\"z\" and i not in harflar.keys():\n",
    "            harflar[i] = k.count(i)\n",
    "    \n",
    "with open(input(\"What file do you create: \"),\"x\") as f:\n",
    "    for i,j in harflar.items():\n",
    "        print(f\"{i}-{j}\",file=f)"
   ]
  },
  {
   "cell_type": "code",
   "execution_count": 19,
   "id": "887f627c",
   "metadata": {},
   "outputs": [
    {
     "name": "stdout",
     "output_type": "stream",
     "text": [
      "Filename 1: filename\\file_20.txt\n",
      "What file do you create: filename\\file_24.txt\n"
     ]
    }
   ],
   "source": [
    "#Text58\n",
    "from string import punctuation as p\n",
    "with open(input(\"Filename 1: \")) as f:\n",
    "    k = f.read()\n",
    "    harflar = {}\n",
    "    for i in k:\n",
    "        if \"a\"<= i <=\"z\" and i not in harflar.keys():\n",
    "            harflar[i] = k.count(i)\n",
    "\n",
    "with open(input(\"What file do you create: \"),\"x\") as f:\n",
    "    a = dict(sorted(harflar.items(), key=lambda item: item[1],reverse=True))\n",
    "    for i,j in a.items():\n",
    "        print(f\"{i}-{j}\",file=f)"
   ]
  },
  {
   "cell_type": "code",
   "execution_count": 97,
   "id": "c588d2f3",
   "metadata": {},
   "outputs": [
    {
     "name": "stdout",
     "output_type": "stream",
     "text": [
      "Filename: filename\\file_20.txt\n",
      "k = 23\n"
     ]
    }
   ],
   "source": [
    "#Text59\n",
    "s = '0123456789'\n",
    "with open(input(\"Filename: \"),\"r+\") as f:\n",
    "    k = int(input(\"k = \"))\n",
    "    m = f.read()\n",
    "    belgilar = [i for i in m]\n",
    "    n = k\n",
    "    while k>len(s):\n",
    "        k-=10\n",
    "    belgilar[n] = chr(ord(belgilar[n])+int(s[k-1]))\n",
    "    f.seek(0)\n",
    "    f.write(\"\".join(belgilar))"
   ]
  },
  {
   "cell_type": "code",
   "execution_count": 99,
   "id": "e9ec9556",
   "metadata": {},
   "outputs": [
    {
     "name": "stdout",
     "output_type": "stream",
     "text": [
      "Filename: filename\\file_20.txt\n",
      "k = 12\n"
     ]
    }
   ],
   "source": [
    "#Text60\n",
    "s = '0123456789'\n",
    "with open(input(\"Filename: \"),\"r+\") as f:\n",
    "    k = int(input(\"k = \"))\n",
    "    m = f.read()\n",
    "    belgilar = [i for i in m]\n",
    "    n = k\n",
    "    while k>len(s):\n",
    "        k-=10\n",
    "    belgilar[n] = chr(ord(belgilar[n])-int(s[k-1]))\n",
    "    f.seek(0)\n",
    "    f.write(\"\".join(belgilar))"
   ]
  }
 ],
 "metadata": {
  "kernelspec": {
   "display_name": "Python 3 (ipykernel)",
   "language": "python",
   "name": "python3"
  },
  "language_info": {
   "codemirror_mode": {
    "name": "ipython",
    "version": 3
   },
   "file_extension": ".py",
   "mimetype": "text/x-python",
   "name": "python",
   "nbconvert_exporter": "python",
   "pygments_lexer": "ipython3",
   "version": "3.9.8"
  }
 },
 "nbformat": 4,
 "nbformat_minor": 5
}
