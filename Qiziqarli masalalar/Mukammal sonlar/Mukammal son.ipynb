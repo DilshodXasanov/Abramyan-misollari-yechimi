{
 "cells": [
  {
   "cell_type": "markdown",
   "id": "ec260752",
   "metadata": {},
   "source": [
    "# 20/02/2022\n",
    "\n",
    "# Python asoslari\n",
    "\n",
    "# Qo'shimcha: Mukammal sonlar \n",
    "\n",
    "# Muallif: Farrux Sotivoldiyev"
   ]
  },
  {
   "cell_type": "code",
   "execution_count": 1,
   "id": "24a44388",
   "metadata": {},
   "outputs": [
    {
     "name": "stdout",
     "output_type": "stream",
     "text": [
      "n = 28\n",
      "Mukammal son\n"
     ]
    }
   ],
   "source": [
    "# kiritilgan sonning  Mukammal son ekanligini topish \n",
    "#Mukammal sonlar:\n",
    "#6\n",
    "# 28\n",
    "# 496\n",
    "# 8128\n",
    "# 33550336\n",
    "# 8589869056\n",
    "# 137438691328\n",
    "# 2305843008138952128\n",
    "# 2658455991569831744654692615953842176\n",
    "# 191561942608236107294793378084303638130997321548169\n",
    "\n",
    "n = int(input(\"n = \"))\n",
    "\n",
    "s = 0\n",
    "for i in range(1,n):\n",
    "    if n%i==0:\n",
    "        s += i\n",
    "if s==n:\n",
    "    print(\"Mukammal son\")\n",
    "else:\n",
    "    print(\"Mukammal emas\")"
   ]
  },
  {
   "cell_type": "code",
   "execution_count": 3,
   "id": "c1305a2a",
   "metadata": {},
   "outputs": [
    {
     "name": "stdout",
     "output_type": "stream",
     "text": [
      "n = 500\n",
      "6\n",
      "28\n",
      "496\n"
     ]
    }
   ],
   "source": [
    "# kiritilgan n sonigacha bo'lgan Mukammal sonlarni topish\n",
    "\n",
    "n = int(input(\"n = \"))\n",
    "\n",
    "for j in range(1,n+1):\n",
    "    s = 0\n",
    "    for i in range(1,j):\n",
    "        if j%i==0:\n",
    "            s += i\n",
    "    if s==j:\n",
    "        print(j)"
   ]
  }
 ],
 "metadata": {
  "kernelspec": {
   "display_name": "Python 3 (ipykernel)",
   "language": "python",
   "name": "python3"
  },
  "language_info": {
   "codemirror_mode": {
    "name": "ipython",
    "version": 3
   },
   "file_extension": ".py",
   "mimetype": "text/x-python",
   "name": "python",
   "nbconvert_exporter": "python",
   "pygments_lexer": "ipython3",
   "version": "3.10.2"
  }
 },
 "nbformat": 4,
 "nbformat_minor": 5
}
