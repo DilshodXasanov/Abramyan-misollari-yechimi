{
 "cells": [
  {
   "cell_type": "markdown",
   "id": "d9ce1216",
   "metadata": {},
   "source": [
    "# 2/01/2021\n",
    "\n",
    "# Python asoslari\n",
    "\n",
    "# Mavzu: Tub va murakkab sonni topish\n",
    "\n",
    "# Muallif: Farrux Sotivoldiyev\n"
   ]
  },
  {
   "cell_type": "code",
   "execution_count": 5,
   "id": "50e3869e",
   "metadata": {},
   "outputs": [
    {
     "name": "stdout",
     "output_type": "stream",
     "text": [
      "Son = 11\n",
      "Tub son\n"
     ]
    }
   ],
   "source": [
    "# Kiritilgan son tub yoki murakkabligini topuvchi dastur\n",
    "a = int(input(\"Son = \"))\n",
    "murakkab = 0\n",
    "for i in range(2, a):\n",
    "    if a % i == 0:\n",
    "        murakkab += 1\n",
    "if murakkab:\n",
    "    print(\"Murakkab son\")\n",
    "else:\n",
    "    print(\"Tub son\")"
   ]
  },
  {
   "cell_type": "code",
   "execution_count": 6,
   "id": "7dc9b510",
   "metadata": {},
   "outputs": [
    {
     "name": "stdout",
     "output_type": "stream",
     "text": [
      "Son = 100\n",
      "Murakkab sonlar: [4, 6, 8, 9, 10, 12, 14, 15, 16, 18, 20, 21, 22, 24, 25, 26, 27, 28, 30, 32, 33, 34, 35, 36, 38, 39, 40, 42, 44, 45, 46, 48, 49, 50, 51, 52, 54, 55, 56, 57, 58, 60, 62, 63, 64, 65, 66, 68, 69, 70, 72, 74, 75, 76, 77, 78, 80, 81, 82, 84, 85, 86, 87, 88, 90, 91, 92, 93, 94, 95, 96, 98, 99, 100]\n",
      "Tub sonlar: [2, 3, 5, 7, 11, 13, 17, 19, 23, 29, 31, 37, 41, 43, 47, 53, 59, 61, 67, 71, 73, 79, 83, 89, 97]\n"
     ]
    }
   ],
   "source": [
    "#kiritilgan songacha bolgan tub va murakkab sonlarni topuvchi dastur\n",
    "a = int(input(\"Son = \"))\n",
    "boshi = 2\n",
    "tub = []\n",
    "murakkab = []\n",
    "while boshi <= a:\n",
    "    datchik = 0\n",
    "    for i in range(2,boshi):\n",
    "        if boshi % i == 0:\n",
    "            datchik += 1\n",
    "    if datchik:\n",
    "        murakkab.append(boshi)\n",
    "    else:\n",
    "        tub.append(boshi)\n",
    "    boshi +=1\n",
    "print(f\"Murakkab sonlar: {murakkab}\\nTub sonlar: {tub}\")\n",
    "\n"
   ]
  },
  {
   "cell_type": "code",
   "execution_count": null,
   "id": "14ad558a",
   "metadata": {},
   "outputs": [],
   "source": []
  }
 ],
 "metadata": {
  "kernelspec": {
   "display_name": "Python 3 (ipykernel)",
   "language": "python",
   "name": "python3"
  },
  "language_info": {
   "codemirror_mode": {
    "name": "ipython",
    "version": 3
   },
   "file_extension": ".py",
   "mimetype": "text/x-python",
   "name": "python",
   "nbconvert_exporter": "python",
   "pygments_lexer": "ipython3",
   "version": "3.9.8"
  }
 },
 "nbformat": 4,
 "nbformat_minor": 5
}
